{
 "cells": [
  {
   "cell_type": "markdown",
   "metadata": {
    "toc": "true"
   },
   "source": [
    "# Table of Contents\n",
    " <p><div class=\"lev1 toc-item\"><a href=\"#Determinant\" data-toc-modified-id=\"Determinant-1\"><span class=\"toc-item-num\">1&nbsp;&nbsp;</span>Determinant</a></div><div class=\"lev2 toc-item\"><a href=\"#Definition-of-determinant\" data-toc-modified-id=\"Definition-of-determinant-11\"><span class=\"toc-item-num\">1.1&nbsp;&nbsp;</span>Definition of determinant</a></div><div class=\"lev2 toc-item\"><a href=\"#Some-interpretations-of-determinant\" data-toc-modified-id=\"Some-interpretations-of-determinant-12\"><span class=\"toc-item-num\">1.2&nbsp;&nbsp;</span>Some interpretations of determinant</a></div><div class=\"lev2 toc-item\"><a href=\"#Some-properties-of-determinant-(important)\" data-toc-modified-id=\"Some-properties-of-determinant-(important)-13\"><span class=\"toc-item-num\">1.3&nbsp;&nbsp;</span>Some properties of determinant (important)</a></div>"
   ]
  },
  {
   "cell_type": "markdown",
   "metadata": {},
   "source": [
    "# Determinant"
   ]
  },
  {
   "cell_type": "code",
   "execution_count": 1,
   "metadata": {},
   "outputs": [
    {
     "name": "stderr",
     "output_type": "stream",
     "text": [
      "\u001b[32m\u001b[1m  Activating\u001b[22m\u001b[39m project at `~/Documents/github.com/ucla-biostat-216/2022fall/slides/09-det`\n"
     ]
    },
    {
     "name": "stdout",
     "output_type": "stream",
     "text": [
      "\u001b[32m\u001b[1mStatus\u001b[22m\u001b[39m `~/Documents/github.com/ucla-biostat-216/2022fall/slides/09-det/Project.toml`\n",
      " \u001b[90m [91a5bcdd] \u001b[39mPlots v1.35.5\n",
      " \u001b[90m [0c5d862f] \u001b[39mSymbolics v4.13.0\n",
      " \u001b[90m [37e2e46d] \u001b[39mLinearAlgebra\n"
     ]
    }
   ],
   "source": [
    "using Pkg\n",
    "Pkg.activate(pwd())\n",
    "Pkg.instantiate()\n",
    "Pkg.status()"
   ]
  },
  {
   "cell_type": "code",
   "execution_count": 2,
   "metadata": {},
   "outputs": [],
   "source": [
    "using LinearAlgebra, Plots, Symbolics"
   ]
  },
  {
   "cell_type": "markdown",
   "metadata": {},
   "source": [
    "We review some basic facts about matrix determinant.\n",
    "\n",
    "## Definition of determinant\n",
    "\n",
    "- The **determinant** of a square matrix $\\mathbf{A} \\in \\mathbb{R}^{n \\times n}$ is \n",
    "$$\n",
    "    \\det (\\mathbf{A}) = \\sum (-1)^{\\phi(j_1,\\ldots,j_n)} \\prod_{i=1}^n a_{ij_i},\n",
    "$$\n",
    "where the summation is over all permutation $(j_1, \\ldots, j_n)$ of the set of integers $(1,\\ldots,n)$ and $\\phi(j_1,\\ldots,j_n)$ is the number of transpositions to change $(1,\\ldots,n)$ to $(j_1,\\ldots,j_n)$. $(-1)^{\\phi(j_1,\\ldots,j_n)}$ is also called the **sign of permutation**.\n",
    "\n",
    "- Examples: $n = 2$ and 3.\n",
    "$$\n",
    "    \\det \\begin{pmatrix} a_{11} & a_{12} \\\\ a_{21} & a_{22} \\end{pmatrix} = (-1)^{\\phi(1,2)} a_{11} a_{22} + (-1)^{\\phi(2,1)} a_{12} a_{21} = a_{11} a_{22} - a_{12} a_{21}.\n",
    "$$"
   ]
  },
  {
   "cell_type": "code",
   "execution_count": 3,
   "metadata": {},
   "outputs": [
    {
     "data": {
      "text/plain": [
       "1-element Vector{Symbolics.Arr{Num, 2}}:\n",
       " A[1:2,1:2]"
      ]
     },
     "execution_count": 3,
     "metadata": {},
     "output_type": "execute_result"
    }
   ],
   "source": [
    "# n = 2\n",
    "@variables A[1:2, 1:2]"
   ]
  },
  {
   "cell_type": "code",
   "execution_count": 4,
   "metadata": {},
   "outputs": [
    {
     "data": {
      "text/latex": [
       "$$ \\begin{equation}\n",
       "A_{1}ˏ_1 A_{2}ˏ_2 - A_{1}ˏ_2 A_{2}ˏ_1\n",
       "\\end{equation}\n",
       " $$"
      ],
      "text/plain": [
       "A[1, 1]*A[2, 2] - A[1, 2]*A[2, 1]"
      ]
     },
     "execution_count": 4,
     "metadata": {},
     "output_type": "execute_result"
    }
   ],
   "source": [
    "det(A) |> Symbolics.scalarize"
   ]
  },
  {
   "cell_type": "code",
   "execution_count": 5,
   "metadata": {},
   "outputs": [
    {
     "data": {
      "text/plain": [
       "1-element Vector{Symbolics.Arr{Num, 2}}:\n",
       " A[1:3,1:3]"
      ]
     },
     "execution_count": 5,
     "metadata": {},
     "output_type": "execute_result"
    }
   ],
   "source": [
    "# n = 3\n",
    "@variables A[1:3, 1:3]"
   ]
  },
  {
   "cell_type": "code",
   "execution_count": 6,
   "metadata": {},
   "outputs": [
    {
     "data": {
      "text/latex": [
       "$$ \\begin{equation}\n",
       "A_{1}ˏ_2 A_{2}ˏ_3 A_{3}ˏ_1 + A_{1}ˏ_1 A_{2}ˏ_2 A_{3}ˏ_3 + A_{1}ˏ_3 A_{2}ˏ_1 A_{3}ˏ_2 - A_{1}ˏ_2 A_{2}ˏ_1 A_{3}ˏ_3 - A_{1}ˏ_3 A_{2}ˏ_2 A_{3}ˏ_1 - A_{1}ˏ_1 A_{2}ˏ_3 A_{3}ˏ_2\n",
       "\\end{equation}\n",
       " $$"
      ],
      "text/plain": [
       "A[1, 2]*A[2, 3]*A[3, 1] + A[1, 1]*A[2, 2]*A[3, 3] + A[1, 3]*A[2, 1]*A[3, 2] - A[1, 2]*A[2, 1]*A[3, 3] - A[1, 3]*A[2, 2]*A[3, 1] - A[1, 1]*A[2, 3]*A[3, 2]"
      ]
     },
     "execution_count": 6,
     "metadata": {},
     "output_type": "execute_result"
    }
   ],
   "source": [
    "det(A) |> Symbolics.scalarize |> expand"
   ]
  },
  {
   "cell_type": "code",
   "execution_count": 7,
   "metadata": {},
   "outputs": [
    {
     "data": {
      "text/plain": [
       "1-element Vector{Symbolics.Arr{Num, 2}}:\n",
       " A[1:4,1:4]"
      ]
     },
     "execution_count": 7,
     "metadata": {},
     "output_type": "execute_result"
    }
   ],
   "source": [
    "# n = 4\n",
    "@variables A[1:4, 1:4]"
   ]
  },
  {
   "cell_type": "code",
   "execution_count": 8,
   "metadata": {},
   "outputs": [
    {
     "data": {
      "text/latex": [
       "$$ \\begin{equation}\n",
       "A_{1}ˏ_3 A_{2}ˏ_1 A_{3}ˏ_2 A_{4}ˏ_4 + A_{1}ˏ_1 A_{2}ˏ_4 A_{3}ˏ_2 A_{4}ˏ_3 + A_{1}ˏ_1 A_{2}ˏ_3 A_{3}ˏ_4 A_{4}ˏ_2 + A_{1}ˏ_3 A_{2}ˏ_4 A_{3}ˏ_1 A_{4}ˏ_2 + A_{1}ˏ_2 A_{2}ˏ_4 A_{3}ˏ_3 A_{4}ˏ_1 + A_{1}ˏ_2 A_{2}ˏ_3 A_{3}ˏ_1 A_{4}ˏ_4 + A_{1}ˏ_4 A_{2}ˏ_2 A_{3}ˏ_1 A_{4}ˏ_3 + A_{1}ˏ_4 A_{2}ˏ_1 A_{3}ˏ_3 A_{4}ˏ_2 + A_{1}ˏ_2 A_{2}ˏ_1 A_{3}ˏ_4 A_{4}ˏ_3 + A_{1}ˏ_3 A_{2}ˏ_2 A_{3}ˏ_4 A_{4}ˏ_1 + A_{1}ˏ_4 A_{2}ˏ_3 A_{3}ˏ_2 A_{4}ˏ_1 + A_{1}ˏ_1 A_{2}ˏ_2 A_{3}ˏ_3 A_{4}ˏ_4 - A_{1}ˏ_4 A_{2}ˏ_1 A_{3}ˏ_2 A_{4}ˏ_3 - A_{1}ˏ_3 A_{2}ˏ_2 A_{3}ˏ_1 A_{4}ˏ_4 - A_{1}ˏ_3 A_{2}ˏ_1 A_{3}ˏ_4 A_{4}ˏ_2 - A_{1}ˏ_4 A_{2}ˏ_2 A_{3}ˏ_3 A_{4}ˏ_1 - A_{1}ˏ_2 A_{2}ˏ_1 A_{3}ˏ_3 A_{4}ˏ_4 - A_{1}ˏ_2 A_{2}ˏ_4 A_{3}ˏ_1 A_{4}ˏ_3 - A_{1}ˏ_4 A_{2}ˏ_3 A_{3}ˏ_1 A_{4}ˏ_2 - A_{1}ˏ_3 A_{2}ˏ_4 A_{3}ˏ_2 A_{4}ˏ_1 - A_{1}ˏ_1 A_{2}ˏ_2 A_{3}ˏ_4 A_{4}ˏ_3 - A_{1}ˏ_1 A_{2}ˏ_3 A_{3}ˏ_2 A_{4}ˏ_4 - A_{1}ˏ_2 A_{2}ˏ_3 A_{3}ˏ_4 A_{4}ˏ_1 - A_{1}ˏ_1 A_{2}ˏ_4 A_{3}ˏ_3 A_{4}ˏ_2\n",
       "\\end{equation}\n",
       " $$"
      ],
      "text/plain": [
       "A[1, 3]*A[2, 1]*A[3, 2]*A[4, 4] + A[1, 1]*A[2, 4]*A[3, 2]*A[4, 3] + A[1, 1]*A[2, 3]*A[3, 4]*A[4, 2] + A[1, 3]*A[2, 4]*A[3, 1]*A[4, 2] + A[1, 2]*A[2, 4]*A[3, 3]*A[4, 1] + A[1, 2]*A[2, 3]*A[3, 1]*A[4, 4] + A[1, 4]*A[2, 2]*A[3, 1]*A[4, 3] + A[1, 4]*A[2, 1]*A[3, 3]*A[4, 2] + A[1, 2]*A[2, 1]*A[3, 4]*A[4, 3] + A[1, 3]*A[2, 2]*A[3, 4]*A[4, 1] + A[1, 4]*A[2, 3]*A[3, 2]*A[4, 1] + A[1, 1]*A[2, 2]*A[3, 3]*A[4, 4] - A[1, 4]*A[2, 1]*A[3, 2]*A[4, 3] - A[1, 3]*A[2, 2]*A[3, 1]*A[4, 4] - A[1, 3]*A[2, 1]*A[3, 4]*A[4, 2] - A[1, 4]*A[2, 2]*A[3, 3]*A[4, 1] - A[1, 2]*A[2, 1]*A[3, 3]*A[4, 4] - A[1, 2]*A[2, 4]*A[3, 1]*A[4, 3] - A[1, 4]*A[2, 3]*A[3, 1]*A[4, 2] - A[1, 3]*A[2, 4]*A[3, 2]*A[4, 1] - A[1, 1]*A[2, 2]*A[3, 4]*A[4, 3] - A[1, 1]*A[2, 3]*A[3, 2]*A[4, 4] - A[1, 2]*A[2, 3]*A[3, 4]*A[4, 1] - A[1, 1]*A[2, 4]*A[3, 3]*A[4, 2]"
      ]
     },
     "execution_count": 8,
     "metadata": {},
     "output_type": "execute_result"
    }
   ],
   "source": [
    "det(A) |> Symbolics.scalarize |> expand"
   ]
  },
  {
   "cell_type": "markdown",
   "metadata": {},
   "source": [
    "## Some interpretations of determinant\n",
    "\n",
    "<img src=\"./determinant.png\" width=400 align=\"center\"/>\n",
    "\n",
    "- Interpretation of the (absolute value of) determinant as the **volume of the parallelotope** defined by the columns of the matrix. For example, if $\\mathbf{X} \\in \\mathbb{R}^2$ has two columns $\\mathbf{x}_1$ and $\\mathbf{x}_2$, then\n",
    "\\begin{eqnarray*}\n",
    "\t\\text{area} &=& bh = \\|\\mathbf{x}_1\\|\\|\\mathbf{x}_2\\| \\sin(\\theta) \\\\\n",
    "\t&=& \\|\\mathbf{x}_1\\| \\|\\mathbf{x}_2\\| \\sqrt{1 - \\left( \\frac{\\langle \\mathbf{x}_1, \\mathbf{x}_2 \\rangle}{\\|\\mathbf{x}_1\\| \\|\\mathbf{x}_2\\|} \\right)^2} \\\\\n",
    "\t&=& \\sqrt{\\|\\mathbf{x}_1\\|^2 \\|\\mathbf{x}\\|^2 - (\\langle \\mathbf{x}_1, \\mathbf{x}_2\\rangle)^2} \\\\\n",
    "\t&=& \\sqrt{(x_{11}^2 + x_{12}^2)(x_{21}^2+x_{22}^2) - (x_{11}x_{21} + x_{12}x_{22})^2} \\\\\n",
    "\t&=& |x_{11} x_{22} - x_{12} x_{21}| \\\\\n",
    "\t&=& |\\det(\\mathbf{X})|.\n",
    "\\end{eqnarray*}\n",
    "\n",
    "<img src=\"./Determinant_parallelepiped.svg\" width=400 align=\"center\"/>\n",
    "\n",
    "- Another interpretation of the determinant is the volume changing factor when operating on a set in $\\mathbb{R}^n$. $\\text{vol}(f(S)) = |\\det(\\mathbf{A})| \\text{vol}(S)$ where $f: \\mathbb{R}^n \\mapsto \\mathbb{R}^n$ is the linear mapping defined by $\\mathbf{A}$.\n",
    "\n",
    "- Recall that for differentiable function $f: \\mathbb{R}^n \\mapsto \\mathbb{R}^n$,  the **Jacobian matrix** $\\operatorname{D} f(\\mathbf{x}) \\in \\mathbb{R}^{n \\times n}$ is\n",
    "$$\n",
    "\\operatorname{D} f(\\mathbf{x}) = \\begin{pmatrix}\n",
    "\\frac{\\partial f_1}{\\partial x_1} (\\mathbf{x}) & \\frac{\\partial f_1}{\\partial x_2} (\\mathbf{x}) & \\cdots & \\frac{\\partial f_1}{\\partial x_n} (\\mathbf{x}) \\\\\n",
    "\\frac{\\partial f_2}{\\partial x_1} (\\mathbf{x}) & \\frac{\\partial f_2}{\\partial x_2} (\\mathbf{x}) & \\cdots & \\frac{\\partial f_2}{\\partial x_n} (\\mathbf{x}) \\\\\n",
    "\\vdots & \\vdots & & \\vdots \\\\\n",
    "\\frac{\\partial f_n}{\\partial x_1} (\\mathbf{x}) & \\frac{\\partial f_n}{\\partial x_2} (\\mathbf{x}) & \\cdots & \\frac{\\partial f_n}{\\partial x_n} (\\mathbf{x})\n",
    "\\end{pmatrix} = \\begin{pmatrix}\n",
    "\\nabla f_1(\\mathbf{x})' \\\\\n",
    "\\nabla f_2(\\mathbf{x})' \\\\\n",
    "\\vdots \\\\\n",
    "\\nabla f_n(\\mathbf{x})'\n",
    "\\end{pmatrix}.\n",
    "$$\n",
    "Its determinant, the **Jacobian determinant**, appears in the higher-dimensional version of **integration by substitution** or **change of variable**\n",
    "$$\n",
    "\\int_{f(U)} \\phi(\\mathbf{v}) \\, \\operatorname{d} \\mathbf{v} = \\int_U \\phi(f(\\mathbf{u})) | \\det \\operatorname{D} f(\\mathbf{u})| \\, \\operatorname{d} \\mathbf{u}\n",
    "$$\n",
    "for function $\\phi: \\mathbb{R}^n \\mapsto \\mathbb{R}$. This result will be used in transformation of random variables in 202A.\n",
    "\n",
    "    For an example of $n=1$, an indefinite integral can be transformed to a definite integral over box [-1,1] via change of variable $v = u / (1-u^2)$:\n",
    "$$\n",
    "\\int_{-\\infty}^\\infty f(v) \\, dv = \\int_{-1}^1 f\\left(\\frac{u}{1-u^2}\\right) \\frac{1+u^2}{(1-u^2)^2} \\, du.\n",
    "$$"
   ]
  },
  {
   "cell_type": "markdown",
   "metadata": {},
   "source": [
    "## Some properties of determinant (important)\n",
    "\n",
    "- The determinant of a **lower or upper triangular matrix** $\\mathbf{A}$ is the product of the diagonal elements $\\prod_{i=1}^n a_{ii}$. (Why?)\n",
    "\n",
    "- Any square matrix $\\mathbf{A}$ is singular if and only if $\\det(\\mathbf{A}) = 0$.\n",
    "\n",
    "    Proof (optional): see BR p287.\n",
    "\n",
    "- Product rule: $\\det(\\mathbf{A} \\mathbf{B}) = \\det(\\mathbf{A}) \\det(\\mathbf{B})$.\n",
    "\n",
    "    Proof (optional): see BR p288-289.\n",
    "\n",
    "    Product rule is extremely useful. For example, computer calculates the determinant of a square matrix $\\mathbf{A}$ by first computing the LU decomposition $\\mathbf{A} = \\mathbf{L} \\mathbf{U}$ and then $\\det(\\mathbf{A}) = \\det(\\mathbf{L}) \\det(\\mathbf{U})$.\n",
    "\n",
    "- Determinant of an orthogonal matrix is 1 (**rotation**) or -1 (**reflection**).  \n",
    "    This classifies orthogonal matrices into two classes: rotations and reflections.  "
   ]
  },
  {
   "cell_type": "code",
   "execution_count": 9,
   "metadata": {},
   "outputs": [
    {
     "data": {
      "text/plain": [
       "2×2 Matrix{Float64}:\n",
       " 0.707107  -0.707107\n",
       " 0.707107   0.707107"
      ]
     },
     "execution_count": 9,
     "metadata": {},
     "output_type": "execute_result"
    }
   ],
   "source": [
    "# a rotator\n",
    "θ = π/4\n",
    "A = [cos(θ) -sin(θ); \n",
    "    sin(θ) cos(θ)]"
   ]
  },
  {
   "cell_type": "code",
   "execution_count": 10,
   "metadata": {},
   "outputs": [
    {
     "data": {
      "text/plain": [
       "1.0"
      ]
     },
     "execution_count": 10,
     "metadata": {},
     "output_type": "execute_result"
    }
   ],
   "source": [
    "det(A)"
   ]
  },
  {
   "cell_type": "code",
   "execution_count": 11,
   "metadata": {},
   "outputs": [
    {
     "data": {
      "text/plain": [
       "2×2 Matrix{Float64}:\n",
       " 0.707107   0.707107\n",
       " 0.707107  -0.707107"
      ]
     },
     "execution_count": 11,
     "metadata": {},
     "output_type": "execute_result"
    }
   ],
   "source": [
    "# a reflector\n",
    "B = [cos(θ) sin(θ); \n",
    "    sin(θ) -cos(θ)]"
   ]
  },
  {
   "cell_type": "code",
   "execution_count": 12,
   "metadata": {},
   "outputs": [
    {
     "data": {
      "text/plain": [
       "2×2 Matrix{Float64}:\n",
       " 1.0  0.0\n",
       " 0.0  1.0"
      ]
     },
     "execution_count": 12,
     "metadata": {},
     "output_type": "execute_result"
    }
   ],
   "source": [
    "B'B"
   ]
  },
  {
   "cell_type": "code",
   "execution_count": 13,
   "metadata": {},
   "outputs": [
    {
     "data": {
      "text/plain": [
       "-1.0"
      ]
     },
     "execution_count": 13,
     "metadata": {},
     "output_type": "execute_result"
    }
   ],
   "source": [
    "det(B)"
   ]
  },
  {
   "cell_type": "code",
   "execution_count": 14,
   "metadata": {},
   "outputs": [
    {
     "data": {
      "text/plain": [
       "2×4 Matrix{Float64}:\n",
       "  1.41421       2.82843  2.12132    1.41421\n",
       " -1.11022e-16  -1.41421  0.707107  -1.11022e-16"
      ]
     },
     "execution_count": 14,
     "metadata": {},
     "output_type": "execute_result"
    }
   ],
   "source": [
    "# 3 points for a triangle\n",
    "X = [1 1 2 1; 1 3 1 1]\n",
    "# rotation\n",
    "Xrot = A * X\n",
    "# reflection\n",
    "Xref = B * X"
   ]
  },
  {
   "cell_type": "code",
   "execution_count": 15,
   "metadata": {},
   "outputs": [
    {
     "data": {
      "image/svg+xml": [
       "<?xml version=\"1.0\" encoding=\"utf-8\"?>\n",
       "<svg xmlns=\"http://www.w3.org/2000/svg\" xmlns:xlink=\"http://www.w3.org/1999/xlink\" width=\"600\" height=\"400\" viewBox=\"0 0 2400 1600\">\n",
       "<defs>\n",
       "  <clipPath id=\"clip120\">\n",
       "    <rect x=\"0\" y=\"0\" width=\"2400\" height=\"1600\"/>\n",
       "  </clipPath>\n",
       "</defs>\n",
       "<path clip-path=\"url(#clip120)\" d=\"\n",
       "M0 1600 L2400 1600 L2400 0 L0 0  Z\n",
       "  \" fill=\"#ffffff\" fill-rule=\"evenodd\" fill-opacity=\"1\"/>\n",
       "<defs>\n",
       "  <clipPath id=\"clip121\">\n",
       "    <rect x=\"480\" y=\"0\" width=\"1681\" height=\"1600\"/>\n",
       "  </clipPath>\n",
       "</defs>\n",
       "<path clip-path=\"url(#clip120)\" d=\"\n",
       "M530.804 1486.45 L1970.01 1486.45 L1970.01 47.2441 L530.804 47.2441  Z\n",
       "  \" fill=\"#ffffff\" fill-rule=\"evenodd\" fill-opacity=\"1\"/>\n",
       "<defs>\n",
       "  <clipPath id=\"clip122\">\n",
       "    <rect x=\"530\" y=\"47\" width=\"1440\" height=\"1440\"/>\n",
       "  </clipPath>\n",
       "</defs>\n",
       "<polyline clip-path=\"url(#clip122)\" style=\"stroke:#000000; stroke-linecap:round; stroke-linejoin:round; stroke-width:2; stroke-opacity:0.1; fill:none\" points=\"\n",
       "  530.804,1486.45 530.804,47.2441 \n",
       "  \"/>\n",
       "<polyline clip-path=\"url(#clip122)\" style=\"stroke:#000000; stroke-linecap:round; stroke-linejoin:round; stroke-width:2; stroke-opacity:0.1; fill:none\" points=\"\n",
       "  770.672,1486.45 770.672,47.2441 \n",
       "  \"/>\n",
       "<polyline clip-path=\"url(#clip122)\" style=\"stroke:#000000; stroke-linecap:round; stroke-linejoin:round; stroke-width:2; stroke-opacity:0.1; fill:none\" points=\"\n",
       "  1010.54,1486.45 1010.54,47.2441 \n",
       "  \"/>\n",
       "<polyline clip-path=\"url(#clip122)\" style=\"stroke:#000000; stroke-linecap:round; stroke-linejoin:round; stroke-width:2; stroke-opacity:0.1; fill:none\" points=\"\n",
       "  1490.27,1486.45 1490.27,47.2441 \n",
       "  \"/>\n",
       "<polyline clip-path=\"url(#clip122)\" style=\"stroke:#000000; stroke-linecap:round; stroke-linejoin:round; stroke-width:2; stroke-opacity:0.1; fill:none\" points=\"\n",
       "  1730.14,1486.45 1730.14,47.2441 \n",
       "  \"/>\n",
       "<polyline clip-path=\"url(#clip122)\" style=\"stroke:#000000; stroke-linecap:round; stroke-linejoin:round; stroke-width:2; stroke-opacity:0.1; fill:none\" points=\"\n",
       "  1970.01,1486.45 1970.01,47.2441 \n",
       "  \"/>\n",
       "<polyline clip-path=\"url(#clip120)\" style=\"stroke:#000000; stroke-linecap:round; stroke-linejoin:round; stroke-width:4; stroke-opacity:1; fill:none\" points=\"\n",
       "  530.804,766.846 1970.01,766.846 \n",
       "  \"/>\n",
       "<polyline clip-path=\"url(#clip120)\" style=\"stroke:#000000; stroke-linecap:round; stroke-linejoin:round; stroke-width:4; stroke-opacity:1; fill:none\" points=\"\n",
       "  530.804,785.744 530.804,747.948 \n",
       "  \"/>\n",
       "<polyline clip-path=\"url(#clip120)\" style=\"stroke:#000000; stroke-linecap:round; stroke-linejoin:round; stroke-width:4; stroke-opacity:1; fill:none\" points=\"\n",
       "  770.672,785.744 770.672,747.948 \n",
       "  \"/>\n",
       "<polyline clip-path=\"url(#clip120)\" style=\"stroke:#000000; stroke-linecap:round; stroke-linejoin:round; stroke-width:4; stroke-opacity:1; fill:none\" points=\"\n",
       "  1010.54,785.744 1010.54,747.948 \n",
       "  \"/>\n",
       "<polyline clip-path=\"url(#clip120)\" style=\"stroke:#000000; stroke-linecap:round; stroke-linejoin:round; stroke-width:4; stroke-opacity:1; fill:none\" points=\"\n",
       "  1490.27,785.744 1490.27,747.948 \n",
       "  \"/>\n",
       "<polyline clip-path=\"url(#clip120)\" style=\"stroke:#000000; stroke-linecap:round; stroke-linejoin:round; stroke-width:4; stroke-opacity:1; fill:none\" points=\"\n",
       "  1730.14,785.744 1730.14,747.948 \n",
       "  \"/>\n",
       "<polyline clip-path=\"url(#clip120)\" style=\"stroke:#000000; stroke-linecap:round; stroke-linejoin:round; stroke-width:4; stroke-opacity:1; fill:none\" points=\"\n",
       "  1970.01,785.744 1970.01,747.948 \n",
       "  \"/>\n",
       "<path clip-path=\"url(#clip120)\" d=\"M500.272 812.417 L529.948 812.417 L529.948 816.353 L500.272 816.353 L500.272 812.417 Z\" fill=\"#000000\" fill-rule=\"evenodd\" fill-opacity=\"1\" /><path clip-path=\"url(#clip120)\" d=\"M554.207 810.612 Q557.563 811.329 559.438 813.598 Q561.337 815.866 561.337 819.2 Q561.337 824.315 557.818 827.116 Q554.3 829.917 547.818 829.917 Q545.642 829.917 543.327 829.477 Q541.036 829.061 538.582 828.204 L538.582 823.69 Q540.527 824.825 542.841 825.403 Q545.156 825.982 547.679 825.982 Q552.077 825.982 554.369 824.246 Q556.684 822.51 556.684 819.2 Q556.684 816.144 554.531 814.431 Q552.401 812.695 548.582 812.695 L544.554 812.695 L544.554 808.853 L548.767 808.853 Q552.216 808.853 554.045 807.487 Q555.874 806.098 555.874 803.505 Q555.874 800.843 553.976 799.431 Q552.101 797.996 548.582 797.996 Q546.661 797.996 544.462 798.413 Q542.263 798.829 539.624 799.709 L539.624 795.542 Q542.286 794.802 544.601 794.431 Q546.939 794.061 548.999 794.061 Q554.323 794.061 557.425 796.492 Q560.526 798.899 560.526 803.019 Q560.526 805.89 558.883 807.88 Q557.239 809.848 554.207 810.612 Z\" fill=\"#000000\" fill-rule=\"evenodd\" fill-opacity=\"1\" /><path clip-path=\"url(#clip120)\" d=\"M740.614 812.417 L770.29 812.417 L770.29 816.353 L740.614 816.353 L740.614 812.417 Z\" fill=\"#000000\" fill-rule=\"evenodd\" fill-opacity=\"1\" /><path clip-path=\"url(#clip120)\" d=\"M784.41 825.311 L800.729 825.311 L800.729 829.246 L778.785 829.246 L778.785 825.311 Q781.447 822.556 786.03 817.927 Q790.637 813.274 791.817 811.931 Q794.063 809.408 794.942 807.672 Q795.845 805.913 795.845 804.223 Q795.845 801.468 793.901 799.732 Q791.979 797.996 788.878 797.996 Q786.679 797.996 784.225 798.76 Q781.794 799.524 779.017 801.075 L779.017 796.353 Q781.841 795.218 784.294 794.64 Q786.748 794.061 788.785 794.061 Q794.155 794.061 797.35 796.746 Q800.544 799.431 800.544 803.922 Q800.544 806.052 799.734 807.973 Q798.947 809.871 796.841 812.464 Q796.262 813.135 793.16 816.353 Q790.058 819.547 784.41 825.311 Z\" fill=\"#000000\" fill-rule=\"evenodd\" fill-opacity=\"1\" /><path clip-path=\"url(#clip120)\" d=\"M980.296 812.417 L1009.97 812.417 L1009.97 816.353 L980.296 816.353 L980.296 812.417 Z\" fill=\"#000000\" fill-rule=\"evenodd\" fill-opacity=\"1\" /><path clip-path=\"url(#clip120)\" d=\"M1020.87 825.311 L1028.51 825.311 L1028.51 798.945 L1020.2 800.612 L1020.2 796.353 L1028.47 794.686 L1033.14 794.686 L1033.14 825.311 L1040.78 825.311 L1040.78 829.246 L1020.87 829.246 L1020.87 825.311 Z\" fill=\"#000000\" fill-rule=\"evenodd\" fill-opacity=\"1\" /><path clip-path=\"url(#clip120)\" d=\"M1480.66 825.311 L1488.29 825.311 L1488.29 798.945 L1479.98 800.612 L1479.98 796.353 L1488.25 794.686 L1492.92 794.686 L1492.92 825.311 L1500.56 825.311 L1500.56 829.246 L1480.66 829.246 L1480.66 825.311 Z\" fill=\"#000000\" fill-rule=\"evenodd\" fill-opacity=\"1\" /><path clip-path=\"url(#clip120)\" d=\"M1724.79 825.311 L1741.11 825.311 L1741.11 829.246 L1719.17 829.246 L1719.17 825.311 Q1721.83 822.556 1726.41 817.927 Q1731.02 813.274 1732.2 811.931 Q1734.45 809.408 1735.33 807.672 Q1736.23 805.913 1736.23 804.223 Q1736.23 801.468 1734.28 799.732 Q1732.36 797.996 1729.26 797.996 Q1727.06 797.996 1724.61 798.76 Q1722.18 799.524 1719.4 801.075 L1719.4 796.353 Q1722.22 795.218 1724.68 794.64 Q1727.13 794.061 1729.17 794.061 Q1734.54 794.061 1737.73 796.746 Q1740.93 799.431 1740.93 803.922 Q1740.93 806.052 1740.12 807.973 Q1739.33 809.871 1737.22 812.464 Q1736.65 813.135 1733.54 816.353 Q1730.44 819.547 1724.79 825.311 Z\" fill=\"#000000\" fill-rule=\"evenodd\" fill-opacity=\"1\" /><path clip-path=\"url(#clip120)\" d=\"M1974.26 810.612 Q1977.61 811.329 1979.49 813.598 Q1981.39 815.866 1981.39 819.2 Q1981.39 824.315 1977.87 827.116 Q1974.35 829.917 1967.87 829.917 Q1965.69 829.917 1963.38 829.477 Q1961.08 829.061 1958.63 828.204 L1958.63 823.69 Q1960.58 824.825 1962.89 825.403 Q1965.2 825.982 1967.73 825.982 Q1972.13 825.982 1974.42 824.246 Q1976.73 822.51 1976.73 819.2 Q1976.73 816.144 1974.58 814.431 Q1972.45 812.695 1968.63 812.695 L1964.6 812.695 L1964.6 808.853 L1968.82 808.853 Q1972.27 808.853 1974.09 807.487 Q1975.92 806.098 1975.92 803.505 Q1975.92 800.843 1974.02 799.431 Q1972.15 797.996 1968.63 797.996 Q1966.71 797.996 1964.51 798.413 Q1962.31 798.829 1959.67 799.709 L1959.67 795.542 Q1962.33 794.802 1964.65 794.431 Q1966.99 794.061 1969.05 794.061 Q1974.37 794.061 1977.47 796.492 Q1980.58 798.899 1980.58 803.019 Q1980.58 805.89 1978.93 807.88 Q1977.29 809.848 1974.26 810.612 Z\" fill=\"#000000\" fill-rule=\"evenodd\" fill-opacity=\"1\" /><polyline clip-path=\"url(#clip122)\" style=\"stroke:#000000; stroke-linecap:round; stroke-linejoin:round; stroke-width:2; stroke-opacity:0.1; fill:none\" points=\"\n",
       "  530.804,1486.45 1970.01,1486.45 \n",
       "  \"/>\n",
       "<polyline clip-path=\"url(#clip122)\" style=\"stroke:#000000; stroke-linecap:round; stroke-linejoin:round; stroke-width:2; stroke-opacity:0.1; fill:none\" points=\"\n",
       "  530.804,1246.58 1970.01,1246.58 \n",
       "  \"/>\n",
       "<polyline clip-path=\"url(#clip122)\" style=\"stroke:#000000; stroke-linecap:round; stroke-linejoin:round; stroke-width:2; stroke-opacity:0.1; fill:none\" points=\"\n",
       "  530.804,1006.71 1970.01,1006.71 \n",
       "  \"/>\n",
       "<polyline clip-path=\"url(#clip122)\" style=\"stroke:#000000; stroke-linecap:round; stroke-linejoin:round; stroke-width:2; stroke-opacity:0.1; fill:none\" points=\"\n",
       "  530.804,526.979 1970.01,526.979 \n",
       "  \"/>\n",
       "<polyline clip-path=\"url(#clip122)\" style=\"stroke:#000000; stroke-linecap:round; stroke-linejoin:round; stroke-width:2; stroke-opacity:0.1; fill:none\" points=\"\n",
       "  530.804,287.111 1970.01,287.111 \n",
       "  \"/>\n",
       "<polyline clip-path=\"url(#clip122)\" style=\"stroke:#000000; stroke-linecap:round; stroke-linejoin:round; stroke-width:2; stroke-opacity:0.1; fill:none\" points=\"\n",
       "  530.804,47.2441 1970.01,47.2441 \n",
       "  \"/>\n",
       "<polyline clip-path=\"url(#clip120)\" style=\"stroke:#000000; stroke-linecap:round; stroke-linejoin:round; stroke-width:4; stroke-opacity:1; fill:none\" points=\"\n",
       "  1250.41,1486.45 1250.41,47.2441 \n",
       "  \"/>\n",
       "<polyline clip-path=\"url(#clip120)\" style=\"stroke:#000000; stroke-linecap:round; stroke-linejoin:round; stroke-width:4; stroke-opacity:1; fill:none\" points=\"\n",
       "  1238.07,1486.45 1262.74,1486.45 \n",
       "  \"/>\n",
       "<polyline clip-path=\"url(#clip120)\" style=\"stroke:#000000; stroke-linecap:round; stroke-linejoin:round; stroke-width:4; stroke-opacity:1; fill:none\" points=\"\n",
       "  1238.07,1246.58 1262.74,1246.58 \n",
       "  \"/>\n",
       "<polyline clip-path=\"url(#clip120)\" style=\"stroke:#000000; stroke-linecap:round; stroke-linejoin:round; stroke-width:4; stroke-opacity:1; fill:none\" points=\"\n",
       "  1238.07,1006.71 1262.74,1006.71 \n",
       "  \"/>\n",
       "<polyline clip-path=\"url(#clip120)\" style=\"stroke:#000000; stroke-linecap:round; stroke-linejoin:round; stroke-width:4; stroke-opacity:1; fill:none\" points=\"\n",
       "  1238.07,526.979 1262.74,526.979 \n",
       "  \"/>\n",
       "<polyline clip-path=\"url(#clip120)\" style=\"stroke:#000000; stroke-linecap:round; stroke-linejoin:round; stroke-width:4; stroke-opacity:1; fill:none\" points=\"\n",
       "  1238.07,287.111 1262.74,287.111 \n",
       "  \"/>\n",
       "<polyline clip-path=\"url(#clip120)\" style=\"stroke:#000000; stroke-linecap:round; stroke-linejoin:round; stroke-width:4; stroke-opacity:1; fill:none\" points=\"\n",
       "  1238.07,47.2441 1262.74,47.2441 \n",
       "  \"/>\n",
       "<path clip-path=\"url(#clip120)\" d=\"M1153.34 1486.9 L1183.02 1486.9 L1183.02 1490.83 L1153.34 1490.83 L1153.34 1486.9 Z\" fill=\"#000000\" fill-rule=\"evenodd\" fill-opacity=\"1\" /><path clip-path=\"url(#clip120)\" d=\"M1207.28 1485.09 Q1210.63 1485.81 1212.51 1488.08 Q1214.41 1490.35 1214.41 1493.68 Q1214.41 1498.8 1210.89 1501.6 Q1207.37 1504.4 1200.89 1504.4 Q1198.71 1504.4 1196.4 1503.96 Q1194.11 1503.54 1191.65 1502.69 L1191.65 1498.17 Q1193.6 1499.31 1195.91 1499.89 Q1198.23 1500.46 1200.75 1500.46 Q1205.15 1500.46 1207.44 1498.73 Q1209.75 1496.99 1209.75 1493.68 Q1209.75 1490.63 1207.6 1488.91 Q1205.47 1487.18 1201.65 1487.18 L1197.62 1487.18 L1197.62 1483.33 L1201.84 1483.33 Q1205.29 1483.33 1207.11 1481.97 Q1208.94 1480.58 1208.94 1477.99 Q1208.94 1475.33 1207.05 1473.91 Q1205.17 1472.48 1201.65 1472.48 Q1199.73 1472.48 1197.53 1472.89 Q1195.33 1473.31 1192.69 1474.19 L1192.69 1470.02 Q1195.36 1469.28 1197.67 1468.91 Q1200.01 1468.54 1202.07 1468.54 Q1207.39 1468.54 1210.49 1470.97 Q1213.6 1473.38 1213.6 1477.5 Q1213.6 1480.37 1211.95 1482.36 Q1210.31 1484.33 1207.28 1485.09 Z\" fill=\"#000000\" fill-rule=\"evenodd\" fill-opacity=\"1\" /><path clip-path=\"url(#clip120)\" d=\"M1154.29 1247.03 L1183.97 1247.03 L1183.97 1250.97 L1154.29 1250.97 L1154.29 1247.03 Z\" fill=\"#000000\" fill-rule=\"evenodd\" fill-opacity=\"1\" /><path clip-path=\"url(#clip120)\" d=\"M1198.09 1259.93 L1214.41 1259.93 L1214.41 1263.86 L1192.46 1263.86 L1192.46 1259.93 Q1195.12 1257.17 1199.71 1252.54 Q1204.31 1247.89 1205.49 1246.55 Q1207.74 1244.02 1208.62 1242.29 Q1209.52 1240.53 1209.52 1238.84 Q1209.52 1236.08 1207.58 1234.35 Q1205.66 1232.61 1202.55 1232.61 Q1200.36 1232.61 1197.9 1233.37 Q1195.47 1234.14 1192.69 1235.69 L1192.69 1230.97 Q1195.52 1229.83 1197.97 1229.25 Q1200.42 1228.68 1202.46 1228.68 Q1207.83 1228.68 1211.03 1231.36 Q1214.22 1234.05 1214.22 1238.54 Q1214.22 1240.67 1213.41 1242.59 Q1212.62 1244.49 1210.52 1247.08 Q1209.94 1247.75 1206.84 1250.97 Q1203.74 1254.16 1198.09 1259.93 Z\" fill=\"#000000\" fill-rule=\"evenodd\" fill-opacity=\"1\" /><path clip-path=\"url(#clip120)\" d=\"M1153.92 1007.16 L1183.6 1007.16 L1183.6 1011.1 L1153.92 1011.1 L1153.92 1007.16 Z\" fill=\"#000000\" fill-rule=\"evenodd\" fill-opacity=\"1\" /><path clip-path=\"url(#clip120)\" d=\"M1194.5 1020.06 L1202.14 1020.06 L1202.14 993.693 L1193.83 995.359 L1193.83 991.1 L1202.09 989.433 L1206.77 989.433 L1206.77 1020.06 L1214.41 1020.06 L1214.41 1023.99 L1194.5 1023.99 L1194.5 1020.06 Z\" fill=\"#000000\" fill-rule=\"evenodd\" fill-opacity=\"1\" /><path clip-path=\"url(#clip120)\" d=\"M1194.5 540.324 L1202.14 540.324 L1202.14 513.958 L1193.83 515.625 L1193.83 511.365 L1202.09 509.699 L1206.77 509.699 L1206.77 540.324 L1214.41 540.324 L1214.41 544.259 L1194.5 544.259 L1194.5 540.324 Z\" fill=\"#000000\" fill-rule=\"evenodd\" fill-opacity=\"1\" /><path clip-path=\"url(#clip120)\" d=\"M1198.09 300.456 L1214.41 300.456 L1214.41 304.391 L1192.46 304.391 L1192.46 300.456 Q1195.12 297.702 1199.71 293.072 Q1204.31 288.419 1205.49 287.077 Q1207.74 284.554 1208.62 282.817 Q1209.52 281.058 1209.52 279.368 Q1209.52 276.614 1207.58 274.878 Q1205.66 273.142 1202.55 273.142 Q1200.36 273.142 1197.9 273.905 Q1195.47 274.669 1192.69 276.22 L1192.69 271.498 Q1195.52 270.364 1197.97 269.785 Q1200.42 269.206 1202.46 269.206 Q1207.83 269.206 1211.03 271.892 Q1214.22 274.577 1214.22 279.067 Q1214.22 281.197 1213.41 283.118 Q1212.62 285.016 1210.52 287.609 Q1209.94 288.28 1206.84 291.498 Q1203.74 294.692 1198.09 300.456 Z\" fill=\"#000000\" fill-rule=\"evenodd\" fill-opacity=\"1\" /><path clip-path=\"url(#clip120)\" d=\"M1207.28 45.8899 Q1210.63 46.6075 1212.51 48.876 Q1214.41 51.1445 1214.41 54.4779 Q1214.41 59.5936 1210.89 62.3945 Q1207.37 65.1954 1200.89 65.1954 Q1198.71 65.1954 1196.4 64.7556 Q1194.11 64.3389 1191.65 63.4824 L1191.65 58.9686 Q1193.6 60.1028 1195.91 60.6815 Q1198.23 61.2602 1200.75 61.2602 Q1205.15 61.2602 1207.44 59.5241 Q1209.75 57.788 1209.75 54.4779 Q1209.75 51.4223 1207.6 49.7094 Q1205.47 47.9733 1201.65 47.9733 L1197.62 47.9733 L1197.62 44.1307 L1201.84 44.1307 Q1205.29 44.1307 1207.11 42.765 Q1208.94 41.3761 1208.94 38.7835 Q1208.94 36.1215 1207.05 34.7094 Q1205.17 33.2743 1201.65 33.2743 Q1199.73 33.2743 1197.53 33.6909 Q1195.33 34.1076 1192.69 34.9872 L1192.69 30.8206 Q1195.36 30.0798 1197.67 29.7095 Q1200.01 29.3391 1202.07 29.3391 Q1207.39 29.3391 1210.49 31.7696 Q1213.6 34.177 1213.6 38.2974 Q1213.6 41.1677 1211.95 43.1585 Q1210.31 45.1261 1207.28 45.8899 Z\" fill=\"#000000\" fill-rule=\"evenodd\" fill-opacity=\"1\" /><polyline clip-path=\"url(#clip122)\" style=\"stroke:#0000ff; stroke-linecap:round; stroke-linejoin:round; stroke-width:4; stroke-opacity:1; fill:none\" points=\"\n",
       "  1490.27,526.979 1490.27,47.2441 1730.14,526.979 1490.27,526.979 \n",
       "  \"/>\n",
       "<polyline clip-path=\"url(#clip122)\" style=\"stroke:#e26f46; stroke-linecap:round; stroke-linejoin:round; stroke-width:4; stroke-opacity:1; fill:none\" points=\"\n",
       "  1250.41,427.622 911.183,88.3988 1420.02,258.011 1250.41,427.622 \n",
       "  \"/>\n",
       "<polyline clip-path=\"url(#clip122)\" style=\"stroke:#3da44d; stroke-linecap:round; stroke-linejoin:round; stroke-width:4; stroke-opacity:1; fill:none\" points=\"\n",
       "  1589.63,766.846 1928.85,1106.07 1759.24,597.234 1589.63,766.846 \n",
       "  \"/>\n",
       "<path clip-path=\"url(#clip120)\" d=\"M761.807 278.949 Q760.551 278.22 759.052 277.896 Q757.594 277.531 755.811 277.531 Q749.492 277.531 746.089 281.663 Q742.727 285.754 742.727 293.451 L742.727 317.351 L735.233 317.351 L735.233 271.981 L742.727 271.981 L742.727 279.03 Q745.077 274.898 748.844 272.913 Q752.611 270.888 757.999 270.888 Q758.769 270.888 759.7 271.009 Q760.632 271.09 761.766 271.293 L761.807 278.949 Z\" fill=\"#000000\" fill-rule=\"evenodd\" fill-opacity=\"1\" /><path clip-path=\"url(#clip120)\" d=\"M785.383 277.207 Q779.388 277.207 775.904 281.906 Q772.42 286.565 772.42 294.707 Q772.42 302.849 775.863 307.548 Q779.347 312.207 785.383 312.207 Q791.338 312.207 794.822 307.508 Q798.305 302.809 798.305 294.707 Q798.305 286.646 794.822 281.946 Q791.338 277.207 785.383 277.207 M785.383 270.888 Q795.105 270.888 800.655 277.207 Q806.205 283.526 806.205 294.707 Q806.205 305.847 800.655 312.207 Q795.105 318.526 785.383 318.526 Q775.62 318.526 770.071 312.207 Q764.561 305.847 764.561 294.707 Q764.561 283.526 770.071 277.207 Q775.62 270.888 785.383 270.888 Z\" fill=\"#000000\" fill-rule=\"evenodd\" fill-opacity=\"1\" /><path clip-path=\"url(#clip120)\" d=\"M825.933 259.099 L825.933 271.981 L841.286 271.981 L841.286 277.774 L825.933 277.774 L825.933 302.404 Q825.933 307.953 827.431 309.533 Q828.971 311.113 833.629 311.113 L841.286 311.113 L841.286 317.351 L833.629 317.351 Q825.001 317.351 821.72 314.151 Q818.438 310.91 818.438 302.404 L818.438 277.774 L812.97 277.774 L812.97 271.981 L818.438 271.981 L818.438 259.099 L825.933 259.099 Z\" fill=\"#000000\" fill-rule=\"evenodd\" fill-opacity=\"1\" /><path clip-path=\"url(#clip120)\" d=\"M871.708 294.545 Q862.674 294.545 859.191 296.611 Q855.707 298.677 855.707 303.659 Q855.707 307.629 858.299 309.979 Q860.932 312.288 865.429 312.288 Q871.627 312.288 875.354 307.913 Q879.121 303.497 879.121 296.206 L879.121 294.545 L871.708 294.545 M886.575 291.466 L886.575 317.351 L879.121 317.351 L879.121 310.465 Q876.569 314.597 872.761 316.582 Q868.953 318.526 863.444 318.526 Q856.476 318.526 852.345 314.637 Q848.253 310.708 848.253 304.145 Q848.253 296.489 853.357 292.6 Q858.502 288.711 868.67 288.711 L879.121 288.711 L879.121 287.982 Q879.121 282.838 875.718 280.043 Q872.356 277.207 866.239 277.207 Q862.35 277.207 858.664 278.139 Q854.978 279.07 851.575 280.934 L851.575 274.047 Q855.666 272.467 859.515 271.698 Q863.363 270.888 867.009 270.888 Q876.852 270.888 881.714 275.992 Q886.575 281.096 886.575 291.466 Z\" fill=\"#000000\" fill-rule=\"evenodd\" fill-opacity=\"1\" /><path clip-path=\"url(#clip120)\" d=\"M909.3 259.099 L909.3 271.981 L924.653 271.981 L924.653 277.774 L909.3 277.774 L909.3 302.404 Q909.3 307.953 910.799 309.533 Q912.338 311.113 916.997 311.113 L924.653 311.113 L924.653 317.351 L916.997 317.351 Q908.369 317.351 905.087 314.151 Q901.806 310.91 901.806 302.404 L901.806 277.774 L896.337 277.774 L896.337 271.981 L901.806 271.981 L901.806 259.099 L909.3 259.099 Z\" fill=\"#000000\" fill-rule=\"evenodd\" fill-opacity=\"1\" /><path clip-path=\"url(#clip120)\" d=\"M934.456 271.981 L941.91 271.981 L941.91 317.351 L934.456 317.351 L934.456 271.981 M934.456 254.319 L941.91 254.319 L941.91 263.758 L934.456 263.758 L934.456 254.319 Z\" fill=\"#000000\" fill-rule=\"evenodd\" fill-opacity=\"1\" /><path clip-path=\"url(#clip120)\" d=\"M975.087 277.207 Q969.092 277.207 965.608 281.906 Q962.124 286.565 962.124 294.707 Q962.124 302.849 965.567 307.548 Q969.051 312.207 975.087 312.207 Q981.042 312.207 984.526 307.508 Q988.009 302.809 988.009 294.707 Q988.009 286.646 984.526 281.946 Q981.042 277.207 975.087 277.207 M975.087 270.888 Q984.809 270.888 990.359 277.207 Q995.909 283.526 995.909 294.707 Q995.909 305.847 990.359 312.207 Q984.809 318.526 975.087 318.526 Q965.324 318.526 959.775 312.207 Q954.265 305.847 954.265 294.707 Q954.265 283.526 959.775 277.207 Q965.324 270.888 975.087 270.888 Z\" fill=\"#000000\" fill-rule=\"evenodd\" fill-opacity=\"1\" /><path clip-path=\"url(#clip120)\" d=\"M1045.98 289.967 L1045.98 317.351 L1038.52 317.351 L1038.52 290.21 Q1038.52 283.769 1036.01 280.569 Q1033.5 277.369 1028.48 277.369 Q1022.44 277.369 1018.96 281.217 Q1015.47 285.066 1015.47 291.709 L1015.47 317.351 L1007.98 317.351 L1007.98 271.981 L1015.47 271.981 L1015.47 279.03 Q1018.15 274.938 1021.75 272.913 Q1025.4 270.888 1030.14 270.888 Q1037.96 270.888 1041.97 275.749 Q1045.98 280.569 1045.98 289.967 Z\" fill=\"#000000\" fill-rule=\"evenodd\" fill-opacity=\"1\" /><path clip-path=\"url(#clip120)\" d=\"M1568.43 1178.45 Q1567.17 1177.72 1565.67 1177.4 Q1564.22 1177.03 1562.43 1177.03 Q1556.11 1177.03 1552.71 1181.17 Q1549.35 1185.26 1549.35 1192.95 L1549.35 1216.85 L1541.85 1216.85 L1541.85 1171.48 L1549.35 1171.48 L1549.35 1178.53 Q1551.7 1174.4 1555.47 1172.42 Q1559.23 1170.39 1564.62 1170.39 Q1565.39 1170.39 1566.32 1170.51 Q1567.25 1170.59 1568.39 1170.79 L1568.43 1178.45 Z\" fill=\"#000000\" fill-rule=\"evenodd\" fill-opacity=\"1\" /><path clip-path=\"url(#clip120)\" d=\"M1613.23 1192.31 L1613.23 1195.95 L1578.96 1195.95 Q1579.45 1203.65 1583.58 1207.7 Q1587.75 1211.71 1595.16 1211.71 Q1599.46 1211.71 1603.47 1210.66 Q1607.52 1209.6 1611.49 1207.5 L1611.49 1214.54 Q1607.48 1216.25 1603.27 1217.14 Q1599.05 1218.03 1594.72 1218.03 Q1583.86 1218.03 1577.5 1211.71 Q1571.18 1205.39 1571.18 1194.61 Q1571.18 1183.47 1577.18 1176.95 Q1583.21 1170.39 1593.42 1170.39 Q1602.58 1170.39 1607.88 1176.3 Q1613.23 1182.18 1613.23 1192.31 M1605.78 1190.12 Q1605.7 1184 1602.33 1180.36 Q1599.01 1176.71 1593.5 1176.71 Q1587.27 1176.71 1583.5 1180.23 Q1579.77 1183.76 1579.2 1190.16 L1605.78 1190.12 Z\" fill=\"#000000\" fill-rule=\"evenodd\" fill-opacity=\"1\" /><path clip-path=\"url(#clip120)\" d=\"M1648.43 1153.82 L1648.43 1160.02 L1641.3 1160.02 Q1637.29 1160.02 1635.71 1161.64 Q1634.17 1163.26 1634.17 1167.47 L1634.17 1171.48 L1646.45 1171.48 L1646.45 1177.28 L1634.17 1177.28 L1634.17 1216.85 L1626.68 1216.85 L1626.68 1177.28 L1619.55 1177.28 L1619.55 1171.48 L1626.68 1171.48 L1626.68 1168.32 Q1626.68 1160.75 1630.21 1157.31 Q1633.73 1153.82 1641.39 1153.82 L1648.43 1153.82 Z\" fill=\"#000000\" fill-rule=\"evenodd\" fill-opacity=\"1\" /><path clip-path=\"url(#clip120)\" d=\"M1654.67 1153.82 L1662.13 1153.82 L1662.13 1216.85 L1654.67 1216.85 L1654.67 1153.82 Z\" fill=\"#000000\" fill-rule=\"evenodd\" fill-opacity=\"1\" /><path clip-path=\"url(#clip120)\" d=\"M1716.53 1192.31 L1716.53 1195.95 L1682.26 1195.95 Q1682.75 1203.65 1686.88 1207.7 Q1691.05 1211.71 1698.46 1211.71 Q1702.76 1211.71 1706.77 1210.66 Q1710.82 1209.6 1714.79 1207.5 L1714.79 1214.54 Q1710.78 1216.25 1706.56 1217.14 Q1702.35 1218.03 1698.02 1218.03 Q1687.16 1218.03 1680.8 1211.71 Q1674.48 1205.39 1674.48 1194.61 Q1674.48 1183.47 1680.48 1176.95 Q1686.51 1170.39 1696.72 1170.39 Q1705.88 1170.39 1711.18 1176.3 Q1716.53 1182.18 1716.53 1192.31 M1709.08 1190.12 Q1709 1184 1705.63 1180.36 Q1702.31 1176.71 1696.8 1176.71 Q1690.56 1176.71 1686.8 1180.23 Q1683.07 1183.76 1682.5 1190.16 L1709.08 1190.12 Z\" fill=\"#000000\" fill-rule=\"evenodd\" fill-opacity=\"1\" /><path clip-path=\"url(#clip120)\" d=\"M1761.41 1173.23 L1761.41 1180.19 Q1758.25 1178.45 1755.05 1177.6 Q1751.89 1176.71 1748.65 1176.71 Q1741.4 1176.71 1737.39 1181.33 Q1733.38 1185.9 1733.38 1194.21 Q1733.38 1202.51 1737.39 1207.13 Q1741.4 1211.71 1748.65 1211.71 Q1751.89 1211.71 1755.05 1210.86 Q1758.25 1209.97 1761.41 1208.23 L1761.41 1215.11 Q1758.29 1216.57 1754.93 1217.3 Q1751.61 1218.03 1747.84 1218.03 Q1737.59 1218.03 1731.56 1211.59 Q1725.52 1205.15 1725.52 1194.21 Q1725.52 1183.11 1731.6 1176.75 Q1737.72 1170.39 1748.33 1170.39 Q1751.77 1170.39 1755.05 1171.12 Q1758.34 1171.81 1761.41 1173.23 Z\" fill=\"#000000\" fill-rule=\"evenodd\" fill-opacity=\"1\" /><path clip-path=\"url(#clip120)\" d=\"M1781.75 1158.6 L1781.75 1171.48 L1797.1 1171.48 L1797.1 1177.28 L1781.75 1177.28 L1781.75 1201.91 Q1781.75 1207.46 1783.25 1209.04 Q1784.79 1210.62 1789.45 1210.62 L1797.1 1210.62 L1797.1 1216.85 L1789.45 1216.85 Q1780.82 1216.85 1777.54 1213.65 Q1774.26 1210.41 1774.26 1201.91 L1774.26 1177.28 L1768.79 1177.28 L1768.79 1171.48 L1774.26 1171.48 L1774.26 1158.6 L1781.75 1158.6 Z\" fill=\"#000000\" fill-rule=\"evenodd\" fill-opacity=\"1\" /><path clip-path=\"url(#clip120)\" d=\"M1806.91 1171.48 L1814.36 1171.48 L1814.36 1216.85 L1806.91 1216.85 L1806.91 1171.48 M1806.91 1153.82 L1814.36 1153.82 L1814.36 1163.26 L1806.91 1163.26 L1806.91 1153.82 Z\" fill=\"#000000\" fill-rule=\"evenodd\" fill-opacity=\"1\" /><path clip-path=\"url(#clip120)\" d=\"M1847.54 1176.71 Q1841.54 1176.71 1838.06 1181.41 Q1834.57 1186.07 1834.57 1194.21 Q1834.57 1202.35 1838.02 1207.05 Q1841.5 1211.71 1847.54 1211.71 Q1853.49 1211.71 1856.97 1207.01 Q1860.46 1202.31 1860.46 1194.21 Q1860.46 1186.15 1856.97 1181.45 Q1853.49 1176.71 1847.54 1176.71 M1847.54 1170.39 Q1857.26 1170.39 1862.81 1176.71 Q1868.36 1183.03 1868.36 1194.21 Q1868.36 1205.35 1862.81 1211.71 Q1857.26 1218.03 1847.54 1218.03 Q1837.77 1218.03 1832.22 1211.71 Q1826.71 1205.35 1826.71 1194.21 Q1826.71 1183.03 1832.22 1176.71 Q1837.77 1170.39 1847.54 1170.39 Z\" fill=\"#000000\" fill-rule=\"evenodd\" fill-opacity=\"1\" /><path clip-path=\"url(#clip120)\" d=\"M1918.43 1189.47 L1918.43 1216.85 L1910.97 1216.85 L1910.97 1189.71 Q1910.97 1183.27 1908.46 1180.07 Q1905.95 1176.87 1900.93 1176.87 Q1894.89 1176.87 1891.41 1180.72 Q1887.92 1184.57 1887.92 1191.21 L1887.92 1216.85 L1880.43 1216.85 L1880.43 1171.48 L1887.92 1171.48 L1887.92 1178.53 Q1890.6 1174.44 1894.2 1172.42 Q1897.85 1170.39 1902.59 1170.39 Q1910.41 1170.39 1914.42 1175.25 Q1918.43 1180.07 1918.43 1189.47 Z\" fill=\"#000000\" fill-rule=\"evenodd\" fill-opacity=\"1\" /></svg>\n"
      ]
     },
     "execution_count": 15,
     "metadata": {},
     "output_type": "execute_result"
    }
   ],
   "source": [
    "plt = plot(X[1, :], X[2, :], color = :blue,\n",
    "    legend = :none, xlims = (-3, 3), ylims = (-3, 3),\n",
    "    xticks = -3:1:3, yticks = -3:1:3,\n",
    "    framestyle = :origin,\n",
    "    aspect_ratio = :equal)\n",
    "plot!(plt, Xrot[1, :], Xrot[2, :])\n",
    "plot!(plt, Xref[1, :], Xref[2, :], \n",
    "    annotations = [(-1.5, 2, \"rotation\"), (2, -1.75, \"reflection\")])"
   ]
  },
  {
   "cell_type": "markdown",
   "metadata": {},
   "source": [
    "-  $\\det(\\mathbf{A}') = \\det(\\mathbf{A})$.\n",
    "\n",
    "- $\\det(\\mathbf{A}^{-1}) = 1/\\det(\\mathbf{A})$.\n",
    "\n",
    "- $\\det(c\\mathbf{A}) = c^n \\det(\\mathbf{A})$.\n",
    "\n",
    "- Determinant of a permutation matrix is the sign of the corresponding permutation. \n",
    "\n",
    "- Determinant of diagonal block matrix\n",
    "\\begin{eqnarray*}\n",
    "\t\\det \\left( \\begin{pmatrix}\n",
    "\t\\mathbf{A} & \\mathbf{O} \\\\\n",
    "\t\\mathbf{O} & \\mathbf{D}\n",
    "\t\\end{pmatrix} \\right) = \\det (\\mathbf{A}) \\det (\\mathbf{D}).\n",
    "\\end{eqnarray*}\n",
    "\n",
    "- For $\\mathbf{A}$ and $\\mathbf{D}$ square and nonsingular, \n",
    "\\begin{eqnarray*}\n",
    "\t\\det \\left( \\begin{pmatrix}\n",
    "\t\\mathbf{A} & \\mathbf{B} \\\\\n",
    "\t\\mathbf{C} & \\mathbf{D}\n",
    "\t\\end{pmatrix} \\right) = \\det (\\mathbf{A}) \\det (\\mathbf{D} - \\mathbf{C} \\mathbf{A}^{-1} \\mathbf{B}) = \\det(\\mathbf{D}) \\det(\\mathbf{A} - \\mathbf{B} \\mathbf{D}^{-1} \\mathbf{C}).\n",
    "\\end{eqnarray*}\n",
    "\n",
    "    Proof: Take determinant on the both sides of the matrix identity\n",
    "\\begin{eqnarray*}\n",
    "\t\\begin{pmatrix}\n",
    "\t\\mathbf{A} & \\mathbf{0} \\\\\n",
    "\t\\mathbf{0} & \\mathbf{D} - \\mathbf{C} \\mathbf{A}^{-1} \\mathbf{B}\n",
    "\t\\end{pmatrix} = \\begin{pmatrix}\n",
    "\t\\mathbf{I} & \\mathbf{0} \\\\ - \\mathbf{C} \\mathbf{A}^{-1} & \\mathbf{I}\n",
    "\t\\end{pmatrix} \\begin{pmatrix}\n",
    "\t\\mathbf{A} & \\mathbf{B} \\\\\n",
    "\t\\mathbf{C} & \\mathbf{D}\n",
    "\t\\end{pmatrix} \\begin{pmatrix}\n",
    "\t\\mathbf{I} & - \\mathbf{A}^{-1} \\mathbf{B} \\\\\n",
    "\t\\mathbf{0} & \\mathbf{I}\n",
    "\t\\end{pmatrix}.\n",
    "\\end{eqnarray*}"
   ]
  }
 ],
 "metadata": {
  "@webio": {
   "lastCommId": null,
   "lastKernelId": null
  },
  "hide_input": false,
  "kernelspec": {
   "display_name": "Julia 1.8.0",
   "language": "julia",
   "name": "julia-1.8"
  },
  "language_info": {
   "file_extension": ".jl",
   "mimetype": "application/julia",
   "name": "julia",
   "version": "1.8.0"
  },
  "toc": {
   "colors": {
    "hover_highlight": "#DAA520",
    "running_highlight": "#FF0000",
    "selected_highlight": "#FFD700"
   },
   "moveMenuLeft": true,
   "nav_menu": {
    "height": "30.1705px",
    "width": "251.989px"
   },
   "navigate_menu": true,
   "number_sections": true,
   "sideBar": true,
   "skip_h1_title": true,
   "threshold": 4,
   "toc_cell": true,
   "toc_position": {
    "height": "356px",
    "left": "0px",
    "right": "653.375px",
    "top": "32.2857px",
    "width": "97.125px"
   },
   "toc_section_display": "block",
   "toc_window_display": true,
   "widenNotebook": false
  }
 },
 "nbformat": 4,
 "nbformat_minor": 4
}
