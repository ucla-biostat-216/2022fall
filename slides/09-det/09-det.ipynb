{
 "cells": [
  {
   "cell_type": "markdown",
   "metadata": {
    "toc": "true"
   },
   "source": [
    "# Table of Contents\n",
    " <p><div class=\"lev1 toc-item\"><a href=\"#Determinant\" data-toc-modified-id=\"Determinant-1\"><span class=\"toc-item-num\">1&nbsp;&nbsp;</span>Determinant</a></div><div class=\"lev2 toc-item\"><a href=\"#Definition-of-determinant\" data-toc-modified-id=\"Definition-of-determinant-11\"><span class=\"toc-item-num\">1.1&nbsp;&nbsp;</span>Definition of determinant</a></div><div class=\"lev2 toc-item\"><a href=\"#Some-interpretations-of-determinant\" data-toc-modified-id=\"Some-interpretations-of-determinant-12\"><span class=\"toc-item-num\">1.2&nbsp;&nbsp;</span>Some interpretations of determinant</a></div><div class=\"lev2 toc-item\"><a href=\"#Some-properties-of-determinant-(important)\" data-toc-modified-id=\"Some-properties-of-determinant-(important)-13\"><span class=\"toc-item-num\">1.3&nbsp;&nbsp;</span>Some properties of determinant (important)</a></div>"
   ]
  },
  {
   "cell_type": "markdown",
   "metadata": {},
   "source": [
    "# Determinant"
   ]
  },
  {
   "cell_type": "code",
   "execution_count": 1,
   "metadata": {},
   "outputs": [
    {
     "name": "stderr",
     "output_type": "stream",
     "text": [
      "\u001b[32m\u001b[1m  Activating\u001b[22m\u001b[39m project at `~/Documents/github.com/ucla-biostat-216/2022fall/slides/09-det`\n",
      "\u001b[32m\u001b[1mPrecompiling\u001b[22m\u001b[39m project...\n",
      "\u001b[32m  ✓ \u001b[39m\u001b[90mOpenSSL\u001b[39m\n",
      "\u001b[32m  ✓ \u001b[39m\u001b[90mHTTP\u001b[39m\n",
      "\u001b[32m  ✓ \u001b[39m\u001b[90mGR\u001b[39m\n",
      "\u001b[32m  ✓ \u001b[39mPlots\n",
      "  4 dependencies successfully precompiled in 56 seconds. 208 already precompiled.\n"
     ]
    },
    {
     "name": "stdout",
     "output_type": "stream",
     "text": [
      "\u001b[32m\u001b[1mStatus\u001b[22m\u001b[39m `~/Documents/github.com/ucla-biostat-216/2022fall/slides/09-det/Project.toml`\n",
      " \u001b[90m [91a5bcdd] \u001b[39mPlots v1.35.5\n",
      " \u001b[90m [0c5d862f] \u001b[39mSymbolics v4.13.0\n",
      " \u001b[90m [37e2e46d] \u001b[39mLinearAlgebra\n"
     ]
    }
   ],
   "source": [
    "using Pkg\n",
    "Pkg.activate(pwd())\n",
    "Pkg.instantiate()\n",
    "Pkg.status()"
   ]
  },
  {
   "cell_type": "code",
   "execution_count": 2,
   "metadata": {},
   "outputs": [],
   "source": [
    "using LinearAlgebra, Plots, Symbolics"
   ]
  },
  {
   "cell_type": "markdown",
   "metadata": {},
   "source": [
    "We review some basic facts about matrix determinant.\n",
    "\n",
    "## Definition of determinant\n",
    "\n",
    "- The **determinant** of a square matrix $\\mathbf{A} \\in \\mathbb{R}^{n \\times n}$ is \n",
    "$$\n",
    "    \\det (\\mathbf{A}) = \\sum (-1)^{\\phi(j_1,\\ldots,j_n)} \\prod_{i=1}^n a_{ij_i},\n",
    "$$\n",
    "where the summation is over all permutation $(j_1, \\ldots, j_n)$ of the set of integers $(1,\\ldots,n)$ and $\\phi(j_1,\\ldots,j_n)$ is the number of transposition to change $(1,\\ldots,n)$ to $(j_1,\\ldots,j_n)$. $(-1)^{\\phi(j_1,\\ldots,j_n)}$ is also called the **sign of permutation**.\n",
    "\n",
    "- Examples: $n = 2$ and 3.\n",
    "$$\n",
    "    \\det \\begin{pmatrix} a_{11} & a_{12} \\\\ a_{21} & a_{22} \\end{pmatrix} = (-1)^{\\phi(1,2)} a_{11} a_{22} + (-1)^{\\phi(2,1)} a_{12} a_{21} = a_{11} a_{22} - a_{12} a_{21}.\n",
    "$$"
   ]
  },
  {
   "cell_type": "code",
   "execution_count": 3,
   "metadata": {},
   "outputs": [
    {
     "data": {
      "text/plain": [
       "1-element Vector{Symbolics.Arr{Num, 2}}:\n",
       " A[1:2,1:2]"
      ]
     },
     "execution_count": 3,
     "metadata": {},
     "output_type": "execute_result"
    }
   ],
   "source": [
    "# n = 2\n",
    "@variables A[1:2, 1:2]"
   ]
  },
  {
   "cell_type": "code",
   "execution_count": 4,
   "metadata": {},
   "outputs": [
    {
     "data": {
      "text/latex": [
       "$$ \\begin{equation}\n",
       "A_{1}ˏ_1 A_{2}ˏ_2 - A_{1}ˏ_2 A_{2}ˏ_1\n",
       "\\end{equation}\n",
       " $$"
      ],
      "text/plain": [
       "A[1, 1]*A[2, 2] - A[1, 2]*A[2, 1]"
      ]
     },
     "execution_count": 4,
     "metadata": {},
     "output_type": "execute_result"
    }
   ],
   "source": [
    "det(A) |> Symbolics.scalarize"
   ]
  },
  {
   "cell_type": "code",
   "execution_count": 5,
   "metadata": {},
   "outputs": [
    {
     "data": {
      "text/plain": [
       "1-element Vector{Symbolics.Arr{Num, 2}}:\n",
       " A[1:3,1:3]"
      ]
     },
     "execution_count": 5,
     "metadata": {},
     "output_type": "execute_result"
    }
   ],
   "source": [
    "# n = 3\n",
    "@variables A[1:3, 1:3]"
   ]
  },
  {
   "cell_type": "code",
   "execution_count": 6,
   "metadata": {},
   "outputs": [
    {
     "data": {
      "text/latex": [
       "$$ \\begin{equation}\n",
       "A_{1}ˏ_2 A_{2}ˏ_3 A_{3}ˏ_1 + A_{1}ˏ_1 A_{2}ˏ_2 A_{3}ˏ_3 + A_{1}ˏ_3 A_{2}ˏ_1 A_{3}ˏ_2 - A_{1}ˏ_2 A_{2}ˏ_1 A_{3}ˏ_3 - A_{1}ˏ_3 A_{2}ˏ_2 A_{3}ˏ_1 - A_{1}ˏ_1 A_{2}ˏ_3 A_{3}ˏ_2\n",
       "\\end{equation}\n",
       " $$"
      ],
      "text/plain": [
       "A[1, 2]*A[2, 3]*A[3, 1] + A[1, 1]*A[2, 2]*A[3, 3] + A[1, 3]*A[2, 1]*A[3, 2] - A[1, 2]*A[2, 1]*A[3, 3] - A[1, 3]*A[2, 2]*A[3, 1] - A[1, 1]*A[2, 3]*A[3, 2]"
      ]
     },
     "execution_count": 6,
     "metadata": {},
     "output_type": "execute_result"
    }
   ],
   "source": [
    "det(A) |> Symbolics.scalarize |> expand"
   ]
  },
  {
   "cell_type": "code",
   "execution_count": 7,
   "metadata": {},
   "outputs": [
    {
     "data": {
      "text/plain": [
       "1-element Vector{Symbolics.Arr{Num, 2}}:\n",
       " A[1:4,1:4]"
      ]
     },
     "execution_count": 7,
     "metadata": {},
     "output_type": "execute_result"
    }
   ],
   "source": [
    "# n = 4\n",
    "@variables A[1:4, 1:4]"
   ]
  },
  {
   "cell_type": "code",
   "execution_count": 8,
   "metadata": {},
   "outputs": [
    {
     "data": {
      "text/latex": [
       "$$ \\begin{equation}\n",
       "A_{1}ˏ_3 A_{2}ˏ_1 A_{3}ˏ_2 A_{4}ˏ_4 + A_{1}ˏ_1 A_{2}ˏ_4 A_{3}ˏ_2 A_{4}ˏ_3 + A_{1}ˏ_1 A_{2}ˏ_3 A_{3}ˏ_4 A_{4}ˏ_2 + A_{1}ˏ_3 A_{2}ˏ_4 A_{3}ˏ_1 A_{4}ˏ_2 + A_{1}ˏ_2 A_{2}ˏ_4 A_{3}ˏ_3 A_{4}ˏ_1 + A_{1}ˏ_2 A_{2}ˏ_3 A_{3}ˏ_1 A_{4}ˏ_4 + A_{1}ˏ_4 A_{2}ˏ_2 A_{3}ˏ_1 A_{4}ˏ_3 + A_{1}ˏ_4 A_{2}ˏ_1 A_{3}ˏ_3 A_{4}ˏ_2 + A_{1}ˏ_2 A_{2}ˏ_1 A_{3}ˏ_4 A_{4}ˏ_3 + A_{1}ˏ_3 A_{2}ˏ_2 A_{3}ˏ_4 A_{4}ˏ_1 + A_{1}ˏ_4 A_{2}ˏ_3 A_{3}ˏ_2 A_{4}ˏ_1 + A_{1}ˏ_1 A_{2}ˏ_2 A_{3}ˏ_3 A_{4}ˏ_4 - A_{1}ˏ_4 A_{2}ˏ_1 A_{3}ˏ_2 A_{4}ˏ_3 - A_{1}ˏ_3 A_{2}ˏ_2 A_{3}ˏ_1 A_{4}ˏ_4 - A_{1}ˏ_3 A_{2}ˏ_1 A_{3}ˏ_4 A_{4}ˏ_2 - A_{1}ˏ_4 A_{2}ˏ_2 A_{3}ˏ_3 A_{4}ˏ_1 - A_{1}ˏ_2 A_{2}ˏ_1 A_{3}ˏ_3 A_{4}ˏ_4 - A_{1}ˏ_2 A_{2}ˏ_4 A_{3}ˏ_1 A_{4}ˏ_3 - A_{1}ˏ_4 A_{2}ˏ_3 A_{3}ˏ_1 A_{4}ˏ_2 - A_{1}ˏ_3 A_{2}ˏ_4 A_{3}ˏ_2 A_{4}ˏ_1 - A_{1}ˏ_1 A_{2}ˏ_2 A_{3}ˏ_4 A_{4}ˏ_3 - A_{1}ˏ_1 A_{2}ˏ_3 A_{3}ˏ_2 A_{4}ˏ_4 - A_{1}ˏ_2 A_{2}ˏ_3 A_{3}ˏ_4 A_{4}ˏ_1 - A_{1}ˏ_1 A_{2}ˏ_4 A_{3}ˏ_3 A_{4}ˏ_2\n",
       "\\end{equation}\n",
       " $$"
      ],
      "text/plain": [
       "A[1, 3]*A[2, 1]*A[3, 2]*A[4, 4] + A[1, 1]*A[2, 4]*A[3, 2]*A[4, 3] + A[1, 1]*A[2, 3]*A[3, 4]*A[4, 2] + A[1, 3]*A[2, 4]*A[3, 1]*A[4, 2] + A[1, 2]*A[2, 4]*A[3, 3]*A[4, 1] + A[1, 2]*A[2, 3]*A[3, 1]*A[4, 4] + A[1, 4]*A[2, 2]*A[3, 1]*A[4, 3] + A[1, 4]*A[2, 1]*A[3, 3]*A[4, 2] + A[1, 2]*A[2, 1]*A[3, 4]*A[4, 3] + A[1, 3]*A[2, 2]*A[3, 4]*A[4, 1] + A[1, 4]*A[2, 3]*A[3, 2]*A[4, 1] + A[1, 1]*A[2, 2]*A[3, 3]*A[4, 4] - A[1, 4]*A[2, 1]*A[3, 2]*A[4, 3] - A[1, 3]*A[2, 2]*A[3, 1]*A[4, 4] - A[1, 3]*A[2, 1]*A[3, 4]*A[4, 2] - A[1, 4]*A[2, 2]*A[3, 3]*A[4, 1] - A[1, 2]*A[2, 1]*A[3, 3]*A[4, 4] - A[1, 2]*A[2, 4]*A[3, 1]*A[4, 3] - A[1, 4]*A[2, 3]*A[3, 1]*A[4, 2] - A[1, 3]*A[2, 4]*A[3, 2]*A[4, 1] - A[1, 1]*A[2, 2]*A[3, 4]*A[4, 3] - A[1, 1]*A[2, 3]*A[3, 2]*A[4, 4] - A[1, 2]*A[2, 3]*A[3, 4]*A[4, 1] - A[1, 1]*A[2, 4]*A[3, 3]*A[4, 2]"
      ]
     },
     "execution_count": 8,
     "metadata": {},
     "output_type": "execute_result"
    }
   ],
   "source": [
    "det(A) |> Symbolics.scalarize |> expand"
   ]
  },
  {
   "cell_type": "markdown",
   "metadata": {},
   "source": [
    "## Some interpretations of determinant\n",
    "\n",
    "<img src=\"./determinant.png\" width=400 align=\"center\"/>\n",
    "\n",
    "- Interpretation of the (absolute value of) determinant as the **volume of the parallelotope** defined by the columns of the matrix. For example, if $\\mathbf{X} \\in \\mathbb{R}^2$ has two columns $\\mathbf{x}_1$ and $\\mathbf{x}_2$, then\n",
    "\\begin{eqnarray*}\n",
    "\t\\text{area} &=& bh = \\|\\mathbf{x}_1\\|\\|\\mathbf{x}_2\\| \\sin(\\theta) \\\\\n",
    "\t&=& \\|\\mathbf{x}_1\\| \\|\\mathbf{x}_2\\| \\sqrt{1 - \\left( \\frac{\\langle \\mathbf{x}_1, \\mathbf{x}_2 \\rangle}{\\|\\mathbf{x}_1\\| \\|\\mathbf{x}_2\\|} \\right)^2} \\\\\n",
    "\t&=& \\sqrt{\\|\\mathbf{x}_1\\|^2 \\|\\mathbf{x}\\|^2 - (\\langle \\mathbf{x}_1, \\mathbf{x}_2\\rangle)^2} \\\\\n",
    "\t&=& \\sqrt{(x_{11}^2 + x_{12}^2)(x_{21}^2+x_{22}^2) - (x_{11}x_{21} + x_{12}x_{22})^2} \\\\\n",
    "\t&=& |x_{11} x_{22} - x_{12} x_{21}| \\\\\n",
    "\t&=& |\\det(\\mathbf{X})|.\n",
    "\\end{eqnarray*}\n",
    "\n",
    "<img src=\"./Determinant_parallelepiped.svg\" width=400 align=\"center\"/>\n",
    "\n",
    "- Another interpretation of the determinant is the volume changing factor when operating on a set in $\\mathbb{R}^n$. $\\text{vol}(f(S)) = |\\det(\\mathbf{A})| \\text{vol}(S)$ where $f: \\mathbb{R}^n \\mapsto \\mathbb{R}^n$ is the linear mapping defined by $\\mathbf{A}$.\n",
    "\n",
    "- Recall that for differentiable function $f: \\mathbb{R}^n \\mapsto \\mathbb{R}^n$,  the **Jacobian matrix** $\\operatorname{D} f(\\mathbf{x}) \\in \\mathbb{R}^{n \\times n}$ is\n",
    "$$\n",
    "\\operatorname{D} f(\\mathbf{x}) = \\begin{pmatrix}\n",
    "\\frac{\\partial f_1}{\\partial x_1} (\\mathbf{x}) & \\frac{\\partial f_1}{\\partial x_2} (\\mathbf{x}) & \\cdots & \\frac{\\partial f_1}{\\partial x_n} (\\mathbf{x}) \\\\\n",
    "\\frac{\\partial f_2}{\\partial x_1} (\\mathbf{x}) & \\frac{\\partial f_2}{\\partial x_2} (\\mathbf{x}) & \\cdots & \\frac{\\partial f_2}{\\partial x_n} (\\mathbf{x}) \\\\\n",
    "\\vdots & \\vdots & & \\vdots \\\\\n",
    "\\frac{\\partial f_n}{\\partial x_1} (\\mathbf{x}) & \\frac{\\partial f_n}{\\partial x_2} (\\mathbf{x}) & \\cdots & \\frac{\\partial f_n}{\\partial x_n} (\\mathbf{x})\n",
    "\\end{pmatrix} = \\begin{pmatrix}\n",
    "\\nabla f_1(\\mathbf{x})' \\\\\n",
    "\\nabla f_2(\\mathbf{x})' \\\\\n",
    "\\vdots \\\\\n",
    "\\nabla f_n(\\mathbf{x})'\n",
    "\\end{pmatrix}.\n",
    "$$\n",
    "Its determinant, the **Jacobian determinant**, appears in the higher-dimensional version of **integration by substitution** or **change of variable**\n",
    "$$\n",
    "\\int_{f(U)} \\phi(\\mathbf{v}) \\, \\operatorname{d} \\mathbf{v} = \\int_U \\phi(f(\\mathbf{u})) | \\det \\operatorname{D} f(\\mathbf{u})| \\, \\operatorname{d} \\mathbf{u}\n",
    "$$\n",
    "for function $\\phi: \\mathbb{R}^n \\mapsto \\mathbb{R}$. This result will be used in transformation of random variables in 202A.\n",
    "\n",
    "    For an example of $n=1$, an indefinite integral can be transformed to a definite integral over box [-1,1] via change of variable $v = u / (1-u^2)$:\n",
    "$$\n",
    "\\int_{-\\infty}^\\infty f(v) \\, dv = \\int_{-1}^1 f\\left(\\frac{u}{1-u^2}\\right) \\frac{1+u^2}{(1-u^2)^2} \\, du.\n",
    "$$"
   ]
  },
  {
   "cell_type": "markdown",
   "metadata": {},
   "source": [
    "## Some properties of determinant (important)\n",
    "\n",
    "- The determinant of a **lower or upper triangular matrix** $\\mathbf{A}$ is the product of the diagonal elements $\\prod_{i=1}^n a_{ii}$. (Why?)\n",
    "\n",
    "- Any square matrix $\\mathbf{A}$ is singular if and only if $\\det(\\mathbf{A}) = 0$.\n",
    "\n",
    "- Product rule: $\\det(\\mathbf{A} \\mathbf{B}) = \\det(\\mathbf{A}) \\det(\\mathbf{B})$.\n",
    "\n",
    "    Product rule is extremely useful. For example, computer calculates the determinant of a square matrix $\\mathbf{A}$ by first computing the LU decomposition $\\mathbf{A} = \\mathbf{L} \\mathbf{U}$ and then $\\det(\\mathbf{A}) = \\det(\\mathbf{L}) \\det(\\mathbf{U})$.\n",
    "\n",
    "- Determinant of an orthogonal matrix is 1 (**rotation**) or -1 (**reflection**).  \n",
    "    This classifies orthogonal matrices into two classes: rotations and reflections.  "
   ]
  },
  {
   "cell_type": "code",
   "execution_count": 9,
   "metadata": {},
   "outputs": [
    {
     "data": {
      "text/plain": [
       "2×2 Matrix{Float64}:\n",
       " 0.707107  -0.707107\n",
       " 0.707107   0.707107"
      ]
     },
     "execution_count": 9,
     "metadata": {},
     "output_type": "execute_result"
    }
   ],
   "source": [
    "# a rotator\n",
    "θ = π/4\n",
    "A = [cos(θ) -sin(θ); \n",
    "    sin(θ) cos(θ)]"
   ]
  },
  {
   "cell_type": "code",
   "execution_count": 10,
   "metadata": {},
   "outputs": [
    {
     "data": {
      "text/plain": [
       "1.0"
      ]
     },
     "execution_count": 10,
     "metadata": {},
     "output_type": "execute_result"
    }
   ],
   "source": [
    "det(A)"
   ]
  },
  {
   "cell_type": "code",
   "execution_count": 11,
   "metadata": {},
   "outputs": [
    {
     "data": {
      "text/plain": [
       "2×2 Matrix{Float64}:\n",
       " 0.707107   0.707107\n",
       " 0.707107  -0.707107"
      ]
     },
     "execution_count": 11,
     "metadata": {},
     "output_type": "execute_result"
    }
   ],
   "source": [
    "# a reflector\n",
    "B = [cos(θ) sin(θ); \n",
    "    sin(θ) -cos(θ)]"
   ]
  },
  {
   "cell_type": "code",
   "execution_count": 12,
   "metadata": {},
   "outputs": [
    {
     "data": {
      "text/plain": [
       "2×2 Matrix{Float64}:\n",
       " 1.0  0.0\n",
       " 0.0  1.0"
      ]
     },
     "execution_count": 12,
     "metadata": {},
     "output_type": "execute_result"
    }
   ],
   "source": [
    "B'B"
   ]
  },
  {
   "cell_type": "code",
   "execution_count": 13,
   "metadata": {},
   "outputs": [
    {
     "data": {
      "text/plain": [
       "-1.0"
      ]
     },
     "execution_count": 13,
     "metadata": {},
     "output_type": "execute_result"
    }
   ],
   "source": [
    "det(B)"
   ]
  },
  {
   "cell_type": "code",
   "execution_count": 14,
   "metadata": {},
   "outputs": [
    {
     "data": {
      "text/plain": [
       "2×4 Matrix{Float64}:\n",
       "  1.41421       2.82843  2.12132    1.41421\n",
       " -1.11022e-16  -1.41421  0.707107  -1.11022e-16"
      ]
     },
     "execution_count": 14,
     "metadata": {},
     "output_type": "execute_result"
    }
   ],
   "source": [
    "# 3 points for a triangle\n",
    "X = [1 1 2 1; 1 3 1 1]\n",
    "# rotation\n",
    "Xrot = A * X\n",
    "# reflection\n",
    "Xref = B * X"
   ]
  },
  {
   "cell_type": "code",
   "execution_count": null,
   "metadata": {},
   "outputs": [],
   "source": [
    "plt = plot(X[1, :], X[2, :], color = :blue,\n",
    "    legend = :none, xlims = (-3, 3), ylims = (-3, 3),\n",
    "    xticks = -3:1:3, yticks = -3:1:3,\n",
    "    framestyle = :origin,\n",
    "    aspect_ratio = :equal)\n",
    "plot!(plt, Xrot[1, :], Xrot[2, :])\n",
    "plot!(plt, Xref[1, :], Xref[2, :], \n",
    "    annotations = [(-1.5, 2, \"rotation\"), (2, -1.75, \"reflection\")])"
   ]
  },
  {
   "cell_type": "markdown",
   "metadata": {},
   "source": [
    "-  $\\det(\\mathbf{A}') = \\det(\\mathbf{A})$.\n",
    "\n",
    "- $\\det(\\mathbf{A}^{-1}) = 1/\\det(\\mathbf{A})$.\n",
    "\n",
    "- $\\det(c\\mathbf{A}) = c^n \\det(\\mathbf{A})$.\n",
    "\n",
    "- Determinant of a permutation matrix is the sign of the permutation. \n",
    "\n",
    "- For $\\mathbf{A}$ and $\\mathbf{D}$ square and nonsingular, \n",
    "\\begin{eqnarray*}\n",
    "\t\\det \\left( \\begin{pmatrix}\n",
    "\t\\mathbf{A} & \\mathbf{B} \\\\\n",
    "\t\\mathbf{C} & \\mathbf{D}\n",
    "\t\\end{pmatrix} \\right) = \\det (\\mathbf{A}) \\det (\\mathbf{D} - \\mathbf{C} \\mathbf{A}^{-1} \\mathbf{B}) = \\det(\\mathbf{D}) \\det(\\mathbf{A} - \\mathbf{B} \\mathbf{D}^{-1} \\mathbf{C}).\n",
    "\\end{eqnarray*}\n",
    "\n",
    "    Proof: Take determinant on the both sides of the matrix identity\n",
    "\\begin{eqnarray*}\n",
    "\t\\begin{pmatrix}\n",
    "\t\\mathbf{A} & \\mathbf{0} \\\\\n",
    "\t\\mathbf{0} & \\mathbf{D} - \\mathbf{C} \\mathbf{A}^{-1} \\mathbf{B}\n",
    "\t\\end{pmatrix} = \\begin{pmatrix}\n",
    "\t\\mathbf{I} & \\mathbf{0} \\\\ - \\mathbf{C} \\mathbf{A}^{-1} & \\mathbf{I}\n",
    "\t\\end{pmatrix} \\begin{pmatrix}\n",
    "\t\\mathbf{A} & \\mathbf{B} \\\\\n",
    "\t\\mathbf{C} & \\mathbf{D}\n",
    "\t\\end{pmatrix} \\begin{pmatrix}\n",
    "\t\\mathbf{I} & - \\mathbf{A}^{-1} \\mathbf{B} \\\\\n",
    "\t\\mathbf{0} & \\mathbf{I}\n",
    "\t\\end{pmatrix}.\n",
    "\\end{eqnarray*}"
   ]
  }
 ],
 "metadata": {
  "@webio": {
   "lastCommId": null,
   "lastKernelId": null
  },
  "hide_input": false,
  "kernelspec": {
   "display_name": "Julia 1.8.0",
   "language": "julia",
   "name": "julia-1.8"
  },
  "language_info": {
   "file_extension": ".jl",
   "mimetype": "application/julia",
   "name": "julia",
   "version": "1.8.0"
  },
  "toc": {
   "colors": {
    "hover_highlight": "#DAA520",
    "running_highlight": "#FF0000",
    "selected_highlight": "#FFD700"
   },
   "moveMenuLeft": true,
   "nav_menu": {
    "height": "30.1705px",
    "width": "251.989px"
   },
   "navigate_menu": true,
   "number_sections": true,
   "sideBar": true,
   "skip_h1_title": true,
   "threshold": 4,
   "toc_cell": true,
   "toc_position": {
    "height": "356px",
    "left": "0px",
    "right": "653.375px",
    "top": "32.2857px",
    "width": "97.125px"
   },
   "toc_section_display": "block",
   "toc_window_display": true,
   "widenNotebook": false
  }
 },
 "nbformat": 4,
 "nbformat_minor": 4
}
