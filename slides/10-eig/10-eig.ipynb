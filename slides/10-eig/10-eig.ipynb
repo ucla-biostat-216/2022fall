{
 "cells": [
  {
   "cell_type": "markdown",
   "metadata": {
    "toc": "true"
   },
   "source": [
    "# Table of Contents\n",
    " <p><div class=\"lev1 toc-item\"><a href=\"#Eigenvalues-and-Eigenvectors\" data-toc-modified-id=\"Eigenvalues-and-Eigenvectors-1\"><span class=\"toc-item-num\">1&nbsp;&nbsp;</span>Eigenvalues and Eigenvectors</a></div><div class=\"lev2 toc-item\"><a href=\"#Compute-eigenvalues-(by-hand)\" data-toc-modified-id=\"Compute-eigenvalues-(by-hand)-11\"><span class=\"toc-item-num\">1.1&nbsp;&nbsp;</span>Compute eigenvalues (by hand)</a></div><div class=\"lev2 toc-item\"><a href=\"#Similar-matrices\" data-toc-modified-id=\"Similar-matrices-12\"><span class=\"toc-item-num\">1.2&nbsp;&nbsp;</span>Similar matrices</a></div><div class=\"lev2 toc-item\"><a href=\"#Diagonalizing-a-matrix\" data-toc-modified-id=\"Diagonalizing-a-matrix-13\"><span class=\"toc-item-num\">1.3&nbsp;&nbsp;</span>Diagonalizing a matrix</a></div><div class=\"lev2 toc-item\"><a href=\"#Non-diagonalizable-matrices\" data-toc-modified-id=\"Non-diagonalizable-matrices-14\"><span class=\"toc-item-num\">1.4&nbsp;&nbsp;</span>Non-diagonalizable matrices</a></div><div class=\"lev2 toc-item\"><a href=\"#Some-properties\" data-toc-modified-id=\"Some-properties-15\"><span class=\"toc-item-num\">1.5&nbsp;&nbsp;</span>Some properties</a></div><div class=\"lev2 toc-item\"><a href=\"#Spectral-decomposition-for-symmetric-matrices-(important)\" data-toc-modified-id=\"Spectral-decomposition-for-symmetric-matrices-(important)-16\"><span class=\"toc-item-num\">1.6&nbsp;&nbsp;</span>Spectral decomposition for symmetric matrices (important)</a></div>"
   ]
  },
  {
   "cell_type": "markdown",
   "metadata": {},
   "source": [
    "# Eigenvalues and Eigenvectors\n",
    "\n",
    "- Let $\\mathbf{A} \\in \\mathbb{R}^{n \\times n}$ and \n",
    "$$\n",
    "    \\mathbf{A} \\mathbf{x} = \\lambda \\mathbf{x}, \\quad \\mathbf{x} \\ne \\mathbf{0}.\n",
    "$$\n",
    "Then $\\lambda$ is an **eigenvalue** of $\\mathbf{A}$ with corresponding **eigenvector** $\\mathbf{x}$.\n",
    "\n",
    "- Note if $\\mathbf{x}$ is an eigenvector with eigenvalue $\\lambda$, then $\\alpha \\mathbf{x}$ is also an eigenvector with same eigenvalue $\\lambda$. Therefore eigenvectors are determined up to a scaling factor; in practice we often normalize eigenvectors to have unit L2 norm."
   ]
  },
  {
   "cell_type": "markdown",
   "metadata": {},
   "source": [
    "## Compute eigenvalues (by hand)\n",
    "\n",
    "- From eigen-equation $\\mathbf{A} \\mathbf{x} = \\lambda \\mathbf{x}$, we have\n",
    "$$\n",
    "(\\lambda \\mathbf{I} - \\mathbf{A}) \\mathbf{x} = \\mathbf{0}.\n",
    "$$\n",
    "That is the marix $\\lambda \\mathbf{I} - \\mathbf{A}$ must be singular and\n",
    "$$\n",
    "\\det(\\lambda \\mathbf{I} - \\mathbf{A}) = 0.\n",
    "$$\n",
    "\n",
    "- The $n$-degree polynomial\n",
    "$$\n",
    "    p_{\\mathbf{A}}(\\lambda) = \\det(\\lambda \\mathbf{I} - \\mathbf{A})\n",
    "$$\n",
    "is called the **characteristic polynomial**. Eigenvalues are the $n$ roots of $p_{\\mathbf{A}}(\\lambda)$ (fundamental theorem of algebra).\n",
    "\n",
    "- Example: For\n",
    "$$\n",
    "\\mathbf{A} = \\begin{pmatrix} 2 & 1 \\\\ 1 & 2 \\end{pmatrix},\n",
    "$$\n",
    "the characteristic polynomial is \n",
    "$$\n",
    "p_{\\mathbf{A}}(\\lambda) = \\det \\begin{pmatrix} \\lambda - 2 & -1 \\\\ -1 & \\lambda - 2 \\end{pmatrix} = \\lambda^2 - 4 \\lambda + 3 = (\\lambda - 1)(\\lambda - 3).\n",
    "$$\n",
    "Therefore $\\mathbf{A}$'s eigenvalues are $\\lambda_1 = 1$ and $\\lambda_2 = 3$. Solving linear equations\n",
    "$$\n",
    "\\begin{pmatrix} \\lambda - 2 & -1 \\\\ -1 & \\lambda - 2 \\end{pmatrix} \\mathbf{x} = \\mathbf{0}\n",
    "$$\n",
    "now gives the corresponding eigenvectors\n",
    "$$\n",
    "\\mathbf{x}_1 = \\begin{pmatrix} 1 \\\\ -1 \\end{pmatrix}, \\quad \\mathbf{x}_2 = \\begin{pmatrix} 1 \\\\ 1 \\end{pmatrix}.\n",
    "$$\n",
    "We observe that (1) $\\text{tr}(\\mathbf{A}) = \\lambda_1 + \\lambda_2$, (2) $\\det(\\mathbf{A}) = \\lambda_1 \\lambda_2$, and (3) the two eigenvectors are orthogonal to each other."
   ]
  },
  {
   "cell_type": "code",
   "execution_count": 1,
   "metadata": {},
   "outputs": [
    {
     "data": {
      "text/plain": [
       "2×2 Matrix{Float64}:\n",
       " 2.0  1.0\n",
       " 1.0  2.0"
      ]
     },
     "execution_count": 1,
     "metadata": {},
     "output_type": "execute_result"
    }
   ],
   "source": [
    "using LinearAlgebra\n",
    "\n",
    "A = [2.0 1.0; 1.0 2.0]"
   ]
  },
  {
   "cell_type": "code",
   "execution_count": 2,
   "metadata": {},
   "outputs": [
    {
     "data": {
      "text/plain": [
       "Eigen{Float64, Float64, Matrix{Float64}, Vector{Float64}}\n",
       "values:\n",
       "2-element Vector{Float64}:\n",
       " 1.0\n",
       " 3.0\n",
       "vectors:\n",
       "2×2 Matrix{Float64}:\n",
       " -0.707107  0.707107\n",
       "  0.707107  0.707107"
      ]
     },
     "execution_count": 2,
     "metadata": {},
     "output_type": "execute_result"
    }
   ],
   "source": [
    "eigen(A)"
   ]
  },
  {
   "cell_type": "markdown",
   "metadata": {},
   "source": [
    "- Example: For the rotation matrix\n",
    "$$\n",
    "\\mathbf{Q} = \\begin{pmatrix} 0 & -1 \\\\ 1 & 0 \\end{pmatrix},\n",
    "$$\n",
    "same procedure shows eigen-pairs\n",
    "$$\n",
    "    \\mathbf{Q} \\begin{pmatrix} 1 \\\\ -i \\end{pmatrix} = i \\begin{pmatrix} 1 \\\\ -i \\end{pmatrix}, \\quad \\mathbf{Q} \\begin{pmatrix} 1 \\\\ i \\end{pmatrix} = (-i) \\begin{pmatrix} 1 \\\\ i \\end{pmatrix}.\n",
    "$$\n",
    "The three properties (1)-(3) still hold."
   ]
  },
  {
   "cell_type": "code",
   "execution_count": 3,
   "metadata": {},
   "outputs": [
    {
     "data": {
      "text/plain": [
       "2×2 Matrix{Float64}:\n",
       " 0.0  -1.0\n",
       " 1.0   0.0"
      ]
     },
     "execution_count": 3,
     "metadata": {},
     "output_type": "execute_result"
    }
   ],
   "source": [
    "Q = [0.0 -1.0; 1.0 0.0]"
   ]
  },
  {
   "cell_type": "code",
   "execution_count": 4,
   "metadata": {},
   "outputs": [
    {
     "data": {
      "text/plain": [
       "Eigen{ComplexF64, ComplexF64, Matrix{ComplexF64}, Vector{ComplexF64}}\n",
       "values:\n",
       "2-element Vector{ComplexF64}:\n",
       " 0.0 - 1.0im\n",
       " 0.0 + 1.0im\n",
       "vectors:\n",
       "2×2 Matrix{ComplexF64}:\n",
       " 0.707107-0.0im       0.707107+0.0im\n",
       "      0.0+0.707107im       0.0-0.707107im"
      ]
     },
     "execution_count": 4,
     "metadata": {},
     "output_type": "execute_result"
    }
   ],
   "source": [
    "eigen(Q)"
   ]
  },
  {
   "cell_type": "markdown",
   "metadata": {},
   "source": [
    "- Some notations of complex number $x = a + b\\sqrt{-1} = a + bi \\in \\mathbb{C}$. \n",
    "    - Conjugate of a complex number: $x^* = (a + bi)^* = a - bi$.\n",
    "    - Modulus of a complex number: $|x| = \\sqrt{a^2 + b^2} = \\sqrt{x^*x}$.  \n",
    "    - Conjugate transpose of a complex vector: for $\\mathbf{x} = \\begin{pmatrix} x_1 \\\\ \\vdots \\\\ x_n \\end{pmatrix} \\in \\mathbb{C}^n$, $\\mathbf{x}^* = (x_1^* \\, \\cdots x_n^*)$.  \n",
    "    - L2 norm of a complex vector: for $\\mathbf{x} \\in \\mathbb{C}^n$, \n",
    "\\begin{eqnarray*}\n",
    "    \\|\\mathbf{x}\\| &=& \\sqrt{\\mathbf{x}^* \\mathbf{x}} \\\\\n",
    "    &=& \\sqrt{(a_1 + b_1 i)(a_1 - b_1i) + \\cdots + (a_n + b_n i)(a_n - b_ni)} \\\\\n",
    "    &=& \\sqrt{|x_1|^2 + \\cdots + |x_n|^2}.\n",
    "\\end{eqnarray*}"
   ]
  },
  {
   "cell_type": "markdown",
   "metadata": {},
   "source": [
    "## Similar matrices\n",
    "\n",
    "- If $\\mathbf{A} \\mathbf{x} = \\lambda \\mathbf{x}$ and $\\mathbf{B}$ is a nonsingular matrix of same size as $\\mathbf{A}$, then\n",
    "$$\n",
    "    (\\mathbf{B} \\mathbf{A} \\mathbf{B}^{-1}) (\\mathbf{B} \\mathbf{x}) = \\mathbf{B} \\mathbf{A} \\mathbf{x} = \\lambda (\\mathbf{B} \\mathbf{x}).\n",
    "$$\n",
    "That is $\\mathbf{B} \\mathbf{x}$ is an eigenvector of the matrix $\\mathbf{B} \\mathbf{A} \\mathbf{B}^{-1}$. \n",
    "\n",
    "    We say the matrix $\\mathbf{B} \\mathbf{A} \\mathbf{B}^{-1}$ is **similar** to $\\mathbf{A}$ because they share the same eigenvalues."
   ]
  },
  {
   "cell_type": "markdown",
   "metadata": {},
   "source": [
    "## Diagonalizing a matrix\n",
    "\n",
    "- Collecting the $n$ eigen-equations\n",
    "$$\n",
    "    \\mathbf{A} \\mathbf{x}_i = \\lambda_i \\mathbf{x}_i, \\quad i = 1,\\ldots,n,\n",
    "$$\n",
    "into a matrix multiplication format gives\n",
    "$$\n",
    "    \\mathbf{A} \\mathbf{X} = \\mathbf{X} \\boldsymbol{\\Lambda},\n",
    "$$\n",
    "where\n",
    "$$\n",
    "\\boldsymbol{\\Lambda} = \\begin{pmatrix} \\lambda_1 & & \\\\ & \\ddots & \\\\ & & \\lambda_n \\end{pmatrix}\n",
    "$$\n",
    "If we assume that the $n$ eigenvectors are linearly independent (most matrices do, but **not all matrices**), then we have\n",
    "$$\n",
    "\\mathbf{X}^{-1} \\mathbf{A} \\mathbf{X} = \\boldsymbol{\\Lambda}  \\quad \\quad \\text{diagonalizing a matrix}\n",
    "$$\n",
    "or\n",
    "$$\n",
    "\\mathbf{A} = \\mathbf{X} \\boldsymbol{\\Lambda} \\mathbf{X}^{-1}. \\quad \\quad \\text{eigen-decomposition}.\n",
    "$$"
   ]
  },
  {
   "cell_type": "markdown",
   "metadata": {},
   "source": [
    "## Non-diagonalizable matrices\n",
    "\n",
    "- **Geometric multiplicity (GM)** of an eigenvalue $\\lambda$: count the independent eigenvectors for $\\lambda$, i.e., $\\text{dim}(\\mathcal{N}(\\lambda \\mathbf{I} - \\mathbf{A}))$.\n",
    "\n",
    "- **Algebraic multiplicity (AM)** of an eigenvalue $\\lambda$: count the repetition for $\\lambda$. Look at the roots of characteristic polynomial $\\det(\\lambda \\mathbf{I} - \\mathbf{A})$.\n",
    "\n",
    "- Always $\\text{GM} \\le \\text{AM}$.\n",
    "\n",
    "- The shortage of eigenvectors when $\\text{GM} < \\text{AM}$ means that $\\mathbf{A}$ is **not diagonalizable**. There is no invertible matrix $\\mathbf{X}$ such that $\\mathbf{A} = \\mathbf{X} \\boldsymbol{\\Lambda} \\mathbf{X}^{-1}$.\n",
    "\n",
    "- Classical example of non-diagonalizable matrices:\n",
    "$$\n",
    "\\mathbf{A} = \\begin{pmatrix} 0 & 1 \\\\ 0 & 0 \\end{pmatrix}.\n",
    "$$\n",
    "AM = 2, GM=1. Eigenvalue 0 is repeated twice but there is only one eigenvector $(1, 0)$.\n",
    "\n",
    "- More examples: all three matrices\n",
    "$$\n",
    "\\begin{pmatrix} 5 & 1 \\\\ 0 & 5 \\end{pmatrix}, \\begin{pmatrix} 6 & -1 \\\\ 1 & 4 \\end{pmatrix}, \\begin{pmatrix} 7 & 2 \\\\ -2 & 3 \\end{pmatrix}\n",
    "$$\n",
    "have AM=2 and GM=1."
   ]
  },
  {
   "cell_type": "code",
   "execution_count": 5,
   "metadata": {},
   "outputs": [
    {
     "data": {
      "text/plain": [
       "Eigen{Float64, Float64, Matrix{Float64}, Vector{Float64}}\n",
       "values:\n",
       "2-element Vector{Float64}:\n",
       " 0.0\n",
       " 0.0\n",
       "vectors:\n",
       "2×2 Matrix{Float64}:\n",
       " 1.0  -1.0\n",
       " 0.0   2.00417e-292"
      ]
     },
     "execution_count": 5,
     "metadata": {},
     "output_type": "execute_result"
    }
   ],
   "source": [
    "eigen([0 1; 0 0])"
   ]
  },
  {
   "cell_type": "code",
   "execution_count": 6,
   "metadata": {},
   "outputs": [
    {
     "data": {
      "text/plain": [
       "Eigen{Float64, Float64, Matrix{Float64}, Vector{Float64}}\n",
       "values:\n",
       "2-element Vector{Float64}:\n",
       " 5.0\n",
       " 5.0\n",
       "vectors:\n",
       "2×2 Matrix{Float64}:\n",
       " 1.0  -1.0\n",
       " 0.0   1.11022e-15"
      ]
     },
     "execution_count": 6,
     "metadata": {},
     "output_type": "execute_result"
    }
   ],
   "source": [
    "eigen([5 1; 0 5])"
   ]
  },
  {
   "cell_type": "code",
   "execution_count": 7,
   "metadata": {},
   "outputs": [
    {
     "data": {
      "text/plain": [
       "Eigen{Float64, Float64, Matrix{Float64}, Vector{Float64}}\n",
       "values:\n",
       "2-element Vector{Float64}:\n",
       " 5.0\n",
       " 5.0\n",
       "vectors:\n",
       "2×2 Matrix{Float64}:\n",
       " 0.707107  0.707107\n",
       " 0.707107  0.707107"
      ]
     },
     "execution_count": 7,
     "metadata": {},
     "output_type": "execute_result"
    }
   ],
   "source": [
    "eigen([6 -1; 1 4])"
   ]
  },
  {
   "cell_type": "code",
   "execution_count": 8,
   "metadata": {},
   "outputs": [
    {
     "data": {
      "text/plain": [
       "Eigen{ComplexF64, ComplexF64, Matrix{ComplexF64}, Vector{ComplexF64}}\n",
       "values:\n",
       "2-element Vector{ComplexF64}:\n",
       " 5.0 - 4.2146848510894035e-8im\n",
       " 5.0 + 4.2146848510894035e-8im\n",
       "vectors:\n",
       "2×2 Matrix{ComplexF64}:\n",
       "  0.707107-0.0im          0.707107+0.0im\n",
       " -0.707107-1.49012e-8im  -0.707107+1.49012e-8im"
      ]
     },
     "execution_count": 8,
     "metadata": {},
     "output_type": "execute_result"
    }
   ],
   "source": [
    "eigen([7 2; -2 3])"
   ]
  },
  {
   "cell_type": "markdown",
   "metadata": {},
   "source": [
    "## Some properties\n",
    "\n",
    "- Multiplying both sides of the eigen-equation $\\mathbf{A} \\mathbf{x} = \\lambda \\mathbf{x}$ by $\\mathbf{A}$ gives\n",
    "$$\n",
    "\\mathbf{A}^2 \\mathbf{x} = \\lambda \\mathbf{A} \\mathbf{x} = \\lambda^2 \\mathbf{x},\n",
    "$$\n",
    "showing that $\\lambda^2$ is an eigenvalue of $\\mathbf{A}^2$ with eigenvector $\\mathbf{x}$. \n",
    "\n",
    "    Similarly $\\lambda^k$ is an eigenvalue of $\\mathbf{A}^k$ with eigenvector $\\mathbf{x}$.\n",
    "\n",
    "- For a diagonalizable matrix $\\mathbf{A} = \\mathbf{X} \\boldsymbol{\\Lambda} \\mathbf{X}^{-1}$, we have\n",
    "$$\n",
    "\\mathbf{A}^k = \\mathbf{X} \\boldsymbol{\\Lambda}^k \\mathbf{X}^{-1}.\n",
    "$$\n",
    "Recall that matrix multiplication is an expensive operation, $O(n^3)$ flops. This formula suggests we just need one eigen-decomposition to evaluate matrix powers.\n",
    "\n",
    "- **Shifting diagonal of $\\mathbf{A}$ shifts all eigenvalues.** \n",
    "$$\n",
    "(\\mathbf{A} + s \\mathbf{I}) \\mathbf{x} = \\lambda \\mathbf{x} + s \\mathbf{x} = (\\lambda + s) \\mathbf{x}.\n",
    "$$\n",
    "\n",
    "- $\\mathbf{A}$ is singular if and only if it has at least one 0 eigenvalue.\n",
    "\n",
    "- Eigenvectors associated with distinct eigenvalues are linearly independent. \n",
    "\n",
    "    Proof: Let \n",
    "$$\n",
    "\\mathbf{A} \\mathbf{x}_1 = \\lambda_1 \\mathbf{x}_1, \\quad \\mathbf{A} \\mathbf{x}_2 = \\lambda_2 \\mathbf{x}_2,\n",
    "$$\n",
    "and $\\lambda_1 \\ne \\lambda_2$. Suppose $\\mathbf{x}_1$ and $\\mathbf{x}_2$ are linealy dependent. Then there is $\\alpha \\ne 0$ such that $\\mathbf{x}_2 = \\alpha \\mathbf{x}_1$. Hence\n",
    "$$\n",
    "\\alpha \\lambda_1 \\mathbf{x}_1 = \\alpha \\mathbf{A} \\mathbf{x}_1 = \\mathbf{A} \\mathbf{x}_2 = \\lambda_2 \\mathbf{x}_2 = \\alpha \\lambda_2 \\mathbf{x}_1,\n",
    "$$\n",
    "or $\\alpha (\\lambda_1 - \\lambda_2) \\mathbf{x}_1 = \\mathbf{0}$. Since $\\alpha \\ne 0$, $\\lambda_1 \\ne \\lambda_2$, $\\mathbf{x}_1=\\mathbf{0}$, a contradiction.\n",
    "\n",
    "- The eigenvalues of a triangular matrix are its diagonal entries.\n",
    "\n",
    "    Proof:\n",
    "$$\n",
    "p_{\\mathbf{A}}(\\lambda) = (\\lambda - a_{11}) \\cdots (\\lambda - a_{nn}).\n",
    "$$\n",
    "\n",
    "- Eigenvalues of an idempotent matrix (i.e., an oblique projector) are either 0 or 1.\n",
    "\n",
    "    Proof: \n",
    "$$\n",
    "\\lambda \\mathbf{x} = \\mathbf{A} \\mathbf{x} = \\mathbf{A} \\mathbf{A} \\mathbf{x} = \\lambda^2 \\mathbf{x}.\n",
    "$$\n",
    "So $\\lambda = \\lambda^2$ or $\\lambda =0, 1$.\n",
    "\n",
    "- Eigenvalues of an orthogonal matrix have complex modulus 1.\n",
    "\n",
    "    Proof: Since $\\mathbf{A}' \\mathbf{A} = \\mathbf{I}$, \n",
    "$$\n",
    "    \\mathbf{x}^* \\mathbf{x} = \\mathbf{x}^* \\mathbf{A}' \\mathbf{A} \\mathbf{x} = \\lambda^* \\lambda \\mathbf{x}^* \\mathbf{x}.\n",
    "$$\n",
    "Since $\\mathbf{x}^* \\mathbf{x} \\ne 0$, we have $\\lambda^* \\lambda = |\\lambda|^2 = 1$.\n",
    "\n",
    "- Let $\\mathbf{A} \\in \\mathbb{R}^{n \\times n}$ (not required to be diagonalizable), then $\\text{tr}(\\mathbf{A}) = \\sum_i \\lambda_i$ and $\\det(\\mathbf{A}) = \\prod_i \\lambda_i$ (HW6). The general version can be proved by the Jordan canonical form, a generalization of the eigen-decomposition."
   ]
  },
  {
   "cell_type": "markdown",
   "metadata": {},
   "source": [
    "## Spectral decomposition for symmetric matrices (important)\n",
    "\n",
    "- For a symmetric matrix $\\mathbf{A} \\in \\mathbb{R}^{n \\times n}$, \n",
    "    1. all eigenvalues of $\\mathbf{A}$ are real, and\n",
    "    2. the eigenvectors corresponding to distinct eigenvalues are orthogonal to each other.\n",
    "    \n",
    "    Proof of 1 (optional): Pre-multiplying the eigen-equation $\\mathbf{A} \\mathbf{x} = \\lambda \\mathbf{x}$ by $\\mathbf{x}^*$ (conjugate transpose) gives\n",
    "$$\n",
    "\\mathbf{x}^* \\mathbf{A} \\mathbf{x} = \\lambda \\mathbf{x}^* \\mathbf{x}.\n",
    "$$\n",
    "Let $\\mathbf{x} = \\mathbf{a} + \\mathbf{b} i$ be the associated eigenvector. Now both\n",
    "$$\n",
    "\\mathbf{x}^* \\mathbf{x} = (\\mathbf{a} + \\mathbf{b} i)^* (\\mathbf{a} + \\mathbf{b} i) = (\\mathbf{a}' - \\mathbf{b}' i)(\\mathbf{a} + \\mathbf{b} i) = \\mathbf{a}' \\mathbf{a} + \\mathbf{b}' \\mathbf{b}\n",
    "$$\n",
    "and\n",
    "$$\n",
    "\\mathbf{x}^* \\mathbf{A} \\mathbf{x} = (\\mathbf{a}' - \\mathbf{b}' i) \\mathbf{A} (\\mathbf{a} + \\mathbf{b} i) = \\mathbf{a}' \\mathbf{A} \\mathbf{a} + \\mathbf{b}' \\mathbf{A} \\mathbf{b}\n",
    "$$\n",
    "are real numbers. Therefore $\\lambda$ is a real number.\n",
    "\n",
    "    Proof of 2: Suppose\n",
    "$$\n",
    "\\mathbf{A} \\mathbf{x}_1 = \\lambda_1 \\mathbf{x}_1, \\quad \\mathbf{A} \\mathbf{x}_2 = \\lambda_2 \\mathbf{x}_2,\n",
    "$$\n",
    "and $\\lambda_1 \\ne \\lambda_2$. Then\n",
    "\\begin{eqnarray*}\n",
    "    (\\mathbf{A} - \\lambda_2 \\mathbf{I}) \\mathbf{x}_1 &=& (\\lambda_1 - \\lambda_2) \\mathbf{x}_1 \\\\\n",
    "    (\\mathbf{A} - \\lambda_2 \\mathbf{I}) \\mathbf{x}_2 &=& \\mathbf{0}.\n",
    "\\end{eqnarray*}\n",
    "Thus $\\mathbf{x}_1 \\in \\mathcal{C}(\\mathbf{A} - \\lambda_2 \\mathbf{I})$ and $\\mathbf{x}_2 \\in \\mathcal{N}(\\mathbf{A} - \\lambda_2 \\mathbf{I})$. By the fundamental theorem of linear algebra, $\\mathbf{x}_1 \\perp \\mathbf{x}_2$.\n",
    "    \n",
    "- For an eigenvalue with multiplicity, we can choose its eigenvectors to be orthogonal to each other. Also we normalize each eigenvector to have unit L2 norm. Thus we obtain the extremely useful **spectral decomposition of a symmetric matrix**\n",
    "$$\n",
    "    \\mathbf{A} = \\mathbf{Q} \\boldsymbol{\\Lambda} \\mathbf{Q}' = \\begin{pmatrix} \\mid & & \\mid \\\\ \\mathbf{q}_1 & \\cdots & \\mathbf{q}_n \\\\ \\mid & & \\mid \\end{pmatrix} \\begin{pmatrix} \\lambda_1 & & \\\\ & \\ddots & \\\\ & & \\lambda_n \\end{pmatrix} \\begin{pmatrix} - & \\mathbf{q}_1' & - \\\\ & \\vdots & \\\\ - & \\mathbf{q}_n' & - \\end{pmatrix} = \\sum_{i=1}^n \\lambda_i \\mathbf{q}_i \\mathbf{q}_i',\n",
    "$$\n",
    "where $\\mathbf{Q}$ is orthogonal (columns are eigenvectors) and $\\boldsymbol{\\Lambda} = \\text{diag}(\\lambda_1, \\ldots, \\lambda_n)$ (diagonal entries are eigenvalues)."
   ]
  },
  {
   "cell_type": "code",
   "execution_count": 9,
   "metadata": {},
   "outputs": [
    {
     "data": {
      "text/plain": [
       "2×2 Matrix{Float64}:\n",
       " 2.0  1.0\n",
       " 1.0  2.0"
      ]
     },
     "execution_count": 9,
     "metadata": {},
     "output_type": "execute_result"
    }
   ],
   "source": [
    "A = [2.0 1.0; 1.0 2.0]"
   ]
  },
  {
   "cell_type": "code",
   "execution_count": 10,
   "metadata": {},
   "outputs": [
    {
     "data": {
      "text/plain": [
       "Eigen{Float64, Float64, Matrix{Float64}, Vector{Float64}}\n",
       "values:\n",
       "2-element Vector{Float64}:\n",
       " 1.0\n",
       " 3.0\n",
       "vectors:\n",
       "2×2 Matrix{Float64}:\n",
       " -0.707107  0.707107\n",
       "  0.707107  0.707107"
      ]
     },
     "execution_count": 10,
     "metadata": {},
     "output_type": "execute_result"
    }
   ],
   "source": [
    "Aeig = eigen(Symmetric(A))"
   ]
  },
  {
   "cell_type": "code",
   "execution_count": 11,
   "metadata": {},
   "outputs": [
    {
     "data": {
      "text/plain": [
       "2×2 Matrix{Float64}:\n",
       " 1.0  0.0\n",
       " 0.0  1.0"
      ]
     },
     "execution_count": 11,
     "metadata": {},
     "output_type": "execute_result"
    }
   ],
   "source": [
    "# eigenvectors are orthonormal\n",
    "Aeig.vectors' * Aeig.vectors"
   ]
  },
  {
   "cell_type": "code",
   "execution_count": 12,
   "metadata": {},
   "outputs": [
    {
     "data": {
      "text/plain": [
       "2×2 Matrix{Float64}:\n",
       " 2.0  1.0\n",
       " 1.0  2.0"
      ]
     },
     "execution_count": 12,
     "metadata": {},
     "output_type": "execute_result"
    }
   ],
   "source": [
    "Aeig.vectors * Diagonal(Aeig.values) * Aeig.vectors'"
   ]
  }
 ],
 "metadata": {
  "@webio": {
   "lastCommId": null,
   "lastKernelId": null
  },
  "hide_input": false,
  "kernelspec": {
   "display_name": "Julia 1.8.0",
   "language": "julia",
   "name": "julia-1.8"
  },
  "language_info": {
   "file_extension": ".jl",
   "mimetype": "application/julia",
   "name": "julia",
   "version": "1.8.0"
  },
  "toc": {
   "colors": {
    "hover_highlight": "#DAA520",
    "running_highlight": "#FF0000",
    "selected_highlight": "#FFD700"
   },
   "moveMenuLeft": true,
   "nav_menu": {
    "height": "153px",
    "width": "252px"
   },
   "navigate_menu": true,
   "number_sections": true,
   "sideBar": true,
   "skip_h1_title": true,
   "threshold": 4,
   "toc_cell": true,
   "toc_position": {
    "height": "367.5px",
    "left": "0px",
    "right": "706px",
    "top": "32.5px",
    "width": "124px"
   },
   "toc_section_display": "block",
   "toc_window_display": true,
   "widenNotebook": false
  }
 },
 "nbformat": 4,
 "nbformat_minor": 4
}
