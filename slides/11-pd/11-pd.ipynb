{
 "cells": [
  {
   "cell_type": "markdown",
   "metadata": {
    "toc": "true"
   },
   "source": [
    "# Table of Contents\n",
    " <p><div class=\"lev1 toc-item\"><a href=\"#Symmetric-Positive-Definite-Matrices\" data-toc-modified-id=\"Symmetric-Positive-Definite-Matrices-1\"><span class=\"toc-item-num\">1&nbsp;&nbsp;</span>Symmetric Positive Definite Matrices</a></div><div class=\"lev2 toc-item\"><a href=\"#Energy-based-definition\" data-toc-modified-id=\"Energy-based-definition-11\"><span class=\"toc-item-num\">1.1&nbsp;&nbsp;</span>Energy-based definition</a></div><div class=\"lev2 toc-item\"><a href=\"#Gram-matrix-based-definition\" data-toc-modified-id=\"Gram-matrix-based-definition-12\"><span class=\"toc-item-num\">1.2&nbsp;&nbsp;</span>Gram-matrix based definition</a></div><div class=\"lev2 toc-item\"><a href=\"#Schur-complement-test-for-positive-definiteness\" data-toc-modified-id=\"Schur-complement-test-for-positive-definiteness-13\"><span class=\"toc-item-num\">1.3&nbsp;&nbsp;</span>Schur complement test for positive definiteness</a></div><div class=\"lev2 toc-item\"><a href=\"#Covariance-test-for-positive-definiteness-(optional)\" data-toc-modified-id=\"Covariance-test-for-positive-definiteness-(optional)-14\"><span class=\"toc-item-num\">1.4&nbsp;&nbsp;</span>Covariance test for positive definiteness (optional)</a></div><div class=\"lev2 toc-item\"><a href=\"#Cholesky-decomposition-(optional)\" data-toc-modified-id=\"Cholesky-decomposition-(optional)-15\"><span class=\"toc-item-num\">1.5&nbsp;&nbsp;</span>Cholesky decomposition (optional)</a></div><div class=\"lev2 toc-item\"><a href=\"#Positive-definite-matrices-and-minimization-problems\" data-toc-modified-id=\"Positive-definite-matrices-and-minimization-problems-16\"><span class=\"toc-item-num\">1.6&nbsp;&nbsp;</span>Positive definite matrices and minimization problems</a></div><div class=\"lev2 toc-item\"><a href=\"#The-ellipse-ax^2-+-2bxy-+-cy^2-=-1\" data-toc-modified-id=\"The-ellipse-ax^2-+-2bxy-+-cy^2-=-1-17\"><span class=\"toc-item-num\">1.7&nbsp;&nbsp;</span>The ellipse $ax^2 + 2bxy + cy^2 = 1$</a></div>"
   ]
  },
  {
   "cell_type": "code",
   "execution_count": 1,
   "metadata": {},
   "outputs": [
    {
     "name": "stderr",
     "output_type": "stream",
     "text": [
      "\u001b[32m\u001b[1m  Activating\u001b[22m\u001b[39m project at `~/Documents/github.com/ucla-biostat-216/2022fall/slides/11-pd`\n"
     ]
    },
    {
     "name": "stdout",
     "output_type": "stream",
     "text": [
      "\u001b[32m\u001b[1mStatus\u001b[22m\u001b[39m `~/Documents/github.com/ucla-biostat-216/2022fall/slides/11-pd/Project.toml`\n",
      "\u001b[32m⌃\u001b[39m\u001b[90m [91a5bcdd] \u001b[39mPlots v1.35.5\n",
      " \u001b[90m [f2b01f46] \u001b[39mRoots v2.0.8\n",
      " \u001b[90m [37e2e46d] \u001b[39mLinearAlgebra\n",
      "\u001b[36m\u001b[1mInfo\u001b[22m\u001b[39m Packages marked with \u001b[32m⌃\u001b[39m have new versions available\n"
     ]
    }
   ],
   "source": [
    "using Pkg\n",
    "Pkg.activate(pwd())\n",
    "Pkg.instantiate()\n",
    "Pkg.status()"
   ]
  },
  {
   "cell_type": "code",
   "execution_count": 2,
   "metadata": {},
   "outputs": [],
   "source": [
    "using LinearAlgebra, Plots, Roots"
   ]
  },
  {
   "cell_type": "markdown",
   "metadata": {},
   "source": [
    "# Symmetric Positive Definite Matrices\n",
    "\n",
    "- In last lecture, we learnt every symmetric matrix $\\mathbf{A}$ admits an eigen-decomposition\n",
    "$$\n",
    "\\mathbf{A} = \\mathbf{Q} \\boldsymbol{\\Lambda} \\mathbf{Q}',\n",
    "$$\n",
    "where $\\mathbf{Q}$ is orthogonal and $\\boldsymbol{\\Lambda} = \\text{diag}(\\lambda_1, \\ldots, \\lambda_n)$ has eigenvalues on its diagonal.\n",
    "\n",
    "- A **positive definite matrix** is a symmetric matrix with all its eigenvalues positive. That is $\\lambda_i > 0$ for all $i$. We use $\\mathbf{A} \\succ \\mathbf{O}$ to indicate positive definiteness of $\\mathbf{A}$.\n",
    "\n",
    "    A **positive semidefinite matrix** is a symmetric matrix with all its eigenvalues nonnegative. That is $\\lambda_i \\ge 0$ for all $i$. We use $\\mathbf{A} \\succeq \\mathbf{O}$ to indicate positive semidefiniteness of $\\mathbf{A}$.\n",
    "\n",
    "- Examples: \n",
    "    1. $\\begin{pmatrix} 2 & 0 \\\\ 0 & 6 \\end{pmatrix}$ is positive definite. Its eigenvalues are 2 and 6.\n",
    "    2. $\\mathbf{Q} \\begin{pmatrix} 2 & 0 \\\\ 0 & 6 \\end{pmatrix} \\mathbf{Q}'$ is positive definite if $\\mathbf{Q}' = \\mathbf{Q}^{-1}$. Its eigenvalues are 2 and 6.  \n",
    "    3. $\\mathbf{C} \\begin{pmatrix} 2 & 0 \\\\ 0 & 6 \\end{pmatrix} \\mathbf{C}'$ is positive definite if $\\mathbf{C}$ is invertible. Easier to show using the energy-based definition (below).  \n",
    "    4. $\\begin{pmatrix} a & b \\\\ b & c \\end{pmatrix}$ is positive definite when $a > 0$ and $ac > b^2$. Show by energy-based definition or Schur complement.    \n",
    "    5. $\\begin{pmatrix} 2 & 0 \\\\ 0 & 0 \\end{pmatrix}$ is positive semidefinite. Its eigenvalues are 2 and 0.  \n",
    "    6. A positive number is a 1x1 positive definite matrix. A non-negative number is a 1x1 positive semidefinite matrix. \n",
    "    \n",
    "- Note in general $\\det(\\mathbf{A}) > 0$ does not imply that $\\mathbf{A}$ is positive definite.     "
   ]
  },
  {
   "cell_type": "markdown",
   "metadata": {},
   "source": [
    "## Energy-based definition\n",
    "\n",
    "- A symmetric matrix $\\mathbf{A}$ is positive definite if and only if the energy $\\mathbf{x}' \\mathbf{A} \\mathbf{x} > 0$ for all $\\mathbf{x} \\ne \\mathbf{0}$.\n",
    "\n",
    "    A symmetric matrix $\\mathbf{A}$ is positive semidefinite if and only if the energy $\\mathbf{x}' \\mathbf{A} \\mathbf{x} \\ge 0$ for all $\\mathbf{x} \\ne \\mathbf{0}$.\n",
    "\n",
    "    Proof of the \"only if\" part: $\\mathbf{A} = \\mathbf{Q} \\boldsymbol{\\Lambda} \\mathbf{Q}' = \\sum_{i=1}^n \\lambda_i \\mathbf{q}_i \\mathbf{q}_i'$, where $\\lambda_i > 0$ and $\\mathbf{q}_i$ are orthonormal to each other. Then\n",
    "$$\n",
    "\\mathbf{x}' \\mathbf{A} \\mathbf{x} = \\mathbf{x}' \\left( \\sum_{i=1}^n \\lambda_i \\mathbf{q}_i \\mathbf{q}_i' \\right) \\mathbf{x} = \\sum_{i=1}^n \\lambda_i (\\mathbf{q}_i' \\mathbf{x})^2\n",
    "$$\n",
    "Since $\\mathbf{Q}$ is orthogonal, $\\mathbf{Q}' \\mathbf{x} \\ne \\mathbf{0}$ (otherwise it conflicts with linear indepence between $\\mathbf{q}_i$s). Therefore $\\mathbf{x}' \\mathbf{A} \\mathbf{x} = \\sum_{i=1}^n \\lambda_i (\\mathbf{q}_i' \\mathbf{x})^2 > 0$. \n",
    "\n",
    "    Proof of the \"if\" part: Take $\\mathbf{x} = \\mathbf{q}_i$. Then $\\mathbf{x}' \\mathbf{A} \\mathbf{x} = \\lambda_i > 0$.\n",
    "    \n",
    "- Suppose $\\mathbf{C}$ is positive definite and $\\mathbf{A}$ has independent columns. Then $\\mathbf{A}' \\mathbf{C} \\mathbf{A}$ is positive definite. (HW6)\n",
    "\n",
    "- If $\\mathbf{A}_1$ and $\\mathbf{A}_2$ are positive definite, then $\\alpha_1 \\mathbf{A}_1 + \\alpha_2 \\mathbf{A}_2$ is positive definite for any $\\alpha_1, \\alpha_2 > 0$.\n",
    "\n",
    "    If $\\mathbf{A}_1$ and $\\mathbf{A}_2$ are positive semidefinite, then $\\alpha_1 \\mathbf{A}_1 + \\alpha_2 \\mathbf{A}_2$ is positive semidefinite for any $\\alpha_1, \\alpha_2 \\ge 0$.\n",
    "\n",
    "    Proof is trivial using the energy-based definition."
   ]
  },
  {
   "cell_type": "markdown",
   "metadata": {},
   "source": [
    "## Gram-matrix based definition\n",
    "\n",
    "- A square matrix $\\mathbf{A}$ is **positive semidefinite** if and only if $\\mathbf{A} = \\mathbf{B}' \\mathbf{B}$ for some matrix $\\mathbf{B}$.\n",
    "\n",
    "    A square matrix $\\mathbf{A}$ is **positive definite** if and only if $\\mathbf{A} = \\mathbf{B}' \\mathbf{B}$ for some matrix $\\mathbf{B}$ with independent columns.\n",
    "\n",
    "    Proof of the \"if\" part: use the energy-based definition.  \n",
    "    \n",
    "    Proof of the \"only if\" part: take $\\mathbf{B} = \\boldsymbol{\\Lambda}^{1/2} \\mathbf{Q}'$."
   ]
  },
  {
   "cell_type": "markdown",
   "metadata": {},
   "source": [
    "## Schur complement test for positive definiteness\n",
    "\n",
    "- Consider a matrix $\\mathbf{X}$ partitioned as\n",
    "$$\n",
    "\\mathbf{X} = \\begin{pmatrix} \\mathbf{A} & \\mathbf{B} \\\\ \\mathbf{B}' & \\mathbf{C} \\end{pmatrix},\n",
    "$$\n",
    "where the diagonal blocks $\\mathbf{A}$ and $\\mathbf{C}$ are symmetric. Then \n",
    "    1. $\\mathbf{X} \\succ \\mathbf{O}$ if and only if $\\mathbf{A} \\succ \\mathbf{O}$ and $\\mathbf{S} = \\mathbf{C} - \\mathbf{B}' \\mathbf{A}^{-1} \\mathbf{B} \\succ \\mathbf{O}$.  \n",
    "    2. If $\\mathbf{A} \\succ \\mathbf{O}$, then $\\mathbf{X} \\succeq \\mathbf{O}$ if $\\mathbf{S} = \\mathbf{C} - \\mathbf{B}' \\mathbf{A}^{-1} \\mathbf{B} \\succeq \\mathbf{O}$.\n",
    "\n",
    "- Note: the matrix $\\mathbf{S} = \\mathbf{C} - \\mathbf{B}' \\mathbf{A}^{-1} \\mathbf{B}$ is called the **Schur complement** of the block $\\mathbf{A}$ of $\\mathbf{X}$.\n",
    "    \n",
    "- Example 4 above.    "
   ]
  },
  {
   "cell_type": "markdown",
   "metadata": {},
   "source": [
    "## Covariance test for positive semidefiniteness (optional)\n",
    "\n",
    "- This is a trick due to statistician [Igram Olkin (1985)](https://doi.org/10.2307/2322195).\n",
    "\n",
    "- A matrix $\\mathbf{A} \\in \\mathbb{R}^{n \\times n}$ is positive semidefinite if and only if $\\mathbf{A} = \\text{Cov}(\\mathbf{X})$ for a random vector $\\mathbf{X} \\in \\mathbb{R}^n$.\n",
    "\n",
    "    Proof of the \"if\" part: We use the energy-based definition:\n",
    "$$\n",
    "\\mathbf{a}' \\mathbf{A} \\mathbf{a} = \\mathbf{a}' \\text{Cov}(\\mathbf{X}) \\mathbf{a} = \\text{Var}(\\mathbf{a}' \\mathbf{X}) \\ge 0\n",
    "$$\n",
    "for any vector $\\mathbf{a}$.\n",
    "\n",
    "    Proof of the \"only if\" part: Let $\\mathbf{Y} \\sim \\text{Normal}(\\mathbf{0}, \\mathbf{I}_n)$. Then $\\mathbf{A} = \\text{Cov}(\\mathbf{A}^{1/2} \\mathbf{Y})$.\n",
    "\n",
    "- Schur lemma: If $\\mathbf{A}, \\mathbf{B} \\in \\mathbb{R}^{n \\times n}$ are positive semidefinite, then their Hadamard product (elementwise product) $\\mathbf{A} \\circ \\mathbf{B} = (a_{ij} b_{ij})$ is positive semidefinite.\n",
    "\n",
    "    Proof: Let $\\mathbf{A} = \\text{Cov}(\\mathbf{X})$, $\\mathbf{B} = \\text{Cov}(\\mathbf{Y})$, and $\\mathbf{X}$ and $\\mathbf{Y}$ are indepenent. Then $\\mathbb{E}(x_i y_i x_j y_j) = (\\mathbb{E} x_i x_j) (\\mathbb{E}y_i y_j) = a_{ij} b_{ij}$. That is $\\mathbf{A} \\circ \\mathbf{B} = \\text{Cov}(\\mathbf{X} \\circ \\mathbf{Y})$, which is positive semidefinite."
   ]
  },
  {
   "cell_type": "markdown",
   "metadata": {},
   "source": [
    "## Cholesky decomposition\n",
    "\n",
    "- The Cholesky decomposition can be thought as a special LU decomposition for symmetric, positive definite matrix $\\mathbf{A}$.\n",
    "\n",
    "- Any positive definite matrix $\\mathbf{A}$ admits the decomposition\n",
    "$$\n",
    "\\mathbf{A} = \\mathbf{L} \\mathbf{L}',\n",
    "$$\n",
    "where $\\mathbf{L}$ is a lower triangular matrix with positive diagonal entries.\n",
    "\n",
    "    Proof (by induction):\n",
    "If $n=1$, then $\\ell = \\sqrt{a}$. For $n>1$, the block equation\n",
    "$$\n",
    "\\begin{eqnarray*}\n",
    "\\begin{pmatrix}\n",
    "a_{11} & \\mathbf{a}' \\\\ \\mathbf{a} & \\mathbf{A}_{22}\n",
    "\\end{pmatrix} =\n",
    "\\begin{pmatrix}\n",
    "\t\\ell_{11} & \\mathbf{0}_{n-1}' \\\\ \\boldsymbol{\\ell} & \\mathbf{L}_{22}\n",
    "\\end{pmatrix}\n",
    "\\begin{pmatrix}\n",
    "\t\\ell_{11} & \\boldsymbol{\\ell}' \\\\ \\mathbf{0}_{n-1} & \\mathbf{L}_{22}'\n",
    "\\end{pmatrix}\n",
    "\\end{eqnarray*}\n",
    "$$\n",
    "has solution\n",
    "$$\n",
    "\\begin{eqnarray*}\n",
    "\t\\ell_{11} &=& \\sqrt{a_{11}} \\\\\n",
    "\t\\boldsymbol{\\ell} &=& \\ell_{11}^{-1} \\mathbf{a}\t\\\\\n",
    "\t\\mathbf{L}_{22} \\mathbf{L}_{22}' &=& \\mathbf{A}_{22}  - \\boldsymbol{\\ell} \\boldsymbol{\\ell}' = \\mathbf{A}_{22}  - a_{11}^{-1} \\mathbf{a} \\mathbf{a}'.\n",
    "\\end{eqnarray*}\n",
    "$$  \n",
    "Now $a_{11}>0$ (why?), so $\\ell_{11}$ and $\\boldsymbol{\\ell}$ are uniquely determined. $\\mathbf{A}_{22} - a_{11}^{-1} \\mathbf{a} \\mathbf{a}'$ is positive definite because $\\mathbf{A}$ is positive definite (why?). By the induction hypothesis, $\\mathbf{L}_{22}$ exists and is unique.\n",
    "\n",
    "- **Pivot test of positive definiteness.** A symmetric matrix $\\mathbf{A}$ is positive definite if the Cholesky decomposition can be carried out without encountering zero pivot."
   ]
  },
  {
   "cell_type": "code",
   "execution_count": 3,
   "metadata": {},
   "outputs": [
    {
     "data": {
      "text/plain": [
       "3×3 Matrix{Float64}:\n",
       "   4.0   12.0  -16.0\n",
       "  12.0   37.0  -43.0\n",
       " -16.0  -43.0   98.0"
      ]
     },
     "execution_count": 3,
     "metadata": {},
     "output_type": "execute_result"
    }
   ],
   "source": [
    "using LinearAlgebra\n",
    "\n",
    "A = Float64.([4 12 -16; 12 37 -43; -16 -43 98])"
   ]
  },
  {
   "cell_type": "code",
   "execution_count": 4,
   "metadata": {},
   "outputs": [
    {
     "data": {
      "text/plain": [
       "Cholesky{Float64, Matrix{Float64}}\n",
       "U factor:\n",
       "3×3 UpperTriangular{Float64, Matrix{Float64}}:\n",
       " 2.0  6.0  -8.0\n",
       "  ⋅   1.0   5.0\n",
       "  ⋅    ⋅    3.0"
      ]
     },
     "execution_count": 4,
     "metadata": {},
     "output_type": "execute_result"
    }
   ],
   "source": [
    "# Cholesky without pivoting\n",
    "Achol = cholesky(Symmetric(A))"
   ]
  },
  {
   "cell_type": "code",
   "execution_count": 5,
   "metadata": {},
   "outputs": [
    {
     "data": {
      "text/plain": [
       "3×3 LowerTriangular{Float64, Matrix{Float64}}:\n",
       "  2.0   ⋅    ⋅ \n",
       "  6.0  1.0   ⋅ \n",
       " -8.0  5.0  3.0"
      ]
     },
     "execution_count": 5,
     "metadata": {},
     "output_type": "execute_result"
    }
   ],
   "source": [
    "Achol.L"
   ]
  },
  {
   "cell_type": "code",
   "execution_count": 6,
   "metadata": {},
   "outputs": [
    {
     "data": {
      "text/plain": [
       "LU{Float64, Matrix{Float64}, Vector{Int64}}\n",
       "L factor:\n",
       "3×3 Matrix{Float64}:\n",
       "  1.0   0.0       0.0\n",
       " -0.75  1.0       0.0\n",
       " -0.25  0.263158  1.0\n",
       "U factor:\n",
       "3×3 Matrix{Float64}:\n",
       " -16.0  -43.0   98.0\n",
       "   0.0    4.75  30.5\n",
       "   0.0    0.0    0.473684"
      ]
     },
     "execution_count": 6,
     "metadata": {},
     "output_type": "execute_result"
    }
   ],
   "source": [
    "# LU decomposition is different from Cholesky\n",
    "lu(A)"
   ]
  },
  {
   "cell_type": "markdown",
   "metadata": {},
   "source": [
    "## Positive definite matrices and minimization problems\n",
    "\n",
    "- For a twice differentiable, scalar function $f: \\mathbb{R} \\mapsto \\mathbb{R}$, the test for a local minimum is:\n",
    "$$\n",
    "\\frac{df(x)}{dx} = 0 \\quad (\\text{first derivative test})\n",
    "$$\n",
    "and\n",
    "$$\n",
    "\\frac{d^2f(x)}{dx^2} > 0 \\quad (\\text{second derivative test}).\n",
    "$$"
   ]
  },
  {
   "cell_type": "code",
   "execution_count": 7,
   "metadata": {},
   "outputs": [
    {
     "data": {
      "text/plain": [
       "(-1.8234765819369754, 1.8234765819369754)"
      ]
     },
     "execution_count": 7,
     "metadata": {},
     "output_type": "execute_result"
    }
   ],
   "source": [
    "x = Vector(-π:0.1:π)\n",
    "f(x) = sin(x) + 0.25x\n",
    "∇f(x) = cos(x) + 0.25\n",
    "# two roots of the gradient = 0 equation\n",
    "x1, x2 = -acos(-0.25), acos(-0.25)"
   ]
  },
  {
   "cell_type": "code",
   "execution_count": 8,
   "metadata": {},
   "outputs": [
    {
     "data": {
      "text/plain": [
       "(0.9682458365518541, -0.9682458365518541)"
      ]
     },
     "execution_count": 8,
     "metadata": {},
     "output_type": "execute_result"
    }
   ],
   "source": [
    "∇²f(x) = -sin(x)\n",
    "# x1 is local minimum (2nd derivative > 0), x2 is local maximum (2nd derivative < 0)\n",
    "∇²f(x1), ∇²f(x2)"
   ]
  },
  {
   "cell_type": "code",
   "execution_count": 9,
   "metadata": {},
   "outputs": [
    {
     "data": {
      "image/svg+xml": [
       "<?xml version=\"1.0\" encoding=\"utf-8\"?>\n",
       "<svg xmlns=\"http://www.w3.org/2000/svg\" xmlns:xlink=\"http://www.w3.org/1999/xlink\" width=\"600\" height=\"400\" viewBox=\"0 0 2400 1600\">\n",
       "<defs>\n",
       "  <clipPath id=\"clip170\">\n",
       "    <rect x=\"0\" y=\"0\" width=\"2400\" height=\"1600\"/>\n",
       "  </clipPath>\n",
       "</defs>\n",
       "<path clip-path=\"url(#clip170)\" d=\"\n",
       "M0 1600 L2400 1600 L2400 0 L0 0  Z\n",
       "  \" fill=\"#ffffff\" fill-rule=\"evenodd\" fill-opacity=\"1\"/>\n",
       "<defs>\n",
       "  <clipPath id=\"clip171\">\n",
       "    <rect x=\"480\" y=\"0\" width=\"1681\" height=\"1600\"/>\n",
       "  </clipPath>\n",
       "</defs>\n",
       "<path clip-path=\"url(#clip170)\" d=\"\n",
       "M193.936 1486.45 L2352.76 1486.45 L2352.76 47.2441 L193.936 47.2441  Z\n",
       "  \" fill=\"#ffffff\" fill-rule=\"evenodd\" fill-opacity=\"1\"/>\n",
       "<defs>\n",
       "  <clipPath id=\"clip172\">\n",
       "    <rect x=\"193\" y=\"47\" width=\"2160\" height=\"1440\"/>\n",
       "  </clipPath>\n",
       "</defs>\n",
       "<polyline clip-path=\"url(#clip172)\" style=\"stroke:#000000; stroke-linecap:round; stroke-linejoin:round; stroke-width:2; stroke-opacity:0.1; fill:none\" points=\"\n",
       "  301.546,1486.45 301.546,47.2441 \n",
       "  \"/>\n",
       "<polyline clip-path=\"url(#clip172)\" style=\"stroke:#000000; stroke-linecap:round; stroke-linejoin:round; stroke-width:2; stroke-opacity:0.1; fill:none\" points=\"\n",
       "  630.034,1486.45 630.034,47.2441 \n",
       "  \"/>\n",
       "<polyline clip-path=\"url(#clip172)\" style=\"stroke:#000000; stroke-linecap:round; stroke-linejoin:round; stroke-width:2; stroke-opacity:0.1; fill:none\" points=\"\n",
       "  958.521,1486.45 958.521,47.2441 \n",
       "  \"/>\n",
       "<polyline clip-path=\"url(#clip172)\" style=\"stroke:#000000; stroke-linecap:round; stroke-linejoin:round; stroke-width:2; stroke-opacity:0.1; fill:none\" points=\"\n",
       "  1287.01,1486.45 1287.01,47.2441 \n",
       "  \"/>\n",
       "<polyline clip-path=\"url(#clip172)\" style=\"stroke:#000000; stroke-linecap:round; stroke-linejoin:round; stroke-width:2; stroke-opacity:0.1; fill:none\" points=\"\n",
       "  1615.5,1486.45 1615.5,47.2441 \n",
       "  \"/>\n",
       "<polyline clip-path=\"url(#clip172)\" style=\"stroke:#000000; stroke-linecap:round; stroke-linejoin:round; stroke-width:2; stroke-opacity:0.1; fill:none\" points=\"\n",
       "  1943.98,1486.45 1943.98,47.2441 \n",
       "  \"/>\n",
       "<polyline clip-path=\"url(#clip172)\" style=\"stroke:#000000; stroke-linecap:round; stroke-linejoin:round; stroke-width:2; stroke-opacity:0.1; fill:none\" points=\"\n",
       "  2272.47,1486.45 2272.47,47.2441 \n",
       "  \"/>\n",
       "<polyline clip-path=\"url(#clip170)\" style=\"stroke:#000000; stroke-linecap:round; stroke-linejoin:round; stroke-width:4; stroke-opacity:1; fill:none\" points=\"\n",
       "  193.936,1486.45 2352.76,1486.45 \n",
       "  \"/>\n",
       "<polyline clip-path=\"url(#clip170)\" style=\"stroke:#000000; stroke-linecap:round; stroke-linejoin:round; stroke-width:4; stroke-opacity:1; fill:none\" points=\"\n",
       "  301.546,1486.45 301.546,1467.55 \n",
       "  \"/>\n",
       "<polyline clip-path=\"url(#clip170)\" style=\"stroke:#000000; stroke-linecap:round; stroke-linejoin:round; stroke-width:4; stroke-opacity:1; fill:none\" points=\"\n",
       "  630.034,1486.45 630.034,1467.55 \n",
       "  \"/>\n",
       "<polyline clip-path=\"url(#clip170)\" style=\"stroke:#000000; stroke-linecap:round; stroke-linejoin:round; stroke-width:4; stroke-opacity:1; fill:none\" points=\"\n",
       "  958.521,1486.45 958.521,1467.55 \n",
       "  \"/>\n",
       "<polyline clip-path=\"url(#clip170)\" style=\"stroke:#000000; stroke-linecap:round; stroke-linejoin:round; stroke-width:4; stroke-opacity:1; fill:none\" points=\"\n",
       "  1287.01,1486.45 1287.01,1467.55 \n",
       "  \"/>\n",
       "<polyline clip-path=\"url(#clip170)\" style=\"stroke:#000000; stroke-linecap:round; stroke-linejoin:round; stroke-width:4; stroke-opacity:1; fill:none\" points=\"\n",
       "  1615.5,1486.45 1615.5,1467.55 \n",
       "  \"/>\n",
       "<polyline clip-path=\"url(#clip170)\" style=\"stroke:#000000; stroke-linecap:round; stroke-linejoin:round; stroke-width:4; stroke-opacity:1; fill:none\" points=\"\n",
       "  1943.98,1486.45 1943.98,1467.55 \n",
       "  \"/>\n",
       "<polyline clip-path=\"url(#clip170)\" style=\"stroke:#000000; stroke-linecap:round; stroke-linejoin:round; stroke-width:4; stroke-opacity:1; fill:none\" points=\"\n",
       "  2272.47,1486.45 2272.47,1467.55 \n",
       "  \"/>\n",
       "<path clip-path=\"url(#clip170)\" d=\"M271.014 1532.02 L300.69 1532.02 L300.69 1535.95 L271.014 1535.95 L271.014 1532.02 Z\" fill=\"#000000\" fill-rule=\"evenodd\" fill-opacity=\"1\" /><path clip-path=\"url(#clip170)\" d=\"M324.949 1530.21 Q328.305 1530.93 330.18 1533.2 Q332.078 1535.47 332.078 1538.8 Q332.078 1543.92 328.56 1546.72 Q325.041 1549.52 318.56 1549.52 Q316.384 1549.52 314.069 1549.08 Q311.778 1548.66 309.324 1547.81 L309.324 1543.29 Q311.268 1544.43 313.583 1545.01 Q315.898 1545.58 318.421 1545.58 Q322.819 1545.58 325.111 1543.85 Q327.426 1542.11 327.426 1538.8 Q327.426 1535.75 325.273 1534.03 Q323.143 1532.3 319.324 1532.3 L315.296 1532.3 L315.296 1528.45 L319.509 1528.45 Q322.958 1528.45 324.787 1527.09 Q326.615 1525.7 326.615 1523.11 Q326.615 1520.45 324.717 1519.03 Q322.842 1517.6 319.324 1517.6 Q317.402 1517.6 315.203 1518.01 Q313.004 1518.43 310.365 1519.31 L310.365 1515.14 Q313.028 1514.4 315.342 1514.03 Q317.68 1513.66 319.74 1513.66 Q325.064 1513.66 328.166 1516.09 Q331.268 1518.5 331.268 1522.62 Q331.268 1525.49 329.625 1527.48 Q327.981 1529.45 324.949 1530.21 Z\" fill=\"#000000\" fill-rule=\"evenodd\" fill-opacity=\"1\" /><path clip-path=\"url(#clip170)\" d=\"M599.976 1532.02 L629.652 1532.02 L629.652 1535.95 L599.976 1535.95 L599.976 1532.02 Z\" fill=\"#000000\" fill-rule=\"evenodd\" fill-opacity=\"1\" /><path clip-path=\"url(#clip170)\" d=\"M643.772 1544.91 L660.091 1544.91 L660.091 1548.85 L638.147 1548.85 L638.147 1544.91 Q640.809 1542.16 645.392 1537.53 Q649.999 1532.88 651.179 1531.53 Q653.425 1529.01 654.304 1527.27 Q655.207 1525.51 655.207 1523.82 Q655.207 1521.07 653.263 1519.33 Q651.341 1517.6 648.24 1517.6 Q646.04 1517.6 643.587 1518.36 Q641.156 1519.13 638.378 1520.68 L638.378 1515.95 Q641.203 1514.82 643.656 1514.24 Q646.11 1513.66 648.147 1513.66 Q653.517 1513.66 656.712 1516.35 Q659.906 1519.03 659.906 1523.52 Q659.906 1525.65 659.096 1527.57 Q658.309 1529.47 656.202 1532.07 Q655.624 1532.74 652.522 1535.95 Q649.42 1539.15 643.772 1544.91 Z\" fill=\"#000000\" fill-rule=\"evenodd\" fill-opacity=\"1\" /><path clip-path=\"url(#clip170)\" d=\"M928.278 1532.02 L957.954 1532.02 L957.954 1535.95 L928.278 1535.95 L928.278 1532.02 Z\" fill=\"#000000\" fill-rule=\"evenodd\" fill-opacity=\"1\" /><path clip-path=\"url(#clip170)\" d=\"M968.857 1544.91 L976.496 1544.91 L976.496 1518.55 L968.185 1520.21 L968.185 1515.95 L976.449 1514.29 L981.125 1514.29 L981.125 1544.91 L988.764 1544.91 L988.764 1548.85 L968.857 1548.85 L968.857 1544.91 Z\" fill=\"#000000\" fill-rule=\"evenodd\" fill-opacity=\"1\" /><path clip-path=\"url(#clip170)\" d=\"M1287.01 1517.37 Q1283.4 1517.37 1281.57 1520.93 Q1279.76 1524.47 1279.76 1531.6 Q1279.76 1538.71 1281.57 1542.27 Q1283.4 1545.82 1287.01 1545.82 Q1290.64 1545.82 1292.45 1542.27 Q1294.28 1538.71 1294.28 1531.6 Q1294.28 1524.47 1292.45 1520.93 Q1290.64 1517.37 1287.01 1517.37 M1287.01 1513.66 Q1292.82 1513.66 1295.87 1518.27 Q1298.95 1522.85 1298.95 1531.6 Q1298.95 1540.33 1295.87 1544.94 Q1292.82 1549.52 1287.01 1549.52 Q1281.2 1549.52 1278.12 1544.94 Q1275.06 1540.33 1275.06 1531.6 Q1275.06 1522.85 1278.12 1518.27 Q1281.2 1513.66 1287.01 1513.66 Z\" fill=\"#000000\" fill-rule=\"evenodd\" fill-opacity=\"1\" /><path clip-path=\"url(#clip170)\" d=\"M1605.88 1544.91 L1613.52 1544.91 L1613.52 1518.55 L1605.21 1520.21 L1605.21 1515.95 L1613.47 1514.29 L1618.15 1514.29 L1618.15 1544.91 L1625.79 1544.91 L1625.79 1548.85 L1605.88 1548.85 L1605.88 1544.91 Z\" fill=\"#000000\" fill-rule=\"evenodd\" fill-opacity=\"1\" /><path clip-path=\"url(#clip170)\" d=\"M1938.64 1544.91 L1954.96 1544.91 L1954.96 1548.85 L1933.01 1548.85 L1933.01 1544.91 Q1935.67 1542.16 1940.26 1537.53 Q1944.86 1532.88 1946.04 1531.53 Q1948.29 1529.01 1949.17 1527.27 Q1950.07 1525.51 1950.07 1523.82 Q1950.07 1521.07 1948.13 1519.33 Q1946.21 1517.6 1943.1 1517.6 Q1940.9 1517.6 1938.45 1518.36 Q1936.02 1519.13 1933.24 1520.68 L1933.24 1515.95 Q1936.07 1514.82 1938.52 1514.24 Q1940.97 1513.66 1943.01 1513.66 Q1948.38 1513.66 1951.58 1516.35 Q1954.77 1519.03 1954.77 1523.52 Q1954.77 1525.65 1953.96 1527.57 Q1953.17 1529.47 1951.07 1532.07 Q1950.49 1532.74 1947.39 1535.95 Q1944.28 1539.15 1938.64 1544.91 Z\" fill=\"#000000\" fill-rule=\"evenodd\" fill-opacity=\"1\" /><path clip-path=\"url(#clip170)\" d=\"M2276.72 1530.21 Q2280.08 1530.93 2281.95 1533.2 Q2283.85 1535.47 2283.85 1538.8 Q2283.85 1543.92 2280.33 1546.72 Q2276.81 1549.52 2270.33 1549.52 Q2268.15 1549.52 2265.84 1549.08 Q2263.55 1548.66 2261.09 1547.81 L2261.09 1543.29 Q2263.04 1544.43 2265.35 1545.01 Q2267.67 1545.58 2270.19 1545.58 Q2274.59 1545.58 2276.88 1543.85 Q2279.2 1542.11 2279.2 1538.8 Q2279.2 1535.75 2277.04 1534.03 Q2274.91 1532.3 2271.09 1532.3 L2267.07 1532.3 L2267.07 1528.45 L2271.28 1528.45 Q2274.73 1528.45 2276.56 1527.09 Q2278.39 1525.7 2278.39 1523.11 Q2278.39 1520.45 2276.49 1519.03 Q2274.61 1517.6 2271.09 1517.6 Q2269.17 1517.6 2266.97 1518.01 Q2264.77 1518.43 2262.14 1519.31 L2262.14 1515.14 Q2264.8 1514.4 2267.11 1514.03 Q2269.45 1513.66 2271.51 1513.66 Q2276.83 1513.66 2279.94 1516.09 Q2283.04 1518.5 2283.04 1522.62 Q2283.04 1525.49 2281.39 1527.48 Q2279.75 1529.45 2276.72 1530.21 Z\" fill=\"#000000\" fill-rule=\"evenodd\" fill-opacity=\"1\" /><polyline clip-path=\"url(#clip172)\" style=\"stroke:#000000; stroke-linecap:round; stroke-linejoin:round; stroke-width:2; stroke-opacity:0.1; fill:none\" points=\"\n",
       "  193.936,1481.89 2352.76,1481.89 \n",
       "  \"/>\n",
       "<polyline clip-path=\"url(#clip172)\" style=\"stroke:#000000; stroke-linecap:round; stroke-linejoin:round; stroke-width:2; stroke-opacity:0.1; fill:none\" points=\"\n",
       "  193.936,1243.54 2352.76,1243.54 \n",
       "  \"/>\n",
       "<polyline clip-path=\"url(#clip172)\" style=\"stroke:#000000; stroke-linecap:round; stroke-linejoin:round; stroke-width:2; stroke-opacity:0.1; fill:none\" points=\"\n",
       "  193.936,1005.19 2352.76,1005.19 \n",
       "  \"/>\n",
       "<polyline clip-path=\"url(#clip172)\" style=\"stroke:#000000; stroke-linecap:round; stroke-linejoin:round; stroke-width:2; stroke-opacity:0.1; fill:none\" points=\"\n",
       "  193.936,766.846 2352.76,766.846 \n",
       "  \"/>\n",
       "<polyline clip-path=\"url(#clip172)\" style=\"stroke:#000000; stroke-linecap:round; stroke-linejoin:round; stroke-width:2; stroke-opacity:0.1; fill:none\" points=\"\n",
       "  193.936,528.498 2352.76,528.498 \n",
       "  \"/>\n",
       "<polyline clip-path=\"url(#clip172)\" style=\"stroke:#000000; stroke-linecap:round; stroke-linejoin:round; stroke-width:2; stroke-opacity:0.1; fill:none\" points=\"\n",
       "  193.936,290.15 2352.76,290.15 \n",
       "  \"/>\n",
       "<polyline clip-path=\"url(#clip172)\" style=\"stroke:#000000; stroke-linecap:round; stroke-linejoin:round; stroke-width:2; stroke-opacity:0.1; fill:none\" points=\"\n",
       "  193.936,51.8022 2352.76,51.8022 \n",
       "  \"/>\n",
       "<polyline clip-path=\"url(#clip170)\" style=\"stroke:#000000; stroke-linecap:round; stroke-linejoin:round; stroke-width:4; stroke-opacity:1; fill:none\" points=\"\n",
       "  193.936,1486.45 193.936,47.2441 \n",
       "  \"/>\n",
       "<polyline clip-path=\"url(#clip170)\" style=\"stroke:#000000; stroke-linecap:round; stroke-linejoin:round; stroke-width:4; stroke-opacity:1; fill:none\" points=\"\n",
       "  193.936,1481.89 212.834,1481.89 \n",
       "  \"/>\n",
       "<polyline clip-path=\"url(#clip170)\" style=\"stroke:#000000; stroke-linecap:round; stroke-linejoin:round; stroke-width:4; stroke-opacity:1; fill:none\" points=\"\n",
       "  193.936,1243.54 212.834,1243.54 \n",
       "  \"/>\n",
       "<polyline clip-path=\"url(#clip170)\" style=\"stroke:#000000; stroke-linecap:round; stroke-linejoin:round; stroke-width:4; stroke-opacity:1; fill:none\" points=\"\n",
       "  193.936,1005.19 212.834,1005.19 \n",
       "  \"/>\n",
       "<polyline clip-path=\"url(#clip170)\" style=\"stroke:#000000; stroke-linecap:round; stroke-linejoin:round; stroke-width:4; stroke-opacity:1; fill:none\" points=\"\n",
       "  193.936,766.846 212.834,766.846 \n",
       "  \"/>\n",
       "<polyline clip-path=\"url(#clip170)\" style=\"stroke:#000000; stroke-linecap:round; stroke-linejoin:round; stroke-width:4; stroke-opacity:1; fill:none\" points=\"\n",
       "  193.936,528.498 212.834,528.498 \n",
       "  \"/>\n",
       "<polyline clip-path=\"url(#clip170)\" style=\"stroke:#000000; stroke-linecap:round; stroke-linejoin:round; stroke-width:4; stroke-opacity:1; fill:none\" points=\"\n",
       "  193.936,290.15 212.834,290.15 \n",
       "  \"/>\n",
       "<polyline clip-path=\"url(#clip170)\" style=\"stroke:#000000; stroke-linecap:round; stroke-linejoin:round; stroke-width:4; stroke-opacity:1; fill:none\" points=\"\n",
       "  193.936,51.8022 212.834,51.8022 \n",
       "  \"/>\n",
       "<path clip-path=\"url(#clip170)\" d=\"M51.9875 1482.34 L81.6633 1482.34 L81.6633 1486.28 L51.9875 1486.28 L51.9875 1482.34 Z\" fill=\"#000000\" fill-rule=\"evenodd\" fill-opacity=\"1\" /><path clip-path=\"url(#clip170)\" d=\"M92.566 1495.23 L100.205 1495.23 L100.205 1468.87 L91.8947 1470.54 L91.8947 1466.28 L100.159 1464.61 L104.834 1464.61 L104.834 1495.23 L112.473 1495.23 L112.473 1499.17 L92.566 1499.17 L92.566 1495.23 Z\" fill=\"#000000\" fill-rule=\"evenodd\" fill-opacity=\"1\" /><path clip-path=\"url(#clip170)\" d=\"M121.918 1493.29 L126.802 1493.29 L126.802 1499.17 L121.918 1499.17 L121.918 1493.29 Z\" fill=\"#000000\" fill-rule=\"evenodd\" fill-opacity=\"1\" /><path clip-path=\"url(#clip170)\" d=\"M137.033 1464.61 L155.39 1464.61 L155.39 1468.54 L141.316 1468.54 L141.316 1477.02 Q142.334 1476.67 143.353 1476.51 Q144.371 1476.32 145.39 1476.32 Q151.177 1476.32 154.556 1479.49 Q157.936 1482.67 157.936 1488.08 Q157.936 1493.66 154.464 1496.76 Q150.992 1499.84 144.672 1499.84 Q142.496 1499.84 140.228 1499.47 Q137.982 1499.1 135.575 1498.36 L135.575 1493.66 Q137.658 1494.79 139.881 1495.35 Q142.103 1495.91 144.58 1495.91 Q148.584 1495.91 150.922 1493.8 Q153.26 1491.69 153.26 1488.08 Q153.26 1484.47 150.922 1482.36 Q148.584 1480.26 144.58 1480.26 Q142.705 1480.26 140.83 1480.67 Q138.978 1481.09 137.033 1481.97 L137.033 1464.61 Z\" fill=\"#000000\" fill-rule=\"evenodd\" fill-opacity=\"1\" /><path clip-path=\"url(#clip170)\" d=\"M50.9921 1243.99 L80.6679 1243.99 L80.6679 1247.93 L50.9921 1247.93 L50.9921 1243.99 Z\" fill=\"#000000\" fill-rule=\"evenodd\" fill-opacity=\"1\" /><path clip-path=\"url(#clip170)\" d=\"M91.5706 1256.89 L99.2095 1256.89 L99.2095 1230.52 L90.8993 1232.19 L90.8993 1227.93 L99.1632 1226.26 L103.839 1226.26 L103.839 1256.89 L111.478 1256.89 L111.478 1260.82 L91.5706 1260.82 L91.5706 1256.89 Z\" fill=\"#000000\" fill-rule=\"evenodd\" fill-opacity=\"1\" /><path clip-path=\"url(#clip170)\" d=\"M120.922 1254.94 L125.807 1254.94 L125.807 1260.82 L120.922 1260.82 L120.922 1254.94 Z\" fill=\"#000000\" fill-rule=\"evenodd\" fill-opacity=\"1\" /><path clip-path=\"url(#clip170)\" d=\"M145.992 1229.34 Q142.381 1229.34 140.552 1232.91 Q138.746 1236.45 138.746 1243.58 Q138.746 1250.68 140.552 1254.25 Q142.381 1257.79 145.992 1257.79 Q149.626 1257.79 151.431 1254.25 Q153.26 1250.68 153.26 1243.58 Q153.26 1236.45 151.431 1232.91 Q149.626 1229.34 145.992 1229.34 M145.992 1225.64 Q151.802 1225.64 154.857 1230.24 Q157.936 1234.83 157.936 1243.58 Q157.936 1252.3 154.857 1256.91 Q151.802 1261.49 145.992 1261.49 Q140.181 1261.49 137.103 1256.91 Q134.047 1252.3 134.047 1243.58 Q134.047 1234.83 137.103 1230.24 Q140.181 1225.64 145.992 1225.64 Z\" fill=\"#000000\" fill-rule=\"evenodd\" fill-opacity=\"1\" /><path clip-path=\"url(#clip170)\" d=\"M51.9875 1005.65 L81.6633 1005.65 L81.6633 1009.58 L51.9875 1009.58 L51.9875 1005.65 Z\" fill=\"#000000\" fill-rule=\"evenodd\" fill-opacity=\"1\" /><path clip-path=\"url(#clip170)\" d=\"M101.756 990.993 Q98.1447 990.993 96.316 994.557 Q94.5104 998.099 94.5104 1005.23 Q94.5104 1012.34 96.316 1015.9 Q98.1447 1019.44 101.756 1019.44 Q105.39 1019.44 107.196 1015.9 Q109.024 1012.34 109.024 1005.23 Q109.024 998.099 107.196 994.557 Q105.39 990.993 101.756 990.993 M101.756 987.289 Q107.566 987.289 110.621 991.895 Q113.7 996.479 113.7 1005.23 Q113.7 1013.96 110.621 1018.56 Q107.566 1023.15 101.756 1023.15 Q95.9456 1023.15 92.8669 1018.56 Q89.8114 1013.96 89.8114 1005.23 Q89.8114 996.479 92.8669 991.895 Q95.9456 987.289 101.756 987.289 Z\" fill=\"#000000\" fill-rule=\"evenodd\" fill-opacity=\"1\" /><path clip-path=\"url(#clip170)\" d=\"M121.918 1016.59 L126.802 1016.59 L126.802 1022.47 L121.918 1022.47 L121.918 1016.59 Z\" fill=\"#000000\" fill-rule=\"evenodd\" fill-opacity=\"1\" /><path clip-path=\"url(#clip170)\" d=\"M137.033 987.914 L155.39 987.914 L155.39 991.849 L141.316 991.849 L141.316 1000.32 Q142.334 999.974 143.353 999.812 Q144.371 999.627 145.39 999.627 Q151.177 999.627 154.556 1002.8 Q157.936 1005.97 157.936 1011.39 Q157.936 1016.96 154.464 1020.07 Q150.992 1023.15 144.672 1023.15 Q142.496 1023.15 140.228 1022.77 Q137.982 1022.4 135.575 1021.66 L135.575 1016.96 Q137.658 1018.1 139.881 1018.65 Q142.103 1019.21 144.58 1019.21 Q148.584 1019.21 150.922 1017.1 Q153.26 1015 153.26 1011.39 Q153.26 1007.77 150.922 1005.67 Q148.584 1003.56 144.58 1003.56 Q142.705 1003.56 140.83 1003.98 Q138.978 1004.4 137.033 1005.27 L137.033 987.914 Z\" fill=\"#000000\" fill-rule=\"evenodd\" fill-opacity=\"1\" /><path clip-path=\"url(#clip170)\" d=\"M100.76 752.645 Q97.1493 752.645 95.3206 756.209 Q93.515 759.751 93.515 766.881 Q93.515 773.987 95.3206 777.552 Q97.1493 781.094 100.76 781.094 Q104.395 781.094 106.2 777.552 Q108.029 773.987 108.029 766.881 Q108.029 759.751 106.2 756.209 Q104.395 752.645 100.76 752.645 M100.76 748.941 Q106.571 748.941 109.626 753.547 Q112.705 758.131 112.705 766.881 Q112.705 775.608 109.626 780.214 Q106.571 784.797 100.76 784.797 Q94.9502 784.797 91.8715 780.214 Q88.816 775.608 88.816 766.881 Q88.816 758.131 91.8715 753.547 Q94.9502 748.941 100.76 748.941 Z\" fill=\"#000000\" fill-rule=\"evenodd\" fill-opacity=\"1\" /><path clip-path=\"url(#clip170)\" d=\"M120.922 778.246 L125.807 778.246 L125.807 784.126 L120.922 784.126 L120.922 778.246 Z\" fill=\"#000000\" fill-rule=\"evenodd\" fill-opacity=\"1\" /><path clip-path=\"url(#clip170)\" d=\"M145.992 752.645 Q142.381 752.645 140.552 756.209 Q138.746 759.751 138.746 766.881 Q138.746 773.987 140.552 777.552 Q142.381 781.094 145.992 781.094 Q149.626 781.094 151.431 777.552 Q153.26 773.987 153.26 766.881 Q153.26 759.751 151.431 756.209 Q149.626 752.645 145.992 752.645 M145.992 748.941 Q151.802 748.941 154.857 753.547 Q157.936 758.131 157.936 766.881 Q157.936 775.608 154.857 780.214 Q151.802 784.797 145.992 784.797 Q140.181 784.797 137.103 780.214 Q134.047 775.608 134.047 766.881 Q134.047 758.131 137.103 753.547 Q140.181 748.941 145.992 748.941 Z\" fill=\"#000000\" fill-rule=\"evenodd\" fill-opacity=\"1\" /><path clip-path=\"url(#clip170)\" d=\"M101.756 514.297 Q98.1447 514.297 96.316 517.862 Q94.5104 521.403 94.5104 528.533 Q94.5104 535.639 96.316 539.204 Q98.1447 542.746 101.756 542.746 Q105.39 542.746 107.196 539.204 Q109.024 535.639 109.024 528.533 Q109.024 521.403 107.196 517.862 Q105.39 514.297 101.756 514.297 M101.756 510.593 Q107.566 510.593 110.621 515.2 Q113.7 519.783 113.7 528.533 Q113.7 537.26 110.621 541.866 Q107.566 546.449 101.756 546.449 Q95.9456 546.449 92.8669 541.866 Q89.8114 537.26 89.8114 528.533 Q89.8114 519.783 92.8669 515.2 Q95.9456 510.593 101.756 510.593 Z\" fill=\"#000000\" fill-rule=\"evenodd\" fill-opacity=\"1\" /><path clip-path=\"url(#clip170)\" d=\"M121.918 539.898 L126.802 539.898 L126.802 545.778 L121.918 545.778 L121.918 539.898 Z\" fill=\"#000000\" fill-rule=\"evenodd\" fill-opacity=\"1\" /><path clip-path=\"url(#clip170)\" d=\"M137.033 511.218 L155.39 511.218 L155.39 515.153 L141.316 515.153 L141.316 523.625 Q142.334 523.278 143.353 523.116 Q144.371 522.931 145.39 522.931 Q151.177 522.931 154.556 526.102 Q157.936 529.274 157.936 534.69 Q157.936 540.269 154.464 543.371 Q150.992 546.449 144.672 546.449 Q142.496 546.449 140.228 546.079 Q137.982 545.709 135.575 544.968 L135.575 540.269 Q137.658 541.403 139.881 541.959 Q142.103 542.514 144.58 542.514 Q148.584 542.514 150.922 540.408 Q153.26 538.301 153.26 534.69 Q153.26 531.079 150.922 528.973 Q148.584 526.866 144.58 526.866 Q142.705 526.866 140.83 527.283 Q138.978 527.699 137.033 528.579 L137.033 511.218 Z\" fill=\"#000000\" fill-rule=\"evenodd\" fill-opacity=\"1\" /><path clip-path=\"url(#clip170)\" d=\"M91.5706 303.495 L99.2095 303.495 L99.2095 277.129 L90.8993 278.796 L90.8993 274.537 L99.1632 272.87 L103.839 272.87 L103.839 303.495 L111.478 303.495 L111.478 307.43 L91.5706 307.43 L91.5706 303.495 Z\" fill=\"#000000\" fill-rule=\"evenodd\" fill-opacity=\"1\" /><path clip-path=\"url(#clip170)\" d=\"M120.922 301.551 L125.807 301.551 L125.807 307.43 L120.922 307.43 L120.922 301.551 Z\" fill=\"#000000\" fill-rule=\"evenodd\" fill-opacity=\"1\" /><path clip-path=\"url(#clip170)\" d=\"M145.992 275.949 Q142.381 275.949 140.552 279.514 Q138.746 283.055 138.746 290.185 Q138.746 297.291 140.552 300.856 Q142.381 304.398 145.992 304.398 Q149.626 304.398 151.431 300.856 Q153.26 297.291 153.26 290.185 Q153.26 283.055 151.431 279.514 Q149.626 275.949 145.992 275.949 M145.992 272.245 Q151.802 272.245 154.857 276.852 Q157.936 281.435 157.936 290.185 Q157.936 298.912 154.857 303.518 Q151.802 308.101 145.992 308.101 Q140.181 308.101 137.103 303.518 Q134.047 298.912 134.047 290.185 Q134.047 281.435 137.103 276.852 Q140.181 272.245 145.992 272.245 Z\" fill=\"#000000\" fill-rule=\"evenodd\" fill-opacity=\"1\" /><path clip-path=\"url(#clip170)\" d=\"M92.566 65.147 L100.205 65.147 L100.205 38.7814 L91.8947 40.4481 L91.8947 36.1889 L100.159 34.5222 L104.834 34.5222 L104.834 65.147 L112.473 65.147 L112.473 69.0822 L92.566 69.0822 L92.566 65.147 Z\" fill=\"#000000\" fill-rule=\"evenodd\" fill-opacity=\"1\" /><path clip-path=\"url(#clip170)\" d=\"M121.918 63.2026 L126.802 63.2026 L126.802 69.0822 L121.918 69.0822 L121.918 63.2026 Z\" fill=\"#000000\" fill-rule=\"evenodd\" fill-opacity=\"1\" /><path clip-path=\"url(#clip170)\" d=\"M137.033 34.5222 L155.39 34.5222 L155.39 38.4574 L141.316 38.4574 L141.316 46.9295 Q142.334 46.5823 143.353 46.4203 Q144.371 46.2351 145.39 46.2351 Q151.177 46.2351 154.556 49.4064 Q157.936 52.5777 157.936 57.9943 Q157.936 63.573 154.464 66.6748 Q150.992 69.7535 144.672 69.7535 Q142.496 69.7535 140.228 69.3831 Q137.982 69.0128 135.575 68.272 L135.575 63.573 Q137.658 64.7072 139.881 65.2628 Q142.103 65.8183 144.58 65.8183 Q148.584 65.8183 150.922 63.7119 Q153.26 61.6054 153.26 57.9943 Q153.26 54.3832 150.922 52.2767 Q148.584 50.1703 144.58 50.1703 Q142.705 50.1703 140.83 50.5869 Q138.978 51.0036 137.033 51.8832 L137.033 34.5222 Z\" fill=\"#000000\" fill-rule=\"evenodd\" fill-opacity=\"1\" /><polyline clip-path=\"url(#clip172)\" style=\"stroke:#009af9; stroke-linecap:round; stroke-linejoin:round; stroke-width:4; stroke-opacity:1; fill:none\" points=\"\n",
       "  255.035,1141.24 287.883,1176.91 320.732,1212.11 353.581,1246.36 386.43,1279.21 419.278,1310.2 452.127,1338.9 484.976,1364.92 517.825,1387.86 550.673,1407.39 \n",
       "  583.522,1423.19 616.371,1434.99 649.22,1442.53 682.068,1445.64 714.917,1444.16 747.766,1437.98 780.615,1427.06 813.463,1411.37 846.312,1390.96 879.161,1365.91 \n",
       "  912.01,1336.35 944.858,1302.47 977.707,1264.47 1010.56,1222.62 1043.4,1177.22 1076.25,1128.6 1109.1,1077.13 1141.95,1023.2 1174.8,967.242 1207.65,909.687 \n",
       "  1240.5,850.991 1273.35,791.624 1306.19,732.059 1339.04,672.771 1371.89,614.235 1404.74,556.916 1437.59,501.268 1470.44,447.728 1503.29,396.711 1536.14,348.608 \n",
       "  1568.98,303.782 1601.83,262.559 1634.68,225.235 1667.53,192.061 1700.38,163.252 1733.23,138.975 1766.08,119.353 1798.93,104.465 1831.77,94.3395 1864.62,88.9585 \n",
       "  1897.47,88.257 1930.32,92.1228 1963.17,100.398 1996.02,112.882 2028.87,129.329 2061.72,149.457 2094.56,172.946 2127.41,199.441 2160.26,228.559 2193.11,259.89 \n",
       "  2225.96,293.002 2258.81,327.445 2291.66,362.755 \n",
       "  \"/>\n",
       "<circle clip-path=\"url(#clip172)\" cx=\"688.019\" cy=\"1445.72\" r=\"14.4\" fill=\"#e26f46\" fill-rule=\"evenodd\" fill-opacity=\"1\" stroke=\"#000000\" stroke-opacity=\"1\" stroke-width=\"3.2\"/>\n",
       "<circle clip-path=\"url(#clip172)\" cx=\"1886\" cy=\"87.9763\" r=\"14.4\" fill=\"#e26f46\" fill-rule=\"evenodd\" fill-opacity=\"1\" stroke=\"#000000\" stroke-opacity=\"1\" stroke-width=\"3.2\"/>\n",
       "<path clip-path=\"url(#clip170)\" d=\"\n",
       "M265.897 198.898 L930.879 198.898 L930.879 95.2176 L265.897 95.2176  Z\n",
       "  \" fill=\"#ffffff\" fill-rule=\"evenodd\" fill-opacity=\"1\"/>\n",
       "<polyline clip-path=\"url(#clip170)\" style=\"stroke:#000000; stroke-linecap:round; stroke-linejoin:round; stroke-width:4; stroke-opacity:1; fill:none\" points=\"\n",
       "  265.897,198.898 930.879,198.898 930.879,95.2176 265.897,95.2176 265.897,198.898 \n",
       "  \"/>\n",
       "<polyline clip-path=\"url(#clip170)\" style=\"stroke:#009af9; stroke-linecap:round; stroke-linejoin:round; stroke-width:4; stroke-opacity:1; fill:none\" points=\"\n",
       "  289.884,147.058 433.805,147.058 \n",
       "  \"/>\n",
       "<path clip-path=\"url(#clip170)\" d=\"M474.296 128.319 L474.296 131.861 L470.222 131.861 Q467.931 131.861 467.028 132.787 Q466.148 133.713 466.148 136.12 L466.148 138.412 L473.162 138.412 L473.162 141.722 L466.148 141.722 L466.148 164.338 L461.866 164.338 L461.866 141.722 L457.792 141.722 L457.792 138.412 L461.866 138.412 L461.866 136.606 Q461.866 132.278 463.88 130.31 Q465.894 128.319 470.269 128.319 L474.296 128.319 Z\" fill=\"#000000\" fill-rule=\"evenodd\" fill-opacity=\"1\" /><path clip-path=\"url(#clip170)\" d=\"M488.093 128.366 Q484.991 133.69 483.486 138.898 Q481.981 144.106 481.981 149.453 Q481.981 154.801 483.486 160.055 Q485.014 165.287 488.093 170.588 L484.389 170.588 Q480.917 165.148 479.181 159.893 Q477.468 154.639 477.468 149.453 Q477.468 144.291 479.181 139.06 Q480.893 133.828 484.389 128.366 L488.093 128.366 Z\" fill=\"#000000\" fill-rule=\"evenodd\" fill-opacity=\"1\" /><path clip-path=\"url(#clip170)\" d=\"M517.907 138.412 L508.532 151.027 L518.393 164.338 L513.37 164.338 L505.824 154.152 L498.278 164.338 L493.255 164.338 L503.324 150.773 L494.111 138.412 L499.134 138.412 L506.009 147.648 L512.884 138.412 L517.907 138.412 Z\" fill=\"#000000\" fill-rule=\"evenodd\" fill-opacity=\"1\" /><path clip-path=\"url(#clip170)\" d=\"M523.74 128.366 L527.444 128.366 Q530.916 133.828 532.629 139.06 Q534.365 144.291 534.365 149.453 Q534.365 154.639 532.629 159.893 Q530.916 165.148 527.444 170.588 L523.74 170.588 Q526.819 165.287 528.324 160.055 Q529.852 154.801 529.852 149.453 Q529.852 144.106 528.324 138.898 Q526.819 133.69 523.74 128.366 Z\" fill=\"#000000\" fill-rule=\"evenodd\" fill-opacity=\"1\" /><path clip-path=\"url(#clip170)\" d=\"M543.463 142.81 L573.138 142.81 L573.138 146.699 L543.463 146.699 L543.463 142.81 M543.463 152.254 L573.138 152.254 L573.138 156.189 L543.463 156.189 L543.463 152.254 Z\" fill=\"#000000\" fill-rule=\"evenodd\" fill-opacity=\"1\" /><path clip-path=\"url(#clip170)\" d=\"M599.157 139.176 L599.157 143.203 Q597.351 142.277 595.407 141.815 Q593.462 141.352 591.379 141.352 Q588.208 141.352 586.611 142.324 Q585.036 143.296 585.036 145.24 Q585.036 146.722 586.171 147.578 Q587.305 148.412 590.731 149.176 L592.189 149.5 Q596.726 150.472 598.624 152.254 Q600.546 154.014 600.546 157.185 Q600.546 160.796 597.675 162.902 Q594.828 165.009 589.828 165.009 Q587.745 165.009 585.476 164.592 Q583.231 164.199 580.731 163.388 L580.731 158.99 Q583.092 160.217 585.384 160.842 Q587.675 161.444 589.921 161.444 Q592.93 161.444 594.55 160.426 Q596.171 159.384 596.171 157.509 Q596.171 155.773 594.99 154.847 Q593.833 153.921 589.874 153.064 L588.393 152.717 Q584.435 151.884 582.675 150.171 Q580.916 148.435 580.916 145.426 Q580.916 141.768 583.509 139.778 Q586.101 137.787 590.87 137.787 Q593.231 137.787 595.314 138.134 Q597.397 138.481 599.157 139.176 Z\" fill=\"#000000\" fill-rule=\"evenodd\" fill-opacity=\"1\" /><path clip-path=\"url(#clip170)\" d=\"M607.328 138.412 L611.587 138.412 L611.587 164.338 L607.328 164.338 L607.328 138.412 M607.328 128.319 L611.587 128.319 L611.587 133.713 L607.328 133.713 L607.328 128.319 Z\" fill=\"#000000\" fill-rule=\"evenodd\" fill-opacity=\"1\" /><path clip-path=\"url(#clip170)\" d=\"M642.05 148.689 L642.05 164.338 L637.791 164.338 L637.791 148.828 Q637.791 145.148 636.356 143.319 Q634.92 141.49 632.05 141.49 Q628.601 141.49 626.61 143.69 Q624.62 145.889 624.62 149.685 L624.62 164.338 L620.337 164.338 L620.337 138.412 L624.62 138.412 L624.62 142.44 Q626.147 140.102 628.208 138.944 Q630.291 137.787 632.999 137.787 Q637.467 137.787 639.758 140.565 Q642.05 143.319 642.05 148.689 Z\" fill=\"#000000\" fill-rule=\"evenodd\" fill-opacity=\"1\" /><path clip-path=\"url(#clip170)\" d=\"M660.777 128.366 Q657.675 133.69 656.17 138.898 Q654.666 144.106 654.666 149.453 Q654.666 154.801 656.17 160.055 Q657.698 165.287 660.777 170.588 L657.073 170.588 Q653.601 165.148 651.865 159.893 Q650.152 154.639 650.152 149.453 Q650.152 144.291 651.865 139.06 Q653.578 133.828 657.073 128.366 L660.777 128.366 Z\" fill=\"#000000\" fill-rule=\"evenodd\" fill-opacity=\"1\" /><path clip-path=\"url(#clip170)\" d=\"M690.591 138.412 L681.216 151.027 L691.078 164.338 L686.054 164.338 L678.508 154.152 L670.962 164.338 L665.939 164.338 L676.008 150.773 L666.795 138.412 L671.818 138.412 L678.693 147.648 L685.568 138.412 L690.591 138.412 Z\" fill=\"#000000\" fill-rule=\"evenodd\" fill-opacity=\"1\" /><path clip-path=\"url(#clip170)\" d=\"M696.425 128.366 L700.128 128.366 Q703.601 133.828 705.314 139.06 Q707.05 144.291 707.05 149.453 Q707.05 154.639 705.314 159.893 Q703.601 165.148 700.128 170.588 L696.425 170.588 Q699.503 165.287 701.008 160.055 Q702.536 154.801 702.536 149.453 Q702.536 144.106 701.008 138.898 Q699.503 133.69 696.425 128.366 Z\" fill=\"#000000\" fill-rule=\"evenodd\" fill-opacity=\"1\" /><path clip-path=\"url(#clip170)\" d=\"M732.929 134.615 L732.929 147.509 L745.823 147.509 L745.823 151.444 L732.929 151.444 L732.929 164.338 L729.04 164.338 L729.04 151.444 L716.147 151.444 L716.147 147.509 L729.04 147.509 L729.04 134.615 L732.929 134.615 Z\" fill=\"#000000\" fill-rule=\"evenodd\" fill-opacity=\"1\" /><path clip-path=\"url(#clip170)\" d=\"M765.915 132.856 Q762.304 132.856 760.475 136.421 Q758.67 139.963 758.67 147.092 Q758.67 154.199 760.475 157.764 Q762.304 161.305 765.915 161.305 Q769.549 161.305 771.355 157.764 Q773.184 154.199 773.184 147.092 Q773.184 139.963 771.355 136.421 Q769.549 132.856 765.915 132.856 M765.915 129.153 Q771.725 129.153 774.781 133.759 Q777.859 138.342 777.859 147.092 Q777.859 155.819 774.781 160.426 Q771.725 165.009 765.915 165.009 Q760.105 165.009 757.026 160.426 Q753.971 155.819 753.971 147.092 Q753.971 138.342 757.026 133.759 Q760.105 129.153 765.915 129.153 Z\" fill=\"#000000\" fill-rule=\"evenodd\" fill-opacity=\"1\" /><path clip-path=\"url(#clip170)\" d=\"M786.077 158.458 L790.961 158.458 L790.961 164.338 L786.077 164.338 L786.077 158.458 Z\" fill=\"#000000\" fill-rule=\"evenodd\" fill-opacity=\"1\" /><path clip-path=\"url(#clip170)\" d=\"M805.174 160.402 L821.494 160.402 L821.494 164.338 L799.549 164.338 L799.549 160.402 Q802.211 157.648 806.795 153.018 Q811.401 148.365 812.582 147.023 Q814.827 144.5 815.707 142.764 Q816.609 141.004 816.609 139.315 Q816.609 136.56 814.665 134.824 Q812.744 133.088 809.642 133.088 Q807.443 133.088 804.989 133.852 Q802.558 134.615 799.781 136.166 L799.781 131.444 Q802.605 130.31 805.058 129.731 Q807.512 129.153 809.549 129.153 Q814.919 129.153 818.114 131.838 Q821.308 134.523 821.308 139.014 Q821.308 141.143 820.498 143.065 Q819.711 144.963 817.605 147.555 Q817.026 148.227 813.924 151.444 Q810.822 154.639 805.174 160.402 Z\" fill=\"#000000\" fill-rule=\"evenodd\" fill-opacity=\"1\" /><path clip-path=\"url(#clip170)\" d=\"M831.355 129.778 L849.711 129.778 L849.711 133.713 L835.637 133.713 L835.637 142.185 Q836.655 141.838 837.674 141.676 Q838.693 141.49 839.711 141.49 Q845.498 141.49 848.878 144.662 Q852.257 147.833 852.257 153.25 Q852.257 158.828 848.785 161.93 Q845.313 165.009 838.993 165.009 Q836.818 165.009 834.549 164.638 Q832.304 164.268 829.896 163.527 L829.896 158.828 Q831.98 159.963 834.202 160.518 Q836.424 161.074 838.901 161.074 Q842.905 161.074 845.243 158.967 Q847.581 156.861 847.581 153.25 Q847.581 149.639 845.243 147.532 Q842.905 145.426 838.901 145.426 Q837.026 145.426 835.151 145.842 Q833.299 146.259 831.355 147.139 L831.355 129.778 Z\" fill=\"#000000\" fill-rule=\"evenodd\" fill-opacity=\"1\" /><path clip-path=\"url(#clip170)\" d=\"M882.419 138.412 L873.044 151.027 L882.905 164.338 L877.882 164.338 L870.336 154.152 L862.79 164.338 L857.766 164.338 L867.836 150.773 L858.623 138.412 L863.646 138.412 L870.521 147.648 L877.396 138.412 L882.419 138.412 Z\" fill=\"#000000\" fill-rule=\"evenodd\" fill-opacity=\"1\" /><path clip-path=\"url(#clip170)\" d=\"M388.759 1364.54 L396.212 1364.54 L396.212 1427.57 L388.759 1427.57 L388.759 1364.54 Z\" fill=\"#000000\" fill-rule=\"evenodd\" fill-opacity=\"1\" /><path clip-path=\"url(#clip170)\" d=\"M429.389 1387.43 Q423.394 1387.43 419.91 1392.13 Q416.426 1396.78 416.426 1404.93 Q416.426 1413.07 419.87 1417.77 Q423.354 1422.43 429.389 1422.43 Q435.344 1422.43 438.828 1417.73 Q442.312 1413.03 442.312 1404.93 Q442.312 1396.87 438.828 1392.17 Q435.344 1387.43 429.389 1387.43 M429.389 1381.11 Q439.112 1381.11 444.661 1387.43 Q450.211 1393.75 450.211 1404.93 Q450.211 1416.07 444.661 1422.43 Q439.112 1428.75 429.389 1428.75 Q419.627 1428.75 414.077 1422.43 Q408.568 1416.07 408.568 1404.93 Q408.568 1393.75 414.077 1387.43 Q419.627 1381.11 429.389 1381.11 Z\" fill=\"#000000\" fill-rule=\"evenodd\" fill-opacity=\"1\" /><path clip-path=\"url(#clip170)\" d=\"M495.217 1383.94 L495.217 1390.91 Q492.057 1389.17 488.857 1388.32 Q485.697 1387.43 482.456 1387.43 Q475.205 1387.43 471.195 1392.05 Q467.184 1396.62 467.184 1404.93 Q467.184 1413.23 471.195 1417.85 Q475.205 1422.43 482.456 1422.43 Q485.697 1422.43 488.857 1421.58 Q492.057 1420.69 495.217 1418.94 L495.217 1425.83 Q492.097 1427.29 488.735 1428.02 Q485.413 1428.75 481.646 1428.75 Q471.397 1428.75 465.361 1422.31 Q459.326 1415.86 459.326 1404.93 Q459.326 1393.83 465.402 1387.47 Q471.519 1381.11 482.132 1381.11 Q485.575 1381.11 488.857 1381.84 Q492.138 1382.53 495.217 1383.94 Z\" fill=\"#000000\" fill-rule=\"evenodd\" fill-opacity=\"1\" /><path clip-path=\"url(#clip170)\" d=\"M528.799 1404.77 Q519.765 1404.77 516.281 1406.83 Q512.797 1408.9 512.797 1413.88 Q512.797 1417.85 515.39 1420.2 Q518.023 1422.51 522.52 1422.51 Q528.718 1422.51 532.444 1418.13 Q536.212 1413.72 536.212 1406.43 L536.212 1404.77 L528.799 1404.77 M543.665 1401.69 L543.665 1427.57 L536.212 1427.57 L536.212 1420.69 Q533.66 1424.82 529.852 1426.8 Q526.044 1428.75 520.535 1428.75 Q513.567 1428.75 509.435 1424.86 Q505.344 1420.93 505.344 1414.37 Q505.344 1406.71 510.448 1402.82 Q515.593 1398.93 525.76 1398.93 L536.212 1398.93 L536.212 1398.2 Q536.212 1393.06 532.809 1390.26 Q529.447 1387.43 523.33 1387.43 Q519.441 1387.43 515.755 1388.36 Q512.068 1389.29 508.666 1391.15 L508.666 1384.27 Q512.757 1382.69 516.605 1381.92 Q520.454 1381.11 524.099 1381.11 Q533.943 1381.11 538.804 1386.21 Q543.665 1391.32 543.665 1401.69 Z\" fill=\"#000000\" fill-rule=\"evenodd\" fill-opacity=\"1\" /><path clip-path=\"url(#clip170)\" d=\"M559.018 1364.54 L566.472 1364.54 L566.472 1427.57 L559.018 1427.57 L559.018 1364.54 Z\" fill=\"#000000\" fill-rule=\"evenodd\" fill-opacity=\"1\" /><path clip-path=\"url(#clip170)\" d=\"M643.763 1390.91 Q646.558 1385.89 650.447 1383.5 Q654.336 1381.11 659.602 1381.11 Q666.691 1381.11 670.54 1386.09 Q674.388 1391.03 674.388 1400.19 L674.388 1427.57 L666.894 1427.57 L666.894 1400.43 Q666.894 1393.91 664.585 1390.75 Q662.276 1387.59 657.536 1387.59 Q651.743 1387.59 648.381 1391.44 Q645.019 1395.29 645.019 1401.93 L645.019 1427.57 L637.525 1427.57 L637.525 1400.43 Q637.525 1393.87 635.216 1390.75 Q632.907 1387.59 628.086 1387.59 Q622.374 1387.59 619.012 1391.48 Q615.65 1395.33 615.65 1401.93 L615.65 1427.57 L608.156 1427.57 L608.156 1382.2 L615.65 1382.2 L615.65 1389.25 Q618.202 1385.08 621.767 1383.09 Q625.332 1381.11 630.233 1381.11 Q635.175 1381.11 638.619 1383.62 Q642.102 1386.13 643.763 1390.91 Z\" fill=\"#000000\" fill-rule=\"evenodd\" fill-opacity=\"1\" /><path clip-path=\"url(#clip170)\" d=\"M689.255 1382.2 L696.709 1382.2 L696.709 1427.57 L689.255 1427.57 L689.255 1382.2 M689.255 1364.54 L696.709 1364.54 L696.709 1373.98 L689.255 1373.98 L689.255 1364.54 Z\" fill=\"#000000\" fill-rule=\"evenodd\" fill-opacity=\"1\" /><path clip-path=\"url(#clip170)\" d=\"M750.018 1400.19 L750.018 1427.57 L742.565 1427.57 L742.565 1400.43 Q742.565 1393.99 740.053 1390.79 Q737.542 1387.59 732.519 1387.59 Q726.483 1387.59 722.999 1391.44 Q719.515 1395.29 719.515 1401.93 L719.515 1427.57 L712.021 1427.57 L712.021 1382.2 L719.515 1382.2 L719.515 1389.25 Q722.189 1385.16 725.794 1383.13 Q729.44 1381.11 734.179 1381.11 Q741.998 1381.11 746.008 1385.97 Q750.018 1390.79 750.018 1400.19 Z\" fill=\"#000000\" fill-rule=\"evenodd\" fill-opacity=\"1\" /><path clip-path=\"url(#clip170)\" d=\"M764.885 1382.2 L772.339 1382.2 L772.339 1427.57 L764.885 1427.57 L764.885 1382.2 M764.885 1364.54 L772.339 1364.54 L772.339 1373.98 L764.885 1373.98 L764.885 1364.54 Z\" fill=\"#000000\" fill-rule=\"evenodd\" fill-opacity=\"1\" /><path clip-path=\"url(#clip170)\" d=\"M823.259 1390.91 Q826.054 1385.89 829.943 1383.5 Q833.832 1381.11 839.098 1381.11 Q846.187 1381.11 850.035 1386.09 Q853.884 1391.03 853.884 1400.19 L853.884 1427.57 L846.389 1427.57 L846.389 1400.43 Q846.389 1393.91 844.08 1390.75 Q841.771 1387.59 837.032 1387.59 Q831.239 1387.59 827.877 1391.44 Q824.515 1395.29 824.515 1401.93 L824.515 1427.57 L817.02 1427.57 L817.02 1400.43 Q817.02 1393.87 814.711 1390.75 Q812.402 1387.59 807.582 1387.59 Q801.87 1387.59 798.508 1391.48 Q795.146 1395.33 795.146 1401.93 L795.146 1427.57 L787.651 1427.57 L787.651 1382.2 L795.146 1382.2 L795.146 1389.25 Q797.698 1385.08 801.262 1383.09 Q804.827 1381.11 809.729 1381.11 Q814.671 1381.11 818.114 1383.62 Q821.598 1386.13 823.259 1390.91 Z\" fill=\"#000000\" fill-rule=\"evenodd\" fill-opacity=\"1\" /><path clip-path=\"url(#clip170)\" d=\"M867.981 1409.67 L867.981 1382.2 L875.434 1382.2 L875.434 1409.38 Q875.434 1415.82 877.946 1419.06 Q880.458 1422.27 885.481 1422.27 Q891.517 1422.27 895 1418.42 Q898.525 1414.57 898.525 1407.92 L898.525 1382.2 L905.978 1382.2 L905.978 1427.57 L898.525 1427.57 L898.525 1420.6 Q895.81 1424.74 892.205 1426.76 Q888.64 1428.75 883.901 1428.75 Q876.083 1428.75 872.032 1423.89 Q867.981 1419.02 867.981 1409.67 M886.736 1381.11 L886.736 1381.11 Z\" fill=\"#000000\" fill-rule=\"evenodd\" fill-opacity=\"1\" /><path clip-path=\"url(#clip170)\" d=\"M956.655 1390.91 Q959.45 1385.89 963.339 1383.5 Q967.228 1381.11 972.494 1381.11 Q979.583 1381.11 983.432 1386.09 Q987.28 1391.03 987.28 1400.19 L987.28 1427.57 L979.786 1427.57 L979.786 1400.43 Q979.786 1393.91 977.477 1390.75 Q975.168 1387.59 970.428 1387.59 Q964.635 1387.59 961.273 1391.44 Q957.911 1395.29 957.911 1401.93 L957.911 1427.57 L950.417 1427.57 L950.417 1400.43 Q950.417 1393.87 948.108 1390.75 Q945.799 1387.59 940.978 1387.59 Q935.266 1387.59 931.904 1391.48 Q928.542 1395.33 928.542 1401.93 L928.542 1427.57 L921.048 1427.57 L921.048 1382.2 L928.542 1382.2 L928.542 1389.25 Q931.094 1385.08 934.659 1383.09 Q938.223 1381.11 943.125 1381.11 Q948.067 1381.11 951.51 1383.62 Q954.994 1386.13 956.655 1390.91 Z\" fill=\"#000000\" fill-rule=\"evenodd\" fill-opacity=\"1\" /><path clip-path=\"url(#clip170)\" d=\"M1574.58 97.5202 L1582.04 97.5202 L1582.04 160.552 L1574.58 160.552 L1574.58 97.5202 Z\" fill=\"#000000\" fill-rule=\"evenodd\" fill-opacity=\"1\" /><path clip-path=\"url(#clip170)\" d=\"M1615.22 120.408 Q1609.22 120.408 1605.74 125.107 Q1602.25 129.765 1602.25 137.908 Q1602.25 146.05 1605.7 150.749 Q1609.18 155.408 1615.22 155.408 Q1621.17 155.408 1624.65 150.709 Q1628.14 146.01 1628.14 137.908 Q1628.14 129.846 1624.65 125.147 Q1621.17 120.408 1615.22 120.408 M1615.22 114.088 Q1624.94 114.088 1630.49 120.408 Q1636.04 126.727 1636.04 137.908 Q1636.04 149.048 1630.49 155.408 Q1624.94 161.727 1615.22 161.727 Q1605.45 161.727 1599.9 155.408 Q1594.39 149.048 1594.39 137.908 Q1594.39 126.727 1599.9 120.408 Q1605.45 114.088 1615.22 114.088 Z\" fill=\"#000000\" fill-rule=\"evenodd\" fill-opacity=\"1\" /><path clip-path=\"url(#clip170)\" d=\"M1681.04 116.924 L1681.04 123.892 Q1677.88 122.15 1674.68 121.299 Q1671.52 120.408 1668.28 120.408 Q1661.03 120.408 1657.02 125.026 Q1653.01 129.603 1653.01 137.908 Q1653.01 146.212 1657.02 150.83 Q1661.03 155.408 1668.28 155.408 Q1671.52 155.408 1674.68 154.557 Q1677.88 153.666 1681.04 151.924 L1681.04 158.81 Q1677.92 160.269 1674.56 160.998 Q1671.24 161.727 1667.47 161.727 Q1657.22 161.727 1651.19 155.286 Q1645.15 148.845 1645.15 137.908 Q1645.15 126.808 1651.23 120.448 Q1657.34 114.088 1667.96 114.088 Q1671.4 114.088 1674.68 114.818 Q1677.96 115.506 1681.04 116.924 Z\" fill=\"#000000\" fill-rule=\"evenodd\" fill-opacity=\"1\" /><path clip-path=\"url(#clip170)\" d=\"M1714.62 137.746 Q1705.59 137.746 1702.11 139.812 Q1698.62 141.878 1698.62 146.86 Q1698.62 150.83 1701.22 153.18 Q1703.85 155.489 1708.35 155.489 Q1714.54 155.489 1718.27 151.114 Q1722.04 146.698 1722.04 139.407 L1722.04 137.746 L1714.62 137.746 M1729.49 134.667 L1729.49 160.552 L1722.04 160.552 L1722.04 153.666 Q1719.49 157.798 1715.68 159.783 Q1711.87 161.727 1706.36 161.727 Q1699.39 161.727 1695.26 157.838 Q1691.17 153.909 1691.17 147.346 Q1691.17 139.69 1696.27 135.801 Q1701.42 131.912 1711.59 131.912 L1722.04 131.912 L1722.04 131.183 Q1722.04 126.039 1718.63 123.243 Q1715.27 120.408 1709.16 120.408 Q1705.27 120.408 1701.58 121.34 Q1697.89 122.271 1694.49 124.135 L1694.49 117.248 Q1698.58 115.668 1702.43 114.899 Q1706.28 114.088 1709.93 114.088 Q1719.77 114.088 1724.63 119.193 Q1729.49 124.297 1729.49 134.667 Z\" fill=\"#000000\" fill-rule=\"evenodd\" fill-opacity=\"1\" /><path clip-path=\"url(#clip170)\" d=\"M1744.84 97.5202 L1752.3 97.5202 L1752.3 160.552 L1744.84 160.552 L1744.84 97.5202 Z\" fill=\"#000000\" fill-rule=\"evenodd\" fill-opacity=\"1\" /><path clip-path=\"url(#clip170)\" d=\"M1829.59 123.892 Q1832.38 118.868 1836.27 116.478 Q1840.16 114.088 1845.43 114.088 Q1852.52 114.088 1856.37 119.071 Q1860.21 124.013 1860.21 133.168 L1860.21 160.552 L1852.72 160.552 L1852.72 133.411 Q1852.72 126.889 1850.41 123.73 Q1848.1 120.57 1843.36 120.57 Q1837.57 120.57 1834.21 124.418 Q1830.84 128.267 1830.84 134.91 L1830.84 160.552 L1823.35 160.552 L1823.35 133.411 Q1823.35 126.849 1821.04 123.73 Q1818.73 120.57 1813.91 120.57 Q1808.2 120.57 1804.84 124.459 Q1801.48 128.307 1801.48 134.91 L1801.48 160.552 L1793.98 160.552 L1793.98 115.182 L1801.48 115.182 L1801.48 122.231 Q1804.03 118.058 1807.59 116.073 Q1811.16 114.088 1816.06 114.088 Q1821 114.088 1824.44 116.6 Q1827.93 119.112 1829.59 123.892 Z\" fill=\"#000000\" fill-rule=\"evenodd\" fill-opacity=\"1\" /><path clip-path=\"url(#clip170)\" d=\"M1895.7 137.746 Q1886.67 137.746 1883.18 139.812 Q1879.7 141.878 1879.7 146.86 Q1879.7 150.83 1882.29 153.18 Q1884.92 155.489 1889.42 155.489 Q1895.62 155.489 1899.35 151.114 Q1903.11 146.698 1903.11 139.407 L1903.11 137.746 L1895.7 137.746 M1910.57 134.667 L1910.57 160.552 L1903.11 160.552 L1903.11 153.666 Q1900.56 157.798 1896.75 159.783 Q1892.95 161.727 1887.44 161.727 Q1880.47 161.727 1876.34 157.838 Q1872.25 153.909 1872.25 147.346 Q1872.25 139.69 1877.35 135.801 Q1882.49 131.912 1892.66 131.912 L1903.11 131.912 L1903.11 131.183 Q1903.11 126.039 1899.71 123.243 Q1896.35 120.408 1890.23 120.408 Q1886.34 120.408 1882.66 121.34 Q1878.97 122.271 1875.57 124.135 L1875.57 117.248 Q1879.66 115.668 1883.51 114.899 Q1887.35 114.088 1891 114.088 Q1900.84 114.088 1905.71 119.193 Q1910.57 124.297 1910.57 134.667 Z\" fill=\"#000000\" fill-rule=\"evenodd\" fill-opacity=\"1\" /><path clip-path=\"url(#clip170)\" d=\"M1963.63 115.182 L1947.23 137.26 L1964.48 160.552 L1955.69 160.552 L1942.49 142.728 L1929.28 160.552 L1920.49 160.552 L1938.11 136.814 L1921.99 115.182 L1930.78 115.182 L1942.81 131.345 L1954.84 115.182 L1963.63 115.182 Z\" fill=\"#000000\" fill-rule=\"evenodd\" fill-opacity=\"1\" /><path clip-path=\"url(#clip170)\" d=\"M1975.02 115.182 L1982.47 115.182 L1982.47 160.552 L1975.02 160.552 L1975.02 115.182 M1975.02 97.5202 L1982.47 97.5202 L1982.47 106.959 L1975.02 106.959 L1975.02 97.5202 Z\" fill=\"#000000\" fill-rule=\"evenodd\" fill-opacity=\"1\" /><path clip-path=\"url(#clip170)\" d=\"M2033.39 123.892 Q2036.19 118.868 2040.07 116.478 Q2043.96 114.088 2049.23 114.088 Q2056.32 114.088 2060.17 119.071 Q2064.01 124.013 2064.01 133.168 L2064.01 160.552 L2056.52 160.552 L2056.52 133.411 Q2056.52 126.889 2054.21 123.73 Q2051.9 120.57 2047.16 120.57 Q2041.37 120.57 2038.01 124.418 Q2034.65 128.267 2034.65 134.91 L2034.65 160.552 L2027.15 160.552 L2027.15 133.411 Q2027.15 126.849 2024.84 123.73 Q2022.53 120.57 2017.71 120.57 Q2012 120.57 2008.64 124.459 Q2005.28 128.307 2005.28 134.91 L2005.28 160.552 L1997.78 160.552 L1997.78 115.182 L2005.28 115.182 L2005.28 122.231 Q2007.83 118.058 2011.39 116.073 Q2014.96 114.088 2019.86 114.088 Q2024.8 114.088 2028.25 116.6 Q2031.73 119.112 2033.39 123.892 Z\" fill=\"#000000\" fill-rule=\"evenodd\" fill-opacity=\"1\" /><path clip-path=\"url(#clip170)\" d=\"M2078.11 142.647 L2078.11 115.182 L2085.57 115.182 L2085.57 142.364 Q2085.57 148.805 2088.08 152.045 Q2090.59 155.246 2095.61 155.246 Q2101.65 155.246 2105.13 151.397 Q2108.66 147.549 2108.66 140.905 L2108.66 115.182 L2116.11 115.182 L2116.11 160.552 L2108.66 160.552 L2108.66 153.585 Q2105.94 157.717 2102.34 159.742 Q2098.77 161.727 2094.03 161.727 Q2086.21 161.727 2082.16 156.866 Q2078.11 152.005 2078.11 142.647 M2096.87 114.088 L2096.87 114.088 Z\" fill=\"#000000\" fill-rule=\"evenodd\" fill-opacity=\"1\" /><path clip-path=\"url(#clip170)\" d=\"M2166.79 123.892 Q2169.58 118.868 2173.47 116.478 Q2177.36 114.088 2182.63 114.088 Q2189.71 114.088 2193.56 119.071 Q2197.41 124.013 2197.41 133.168 L2197.41 160.552 L2189.92 160.552 L2189.92 133.411 Q2189.92 126.889 2187.61 123.73 Q2185.3 120.57 2180.56 120.57 Q2174.77 120.57 2171.4 124.418 Q2168.04 128.267 2168.04 134.91 L2168.04 160.552 L2160.55 160.552 L2160.55 133.411 Q2160.55 126.849 2158.24 123.73 Q2155.93 120.57 2151.11 120.57 Q2145.4 120.57 2142.04 124.459 Q2138.67 128.307 2138.67 134.91 L2138.67 160.552 L2131.18 160.552 L2131.18 115.182 L2138.67 115.182 L2138.67 122.231 Q2141.23 118.058 2144.79 116.073 Q2148.35 114.088 2153.26 114.088 Q2158.2 114.088 2161.64 116.6 Q2165.13 119.112 2166.79 123.892 Z\" fill=\"#000000\" fill-rule=\"evenodd\" fill-opacity=\"1\" /></svg>\n"
      ]
     },
     "execution_count": 9,
     "metadata": {},
     "output_type": "execute_result"
    }
   ],
   "source": [
    "# draw the function\n",
    "plt = plot(x, f.(x), label = \"f(x)=sin(x)+0.25x\", legend = :topleft)\n",
    "plot(plt, [x1, x2], [f(x1), f(x2)], seriestype = :scatter, label = nothing)\n",
    "annotate!([(x1, f(x1), (\"local minimum\", :bottom)), (x2, f(x2), (\"local maximum\", :top))])"
   ]
  },
  {
   "cell_type": "markdown",
   "metadata": {},
   "source": [
    "- For a twice differentiable, multivariate function $f: \\mathbb{R}^n \\mapsto \\mathbb{R}$, the test for a local minimum is:\n",
    "$$\n",
    "\\nabla f(\\mathbf{x}) = \\begin{pmatrix} \\frac{\\partial f}{\\partial x_1} \\\\ \\vdots \\\\ \\frac{\\partial f}{\\partial x_n} \\end{pmatrix} = \\mathbf{0} \\quad (\\text{first derivative test})\n",
    "$$\n",
    "and\n",
    "$$\n",
    "\\nabla^2 f(\\mathbf{x}) = \\begin{pmatrix} \\frac{\\partial^2 f}{\\partial x_1 \\partial x_1} & \\cdots & \\frac{\\partial^2 f}{\\partial x_1 \\partial x_n} \\\\\n",
    "\\vdots & \\ddots & \\vdots \\\\\n",
    "\\frac{\\partial^2 f}{\\partial x_n \\partial x_1} & \\cdots & \\frac{\\partial^2 f}{\\partial x_n \\partial x_n} \\end{pmatrix} \\succ \\mathbf{O} \\quad (\\text{second derivative test}).\n",
    "$$"
   ]
  },
  {
   "cell_type": "markdown",
   "metadata": {},
   "source": [
    "## The ellipse $ax^2 + 2bxy + cy^2 = 1$\n",
    "\n",
    "- Consider the 2-by-2 matrix\n",
    "$$\n",
    "\\mathbf{A} = \\begin{pmatrix} 5 & 4 \\\\ 4 & 5 \\end{pmatrix}.\n",
    "$$\n",
    "We can test whether it is positive definite by \n",
    "    - eigenvalues: $\\lambda_1 = 9$, $\\lambda_2 = 1$, or  \n",
    "    - energy test: \n",
    "$$\n",
    "(x, y) \\begin{pmatrix} 5 & 4 \\\\ 4 & 5 \\end{pmatrix} \\begin{pmatrix} x \\\\ y \\end{pmatrix} = 5x^2 + 8xy + 5y^2 = 9 \\left( \\frac{x + y}{\\sqrt 2} \\right)^2 + 1 \\left( \\frac{x-y}{\\sqrt 2} \\right)^2 > 0,\n",
    "$$ or\n",
    "    - Schur complemennt: $a = 5 > 0$, $c - a^{-1} b^2 = 5 - 16/5 > 0$.\n",
    "    \n",
    "- Visualize $5x^2 + 8xy + 5y^2 = 1$. Axes align with eigenvectors and axe lengths are $1 / \\sqrt \\lambda$."
   ]
  },
  {
   "cell_type": "code",
   "execution_count": 10,
   "metadata": {},
   "outputs": [],
   "source": [
    "A = [5 4; 4 5]\n",
    "f(x, y) = [x, y]' * A * [x, y]\n",
    "x = -1:0.1:1\n",
    "y = -1:0.1:1\n",
    "plt = contour(x, y, f, levels=1:10, aspect_ratio = 1.0, xlim=[-1,1]);"
   ]
  },
  {
   "cell_type": "code",
   "execution_count": 11,
   "metadata": {},
   "outputs": [
    {
     "data": {
      "text/plain": [
       "Eigen{Float64, Float64, Matrix{Float64}, Vector{Float64}}\n",
       "values:\n",
       "2-element Vector{Float64}:\n",
       " 1.0\n",
       " 9.0\n",
       "vectors:\n",
       "2×2 Matrix{Float64}:\n",
       " -0.707107  0.707107\n",
       "  0.707107  0.707107"
      ]
     },
     "execution_count": 11,
     "metadata": {},
     "output_type": "execute_result"
    }
   ],
   "source": [
    "Aeig = eigen(A)"
   ]
  },
  {
   "cell_type": "code",
   "execution_count": 12,
   "metadata": {},
   "outputs": [
    {
     "data": {
      "text/plain": [
       "2-element Vector{Float64}:\n",
       " -0.7071067811865475\n",
       "  0.7071067811865475"
      ]
     },
     "execution_count": 12,
     "metadata": {},
     "output_type": "execute_result"
    }
   ],
   "source": [
    "evec1 = Aeig.vectors[:, 1] / sqrt(Aeig.values[1])"
   ]
  },
  {
   "cell_type": "code",
   "execution_count": 13,
   "metadata": {},
   "outputs": [
    {
     "data": {
      "text/plain": [
       "2-element Vector{Float64}:\n",
       " 0.2357022603955158\n",
       " 0.2357022603955158"
      ]
     },
     "execution_count": 13,
     "metadata": {},
     "output_type": "execute_result"
    }
   ],
   "source": [
    "evec2 = Aeig.vectors[:, 2] / sqrt(Aeig.values[2])"
   ]
  },
  {
   "cell_type": "code",
   "execution_count": 14,
   "metadata": {},
   "outputs": [
    {
     "data": {
      "image/svg+xml": [
       "<?xml version=\"1.0\" encoding=\"utf-8\"?>\n",
       "<svg xmlns=\"http://www.w3.org/2000/svg\" xmlns:xlink=\"http://www.w3.org/1999/xlink\" width=\"600\" height=\"400\" viewBox=\"0 0 2400 1600\">\n",
       "<defs>\n",
       "  <clipPath id=\"clip210\">\n",
       "    <rect x=\"0\" y=\"0\" width=\"2400\" height=\"1600\"/>\n",
       "  </clipPath>\n",
       "</defs>\n",
       "<path clip-path=\"url(#clip210)\" d=\"\n",
       "M0 1600 L2400 1600 L2400 0 L0 0  Z\n",
       "  \" fill=\"#ffffff\" fill-rule=\"evenodd\" fill-opacity=\"1\"/>\n",
       "<defs>\n",
       "  <clipPath id=\"clip211\">\n",
       "    <rect x=\"480\" y=\"0\" width=\"1681\" height=\"1600\"/>\n",
       "  </clipPath>\n",
       "</defs>\n",
       "<path clip-path=\"url(#clip210)\" d=\"\n",
       "M474.476 1486.45 L1832.22 1486.45 L1832.22 47.2441 L474.476 47.2441  Z\n",
       "  \" fill=\"#ffffff\" fill-rule=\"evenodd\" fill-opacity=\"1\"/>\n",
       "<defs>\n",
       "  <clipPath id=\"clip212\">\n",
       "    <rect x=\"474\" y=\"47\" width=\"1359\" height=\"1440\"/>\n",
       "  </clipPath>\n",
       "</defs>\n",
       "<polyline clip-path=\"url(#clip212)\" style=\"stroke:#000000; stroke-linecap:round; stroke-linejoin:round; stroke-width:2; stroke-opacity:0.1; fill:none\" points=\"\n",
       "  474.476,1486.45 474.476,47.2441 \n",
       "  \"/>\n",
       "<polyline clip-path=\"url(#clip212)\" style=\"stroke:#000000; stroke-linecap:round; stroke-linejoin:round; stroke-width:2; stroke-opacity:0.1; fill:none\" points=\"\n",
       "  813.911,1486.45 813.911,47.2441 \n",
       "  \"/>\n",
       "<polyline clip-path=\"url(#clip212)\" style=\"stroke:#000000; stroke-linecap:round; stroke-linejoin:round; stroke-width:2; stroke-opacity:0.1; fill:none\" points=\"\n",
       "  1153.35,1486.45 1153.35,47.2441 \n",
       "  \"/>\n",
       "<polyline clip-path=\"url(#clip212)\" style=\"stroke:#000000; stroke-linecap:round; stroke-linejoin:round; stroke-width:2; stroke-opacity:0.1; fill:none\" points=\"\n",
       "  1492.78,1486.45 1492.78,47.2441 \n",
       "  \"/>\n",
       "<polyline clip-path=\"url(#clip212)\" style=\"stroke:#000000; stroke-linecap:round; stroke-linejoin:round; stroke-width:2; stroke-opacity:0.1; fill:none\" points=\"\n",
       "  1832.22,1486.45 1832.22,47.2441 \n",
       "  \"/>\n",
       "<polyline clip-path=\"url(#clip210)\" style=\"stroke:#000000; stroke-linecap:round; stroke-linejoin:round; stroke-width:4; stroke-opacity:1; fill:none\" points=\"\n",
       "  474.476,1486.45 1832.22,1486.45 \n",
       "  \"/>\n",
       "<polyline clip-path=\"url(#clip210)\" style=\"stroke:#000000; stroke-linecap:round; stroke-linejoin:round; stroke-width:4; stroke-opacity:1; fill:none\" points=\"\n",
       "  474.476,1486.45 474.476,1467.55 \n",
       "  \"/>\n",
       "<polyline clip-path=\"url(#clip210)\" style=\"stroke:#000000; stroke-linecap:round; stroke-linejoin:round; stroke-width:4; stroke-opacity:1; fill:none\" points=\"\n",
       "  813.911,1486.45 813.911,1467.55 \n",
       "  \"/>\n",
       "<polyline clip-path=\"url(#clip210)\" style=\"stroke:#000000; stroke-linecap:round; stroke-linejoin:round; stroke-width:4; stroke-opacity:1; fill:none\" points=\"\n",
       "  1153.35,1486.45 1153.35,1467.55 \n",
       "  \"/>\n",
       "<polyline clip-path=\"url(#clip210)\" style=\"stroke:#000000; stroke-linecap:round; stroke-linejoin:round; stroke-width:4; stroke-opacity:1; fill:none\" points=\"\n",
       "  1492.78,1486.45 1492.78,1467.55 \n",
       "  \"/>\n",
       "<polyline clip-path=\"url(#clip210)\" style=\"stroke:#000000; stroke-linecap:round; stroke-linejoin:round; stroke-width:4; stroke-opacity:1; fill:none\" points=\"\n",
       "  1832.22,1486.45 1832.22,1467.55 \n",
       "  \"/>\n",
       "<path clip-path=\"url(#clip210)\" d=\"M421.004 1532.02 L450.68 1532.02 L450.68 1535.95 L421.004 1535.95 L421.004 1532.02 Z\" fill=\"#000000\" fill-rule=\"evenodd\" fill-opacity=\"1\" /><path clip-path=\"url(#clip210)\" d=\"M461.583 1544.91 L469.222 1544.91 L469.222 1518.55 L460.912 1520.21 L460.912 1515.95 L469.175 1514.29 L473.851 1514.29 L473.851 1544.91 L481.49 1544.91 L481.49 1548.85 L461.583 1548.85 L461.583 1544.91 Z\" fill=\"#000000\" fill-rule=\"evenodd\" fill-opacity=\"1\" /><path clip-path=\"url(#clip210)\" d=\"M490.934 1542.97 L495.819 1542.97 L495.819 1548.85 L490.934 1548.85 L490.934 1542.97 Z\" fill=\"#000000\" fill-rule=\"evenodd\" fill-opacity=\"1\" /><path clip-path=\"url(#clip210)\" d=\"M516.004 1517.37 Q512.393 1517.37 510.564 1520.93 Q508.758 1524.47 508.758 1531.6 Q508.758 1538.71 510.564 1542.27 Q512.393 1545.82 516.004 1545.82 Q519.638 1545.82 521.444 1542.27 Q523.272 1538.71 523.272 1531.6 Q523.272 1524.47 521.444 1520.93 Q519.638 1517.37 516.004 1517.37 M516.004 1513.66 Q521.814 1513.66 524.869 1518.27 Q527.948 1522.85 527.948 1531.6 Q527.948 1540.33 524.869 1544.94 Q521.814 1549.52 516.004 1549.52 Q510.194 1549.52 507.115 1544.94 Q504.059 1540.33 504.059 1531.6 Q504.059 1522.85 507.115 1518.27 Q510.194 1513.66 516.004 1513.66 Z\" fill=\"#000000\" fill-rule=\"evenodd\" fill-opacity=\"1\" /><path clip-path=\"url(#clip210)\" d=\"M760.937 1532.02 L790.613 1532.02 L790.613 1535.95 L760.937 1535.95 L760.937 1532.02 Z\" fill=\"#000000\" fill-rule=\"evenodd\" fill-opacity=\"1\" /><path clip-path=\"url(#clip210)\" d=\"M810.705 1517.37 Q807.094 1517.37 805.265 1520.93 Q803.46 1524.47 803.46 1531.6 Q803.46 1538.71 805.265 1542.27 Q807.094 1545.82 810.705 1545.82 Q814.339 1545.82 816.145 1542.27 Q817.974 1538.71 817.974 1531.6 Q817.974 1524.47 816.145 1520.93 Q814.339 1517.37 810.705 1517.37 M810.705 1513.66 Q816.515 1513.66 819.571 1518.27 Q822.649 1522.85 822.649 1531.6 Q822.649 1540.33 819.571 1544.94 Q816.515 1549.52 810.705 1549.52 Q804.895 1549.52 801.816 1544.94 Q798.761 1540.33 798.761 1531.6 Q798.761 1522.85 801.816 1518.27 Q804.895 1513.66 810.705 1513.66 Z\" fill=\"#000000\" fill-rule=\"evenodd\" fill-opacity=\"1\" /><path clip-path=\"url(#clip210)\" d=\"M830.867 1542.97 L835.751 1542.97 L835.751 1548.85 L830.867 1548.85 L830.867 1542.97 Z\" fill=\"#000000\" fill-rule=\"evenodd\" fill-opacity=\"1\" /><path clip-path=\"url(#clip210)\" d=\"M845.983 1514.29 L864.339 1514.29 L864.339 1518.22 L850.265 1518.22 L850.265 1526.7 Q851.284 1526.35 852.302 1526.19 Q853.321 1526 854.339 1526 Q860.126 1526 863.506 1529.17 Q866.885 1532.34 866.885 1537.76 Q866.885 1543.34 863.413 1546.44 Q859.941 1549.52 853.622 1549.52 Q851.446 1549.52 849.177 1549.15 Q846.932 1548.78 844.524 1548.04 L844.524 1543.34 Q846.608 1544.47 848.83 1545.03 Q851.052 1545.58 853.529 1545.58 Q857.534 1545.58 859.871 1543.48 Q862.209 1541.37 862.209 1537.76 Q862.209 1534.15 859.871 1532.04 Q857.534 1529.94 853.529 1529.94 Q851.654 1529.94 849.779 1530.35 Q847.927 1530.77 845.983 1531.65 L845.983 1514.29 Z\" fill=\"#000000\" fill-rule=\"evenodd\" fill-opacity=\"1\" /><path clip-path=\"url(#clip210)\" d=\"M1130.73 1517.37 Q1127.12 1517.37 1125.29 1520.93 Q1123.49 1524.47 1123.49 1531.6 Q1123.49 1538.71 1125.29 1542.27 Q1127.12 1545.82 1130.73 1545.82 Q1134.36 1545.82 1136.17 1542.27 Q1138 1538.71 1138 1531.6 Q1138 1524.47 1136.17 1520.93 Q1134.36 1517.37 1130.73 1517.37 M1130.73 1513.66 Q1136.54 1513.66 1139.6 1518.27 Q1142.67 1522.85 1142.67 1531.6 Q1142.67 1540.33 1139.6 1544.94 Q1136.54 1549.52 1130.73 1549.52 Q1124.92 1549.52 1121.84 1544.94 Q1118.79 1540.33 1118.79 1531.6 Q1118.79 1522.85 1121.84 1518.27 Q1124.92 1513.66 1130.73 1513.66 Z\" fill=\"#000000\" fill-rule=\"evenodd\" fill-opacity=\"1\" /><path clip-path=\"url(#clip210)\" d=\"M1150.89 1542.97 L1155.78 1542.97 L1155.78 1548.85 L1150.89 1548.85 L1150.89 1542.97 Z\" fill=\"#000000\" fill-rule=\"evenodd\" fill-opacity=\"1\" /><path clip-path=\"url(#clip210)\" d=\"M1175.96 1517.37 Q1172.35 1517.37 1170.52 1520.93 Q1168.72 1524.47 1168.72 1531.6 Q1168.72 1538.71 1170.52 1542.27 Q1172.35 1545.82 1175.96 1545.82 Q1179.6 1545.82 1181.4 1542.27 Q1183.23 1538.71 1183.23 1531.6 Q1183.23 1524.47 1181.4 1520.93 Q1179.6 1517.37 1175.96 1517.37 M1175.96 1513.66 Q1181.77 1513.66 1184.83 1518.27 Q1187.91 1522.85 1187.91 1531.6 Q1187.91 1540.33 1184.83 1544.94 Q1181.77 1549.52 1175.96 1549.52 Q1170.15 1549.52 1167.07 1544.94 Q1164.02 1540.33 1164.02 1531.6 Q1164.02 1522.85 1167.07 1518.27 Q1170.15 1513.66 1175.96 1513.66 Z\" fill=\"#000000\" fill-rule=\"evenodd\" fill-opacity=\"1\" /><path clip-path=\"url(#clip210)\" d=\"M1470.66 1517.37 Q1467.05 1517.37 1465.22 1520.93 Q1463.42 1524.47 1463.42 1531.6 Q1463.42 1538.71 1465.22 1542.27 Q1467.05 1545.82 1470.66 1545.82 Q1474.3 1545.82 1476.1 1542.27 Q1477.93 1538.71 1477.93 1531.6 Q1477.93 1524.47 1476.1 1520.93 Q1474.3 1517.37 1470.66 1517.37 M1470.66 1513.66 Q1476.47 1513.66 1479.53 1518.27 Q1482.61 1522.85 1482.61 1531.6 Q1482.61 1540.33 1479.53 1544.94 Q1476.47 1549.52 1470.66 1549.52 Q1464.85 1549.52 1461.77 1544.94 Q1458.72 1540.33 1458.72 1531.6 Q1458.72 1522.85 1461.77 1518.27 Q1464.85 1513.66 1470.66 1513.66 Z\" fill=\"#000000\" fill-rule=\"evenodd\" fill-opacity=\"1\" /><path clip-path=\"url(#clip210)\" d=\"M1490.82 1542.97 L1495.71 1542.97 L1495.71 1548.85 L1490.82 1548.85 L1490.82 1542.97 Z\" fill=\"#000000\" fill-rule=\"evenodd\" fill-opacity=\"1\" /><path clip-path=\"url(#clip210)\" d=\"M1505.94 1514.29 L1524.3 1514.29 L1524.3 1518.22 L1510.22 1518.22 L1510.22 1526.7 Q1511.24 1526.35 1512.26 1526.19 Q1513.28 1526 1514.3 1526 Q1520.08 1526 1523.46 1529.17 Q1526.84 1532.34 1526.84 1537.76 Q1526.84 1543.34 1523.37 1546.44 Q1519.9 1549.52 1513.58 1549.52 Q1511.4 1549.52 1509.13 1549.15 Q1506.89 1548.78 1504.48 1548.04 L1504.48 1543.34 Q1506.57 1544.47 1508.79 1545.03 Q1511.01 1545.58 1513.49 1545.58 Q1517.49 1545.58 1519.83 1543.48 Q1522.17 1541.37 1522.17 1537.76 Q1522.17 1534.15 1519.83 1532.04 Q1517.49 1529.94 1513.49 1529.94 Q1511.61 1529.94 1509.74 1530.35 Q1507.88 1530.77 1505.94 1531.65 L1505.94 1514.29 Z\" fill=\"#000000\" fill-rule=\"evenodd\" fill-opacity=\"1\" /><path clip-path=\"url(#clip210)\" d=\"M1799.37 1544.91 L1807.01 1544.91 L1807.01 1518.55 L1798.7 1520.21 L1798.7 1515.95 L1806.96 1514.29 L1811.64 1514.29 L1811.64 1544.91 L1819.28 1544.91 L1819.28 1548.85 L1799.37 1548.85 L1799.37 1544.91 Z\" fill=\"#000000\" fill-rule=\"evenodd\" fill-opacity=\"1\" /><path clip-path=\"url(#clip210)\" d=\"M1828.72 1542.97 L1833.6 1542.97 L1833.6 1548.85 L1828.72 1548.85 L1828.72 1542.97 Z\" fill=\"#000000\" fill-rule=\"evenodd\" fill-opacity=\"1\" /><path clip-path=\"url(#clip210)\" d=\"M1853.79 1517.37 Q1850.18 1517.37 1848.35 1520.93 Q1846.54 1524.47 1846.54 1531.6 Q1846.54 1538.71 1848.35 1542.27 Q1850.18 1545.82 1853.79 1545.82 Q1857.42 1545.82 1859.23 1542.27 Q1861.06 1538.71 1861.06 1531.6 Q1861.06 1524.47 1859.23 1520.93 Q1857.42 1517.37 1853.79 1517.37 M1853.79 1513.66 Q1859.6 1513.66 1862.66 1518.27 Q1865.73 1522.85 1865.73 1531.6 Q1865.73 1540.33 1862.66 1544.94 Q1859.6 1549.52 1853.79 1549.52 Q1847.98 1549.52 1844.9 1544.94 Q1841.85 1540.33 1841.85 1531.6 Q1841.85 1522.85 1844.9 1518.27 Q1847.98 1513.66 1853.79 1513.66 Z\" fill=\"#000000\" fill-rule=\"evenodd\" fill-opacity=\"1\" /><polyline clip-path=\"url(#clip212)\" style=\"stroke:#000000; stroke-linecap:round; stroke-linejoin:round; stroke-width:2; stroke-opacity:0.1; fill:none\" points=\"\n",
       "  474.476,1445.72 1832.22,1445.72 \n",
       "  \"/>\n",
       "<polyline clip-path=\"url(#clip212)\" style=\"stroke:#000000; stroke-linecap:round; stroke-linejoin:round; stroke-width:2; stroke-opacity:0.1; fill:none\" points=\"\n",
       "  474.476,1106.28 1832.22,1106.28 \n",
       "  \"/>\n",
       "<polyline clip-path=\"url(#clip212)\" style=\"stroke:#000000; stroke-linecap:round; stroke-linejoin:round; stroke-width:2; stroke-opacity:0.1; fill:none\" points=\"\n",
       "  474.476,766.846 1832.22,766.846 \n",
       "  \"/>\n",
       "<polyline clip-path=\"url(#clip212)\" style=\"stroke:#000000; stroke-linecap:round; stroke-linejoin:round; stroke-width:2; stroke-opacity:0.1; fill:none\" points=\"\n",
       "  474.476,427.411 1832.22,427.411 \n",
       "  \"/>\n",
       "<polyline clip-path=\"url(#clip212)\" style=\"stroke:#000000; stroke-linecap:round; stroke-linejoin:round; stroke-width:2; stroke-opacity:0.1; fill:none\" points=\"\n",
       "  474.476,87.9763 1832.22,87.9763 \n",
       "  \"/>\n",
       "<polyline clip-path=\"url(#clip210)\" style=\"stroke:#000000; stroke-linecap:round; stroke-linejoin:round; stroke-width:4; stroke-opacity:1; fill:none\" points=\"\n",
       "  474.476,1486.45 474.476,47.2441 \n",
       "  \"/>\n",
       "<polyline clip-path=\"url(#clip210)\" style=\"stroke:#000000; stroke-linecap:round; stroke-linejoin:round; stroke-width:4; stroke-opacity:1; fill:none\" points=\"\n",
       "  474.476,1445.72 486.361,1445.72 \n",
       "  \"/>\n",
       "<polyline clip-path=\"url(#clip210)\" style=\"stroke:#000000; stroke-linecap:round; stroke-linejoin:round; stroke-width:4; stroke-opacity:1; fill:none\" points=\"\n",
       "  474.476,1106.28 486.361,1106.28 \n",
       "  \"/>\n",
       "<polyline clip-path=\"url(#clip210)\" style=\"stroke:#000000; stroke-linecap:round; stroke-linejoin:round; stroke-width:4; stroke-opacity:1; fill:none\" points=\"\n",
       "  474.476,766.846 486.361,766.846 \n",
       "  \"/>\n",
       "<polyline clip-path=\"url(#clip210)\" style=\"stroke:#000000; stroke-linecap:round; stroke-linejoin:round; stroke-width:4; stroke-opacity:1; fill:none\" points=\"\n",
       "  474.476,427.411 486.361,427.411 \n",
       "  \"/>\n",
       "<polyline clip-path=\"url(#clip210)\" style=\"stroke:#000000; stroke-linecap:round; stroke-linejoin:round; stroke-width:4; stroke-opacity:1; fill:none\" points=\"\n",
       "  474.476,87.9763 486.361,87.9763 \n",
       "  \"/>\n",
       "<path clip-path=\"url(#clip210)\" d=\"M331.532 1446.17 L361.208 1446.17 L361.208 1450.1 L331.532 1450.1 L331.532 1446.17 Z\" fill=\"#000000\" fill-rule=\"evenodd\" fill-opacity=\"1\" /><path clip-path=\"url(#clip210)\" d=\"M372.111 1459.06 L379.75 1459.06 L379.75 1432.69 L371.44 1434.36 L371.44 1430.1 L379.703 1428.44 L384.379 1428.44 L384.379 1459.06 L392.018 1459.06 L392.018 1463 L372.111 1463 L372.111 1459.06 Z\" fill=\"#000000\" fill-rule=\"evenodd\" fill-opacity=\"1\" /><path clip-path=\"url(#clip210)\" d=\"M401.463 1457.12 L406.347 1457.12 L406.347 1463 L401.463 1463 L401.463 1457.12 Z\" fill=\"#000000\" fill-rule=\"evenodd\" fill-opacity=\"1\" /><path clip-path=\"url(#clip210)\" d=\"M426.532 1431.51 Q422.921 1431.51 421.092 1435.08 Q419.287 1438.62 419.287 1445.75 Q419.287 1452.86 421.092 1456.42 Q422.921 1459.96 426.532 1459.96 Q430.166 1459.96 431.972 1456.42 Q433.8 1452.86 433.8 1445.75 Q433.8 1438.62 431.972 1435.08 Q430.166 1431.51 426.532 1431.51 M426.532 1427.81 Q432.342 1427.81 435.398 1432.42 Q438.476 1437 438.476 1445.75 Q438.476 1454.48 435.398 1459.08 Q432.342 1463.67 426.532 1463.67 Q420.722 1463.67 417.643 1459.08 Q414.587 1454.48 414.587 1445.75 Q414.587 1437 417.643 1432.42 Q420.722 1427.81 426.532 1427.81 Z\" fill=\"#000000\" fill-rule=\"evenodd\" fill-opacity=\"1\" /><path clip-path=\"url(#clip210)\" d=\"M332.528 1106.73 L362.204 1106.73 L362.204 1110.67 L332.528 1110.67 L332.528 1106.73 Z\" fill=\"#000000\" fill-rule=\"evenodd\" fill-opacity=\"1\" /><path clip-path=\"url(#clip210)\" d=\"M382.296 1092.08 Q378.685 1092.08 376.856 1095.64 Q375.051 1099.19 375.051 1106.32 Q375.051 1113.42 376.856 1116.99 Q378.685 1120.53 382.296 1120.53 Q385.93 1120.53 387.736 1116.99 Q389.564 1113.42 389.564 1106.32 Q389.564 1099.19 387.736 1095.64 Q385.93 1092.08 382.296 1092.08 M382.296 1088.38 Q388.106 1088.38 391.162 1092.98 Q394.24 1097.57 394.24 1106.32 Q394.24 1115.04 391.162 1119.65 Q388.106 1124.23 382.296 1124.23 Q376.486 1124.23 373.407 1119.65 Q370.352 1115.04 370.352 1106.32 Q370.352 1097.57 373.407 1092.98 Q376.486 1088.38 382.296 1088.38 Z\" fill=\"#000000\" fill-rule=\"evenodd\" fill-opacity=\"1\" /><path clip-path=\"url(#clip210)\" d=\"M402.458 1117.68 L407.342 1117.68 L407.342 1123.56 L402.458 1123.56 L402.458 1117.68 Z\" fill=\"#000000\" fill-rule=\"evenodd\" fill-opacity=\"1\" /><path clip-path=\"url(#clip210)\" d=\"M417.574 1089 L435.93 1089 L435.93 1092.94 L421.856 1092.94 L421.856 1101.41 Q422.874 1101.06 423.893 1100.9 Q424.912 1100.71 425.93 1100.71 Q431.717 1100.71 435.097 1103.89 Q438.476 1107.06 438.476 1112.47 Q438.476 1118.05 435.004 1121.15 Q431.532 1124.23 425.212 1124.23 Q423.037 1124.23 420.768 1123.86 Q418.523 1123.49 416.115 1122.75 L416.115 1118.05 Q418.199 1119.19 420.421 1119.74 Q422.643 1120.3 425.12 1120.3 Q429.124 1120.3 431.462 1118.19 Q433.8 1116.08 433.8 1112.47 Q433.8 1108.86 431.462 1106.76 Q429.124 1104.65 425.12 1104.65 Q423.245 1104.65 421.37 1105.07 Q419.518 1105.48 417.574 1106.36 L417.574 1089 Z\" fill=\"#000000\" fill-rule=\"evenodd\" fill-opacity=\"1\" /><path clip-path=\"url(#clip210)\" d=\"M381.301 752.645 Q377.69 752.645 375.861 756.209 Q374.055 759.751 374.055 766.881 Q374.055 773.987 375.861 777.552 Q377.69 781.094 381.301 781.094 Q384.935 781.094 386.74 777.552 Q388.569 773.987 388.569 766.881 Q388.569 759.751 386.74 756.209 Q384.935 752.645 381.301 752.645 M381.301 748.941 Q387.111 748.941 390.166 753.547 Q393.245 758.131 393.245 766.881 Q393.245 775.608 390.166 780.214 Q387.111 784.797 381.301 784.797 Q375.49 784.797 372.412 780.214 Q369.356 775.608 369.356 766.881 Q369.356 758.131 372.412 753.547 Q375.49 748.941 381.301 748.941 Z\" fill=\"#000000\" fill-rule=\"evenodd\" fill-opacity=\"1\" /><path clip-path=\"url(#clip210)\" d=\"M401.463 778.246 L406.347 778.246 L406.347 784.126 L401.463 784.126 L401.463 778.246 Z\" fill=\"#000000\" fill-rule=\"evenodd\" fill-opacity=\"1\" /><path clip-path=\"url(#clip210)\" d=\"M426.532 752.645 Q422.921 752.645 421.092 756.209 Q419.287 759.751 419.287 766.881 Q419.287 773.987 421.092 777.552 Q422.921 781.094 426.532 781.094 Q430.166 781.094 431.972 777.552 Q433.8 773.987 433.8 766.881 Q433.8 759.751 431.972 756.209 Q430.166 752.645 426.532 752.645 M426.532 748.941 Q432.342 748.941 435.398 753.547 Q438.476 758.131 438.476 766.881 Q438.476 775.608 435.398 780.214 Q432.342 784.797 426.532 784.797 Q420.722 784.797 417.643 780.214 Q414.587 775.608 414.587 766.881 Q414.587 758.131 417.643 753.547 Q420.722 748.941 426.532 748.941 Z\" fill=\"#000000\" fill-rule=\"evenodd\" fill-opacity=\"1\" /><path clip-path=\"url(#clip210)\" d=\"M382.296 413.21 Q378.685 413.21 376.856 416.775 Q375.051 420.316 375.051 427.446 Q375.051 434.552 376.856 438.117 Q378.685 441.659 382.296 441.659 Q385.93 441.659 387.736 438.117 Q389.564 434.552 389.564 427.446 Q389.564 420.316 387.736 416.775 Q385.93 413.21 382.296 413.21 M382.296 409.506 Q388.106 409.506 391.162 414.113 Q394.24 418.696 394.24 427.446 Q394.24 436.173 391.162 440.779 Q388.106 445.362 382.296 445.362 Q376.486 445.362 373.407 440.779 Q370.352 436.173 370.352 427.446 Q370.352 418.696 373.407 414.113 Q376.486 409.506 382.296 409.506 Z\" fill=\"#000000\" fill-rule=\"evenodd\" fill-opacity=\"1\" /><path clip-path=\"url(#clip210)\" d=\"M402.458 438.812 L407.342 438.812 L407.342 444.691 L402.458 444.691 L402.458 438.812 Z\" fill=\"#000000\" fill-rule=\"evenodd\" fill-opacity=\"1\" /><path clip-path=\"url(#clip210)\" d=\"M417.574 410.131 L435.93 410.131 L435.93 414.066 L421.856 414.066 L421.856 422.538 Q422.874 422.191 423.893 422.029 Q424.912 421.844 425.93 421.844 Q431.717 421.844 435.097 425.015 Q438.476 428.187 438.476 433.603 Q438.476 439.182 435.004 442.284 Q431.532 445.362 425.212 445.362 Q423.037 445.362 420.768 444.992 Q418.523 444.622 416.115 443.881 L416.115 439.182 Q418.199 440.316 420.421 440.872 Q422.643 441.427 425.12 441.427 Q429.124 441.427 431.462 439.321 Q433.8 437.214 433.8 433.603 Q433.8 429.992 431.462 427.886 Q429.124 425.779 425.12 425.779 Q423.245 425.779 421.37 426.196 Q419.518 426.613 417.574 427.492 L417.574 410.131 Z\" fill=\"#000000\" fill-rule=\"evenodd\" fill-opacity=\"1\" /><path clip-path=\"url(#clip210)\" d=\"M372.111 101.321 L379.75 101.321 L379.75 74.9555 L371.44 76.6222 L371.44 72.3629 L379.703 70.6963 L384.379 70.6963 L384.379 101.321 L392.018 101.321 L392.018 105.256 L372.111 105.256 L372.111 101.321 Z\" fill=\"#000000\" fill-rule=\"evenodd\" fill-opacity=\"1\" /><path clip-path=\"url(#clip210)\" d=\"M401.463 99.3767 L406.347 99.3767 L406.347 105.256 L401.463 105.256 L401.463 99.3767 Z\" fill=\"#000000\" fill-rule=\"evenodd\" fill-opacity=\"1\" /><path clip-path=\"url(#clip210)\" d=\"M426.532 73.775 Q422.921 73.775 421.092 77.3398 Q419.287 80.8814 419.287 88.011 Q419.287 95.1174 421.092 98.6822 Q422.921 102.224 426.532 102.224 Q430.166 102.224 431.972 98.6822 Q433.8 95.1174 433.8 88.011 Q433.8 80.8814 431.972 77.3398 Q430.166 73.775 426.532 73.775 M426.532 70.0713 Q432.342 70.0713 435.398 74.6777 Q438.476 79.261 438.476 88.011 Q438.476 96.7378 435.398 101.344 Q432.342 105.928 426.532 105.928 Q420.722 105.928 417.643 101.344 Q414.587 96.7378 414.587 88.011 Q414.587 79.261 417.643 74.6777 Q420.722 70.0713 426.532 70.0713 Z\" fill=\"#000000\" fill-rule=\"evenodd\" fill-opacity=\"1\" /><polyline clip-path=\"url(#clip212)\" style=\"stroke:#cd4247; stroke-linecap:round; stroke-linejoin:round; stroke-width:4; stroke-opacity:1; fill:none\" points=\"\n",
       "  827.488,1445.72 813.911,1433.14 755.111,1377.83 746.024,1369.15 684.978,1309.94 678.137,1303.2 616.987,1242.05 610.25,1235.21 551.04,1174.17 542.363,1165.08 \n",
       "  487.048,1106.28 474.476,1092.7 \n",
       "  \"/>\n",
       "<polyline clip-path=\"url(#clip212)\" style=\"stroke:#a42c60; stroke-linecap:round; stroke-linejoin:round; stroke-width:4; stroke-opacity:1; fill:none\" points=\"\n",
       "  474.476,979.362 527.931,1038.39 542.363,1054.06 591.242,1106.28 610.25,1126.25 656.612,1174.17 678.137,1196.05 724.143,1242.05 746.024,1263.58 793.944,1309.94 \n",
       "  813.911,1328.95 866.132,1377.83 881.798,1392.26 940.83,1445.72 \n",
       "  \"/>\n",
       "<polyline clip-path=\"url(#clip212)\" style=\"stroke:#ba3655; stroke-linecap:round; stroke-linejoin:round; stroke-width:4; stroke-opacity:1; fill:none\" points=\"\n",
       "  881.798,1445.72 881.798,1445.72 813.911,1382.86 808.566,1377.83 746.024,1318.11 737.604,1309.94 678.137,1251.38 668.809,1242.05 610.25,1182.59 602.083,1174.17 \n",
       "  542.363,1111.63 537.335,1106.28 474.476,1038.39 \n",
       "  \"/>\n",
       "<polyline clip-path=\"url(#clip212)\" style=\"stroke:#8e2468; stroke-linecap:round; stroke-linejoin:round; stroke-width:4; stroke-opacity:1; fill:none\" points=\"\n",
       "  474.476,915.551 522.967,970.507 542.363,992.078 584.72,1038.39 610.25,1065.8 648.621,1106.28 678.137,1136.86 714.784,1174.17 746.024,1205.41 783.331,1242.05 \n",
       "  813.911,1271.57 854.394,1309.94 881.798,1335.47 928.113,1377.83 949.685,1397.22 1004.64,1445.72 \n",
       "  \"/>\n",
       "<polyline clip-path=\"url(#clip212)\" style=\"stroke:#781c6d; stroke-linecap:round; stroke-linejoin:round; stroke-width:4; stroke-opacity:1; fill:none\" points=\"\n",
       "  1074.74,1445.72 1017.57,1396.79 995.876,1377.83 949.685,1336.72 920.199,1309.94 881.798,1274.41 847.519,1242.05 813.911,1209.73 777.661,1174.17 746.024,1142.53 \n",
       "  710.464,1106.28 678.137,1072.67 645.78,1038.39 610.25,999.993 583.469,970.507 542.363,924.316 523.404,902.62 474.476,845.452 \n",
       "  \"/>\n",
       "<polyline clip-path=\"url(#clip212)\" style=\"stroke:#60136e; stroke-linecap:round; stroke-linejoin:round; stroke-width:4; stroke-opacity:1; fill:none\" points=\"\n",
       "  474.476,766.846 474.476,766.846 530.499,834.733 542.363,848.779 588.741,902.62 610.25,927.029 649.337,970.507 678.137,1001.84 712.431,1038.39 746.024,1073.43 \n",
       "  778.181,1106.28 813.911,1142.01 846.76,1174.17 881.798,1207.76 918.353,1242.05 949.685,1270.86 993.163,1309.94 1017.57,1331.45 1071.41,1377.83 1085.46,1389.69 \n",
       "  1153.35,1445.72 \n",
       "  \"/>\n",
       "<polyline clip-path=\"url(#clip212)\" style=\"stroke:#4a0b6a; stroke-linecap:round; stroke-linejoin:round; stroke-width:4; stroke-opacity:1; fill:none\" points=\"\n",
       "  1247.34,1445.72 1221.23,1426.21 1158.41,1377.83 1153.35,1373.84 1085.46,1317.97 1076.01,1309.94 1017.57,1259.21 998.295,1242.05 949.685,1197.81 924.33,1174.17 \n",
       "  881.798,1133.59 853.845,1106.28 813.911,1066.35 786.6,1038.39 746.024,995.862 722.378,970.507 678.137,921.896 660.979,902.62 610.25,844.186 602.221,834.733 \n",
       "  546.357,766.846 542.363,761.78 493.984,698.959 474.476,672.849 \n",
       "  \"/>\n",
       "<polyline clip-path=\"url(#clip212)\" style=\"stroke:#32095d; stroke-linecap:round; stroke-linejoin:round; stroke-width:4; stroke-opacity:1; fill:none\" points=\"\n",
       "  474.476,555.642 479.257,563.185 526.036,631.072 542.363,653.701 575.866,698.959 610.25,743.833 628.353,766.846 678.137,828.056 683.717,834.733 742.672,902.62 \n",
       "  746.024,906.34 805.318,970.507 813.911,979.558 871.218,1038.39 881.798,1048.97 940.633,1106.28 949.685,1114.87 1013.85,1174.17 1017.57,1177.52 1085.46,1236.48 \n",
       "  1092.14,1242.05 1153.35,1291.84 1176.36,1309.94 1221.23,1344.33 1266.49,1377.83 1289.12,1394.16 1357.01,1440.93 1364.55,1445.72 \n",
       "  \"/>\n",
       "<polyline clip-path=\"url(#clip212)\" style=\"stroke:#1a0b40; stroke-linecap:round; stroke-linejoin:round; stroke-width:4; stroke-opacity:1; fill:none\" points=\"\n",
       "  1560.67,1445.72 1560.67,1445.72 1492.78,1414.86 1424.89,1381.06 1419.39,1377.83 1357.01,1339.99 1310.01,1309.94 1289.12,1296.13 1221.23,1248.13 1213.25,1242.05 \n",
       "  1153.35,1195.06 1127.73,1174.17 1085.46,1138.61 1048.43,1106.28 1017.57,1078.46 974.696,1038.39 949.685,1014.23 905.961,970.507 881.798,945.496 841.734,902.62 \n",
       "  813.911,871.762 781.584,834.733 746.024,792.464 725.136,766.846 678.137,706.946 672.058,698.959 624.058,631.072 610.25,610.184 580.202,563.185 542.363,500.802 \n",
       "  539.131,495.298 505.334,427.411 474.476,359.524 \n",
       "  \"/>\n",
       "<polyline clip-path=\"url(#clip212)\" style=\"stroke:#1a0b40; stroke-linecap:round; stroke-linejoin:round; stroke-width:4; stroke-opacity:1; fill:none\" points=\"\n",
       "  474.476,87.9763 474.476,87.9763 \n",
       "  \"/>\n",
       "<polyline clip-path=\"url(#clip212)\" style=\"stroke:#1a0b40; stroke-linecap:round; stroke-linejoin:round; stroke-width:4; stroke-opacity:1; fill:none\" points=\"\n",
       "  746.024,87.9763 746.024,87.9763 813.911,118.834 881.798,152.631 887.302,155.863 949.685,193.702 996.684,223.75 1017.57,237.558 1085.46,285.558 1093.45,291.637 \n",
       "  1153.35,338.636 1178.96,359.524 1221.23,395.084 1258.26,427.411 1289.12,455.234 1332,495.298 1357.01,519.461 1400.73,563.185 1424.89,588.196 1464.96,631.072 \n",
       "  1492.78,661.93 1525.11,698.959 1560.67,741.228 1581.56,766.846 1628.55,826.746 1634.63,834.733 1682.63,902.62 1696.44,923.508 1726.49,970.507 1764.33,1032.89 \n",
       "  1767.56,1038.39 1801.36,1106.28 1832.22,1174.17 \n",
       "  \"/>\n",
       "<polyline clip-path=\"url(#clip212)\" style=\"stroke:#32095d; stroke-linecap:round; stroke-linejoin:round; stroke-width:4; stroke-opacity:1; fill:none\" points=\"\n",
       "  1832.22,978.05 1827.43,970.507 1780.66,902.62 1764.33,879.991 1730.83,834.733 1696.44,789.859 1678.34,766.846 1628.55,705.636 1622.97,698.959 1564.02,631.072 \n",
       "  1560.67,627.352 1501.37,563.185 1492.78,554.133 1435.47,495.298 1424.89,484.718 1366.06,427.411 1357.01,418.818 1292.84,359.524 1289.12,356.172 1221.23,297.217 \n",
       "  1214.56,291.637 1153.35,241.853 1130.33,223.75 1085.46,189.366 1040.2,155.863 1017.57,139.536 949.685,92.757 942.142,87.9763 \n",
       "  \"/>\n",
       "<polyline clip-path=\"url(#clip212)\" style=\"stroke:#4a0b6a; stroke-linecap:round; stroke-linejoin:round; stroke-width:4; stroke-opacity:1; fill:none\" points=\"\n",
       "  1059.35,87.9763 1085.46,107.484 1148.28,155.863 1153.35,159.857 1221.23,215.721 1230.69,223.75 1289.12,274.479 1308.4,291.637 1357.01,335.878 1382.36,359.524 \n",
       "  1424.89,400.1 1452.85,427.411 1492.78,467.345 1520.09,495.298 1560.67,537.83 1584.31,563.185 1628.55,611.795 1645.71,631.072 1696.44,689.506 1704.47,698.959 \n",
       "  1760.34,766.846 1764.33,771.912 1812.71,834.733 1832.22,860.843 \n",
       "  \"/>\n",
       "<polyline clip-path=\"url(#clip212)\" style=\"stroke:#60136e; stroke-linecap:round; stroke-linejoin:round; stroke-width:4; stroke-opacity:1; fill:none\" points=\"\n",
       "  1832.22,766.846 1832.22,766.846 1776.19,698.959 1764.33,684.913 1717.95,631.072 1696.44,606.663 1657.36,563.185 1628.55,531.853 1594.26,495.298 1560.67,460.26 \n",
       "  1528.51,427.411 1492.78,391.681 1459.93,359.524 1424.89,325.931 1388.34,291.637 1357.01,262.837 1313.53,223.75 1289.12,202.241 1235.28,155.863 1221.23,144 \n",
       "  1153.35,87.9763 \n",
       "  \"/>\n",
       "<polyline clip-path=\"url(#clip212)\" style=\"stroke:#781c6d; stroke-linecap:round; stroke-linejoin:round; stroke-width:4; stroke-opacity:1; fill:none\" points=\"\n",
       "  1231.95,87.9763 1289.12,136.904 1310.82,155.863 1357.01,196.969 1386.49,223.75 1424.89,259.28 1459.17,291.637 1492.78,323.964 1529.03,359.524 1560.67,391.161 \n",
       "  1596.23,427.411 1628.55,461.019 1660.91,495.298 1696.44,533.699 1723.22,563.185 1764.33,609.376 1783.29,631.072 1832.22,688.24 \n",
       "  \"/>\n",
       "<polyline clip-path=\"url(#clip212)\" style=\"stroke:#8e2468; stroke-linecap:round; stroke-linejoin:round; stroke-width:4; stroke-opacity:1; fill:none\" points=\"\n",
       "  1832.22,618.141 1783.72,563.185 1764.33,541.614 1721.97,495.298 1696.44,467.894 1658.07,427.411 1628.55,396.831 1591.91,359.524 1560.67,328.284 1523.36,291.637 \n",
       "  1492.78,262.121 1452.3,223.75 1424.89,198.22 1378.58,155.863 1357.01,136.467 1302.05,87.9763 \n",
       "  \"/>\n",
       "<polyline clip-path=\"url(#clip212)\" style=\"stroke:#a42c60; stroke-linecap:round; stroke-linejoin:round; stroke-width:4; stroke-opacity:1; fill:none\" points=\"\n",
       "  1365.86,87.9763 1424.89,141.431 1440.56,155.863 1492.78,204.742 1512.75,223.75 1560.67,270.112 1582.55,291.637 1628.55,337.643 1650.08,359.524 1696.44,407.444 \n",
       "  1715.45,427.411 1764.33,479.632 1778.76,495.298 1832.22,554.33 \n",
       "  \"/>\n",
       "<polyline clip-path=\"url(#clip212)\" style=\"stroke:#ba3655; stroke-linecap:round; stroke-linejoin:round; stroke-width:4; stroke-opacity:1; fill:none\" points=\"\n",
       "  1832.22,495.298 1832.22,495.298 1769.36,427.411 1764.33,422.066 1704.61,359.524 1696.44,351.104 1637.88,291.637 1628.55,282.309 1569.09,223.75 1560.67,215.583 \n",
       "  1498.13,155.863 1492.78,150.835 1424.89,87.9763 \n",
       "  \"/>\n",
       "<polyline clip-path=\"url(#clip212)\" style=\"stroke:#cd4247; stroke-linecap:round; stroke-linejoin:round; stroke-width:4; stroke-opacity:1; fill:none\" points=\"\n",
       "  1479.2,87.9763 1492.78,100.548 1551.58,155.863 1560.67,164.541 1621.71,223.75 1628.55,230.487 1689.7,291.637 1696.44,298.479 1755.65,359.524 1764.33,368.611 \n",
       "  1819.64,427.411 1832.22,440.989 \n",
       "  \"/>\n",
       "<polyline clip-path=\"url(#clip212)\" style=\"stroke:#1a0b40; stroke-linecap:round; stroke-linejoin:round; stroke-width:4; stroke-opacity:1; fill:none\" points=\"\n",
       "  1832.22,1445.72 1832.22,1445.72 \n",
       "  \"/>\n",
       "<polyline clip-path=\"url(#clip212)\" style=\"stroke:#08061f; stroke-linecap:round; stroke-linejoin:round; stroke-width:4; stroke-opacity:1; fill:none\" points=\"\n",
       "  1635.7,1242.05 1628.55,1249.2 1560.67,1269.71 1492.78,1261.45 1431.07,1242.05 1424.89,1240 1357.01,1205.63 1300.93,1174.17 1289.12,1167.21 1221.23,1120.72 \n",
       "  1201.84,1106.28 1153.35,1068.57 1116.65,1038.39 1085.46,1011.55 1040.2,970.507 1017.57,948.982 971.21,902.62 949.685,879.991 908.637,834.733 881.798,803.542 \n",
       "  851.626,766.846 813.911,718.355 799.467,698.959 752.987,631.072 746.024,619.266 714.564,563.185 680.194,495.298 678.137,489.127 658.741,427.411 650.48,359.524 \n",
       "  670.991,291.637 678.137,284.491 746.024,263.98 813.911,272.241 875.627,291.637 881.798,293.694 949.685,328.064 1005.77,359.524 1017.57,366.487 1085.46,412.967 \n",
       "  1104.86,427.411 1153.35,465.126 1190.04,495.298 1221.23,522.137 1266.49,563.185 1289.12,584.71 1335.48,631.072 1357.01,653.701 1398.05,698.959 1424.89,730.15 \n",
       "  1455.07,766.846 1492.78,815.337 1507.22,834.733 1553.71,902.62 1560.67,914.426 1592.13,970.507 1626.5,1038.39 1628.55,1044.57 1647.95,1106.28 1656.21,1174.17 \n",
       "  1635.7,1242.05 \n",
       "  \"/>\n",
       "<polyline clip-path=\"url(#clip212)\" style=\"stroke:#e26f46; stroke-linecap:round; stroke-linejoin:round; stroke-width:4; stroke-opacity:1; fill:none\" points=\"\n",
       "  1153.35,766.846 673.313,286.813 \n",
       "  \"/>\n",
       "<polyline clip-path=\"url(#clip212)\" style=\"stroke:#3da44d; stroke-linecap:round; stroke-linejoin:round; stroke-width:4; stroke-opacity:1; fill:none\" points=\"\n",
       "  1153.35,766.846 1313.36,606.835 \n",
       "  \"/>\n",
       "<defs>\n",
       "  <clipPath id=\"clip213\">\n",
       "    <rect x=\"1880\" y=\"47\" width=\"73\" height=\"1440\"/>\n",
       "  </clipPath>\n",
       "</defs>\n",
       "<polyline clip-path=\"url(#clip213)\" style=\"stroke:#08061f; stroke-linecap:round; stroke-linejoin:round; stroke-width:4; stroke-opacity:1; fill:none\" points=\"\n",
       "  1880.22,1406.49 1952.22,1406.49 \n",
       "  \"/>\n",
       "<polyline clip-path=\"url(#clip213)\" style=\"stroke:#1a0b40; stroke-linecap:round; stroke-linejoin:round; stroke-width:4; stroke-opacity:1; fill:none\" points=\"\n",
       "  1880.22,1326.54 1952.22,1326.54 \n",
       "  \"/>\n",
       "<polyline clip-path=\"url(#clip213)\" style=\"stroke:#32095d; stroke-linecap:round; stroke-linejoin:round; stroke-width:4; stroke-opacity:1; fill:none\" points=\"\n",
       "  1880.22,1246.58 1952.22,1246.58 \n",
       "  \"/>\n",
       "<polyline clip-path=\"url(#clip213)\" style=\"stroke:#4b0c6b; stroke-linecap:round; stroke-linejoin:round; stroke-width:4; stroke-opacity:1; fill:none\" points=\"\n",
       "  1880.22,1166.62 1952.22,1166.62 \n",
       "  \"/>\n",
       "<polyline clip-path=\"url(#clip213)\" style=\"stroke:#62146e; stroke-linecap:round; stroke-linejoin:round; stroke-width:4; stroke-opacity:1; fill:none\" points=\"\n",
       "  1880.22,1086.67 1952.22,1086.67 \n",
       "  \"/>\n",
       "<polyline clip-path=\"url(#clip213)\" style=\"stroke:#781c6d; stroke-linecap:round; stroke-linejoin:round; stroke-width:4; stroke-opacity:1; fill:none\" points=\"\n",
       "  1880.22,1006.71 1952.22,1006.71 \n",
       "  \"/>\n",
       "<polyline clip-path=\"url(#clip213)\" style=\"stroke:#8e2468; stroke-linecap:round; stroke-linejoin:round; stroke-width:4; stroke-opacity:1; fill:none\" points=\"\n",
       "  1880.22,926.758 1952.22,926.758 \n",
       "  \"/>\n",
       "<polyline clip-path=\"url(#clip213)\" style=\"stroke:#a42c60; stroke-linecap:round; stroke-linejoin:round; stroke-width:4; stroke-opacity:1; fill:none\" points=\"\n",
       "  1880.22,846.802 1952.22,846.802 \n",
       "  \"/>\n",
       "<polyline clip-path=\"url(#clip213)\" style=\"stroke:#bb3754; stroke-linecap:round; stroke-linejoin:round; stroke-width:4; stroke-opacity:1; fill:none\" points=\"\n",
       "  1880.22,766.846 1952.22,766.846 \n",
       "  \"/>\n",
       "<polyline clip-path=\"url(#clip213)\" style=\"stroke:#cf4446; stroke-linecap:round; stroke-linejoin:round; stroke-width:4; stroke-opacity:1; fill:none\" points=\"\n",
       "  1880.22,686.89 1952.22,686.89 \n",
       "  \"/>\n",
       "<path clip-path=\"url(#clip210)\" d=\"M2000.16 1468.62 Q1996.55 1468.62 1994.72 1472.18 Q1992.91 1475.72 1992.91 1482.85 Q1992.91 1489.96 1994.72 1493.53 Q1996.55 1497.07 2000.16 1497.07 Q2003.79 1497.07 2005.6 1493.53 Q2007.43 1489.96 2007.43 1482.85 Q2007.43 1475.72 2005.6 1472.18 Q2003.79 1468.62 2000.16 1468.62 M2000.16 1464.91 Q2005.97 1464.91 2009.03 1469.52 Q2012.1 1474.1 2012.1 1482.85 Q2012.1 1491.58 2009.03 1496.19 Q2005.97 1500.77 2000.16 1500.77 Q1994.35 1500.77 1991.27 1496.19 Q1988.22 1491.58 1988.22 1482.85 Q1988.22 1474.1 1991.27 1469.52 Q1994.35 1464.91 2000.16 1464.91 Z\" fill=\"#000000\" fill-rule=\"evenodd\" fill-opacity=\"1\" /><path clip-path=\"url(#clip210)\" d=\"M1993.84 1296.27 L2010.16 1296.27 L2010.16 1300.21 L1988.22 1300.21 L1988.22 1296.27 Q1990.88 1293.52 1995.46 1288.89 Q2000.07 1284.24 2001.25 1282.89 Q2003.49 1280.37 2004.37 1278.64 Q2005.28 1276.88 2005.28 1275.19 Q2005.28 1272.43 2003.33 1270.7 Q2001.41 1268.96 1998.31 1268.96 Q1996.11 1268.96 1993.66 1269.72 Q1991.22 1270.49 1988.45 1272.04 L1988.45 1267.32 Q1991.27 1266.18 1993.72 1265.6 Q1996.18 1265.02 1998.22 1265.02 Q2003.59 1265.02 2006.78 1267.71 Q2009.97 1270.4 2009.97 1274.89 Q2009.97 1277.02 2009.16 1278.94 Q2008.38 1280.83 2006.27 1283.43 Q2005.69 1284.1 2002.59 1287.32 Q1999.49 1290.51 1993.84 1296.27 Z\" fill=\"#000000\" fill-rule=\"evenodd\" fill-opacity=\"1\" /><path clip-path=\"url(#clip210)\" d=\"M2019.97 1294.33 L2024.86 1294.33 L2024.86 1300.21 L2019.97 1300.21 L2019.97 1294.33 Z\" fill=\"#000000\" fill-rule=\"evenodd\" fill-opacity=\"1\" /><path clip-path=\"url(#clip210)\" d=\"M2035.09 1265.65 L2053.45 1265.65 L2053.45 1269.58 L2039.37 1269.58 L2039.37 1278.06 Q2040.39 1277.71 2041.41 1277.55 Q2042.43 1277.36 2043.45 1277.36 Q2049.23 1277.36 2052.61 1280.53 Q2055.99 1283.71 2055.99 1289.12 Q2055.99 1294.7 2052.52 1297.8 Q2049.05 1300.88 2042.73 1300.88 Q2040.55 1300.88 2038.28 1300.51 Q2036.04 1300.14 2033.63 1299.4 L2033.63 1294.7 Q2035.72 1295.83 2037.94 1296.39 Q2040.16 1296.95 2042.64 1296.95 Q2046.64 1296.95 2048.98 1294.84 Q2051.32 1292.73 2051.32 1289.12 Q2051.32 1285.51 2048.98 1283.4 Q2046.64 1281.3 2042.64 1281.3 Q2040.76 1281.3 2038.89 1281.71 Q2037.03 1282.13 2035.09 1283.01 L2035.09 1265.65 Z\" fill=\"#000000\" fill-rule=\"evenodd\" fill-opacity=\"1\" /><path clip-path=\"url(#clip210)\" d=\"M1989.67 1065.76 L2008.03 1065.76 L2008.03 1069.7 L1993.96 1069.7 L1993.96 1078.17 Q1994.97 1077.82 1995.99 1077.66 Q1997.01 1077.47 1998.03 1077.47 Q2003.82 1077.47 2007.2 1080.64 Q2010.58 1083.82 2010.58 1089.23 Q2010.58 1094.81 2007.1 1097.91 Q2003.63 1100.99 1997.31 1100.99 Q1995.14 1100.99 1992.87 1100.62 Q1990.62 1100.25 1988.22 1099.51 L1988.22 1094.81 Q1990.3 1095.95 1992.52 1096.5 Q1994.74 1097.06 1997.22 1097.06 Q2001.22 1097.06 2003.56 1094.95 Q2005.9 1092.84 2005.9 1089.23 Q2005.9 1085.62 2003.56 1083.51 Q2001.22 1081.41 1997.22 1081.41 Q1995.35 1081.41 1993.47 1081.82 Q1991.62 1082.24 1989.67 1083.12 L1989.67 1065.76 Z\" fill=\"#000000\" fill-rule=\"evenodd\" fill-opacity=\"1\" /><path clip-path=\"url(#clip210)\" d=\"M2019.79 1094.44 L2024.67 1094.44 L2024.67 1100.32 L2019.79 1100.32 L2019.79 1094.44 Z\" fill=\"#000000\" fill-rule=\"evenodd\" fill-opacity=\"1\" /><path clip-path=\"url(#clip210)\" d=\"M2044.86 1068.84 Q2041.25 1068.84 2039.42 1072.4 Q2037.61 1075.95 2037.61 1083.07 Q2037.61 1090.18 2039.42 1093.75 Q2041.25 1097.29 2044.86 1097.29 Q2048.49 1097.29 2050.3 1093.75 Q2052.13 1090.18 2052.13 1083.07 Q2052.13 1075.95 2050.3 1072.4 Q2048.49 1068.84 2044.86 1068.84 M2044.86 1065.14 Q2050.67 1065.14 2053.72 1069.74 Q2056.8 1074.33 2056.8 1083.07 Q2056.8 1091.8 2053.72 1096.41 Q2050.67 1100.99 2044.86 1100.99 Q2039.05 1100.99 2035.97 1096.41 Q2032.91 1091.8 2032.91 1083.07 Q2032.91 1074.33 2035.97 1069.74 Q2039.05 1065.14 2044.86 1065.14 Z\" fill=\"#000000\" fill-rule=\"evenodd\" fill-opacity=\"1\" /><path clip-path=\"url(#clip210)\" d=\"M1988.22 865.871 L2010.44 865.871 L2010.44 867.862 L1997.89 900.431 L1993.01 900.431 L2004.81 869.806 L1988.22 869.806 L1988.22 865.871 Z\" fill=\"#000000\" fill-rule=\"evenodd\" fill-opacity=\"1\" /><path clip-path=\"url(#clip210)\" d=\"M2019.56 894.551 L2024.44 894.551 L2024.44 900.431 L2019.56 900.431 L2019.56 894.551 Z\" fill=\"#000000\" fill-rule=\"evenodd\" fill-opacity=\"1\" /><path clip-path=\"url(#clip210)\" d=\"M2034.67 865.871 L2053.03 865.871 L2053.03 869.806 L2038.96 869.806 L2038.96 878.278 Q2039.97 877.931 2040.99 877.769 Q2042.01 877.584 2043.03 877.584 Q2048.82 877.584 2052.2 880.755 Q2055.58 883.926 2055.58 889.343 Q2055.58 894.922 2052.1 898.023 Q2048.63 901.102 2042.31 901.102 Q2040.14 901.102 2037.87 900.732 Q2035.62 900.361 2033.22 899.621 L2033.22 894.922 Q2035.3 896.056 2037.52 896.611 Q2039.74 897.167 2042.22 897.167 Q2046.22 897.167 2048.56 895.06 Q2050.9 892.954 2050.9 889.343 Q2050.9 885.732 2048.56 883.625 Q2046.22 881.519 2042.22 881.519 Q2040.35 881.519 2038.47 881.936 Q2036.62 882.352 2034.67 883.232 L2034.67 865.871 Z\" fill=\"#000000\" fill-rule=\"evenodd\" fill-opacity=\"1\" /><path clip-path=\"url(#clip210)\" d=\"M1988.89 696.606 L1996.53 696.606 L1996.53 670.241 L1988.22 671.907 L1988.22 667.648 L1996.48 665.981 L2001.16 665.981 L2001.16 696.606 L2008.79 696.606 L2008.79 700.541 L1988.89 700.541 L1988.89 696.606 Z\" fill=\"#000000\" fill-rule=\"evenodd\" fill-opacity=\"1\" /><path clip-path=\"url(#clip210)\" d=\"M2028.24 669.06 Q2024.63 669.06 2022.8 672.625 Q2020.99 676.167 2020.99 683.296 Q2020.99 690.403 2022.8 693.967 Q2024.63 697.509 2028.24 697.509 Q2031.87 697.509 2033.68 693.967 Q2035.51 690.403 2035.51 683.296 Q2035.51 676.167 2033.68 672.625 Q2031.87 669.06 2028.24 669.06 M2028.24 665.356 Q2034.05 665.356 2037.1 669.963 Q2040.18 674.546 2040.18 683.296 Q2040.18 692.023 2037.1 696.629 Q2034.05 701.213 2028.24 701.213 Q2022.43 701.213 2019.35 696.629 Q2016.29 692.023 2016.29 683.296 Q2016.29 674.546 2019.35 669.963 Q2022.43 665.356 2028.24 665.356 Z\" fill=\"#000000\" fill-rule=\"evenodd\" fill-opacity=\"1\" /><path clip-path=\"url(#clip210)\" d=\"M2048.4 694.662 L2053.28 694.662 L2053.28 700.541 L2048.4 700.541 L2048.4 694.662 Z\" fill=\"#000000\" fill-rule=\"evenodd\" fill-opacity=\"1\" /><path clip-path=\"url(#clip210)\" d=\"M2073.47 669.06 Q2069.86 669.06 2068.03 672.625 Q2066.22 676.167 2066.22 683.296 Q2066.22 690.403 2068.03 693.967 Q2069.86 697.509 2073.47 697.509 Q2077.1 697.509 2078.91 693.967 Q2080.74 690.403 2080.74 683.296 Q2080.74 676.167 2078.91 672.625 Q2077.1 669.06 2073.47 669.06 M2073.47 665.356 Q2079.28 665.356 2082.34 669.963 Q2085.41 674.546 2085.41 683.296 Q2085.41 692.023 2082.34 696.629 Q2079.28 701.213 2073.47 701.213 Q2067.66 701.213 2064.58 696.629 Q2061.53 692.023 2061.53 683.296 Q2061.53 674.546 2064.58 669.963 Q2067.66 665.356 2073.47 665.356 Z\" fill=\"#000000\" fill-rule=\"evenodd\" fill-opacity=\"1\" /><path clip-path=\"url(#clip210)\" d=\"M1988.89 496.717 L1996.53 496.717 L1996.53 470.351 L1988.22 472.018 L1988.22 467.759 L1996.48 466.092 L2001.16 466.092 L2001.16 496.717 L2008.79 496.717 L2008.79 500.652 L1988.89 500.652 L1988.89 496.717 Z\" fill=\"#000000\" fill-rule=\"evenodd\" fill-opacity=\"1\" /><path clip-path=\"url(#clip210)\" d=\"M2022.27 496.717 L2038.59 496.717 L2038.59 500.652 L2016.64 500.652 L2016.64 496.717 Q2019.3 493.962 2023.89 489.333 Q2028.49 484.68 2029.67 483.337 Q2031.92 480.814 2032.8 479.078 Q2033.7 477.319 2033.7 475.629 Q2033.7 472.874 2031.76 471.138 Q2029.84 469.402 2026.73 469.402 Q2024.53 469.402 2022.08 470.166 Q2019.65 470.93 2016.87 472.481 L2016.87 467.759 Q2019.7 466.624 2022.15 466.046 Q2024.6 465.467 2026.64 465.467 Q2032.01 465.467 2035.21 468.152 Q2038.4 470.837 2038.4 475.328 Q2038.4 477.458 2037.59 479.379 Q2036.8 481.277 2034.7 483.87 Q2034.12 484.541 2031.02 487.759 Q2027.91 490.953 2022.27 496.717 Z\" fill=\"#000000\" fill-rule=\"evenodd\" fill-opacity=\"1\" /><path clip-path=\"url(#clip210)\" d=\"M2048.4 494.772 L2053.28 494.772 L2053.28 500.652 L2048.4 500.652 L2048.4 494.772 Z\" fill=\"#000000\" fill-rule=\"evenodd\" fill-opacity=\"1\" /><path clip-path=\"url(#clip210)\" d=\"M2063.52 466.092 L2081.87 466.092 L2081.87 470.027 L2067.8 470.027 L2067.8 478.499 Q2068.82 478.152 2069.84 477.99 Q2070.85 477.805 2071.87 477.805 Q2077.66 477.805 2081.04 480.976 Q2084.42 484.147 2084.42 489.564 Q2084.42 495.143 2080.95 498.245 Q2077.47 501.323 2071.16 501.323 Q2068.98 501.323 2066.71 500.953 Q2064.47 500.583 2062.06 499.842 L2062.06 495.143 Q2064.14 496.277 2066.36 496.833 Q2068.59 497.388 2071.06 497.388 Q2075.07 497.388 2077.4 495.282 Q2079.74 493.175 2079.74 489.564 Q2079.74 485.953 2077.4 483.847 Q2075.07 481.74 2071.06 481.74 Q2069.19 481.74 2067.31 482.157 Q2065.46 482.573 2063.52 483.453 L2063.52 466.092 Z\" fill=\"#000000\" fill-rule=\"evenodd\" fill-opacity=\"1\" /><path clip-path=\"url(#clip210)\" d=\"M1988.89 296.827 L1996.53 296.827 L1996.53 270.462 L1988.22 272.128 L1988.22 267.869 L1996.48 266.203 L2001.16 266.203 L2001.16 296.827 L2008.79 296.827 L2008.79 300.763 L1988.89 300.763 L1988.89 296.827 Z\" fill=\"#000000\" fill-rule=\"evenodd\" fill-opacity=\"1\" /><path clip-path=\"url(#clip210)\" d=\"M2018.28 266.203 L2036.64 266.203 L2036.64 270.138 L2022.57 270.138 L2022.57 278.61 Q2023.59 278.263 2024.6 278.101 Q2025.62 277.915 2026.64 277.915 Q2032.43 277.915 2035.81 281.087 Q2039.19 284.258 2039.19 289.675 Q2039.19 295.253 2035.72 298.355 Q2032.24 301.434 2025.92 301.434 Q2023.75 301.434 2021.48 301.064 Q2019.23 300.693 2016.83 299.952 L2016.83 295.253 Q2018.91 296.388 2021.13 296.943 Q2023.35 297.499 2025.83 297.499 Q2029.84 297.499 2032.17 295.392 Q2034.51 293.286 2034.51 289.675 Q2034.51 286.064 2032.17 283.957 Q2029.84 281.851 2025.83 281.851 Q2023.96 281.851 2022.08 282.267 Q2020.23 282.684 2018.28 283.564 L2018.28 266.203 Z\" fill=\"#000000\" fill-rule=\"evenodd\" fill-opacity=\"1\" /><path clip-path=\"url(#clip210)\" d=\"M2048.4 294.883 L2053.28 294.883 L2053.28 300.763 L2048.4 300.763 L2048.4 294.883 Z\" fill=\"#000000\" fill-rule=\"evenodd\" fill-opacity=\"1\" /><path clip-path=\"url(#clip210)\" d=\"M2073.47 269.281 Q2069.86 269.281 2068.03 272.846 Q2066.22 276.388 2066.22 283.517 Q2066.22 290.624 2068.03 294.189 Q2069.86 297.73 2073.47 297.73 Q2077.1 297.73 2078.91 294.189 Q2080.74 290.624 2080.74 283.517 Q2080.74 276.388 2078.91 272.846 Q2077.1 269.281 2073.47 269.281 M2073.47 265.578 Q2079.28 265.578 2082.34 270.184 Q2085.41 274.767 2085.41 283.517 Q2085.41 292.244 2082.34 296.851 Q2079.28 301.434 2073.47 301.434 Q2067.66 301.434 2064.58 296.851 Q2061.53 292.244 2061.53 283.517 Q2061.53 274.767 2064.58 270.184 Q2067.66 265.578 2073.47 265.578 Z\" fill=\"#000000\" fill-rule=\"evenodd\" fill-opacity=\"1\" /><path clip-path=\"url(#clip210)\" d=\"M1988.89 96.938 L1996.53 96.938 L1996.53 70.5724 L1988.22 72.2391 L1988.22 67.9798 L1996.48 66.3132 L2001.16 66.3132 L2001.16 96.938 L2008.79 96.938 L2008.79 100.873 L1988.89 100.873 L1988.89 96.938 Z\" fill=\"#000000\" fill-rule=\"evenodd\" fill-opacity=\"1\" /><path clip-path=\"url(#clip210)\" d=\"M2017.06 66.3132 L2039.28 66.3132 L2039.28 68.3039 L2026.73 100.873 L2021.85 100.873 L2033.66 70.2483 L2017.06 70.2483 L2017.06 66.3132 Z\" fill=\"#000000\" fill-rule=\"evenodd\" fill-opacity=\"1\" /><path clip-path=\"url(#clip210)\" d=\"M2048.4 94.9936 L2053.28 94.9936 L2053.28 100.873 L2048.4 100.873 L2048.4 94.9936 Z\" fill=\"#000000\" fill-rule=\"evenodd\" fill-opacity=\"1\" /><path clip-path=\"url(#clip210)\" d=\"M2063.52 66.3132 L2081.87 66.3132 L2081.87 70.2483 L2067.8 70.2483 L2067.8 78.7205 Q2068.82 78.3733 2069.84 78.2113 Q2070.85 78.0261 2071.87 78.0261 Q2077.66 78.0261 2081.04 81.1974 Q2084.42 84.3686 2084.42 89.7853 Q2084.42 95.3639 2080.95 98.4658 Q2077.47 101.544 2071.16 101.544 Q2068.98 101.544 2066.71 101.174 Q2064.47 100.804 2062.06 100.063 L2062.06 95.3639 Q2064.14 96.4982 2066.36 97.0538 Q2068.59 97.6093 2071.06 97.6093 Q2075.07 97.6093 2077.4 95.5028 Q2079.74 93.3964 2079.74 89.7853 Q2079.74 86.1742 2077.4 84.0677 Q2075.07 81.9612 2071.06 81.9612 Q2069.19 81.9612 2067.31 82.3779 Q2065.46 82.7946 2063.52 83.6742 L2063.52 66.3132 Z\" fill=\"#000000\" fill-rule=\"evenodd\" fill-opacity=\"1\" /><polyline clip-path=\"url(#clip210)\" style=\"stroke:#000000; stroke-linecap:round; stroke-linejoin:round; stroke-width:4; stroke-opacity:1; fill:none\" points=\"\n",
       "  1952.22,1486.45 1952.22,1486.45 1976.22,1486.45 1952.22,1486.45 1952.22,1286.56 1976.22,1286.56 1952.22,1286.56 1952.22,1086.67 1976.22,1086.67 1952.22,1086.67 \n",
       "  1952.22,886.78 1976.22,886.78 1952.22,886.78 1952.22,686.89 1976.22,686.89 1952.22,686.89 1952.22,487.001 1976.22,487.001 1952.22,487.001 1952.22,287.111 \n",
       "  1976.22,287.111 1952.22,287.111 1952.22,87.222 1976.22,87.222 1952.22,87.222 1952.22,47.2441 \n",
       "  \"/>\n",
       "</svg>\n"
      ]
     },
     "execution_count": 14,
     "metadata": {},
     "output_type": "execute_result"
    }
   ],
   "source": [
    "plot!(plt, [0, evec1[1]], [0, evec1[2]], label = nothing)\n",
    "plot!(plt, [0, evec2[1]], [0, evec2[2]], label = nothing)"
   ]
  },
  {
   "cell_type": "markdown",
   "metadata": {},
   "source": [
    "* If $\\mathbf{A}$ is not positive definite, then the contours are not ellipsis. For example, \n",
    "$$\n",
    "A = \\begin{pmatrix} 4 & 5 \\\\ 5 & 4 \\end{pmatrix}\n",
    "$$\n",
    "has eigenvalues -1 and 9. There is a saddle point at $(0, 0)^T$.\n",
    "\n",
    "* Visualize $4x^2 + 8xy + 4y^2 = 1$. Axes align with eigenvectors and axe lengths are $1 / \\sqrt{|\\lambda|}$."
   ]
  },
  {
   "cell_type": "code",
   "execution_count": 15,
   "metadata": {},
   "outputs": [],
   "source": [
    "A = [4 5; 5 4]\n",
    "f(x, y) = [x, y]' * A * [x, y]\n",
    "x = -1:0.1:1\n",
    "y = -1:0.1:1\n",
    "plt = contour(x, y, f, levels=-10:10, aspect_ratio = 1.0, xlim=[-1,1]);"
   ]
  },
  {
   "cell_type": "code",
   "execution_count": 16,
   "metadata": {},
   "outputs": [
    {
     "data": {
      "text/plain": [
       "Eigen{Float64, Float64, Matrix{Float64}, Vector{Float64}}\n",
       "values:\n",
       "2-element Vector{Float64}:\n",
       " -1.0\n",
       "  9.0\n",
       "vectors:\n",
       "2×2 Matrix{Float64}:\n",
       " -0.707107  0.707107\n",
       "  0.707107  0.707107"
      ]
     },
     "execution_count": 16,
     "metadata": {},
     "output_type": "execute_result"
    }
   ],
   "source": [
    "Aeig = eigen(A)"
   ]
  },
  {
   "cell_type": "code",
   "execution_count": 17,
   "metadata": {},
   "outputs": [
    {
     "data": {
      "text/plain": [
       "2-element Vector{Float64}:\n",
       " -0.7071067811865475\n",
       "  0.7071067811865475"
      ]
     },
     "execution_count": 17,
     "metadata": {},
     "output_type": "execute_result"
    }
   ],
   "source": [
    "evec1 = Aeig.vectors[:, 1] / sqrt(abs(Aeig.values[1]))"
   ]
  },
  {
   "cell_type": "code",
   "execution_count": 18,
   "metadata": {},
   "outputs": [
    {
     "data": {
      "text/plain": [
       "2-element Vector{Float64}:\n",
       " 0.2357022603955158\n",
       " 0.2357022603955158"
      ]
     },
     "execution_count": 18,
     "metadata": {},
     "output_type": "execute_result"
    }
   ],
   "source": [
    "evec2 = Aeig.vectors[:, 2] / sqrt(abs(Aeig.values[2]))"
   ]
  },
  {
   "cell_type": "code",
   "execution_count": 19,
   "metadata": {},
   "outputs": [
    {
     "data": {
      "image/svg+xml": [
       "<?xml version=\"1.0\" encoding=\"utf-8\"?>\n",
       "<svg xmlns=\"http://www.w3.org/2000/svg\" xmlns:xlink=\"http://www.w3.org/1999/xlink\" width=\"600\" height=\"400\" viewBox=\"0 0 2400 1600\">\n",
       "<defs>\n",
       "  <clipPath id=\"clip250\">\n",
       "    <rect x=\"0\" y=\"0\" width=\"2400\" height=\"1600\"/>\n",
       "  </clipPath>\n",
       "</defs>\n",
       "<path clip-path=\"url(#clip250)\" d=\"\n",
       "M0 1600 L2400 1600 L2400 0 L0 0  Z\n",
       "  \" fill=\"#ffffff\" fill-rule=\"evenodd\" fill-opacity=\"1\"/>\n",
       "<defs>\n",
       "  <clipPath id=\"clip251\">\n",
       "    <rect x=\"480\" y=\"0\" width=\"1681\" height=\"1600\"/>\n",
       "  </clipPath>\n",
       "</defs>\n",
       "<path clip-path=\"url(#clip250)\" d=\"\n",
       "M474.476 1486.45 L1832.22 1486.45 L1832.22 47.2441 L474.476 47.2441  Z\n",
       "  \" fill=\"#ffffff\" fill-rule=\"evenodd\" fill-opacity=\"1\"/>\n",
       "<defs>\n",
       "  <clipPath id=\"clip252\">\n",
       "    <rect x=\"474\" y=\"47\" width=\"1359\" height=\"1440\"/>\n",
       "  </clipPath>\n",
       "</defs>\n",
       "<polyline clip-path=\"url(#clip252)\" style=\"stroke:#000000; stroke-linecap:round; stroke-linejoin:round; stroke-width:2; stroke-opacity:0.1; fill:none\" points=\"\n",
       "  474.476,1486.45 474.476,47.2441 \n",
       "  \"/>\n",
       "<polyline clip-path=\"url(#clip252)\" style=\"stroke:#000000; stroke-linecap:round; stroke-linejoin:round; stroke-width:2; stroke-opacity:0.1; fill:none\" points=\"\n",
       "  813.911,1486.45 813.911,47.2441 \n",
       "  \"/>\n",
       "<polyline clip-path=\"url(#clip252)\" style=\"stroke:#000000; stroke-linecap:round; stroke-linejoin:round; stroke-width:2; stroke-opacity:0.1; fill:none\" points=\"\n",
       "  1153.35,1486.45 1153.35,47.2441 \n",
       "  \"/>\n",
       "<polyline clip-path=\"url(#clip252)\" style=\"stroke:#000000; stroke-linecap:round; stroke-linejoin:round; stroke-width:2; stroke-opacity:0.1; fill:none\" points=\"\n",
       "  1492.78,1486.45 1492.78,47.2441 \n",
       "  \"/>\n",
       "<polyline clip-path=\"url(#clip252)\" style=\"stroke:#000000; stroke-linecap:round; stroke-linejoin:round; stroke-width:2; stroke-opacity:0.1; fill:none\" points=\"\n",
       "  1832.22,1486.45 1832.22,47.2441 \n",
       "  \"/>\n",
       "<polyline clip-path=\"url(#clip250)\" style=\"stroke:#000000; stroke-linecap:round; stroke-linejoin:round; stroke-width:4; stroke-opacity:1; fill:none\" points=\"\n",
       "  474.476,1486.45 1832.22,1486.45 \n",
       "  \"/>\n",
       "<polyline clip-path=\"url(#clip250)\" style=\"stroke:#000000; stroke-linecap:round; stroke-linejoin:round; stroke-width:4; stroke-opacity:1; fill:none\" points=\"\n",
       "  474.476,1486.45 474.476,1467.55 \n",
       "  \"/>\n",
       "<polyline clip-path=\"url(#clip250)\" style=\"stroke:#000000; stroke-linecap:round; stroke-linejoin:round; stroke-width:4; stroke-opacity:1; fill:none\" points=\"\n",
       "  813.911,1486.45 813.911,1467.55 \n",
       "  \"/>\n",
       "<polyline clip-path=\"url(#clip250)\" style=\"stroke:#000000; stroke-linecap:round; stroke-linejoin:round; stroke-width:4; stroke-opacity:1; fill:none\" points=\"\n",
       "  1153.35,1486.45 1153.35,1467.55 \n",
       "  \"/>\n",
       "<polyline clip-path=\"url(#clip250)\" style=\"stroke:#000000; stroke-linecap:round; stroke-linejoin:round; stroke-width:4; stroke-opacity:1; fill:none\" points=\"\n",
       "  1492.78,1486.45 1492.78,1467.55 \n",
       "  \"/>\n",
       "<polyline clip-path=\"url(#clip250)\" style=\"stroke:#000000; stroke-linecap:round; stroke-linejoin:round; stroke-width:4; stroke-opacity:1; fill:none\" points=\"\n",
       "  1832.22,1486.45 1832.22,1467.55 \n",
       "  \"/>\n",
       "<path clip-path=\"url(#clip250)\" d=\"M421.004 1532.02 L450.68 1532.02 L450.68 1535.95 L421.004 1535.95 L421.004 1532.02 Z\" fill=\"#000000\" fill-rule=\"evenodd\" fill-opacity=\"1\" /><path clip-path=\"url(#clip250)\" d=\"M461.583 1544.91 L469.222 1544.91 L469.222 1518.55 L460.912 1520.21 L460.912 1515.95 L469.175 1514.29 L473.851 1514.29 L473.851 1544.91 L481.49 1544.91 L481.49 1548.85 L461.583 1548.85 L461.583 1544.91 Z\" fill=\"#000000\" fill-rule=\"evenodd\" fill-opacity=\"1\" /><path clip-path=\"url(#clip250)\" d=\"M490.934 1542.97 L495.819 1542.97 L495.819 1548.85 L490.934 1548.85 L490.934 1542.97 Z\" fill=\"#000000\" fill-rule=\"evenodd\" fill-opacity=\"1\" /><path clip-path=\"url(#clip250)\" d=\"M516.004 1517.37 Q512.393 1517.37 510.564 1520.93 Q508.758 1524.47 508.758 1531.6 Q508.758 1538.71 510.564 1542.27 Q512.393 1545.82 516.004 1545.82 Q519.638 1545.82 521.444 1542.27 Q523.272 1538.71 523.272 1531.6 Q523.272 1524.47 521.444 1520.93 Q519.638 1517.37 516.004 1517.37 M516.004 1513.66 Q521.814 1513.66 524.869 1518.27 Q527.948 1522.85 527.948 1531.6 Q527.948 1540.33 524.869 1544.94 Q521.814 1549.52 516.004 1549.52 Q510.194 1549.52 507.115 1544.94 Q504.059 1540.33 504.059 1531.6 Q504.059 1522.85 507.115 1518.27 Q510.194 1513.66 516.004 1513.66 Z\" fill=\"#000000\" fill-rule=\"evenodd\" fill-opacity=\"1\" /><path clip-path=\"url(#clip250)\" d=\"M760.937 1532.02 L790.613 1532.02 L790.613 1535.95 L760.937 1535.95 L760.937 1532.02 Z\" fill=\"#000000\" fill-rule=\"evenodd\" fill-opacity=\"1\" /><path clip-path=\"url(#clip250)\" d=\"M810.705 1517.37 Q807.094 1517.37 805.265 1520.93 Q803.46 1524.47 803.46 1531.6 Q803.46 1538.71 805.265 1542.27 Q807.094 1545.82 810.705 1545.82 Q814.339 1545.82 816.145 1542.27 Q817.974 1538.71 817.974 1531.6 Q817.974 1524.47 816.145 1520.93 Q814.339 1517.37 810.705 1517.37 M810.705 1513.66 Q816.515 1513.66 819.571 1518.27 Q822.649 1522.85 822.649 1531.6 Q822.649 1540.33 819.571 1544.94 Q816.515 1549.52 810.705 1549.52 Q804.895 1549.52 801.816 1544.94 Q798.761 1540.33 798.761 1531.6 Q798.761 1522.85 801.816 1518.27 Q804.895 1513.66 810.705 1513.66 Z\" fill=\"#000000\" fill-rule=\"evenodd\" fill-opacity=\"1\" /><path clip-path=\"url(#clip250)\" d=\"M830.867 1542.97 L835.751 1542.97 L835.751 1548.85 L830.867 1548.85 L830.867 1542.97 Z\" fill=\"#000000\" fill-rule=\"evenodd\" fill-opacity=\"1\" /><path clip-path=\"url(#clip250)\" d=\"M845.983 1514.29 L864.339 1514.29 L864.339 1518.22 L850.265 1518.22 L850.265 1526.7 Q851.284 1526.35 852.302 1526.19 Q853.321 1526 854.339 1526 Q860.126 1526 863.506 1529.17 Q866.885 1532.34 866.885 1537.76 Q866.885 1543.34 863.413 1546.44 Q859.941 1549.52 853.622 1549.52 Q851.446 1549.52 849.177 1549.15 Q846.932 1548.78 844.524 1548.04 L844.524 1543.34 Q846.608 1544.47 848.83 1545.03 Q851.052 1545.58 853.529 1545.58 Q857.534 1545.58 859.871 1543.48 Q862.209 1541.37 862.209 1537.76 Q862.209 1534.15 859.871 1532.04 Q857.534 1529.94 853.529 1529.94 Q851.654 1529.94 849.779 1530.35 Q847.927 1530.77 845.983 1531.65 L845.983 1514.29 Z\" fill=\"#000000\" fill-rule=\"evenodd\" fill-opacity=\"1\" /><path clip-path=\"url(#clip250)\" d=\"M1130.73 1517.37 Q1127.12 1517.37 1125.29 1520.93 Q1123.49 1524.47 1123.49 1531.6 Q1123.49 1538.71 1125.29 1542.27 Q1127.12 1545.82 1130.73 1545.82 Q1134.36 1545.82 1136.17 1542.27 Q1138 1538.71 1138 1531.6 Q1138 1524.47 1136.17 1520.93 Q1134.36 1517.37 1130.73 1517.37 M1130.73 1513.66 Q1136.54 1513.66 1139.6 1518.27 Q1142.67 1522.85 1142.67 1531.6 Q1142.67 1540.33 1139.6 1544.94 Q1136.54 1549.52 1130.73 1549.52 Q1124.92 1549.52 1121.84 1544.94 Q1118.79 1540.33 1118.79 1531.6 Q1118.79 1522.85 1121.84 1518.27 Q1124.92 1513.66 1130.73 1513.66 Z\" fill=\"#000000\" fill-rule=\"evenodd\" fill-opacity=\"1\" /><path clip-path=\"url(#clip250)\" d=\"M1150.89 1542.97 L1155.78 1542.97 L1155.78 1548.85 L1150.89 1548.85 L1150.89 1542.97 Z\" fill=\"#000000\" fill-rule=\"evenodd\" fill-opacity=\"1\" /><path clip-path=\"url(#clip250)\" d=\"M1175.96 1517.37 Q1172.35 1517.37 1170.52 1520.93 Q1168.72 1524.47 1168.72 1531.6 Q1168.72 1538.71 1170.52 1542.27 Q1172.35 1545.82 1175.96 1545.82 Q1179.6 1545.82 1181.4 1542.27 Q1183.23 1538.71 1183.23 1531.6 Q1183.23 1524.47 1181.4 1520.93 Q1179.6 1517.37 1175.96 1517.37 M1175.96 1513.66 Q1181.77 1513.66 1184.83 1518.27 Q1187.91 1522.85 1187.91 1531.6 Q1187.91 1540.33 1184.83 1544.94 Q1181.77 1549.52 1175.96 1549.52 Q1170.15 1549.52 1167.07 1544.94 Q1164.02 1540.33 1164.02 1531.6 Q1164.02 1522.85 1167.07 1518.27 Q1170.15 1513.66 1175.96 1513.66 Z\" fill=\"#000000\" fill-rule=\"evenodd\" fill-opacity=\"1\" /><path clip-path=\"url(#clip250)\" d=\"M1470.66 1517.37 Q1467.05 1517.37 1465.22 1520.93 Q1463.42 1524.47 1463.42 1531.6 Q1463.42 1538.71 1465.22 1542.27 Q1467.05 1545.82 1470.66 1545.82 Q1474.3 1545.82 1476.1 1542.27 Q1477.93 1538.71 1477.93 1531.6 Q1477.93 1524.47 1476.1 1520.93 Q1474.3 1517.37 1470.66 1517.37 M1470.66 1513.66 Q1476.47 1513.66 1479.53 1518.27 Q1482.61 1522.85 1482.61 1531.6 Q1482.61 1540.33 1479.53 1544.94 Q1476.47 1549.52 1470.66 1549.52 Q1464.85 1549.52 1461.77 1544.94 Q1458.72 1540.33 1458.72 1531.6 Q1458.72 1522.85 1461.77 1518.27 Q1464.85 1513.66 1470.66 1513.66 Z\" fill=\"#000000\" fill-rule=\"evenodd\" fill-opacity=\"1\" /><path clip-path=\"url(#clip250)\" d=\"M1490.82 1542.97 L1495.71 1542.97 L1495.71 1548.85 L1490.82 1548.85 L1490.82 1542.97 Z\" fill=\"#000000\" fill-rule=\"evenodd\" fill-opacity=\"1\" /><path clip-path=\"url(#clip250)\" d=\"M1505.94 1514.29 L1524.3 1514.29 L1524.3 1518.22 L1510.22 1518.22 L1510.22 1526.7 Q1511.24 1526.35 1512.26 1526.19 Q1513.28 1526 1514.3 1526 Q1520.08 1526 1523.46 1529.17 Q1526.84 1532.34 1526.84 1537.76 Q1526.84 1543.34 1523.37 1546.44 Q1519.9 1549.52 1513.58 1549.52 Q1511.4 1549.52 1509.13 1549.15 Q1506.89 1548.78 1504.48 1548.04 L1504.48 1543.34 Q1506.57 1544.47 1508.79 1545.03 Q1511.01 1545.58 1513.49 1545.58 Q1517.49 1545.58 1519.83 1543.48 Q1522.17 1541.37 1522.17 1537.76 Q1522.17 1534.15 1519.83 1532.04 Q1517.49 1529.94 1513.49 1529.94 Q1511.61 1529.94 1509.74 1530.35 Q1507.88 1530.77 1505.94 1531.65 L1505.94 1514.29 Z\" fill=\"#000000\" fill-rule=\"evenodd\" fill-opacity=\"1\" /><path clip-path=\"url(#clip250)\" d=\"M1799.37 1544.91 L1807.01 1544.91 L1807.01 1518.55 L1798.7 1520.21 L1798.7 1515.95 L1806.96 1514.29 L1811.64 1514.29 L1811.64 1544.91 L1819.28 1544.91 L1819.28 1548.85 L1799.37 1548.85 L1799.37 1544.91 Z\" fill=\"#000000\" fill-rule=\"evenodd\" fill-opacity=\"1\" /><path clip-path=\"url(#clip250)\" d=\"M1828.72 1542.97 L1833.6 1542.97 L1833.6 1548.85 L1828.72 1548.85 L1828.72 1542.97 Z\" fill=\"#000000\" fill-rule=\"evenodd\" fill-opacity=\"1\" /><path clip-path=\"url(#clip250)\" d=\"M1853.79 1517.37 Q1850.18 1517.37 1848.35 1520.93 Q1846.54 1524.47 1846.54 1531.6 Q1846.54 1538.71 1848.35 1542.27 Q1850.18 1545.82 1853.79 1545.82 Q1857.42 1545.82 1859.23 1542.27 Q1861.06 1538.71 1861.06 1531.6 Q1861.06 1524.47 1859.23 1520.93 Q1857.42 1517.37 1853.79 1517.37 M1853.79 1513.66 Q1859.6 1513.66 1862.66 1518.27 Q1865.73 1522.85 1865.73 1531.6 Q1865.73 1540.33 1862.66 1544.94 Q1859.6 1549.52 1853.79 1549.52 Q1847.98 1549.52 1844.9 1544.94 Q1841.85 1540.33 1841.85 1531.6 Q1841.85 1522.85 1844.9 1518.27 Q1847.98 1513.66 1853.79 1513.66 Z\" fill=\"#000000\" fill-rule=\"evenodd\" fill-opacity=\"1\" /><polyline clip-path=\"url(#clip252)\" style=\"stroke:#000000; stroke-linecap:round; stroke-linejoin:round; stroke-width:2; stroke-opacity:0.1; fill:none\" points=\"\n",
       "  474.476,1445.72 1832.22,1445.72 \n",
       "  \"/>\n",
       "<polyline clip-path=\"url(#clip252)\" style=\"stroke:#000000; stroke-linecap:round; stroke-linejoin:round; stroke-width:2; stroke-opacity:0.1; fill:none\" points=\"\n",
       "  474.476,1106.28 1832.22,1106.28 \n",
       "  \"/>\n",
       "<polyline clip-path=\"url(#clip252)\" style=\"stroke:#000000; stroke-linecap:round; stroke-linejoin:round; stroke-width:2; stroke-opacity:0.1; fill:none\" points=\"\n",
       "  474.476,766.846 1832.22,766.846 \n",
       "  \"/>\n",
       "<polyline clip-path=\"url(#clip252)\" style=\"stroke:#000000; stroke-linecap:round; stroke-linejoin:round; stroke-width:2; stroke-opacity:0.1; fill:none\" points=\"\n",
       "  474.476,427.411 1832.22,427.411 \n",
       "  \"/>\n",
       "<polyline clip-path=\"url(#clip252)\" style=\"stroke:#000000; stroke-linecap:round; stroke-linejoin:round; stroke-width:2; stroke-opacity:0.1; fill:none\" points=\"\n",
       "  474.476,87.9763 1832.22,87.9763 \n",
       "  \"/>\n",
       "<polyline clip-path=\"url(#clip250)\" style=\"stroke:#000000; stroke-linecap:round; stroke-linejoin:round; stroke-width:4; stroke-opacity:1; fill:none\" points=\"\n",
       "  474.476,1486.45 474.476,47.2441 \n",
       "  \"/>\n",
       "<polyline clip-path=\"url(#clip250)\" style=\"stroke:#000000; stroke-linecap:round; stroke-linejoin:round; stroke-width:4; stroke-opacity:1; fill:none\" points=\"\n",
       "  474.476,1445.72 486.361,1445.72 \n",
       "  \"/>\n",
       "<polyline clip-path=\"url(#clip250)\" style=\"stroke:#000000; stroke-linecap:round; stroke-linejoin:round; stroke-width:4; stroke-opacity:1; fill:none\" points=\"\n",
       "  474.476,1106.28 486.361,1106.28 \n",
       "  \"/>\n",
       "<polyline clip-path=\"url(#clip250)\" style=\"stroke:#000000; stroke-linecap:round; stroke-linejoin:round; stroke-width:4; stroke-opacity:1; fill:none\" points=\"\n",
       "  474.476,766.846 486.361,766.846 \n",
       "  \"/>\n",
       "<polyline clip-path=\"url(#clip250)\" style=\"stroke:#000000; stroke-linecap:round; stroke-linejoin:round; stroke-width:4; stroke-opacity:1; fill:none\" points=\"\n",
       "  474.476,427.411 486.361,427.411 \n",
       "  \"/>\n",
       "<polyline clip-path=\"url(#clip250)\" style=\"stroke:#000000; stroke-linecap:round; stroke-linejoin:round; stroke-width:4; stroke-opacity:1; fill:none\" points=\"\n",
       "  474.476,87.9763 486.361,87.9763 \n",
       "  \"/>\n",
       "<path clip-path=\"url(#clip250)\" d=\"M331.532 1446.17 L361.208 1446.17 L361.208 1450.1 L331.532 1450.1 L331.532 1446.17 Z\" fill=\"#000000\" fill-rule=\"evenodd\" fill-opacity=\"1\" /><path clip-path=\"url(#clip250)\" d=\"M372.111 1459.06 L379.75 1459.06 L379.75 1432.69 L371.44 1434.36 L371.44 1430.1 L379.703 1428.44 L384.379 1428.44 L384.379 1459.06 L392.018 1459.06 L392.018 1463 L372.111 1463 L372.111 1459.06 Z\" fill=\"#000000\" fill-rule=\"evenodd\" fill-opacity=\"1\" /><path clip-path=\"url(#clip250)\" d=\"M401.463 1457.12 L406.347 1457.12 L406.347 1463 L401.463 1463 L401.463 1457.12 Z\" fill=\"#000000\" fill-rule=\"evenodd\" fill-opacity=\"1\" /><path clip-path=\"url(#clip250)\" d=\"M426.532 1431.51 Q422.921 1431.51 421.092 1435.08 Q419.287 1438.62 419.287 1445.75 Q419.287 1452.86 421.092 1456.42 Q422.921 1459.96 426.532 1459.96 Q430.166 1459.96 431.972 1456.42 Q433.8 1452.86 433.8 1445.75 Q433.8 1438.62 431.972 1435.08 Q430.166 1431.51 426.532 1431.51 M426.532 1427.81 Q432.342 1427.81 435.398 1432.42 Q438.476 1437 438.476 1445.75 Q438.476 1454.48 435.398 1459.08 Q432.342 1463.67 426.532 1463.67 Q420.722 1463.67 417.643 1459.08 Q414.587 1454.48 414.587 1445.75 Q414.587 1437 417.643 1432.42 Q420.722 1427.81 426.532 1427.81 Z\" fill=\"#000000\" fill-rule=\"evenodd\" fill-opacity=\"1\" /><path clip-path=\"url(#clip250)\" d=\"M332.528 1106.73 L362.204 1106.73 L362.204 1110.67 L332.528 1110.67 L332.528 1106.73 Z\" fill=\"#000000\" fill-rule=\"evenodd\" fill-opacity=\"1\" /><path clip-path=\"url(#clip250)\" d=\"M382.296 1092.08 Q378.685 1092.08 376.856 1095.64 Q375.051 1099.19 375.051 1106.32 Q375.051 1113.42 376.856 1116.99 Q378.685 1120.53 382.296 1120.53 Q385.93 1120.53 387.736 1116.99 Q389.564 1113.42 389.564 1106.32 Q389.564 1099.19 387.736 1095.64 Q385.93 1092.08 382.296 1092.08 M382.296 1088.38 Q388.106 1088.38 391.162 1092.98 Q394.24 1097.57 394.24 1106.32 Q394.24 1115.04 391.162 1119.65 Q388.106 1124.23 382.296 1124.23 Q376.486 1124.23 373.407 1119.65 Q370.352 1115.04 370.352 1106.32 Q370.352 1097.57 373.407 1092.98 Q376.486 1088.38 382.296 1088.38 Z\" fill=\"#000000\" fill-rule=\"evenodd\" fill-opacity=\"1\" /><path clip-path=\"url(#clip250)\" d=\"M402.458 1117.68 L407.342 1117.68 L407.342 1123.56 L402.458 1123.56 L402.458 1117.68 Z\" fill=\"#000000\" fill-rule=\"evenodd\" fill-opacity=\"1\" /><path clip-path=\"url(#clip250)\" d=\"M417.574 1089 L435.93 1089 L435.93 1092.94 L421.856 1092.94 L421.856 1101.41 Q422.874 1101.06 423.893 1100.9 Q424.912 1100.71 425.93 1100.71 Q431.717 1100.71 435.097 1103.89 Q438.476 1107.06 438.476 1112.47 Q438.476 1118.05 435.004 1121.15 Q431.532 1124.23 425.212 1124.23 Q423.037 1124.23 420.768 1123.86 Q418.523 1123.49 416.115 1122.75 L416.115 1118.05 Q418.199 1119.19 420.421 1119.74 Q422.643 1120.3 425.12 1120.3 Q429.124 1120.3 431.462 1118.19 Q433.8 1116.08 433.8 1112.47 Q433.8 1108.86 431.462 1106.76 Q429.124 1104.65 425.12 1104.65 Q423.245 1104.65 421.37 1105.07 Q419.518 1105.48 417.574 1106.36 L417.574 1089 Z\" fill=\"#000000\" fill-rule=\"evenodd\" fill-opacity=\"1\" /><path clip-path=\"url(#clip250)\" d=\"M381.301 752.645 Q377.69 752.645 375.861 756.209 Q374.055 759.751 374.055 766.881 Q374.055 773.987 375.861 777.552 Q377.69 781.094 381.301 781.094 Q384.935 781.094 386.74 777.552 Q388.569 773.987 388.569 766.881 Q388.569 759.751 386.74 756.209 Q384.935 752.645 381.301 752.645 M381.301 748.941 Q387.111 748.941 390.166 753.547 Q393.245 758.131 393.245 766.881 Q393.245 775.608 390.166 780.214 Q387.111 784.797 381.301 784.797 Q375.49 784.797 372.412 780.214 Q369.356 775.608 369.356 766.881 Q369.356 758.131 372.412 753.547 Q375.49 748.941 381.301 748.941 Z\" fill=\"#000000\" fill-rule=\"evenodd\" fill-opacity=\"1\" /><path clip-path=\"url(#clip250)\" d=\"M401.463 778.246 L406.347 778.246 L406.347 784.126 L401.463 784.126 L401.463 778.246 Z\" fill=\"#000000\" fill-rule=\"evenodd\" fill-opacity=\"1\" /><path clip-path=\"url(#clip250)\" d=\"M426.532 752.645 Q422.921 752.645 421.092 756.209 Q419.287 759.751 419.287 766.881 Q419.287 773.987 421.092 777.552 Q422.921 781.094 426.532 781.094 Q430.166 781.094 431.972 777.552 Q433.8 773.987 433.8 766.881 Q433.8 759.751 431.972 756.209 Q430.166 752.645 426.532 752.645 M426.532 748.941 Q432.342 748.941 435.398 753.547 Q438.476 758.131 438.476 766.881 Q438.476 775.608 435.398 780.214 Q432.342 784.797 426.532 784.797 Q420.722 784.797 417.643 780.214 Q414.587 775.608 414.587 766.881 Q414.587 758.131 417.643 753.547 Q420.722 748.941 426.532 748.941 Z\" fill=\"#000000\" fill-rule=\"evenodd\" fill-opacity=\"1\" /><path clip-path=\"url(#clip250)\" d=\"M382.296 413.21 Q378.685 413.21 376.856 416.775 Q375.051 420.316 375.051 427.446 Q375.051 434.552 376.856 438.117 Q378.685 441.659 382.296 441.659 Q385.93 441.659 387.736 438.117 Q389.564 434.552 389.564 427.446 Q389.564 420.316 387.736 416.775 Q385.93 413.21 382.296 413.21 M382.296 409.506 Q388.106 409.506 391.162 414.113 Q394.24 418.696 394.24 427.446 Q394.24 436.173 391.162 440.779 Q388.106 445.362 382.296 445.362 Q376.486 445.362 373.407 440.779 Q370.352 436.173 370.352 427.446 Q370.352 418.696 373.407 414.113 Q376.486 409.506 382.296 409.506 Z\" fill=\"#000000\" fill-rule=\"evenodd\" fill-opacity=\"1\" /><path clip-path=\"url(#clip250)\" d=\"M402.458 438.812 L407.342 438.812 L407.342 444.691 L402.458 444.691 L402.458 438.812 Z\" fill=\"#000000\" fill-rule=\"evenodd\" fill-opacity=\"1\" /><path clip-path=\"url(#clip250)\" d=\"M417.574 410.131 L435.93 410.131 L435.93 414.066 L421.856 414.066 L421.856 422.538 Q422.874 422.191 423.893 422.029 Q424.912 421.844 425.93 421.844 Q431.717 421.844 435.097 425.015 Q438.476 428.187 438.476 433.603 Q438.476 439.182 435.004 442.284 Q431.532 445.362 425.212 445.362 Q423.037 445.362 420.768 444.992 Q418.523 444.622 416.115 443.881 L416.115 439.182 Q418.199 440.316 420.421 440.872 Q422.643 441.427 425.12 441.427 Q429.124 441.427 431.462 439.321 Q433.8 437.214 433.8 433.603 Q433.8 429.992 431.462 427.886 Q429.124 425.779 425.12 425.779 Q423.245 425.779 421.37 426.196 Q419.518 426.613 417.574 427.492 L417.574 410.131 Z\" fill=\"#000000\" fill-rule=\"evenodd\" fill-opacity=\"1\" /><path clip-path=\"url(#clip250)\" d=\"M372.111 101.321 L379.75 101.321 L379.75 74.9555 L371.44 76.6222 L371.44 72.3629 L379.703 70.6963 L384.379 70.6963 L384.379 101.321 L392.018 101.321 L392.018 105.256 L372.111 105.256 L372.111 101.321 Z\" fill=\"#000000\" fill-rule=\"evenodd\" fill-opacity=\"1\" /><path clip-path=\"url(#clip250)\" d=\"M401.463 99.3767 L406.347 99.3767 L406.347 105.256 L401.463 105.256 L401.463 99.3767 Z\" fill=\"#000000\" fill-rule=\"evenodd\" fill-opacity=\"1\" /><path clip-path=\"url(#clip250)\" d=\"M426.532 73.775 Q422.921 73.775 421.092 77.3398 Q419.287 80.8814 419.287 88.011 Q419.287 95.1174 421.092 98.6822 Q422.921 102.224 426.532 102.224 Q430.166 102.224 431.972 98.6822 Q433.8 95.1174 433.8 88.011 Q433.8 80.8814 431.972 77.3398 Q430.166 73.775 426.532 73.775 M426.532 70.0713 Q432.342 70.0713 435.398 74.6777 Q438.476 79.261 438.476 88.011 Q438.476 96.7378 435.398 101.344 Q432.342 105.928 426.532 105.928 Q420.722 105.928 417.643 101.344 Q414.587 96.7378 414.587 88.011 Q414.587 79.261 417.643 74.6777 Q420.722 70.0713 426.532 70.0713 Z\" fill=\"#000000\" fill-rule=\"evenodd\" fill-opacity=\"1\" /><polyline clip-path=\"url(#clip252)\" style=\"stroke:#cc4148; stroke-linecap:round; stroke-linejoin:round; stroke-width:4; stroke-opacity:1; fill:none\" points=\"\n",
       "  863.828,1445.72 813.911,1391.84 800.739,1377.83 746.024,1320.55 735.738,1309.94 678.137,1251.45 668.737,1242.05 610.25,1184.45 599.643,1174.17 542.363,1119.45 \n",
       "  528.355,1106.28 474.476,1056.36 \n",
       "  \"/>\n",
       "<polyline clip-path=\"url(#clip252)\" style=\"stroke:#dc5039; stroke-linecap:round; stroke-linejoin:round; stroke-width:4; stroke-opacity:1; fill:none\" points=\"\n",
       "  474.476,1106.28 474.476,1106.28 542.363,1170.11 546.606,1174.17 610.25,1235.88 616.517,1242.05 678.137,1303.68 684.309,1309.94 746.024,1373.59 750.077,1377.83 \n",
       "  813.911,1445.72 \n",
       "  \"/>\n",
       "<polyline clip-path=\"url(#clip252)\" style=\"stroke:#ba3655; stroke-linecap:round; stroke-linejoin:round; stroke-width:4; stroke-opacity:1; fill:none\" points=\"\n",
       "  915.742,1445.72 881.798,1408.26 853.781,1377.83 813.911,1335.26 789.822,1309.94 746.024,1264.68 723.766,1242.05 678.137,1196.43 655.508,1174.17 610.25,1130.37 \n",
       "  584.936,1106.28 542.363,1066.41 511.931,1038.39 474.476,1004.45 \n",
       "  \"/>\n",
       "<polyline clip-path=\"url(#clip252)\" style=\"stroke:#a62c5f; stroke-linecap:round; stroke-linejoin:round; stroke-width:4; stroke-opacity:1; fill:none\" points=\"\n",
       "  474.476,950.141 497.532,970.507 542.363,1010.78 572.535,1038.39 610.25,1073.51 644.811,1106.28 678.137,1138.44 714.505,1174.17 746.024,1205.69 781.754,1242.05 \n",
       "  813.911,1275.38 846.684,1309.94 881.798,1347.66 909.413,1377.83 949.685,1422.66 970.051,1445.72 \n",
       "  \"/>\n",
       "<polyline clip-path=\"url(#clip252)\" style=\"stroke:#932567; stroke-linecap:round; stroke-linejoin:round; stroke-width:4; stroke-opacity:1; fill:none\" points=\"\n",
       "  1027.27,1445.72 1017.57,1434.4 968.2,1377.83 949.685,1357.05 906.941,1309.94 881.798,1282.79 843.371,1242.05 813.911,1211.44 777.357,1174.17 746.024,1142.84 \n",
       "  708.753,1106.28 678.137,1076.82 637.405,1038.39 610.25,1013.25 563.145,970.507 542.363,951.992 485.791,902.62 474.476,892.922 \n",
       "  \"/>\n",
       "<polyline clip-path=\"url(#clip252)\" style=\"stroke:#7e1e6c; stroke-linecap:round; stroke-linejoin:round; stroke-width:4; stroke-opacity:1; fill:none\" points=\"\n",
       "  474.476,832.122 477.634,834.733 542.363,889.309 557.792,902.62 610.25,948.783 634.388,970.507 678.137,1010.68 707.653,1038.39 746.024,1075.17 777.801,1106.28 \n",
       "  813.911,1142.39 845.026,1174.17 881.798,1212.54 909.507,1242.05 949.685,1285.8 971.409,1309.94 1017.57,1362.4 1030.88,1377.83 1085.46,1442.56 1088.07,1445.72 \n",
       "  \n",
       "  \"/>\n",
       "<polyline clip-path=\"url(#clip252)\" style=\"stroke:#6a176e; stroke-linecap:round; stroke-linejoin:round; stroke-width:4; stroke-opacity:1; fill:none\" points=\"\n",
       "  1153.35,1445.72 1153.35,1445.72 1098.46,1377.83 1085.46,1362.16 1041.18,1309.94 1017.57,1282.79 981.366,1242.05 949.685,1207.28 918.827,1174.17 881.798,1135.38 \n",
       "  853.38,1106.28 813.911,1066.81 784.817,1038.39 746.024,1001.36 712.909,970.507 678.137,938.826 637.405,902.62 610.25,879.007 558.029,834.733 542.363,821.733 \n",
       "  474.476,766.846 \n",
       "  \"/>\n",
       "<polyline clip-path=\"url(#clip252)\" style=\"stroke:#550f6d; stroke-linecap:round; stroke-linejoin:round; stroke-width:4; stroke-opacity:1; fill:none\" points=\"\n",
       "  474.476,695.873 478.591,698.959 542.363,747.901 566.323,766.846 610.25,802.406 649.043,834.733 678.137,859.57 727.167,902.62 746.024,919.592 801.068,970.507 \n",
       "  813.911,982.692 871.079,1038.39 881.798,1049.11 937.5,1106.28 949.685,1119.12 1000.6,1174.17 1017.57,1193.03 1060.62,1242.05 1085.46,1271.15 1117.79,1309.94 \n",
       "  1153.35,1353.87 1172.29,1377.83 1221.23,1441.6 1224.32,1445.72 \n",
       "  \"/>\n",
       "<polyline clip-path=\"url(#clip252)\" style=\"stroke:#410967; stroke-linecap:round; stroke-linejoin:round; stroke-width:4; stroke-opacity:1; fill:none\" points=\"\n",
       "  1302.7,1445.72 1289.12,1426.32 1254.31,1377.83 1221.23,1333.35 1203.37,1309.94 1153.35,1246.58 1149.68,1242.05 1093.94,1174.17 1085.46,1164.11 1035.09,1106.28 \n",
       "  1017.57,1086.88 972.314,1038.39 949.685,1014.98 905.207,970.507 881.798,947.878 833.307,902.62 813.911,885.101 756.081,834.733 746.024,826.247 678.137,770.516 \n",
       "  673.611,766.846 610.25,716.824 586.841,698.959 542.363,665.886 493.873,631.072 474.476,617.495 \n",
       "  \"/>\n",
       "<polyline clip-path=\"url(#clip252)\" style=\"stroke:#2b0a56; stroke-linecap:round; stroke-linejoin:round; stroke-width:4; stroke-opacity:1; fill:none\" points=\"\n",
       "  474.476,529.242 527.605,563.185 542.363,572.883 610.25,617.495 630.616,631.072 678.137,663.845 726.628,698.959 746.024,713.506 813.911,766.846 \n",
       "  881.798,822.39 896.09,834.733 949.685,883.224 970.051,902.62 1017.57,950.141 1036.97,970.507 1085.46,1024.1 1097.8,1038.39 1153.35,1106.28 \n",
       "  1206.69,1174.17 1221.23,1193.56 1256.35,1242.05 1289.12,1289.58 1302.7,1309.94 1347.31,1377.83 1357.01,1392.59 1390.95,1445.72 \n",
       "  \"/>\n",
       "<polyline clip-path=\"url(#clip252)\" style=\"stroke:#160b39; stroke-linecap:round; stroke-linejoin:round; stroke-width:4; stroke-opacity:1; fill:none\" points=\"\n",
       "  1492.78,1445.72 1492.78,1445.72 1460.09,1377.83 1424.89,1309.94 1392.57,1242.05 1357.01,1174.17 1325.33,1106.28 1289.12,1038.39 \n",
       "  1258.95,970.507 1221.23,902.62 1198.6,834.733 1221.23,812.104 1289.12,834.733 1357.01,872.448 1424.89,902.62 \n",
       "  1492.78,938.826 1560.67,970.507 1628.55,1006.07 1696.44,1038.39 1764.33,1073.59 1832.22,1106.28 \n",
       "  \n",
       "  \"/>\n",
       "<polyline clip-path=\"url(#clip252)\" style=\"stroke:#06041b; stroke-linecap:round; stroke-linejoin:round; stroke-width:4; stroke-opacity:1; fill:none\" points=\"\n",
       "  1832.22,1236.4 1764.33,1224.19 1696.44,1222.66 1642.13,1242.05 1628.55,1255.63 1609.16,1309.94 1610.69,1377.83 1622.9,1445.72 \n",
       "  \"/>\n",
       "<polyline clip-path=\"url(#clip252)\" style=\"stroke:#2b0a56; stroke-linecap:round; stroke-linejoin:round; stroke-width:4; stroke-opacity:1; fill:none\" points=\"\n",
       "  1832.22,1004.45 1779.09,970.507 1764.33,960.809 1696.44,916.197 1676.08,902.62 1628.55,869.847 1580.06,834.733 1560.67,820.186 1492.78,766.846 \n",
       "  1424.89,711.302 1410.6,698.959 1357.01,650.468 1336.64,631.072 1289.12,583.551 1269.72,563.185 1221.23,509.59 1208.89,495.298 1153.35,427.411 \n",
       "  1100.01,359.524 1085.46,340.128 1050.35,291.637 1017.57,244.116 1003.99,223.75 959.383,155.863 949.685,141.105 915.742,87.9763 \n",
       "  \"/>\n",
       "<polyline clip-path=\"url(#clip252)\" style=\"stroke:#410967; stroke-linecap:round; stroke-linejoin:round; stroke-width:4; stroke-opacity:1; fill:none\" points=\"\n",
       "  1003.99,87.9763 1017.57,107.373 1052.39,155.863 1085.46,200.341 1103.32,223.75 1153.35,287.111 1157.02,291.637 1212.75,359.524 1221.23,369.581 1271.6,427.411 \n",
       "  1289.12,446.807 1334.38,495.298 1357.01,518.707 1401.48,563.185 1424.89,585.814 1473.38,631.072 1492.78,648.591 1550.61,698.959 1560.67,707.445 1628.55,763.176 \n",
       "  1633.08,766.846 1696.44,816.868 1719.85,834.733 1764.33,867.806 1812.82,902.62 1832.22,916.197 \n",
       "  \"/>\n",
       "<polyline clip-path=\"url(#clip252)\" style=\"stroke:#550f6d; stroke-linecap:round; stroke-linejoin:round; stroke-width:4; stroke-opacity:1; fill:none\" points=\"\n",
       "  1832.22,837.819 1828.1,834.733 1764.33,785.791 1740.37,766.846 1696.44,731.286 1657.65,698.959 1628.55,674.122 1579.53,631.072 1560.67,614.1 1505.62,563.185 \n",
       "  1492.78,551 1435.61,495.298 1424.89,484.579 1369.19,427.411 1357.01,414.568 1306.09,359.524 1289.12,340.667 1246.07,291.637 1221.23,262.543 1188.91,223.75 \n",
       "  1153.35,179.823 1134.4,155.863 1085.46,92.0906 1082.37,87.9763 \n",
       "  \"/>\n",
       "<polyline clip-path=\"url(#clip252)\" style=\"stroke:#6a176e; stroke-linecap:round; stroke-linejoin:round; stroke-width:4; stroke-opacity:1; fill:none\" points=\"\n",
       "  1153.35,87.9763 1153.35,87.9763 1208.23,155.863 1221.23,171.529 1265.51,223.75 1289.12,250.905 1325.33,291.637 1357.01,326.409 1387.86,359.524 1424.89,398.317 \n",
       "  1453.31,427.411 1492.78,466.88 1521.88,495.298 1560.67,532.327 1593.78,563.185 1628.55,594.866 1669.29,631.072 1696.44,654.685 1748.66,698.959 1764.33,711.959 \n",
       "  1832.22,766.846 \n",
       "  \"/>\n",
       "<polyline clip-path=\"url(#clip252)\" style=\"stroke:#7e1e6c; stroke-linecap:round; stroke-linejoin:round; stroke-width:4; stroke-opacity:1; fill:none\" points=\"\n",
       "  1832.22,701.57 1829.06,698.959 1764.33,644.383 1748.9,631.072 1696.44,584.909 1672.3,563.185 1628.55,523.007 1599.04,495.298 1560.67,458.526 1528.89,427.411 \n",
       "  1492.78,391.301 1461.67,359.524 1424.89,321.153 1397.18,291.637 1357.01,247.888 1335.28,223.75 1289.12,171.292 1275.81,155.863 1221.23,91.1338 1218.62,87.9763 \n",
       "  \n",
       "  \"/>\n",
       "<polyline clip-path=\"url(#clip252)\" style=\"stroke:#932567; stroke-linecap:round; stroke-linejoin:round; stroke-width:4; stroke-opacity:1; fill:none\" points=\"\n",
       "  1279.42,87.9763 1289.12,99.2908 1338.49,155.863 1357.01,176.645 1399.75,223.75 1424.89,250.905 1463.32,291.637 1492.78,322.253 1529.34,359.524 1560.67,390.857 \n",
       "  1597.94,427.411 1628.55,456.872 1669.29,495.298 1696.44,520.441 1743.55,563.185 1764.33,581.7 1820.9,631.072 1832.22,640.77 \n",
       "  \"/>\n",
       "<polyline clip-path=\"url(#clip252)\" style=\"stroke:#a62c5f; stroke-linecap:round; stroke-linejoin:round; stroke-width:4; stroke-opacity:1; fill:none\" points=\"\n",
       "  1832.22,583.551 1809.16,563.185 1764.33,522.913 1734.16,495.298 1696.44,460.184 1661.88,427.411 1628.55,395.254 1592.19,359.524 1560.67,328.005 1524.94,291.637 \n",
       "  1492.78,258.311 1460.01,223.75 1424.89,186.035 1397.28,155.863 1357.01,111.032 1336.64,87.9763 \n",
       "  \"/>\n",
       "<polyline clip-path=\"url(#clip252)\" style=\"stroke:#ba3655; stroke-linecap:round; stroke-linejoin:round; stroke-width:4; stroke-opacity:1; fill:none\" points=\"\n",
       "  1390.95,87.9763 1424.89,125.431 1452.91,155.863 1492.78,198.436 1516.87,223.75 1560.67,269.008 1582.93,291.637 1628.55,337.266 1651.18,359.524 1696.44,403.322 \n",
       "  1721.76,427.411 1764.33,467.281 1794.76,495.298 1832.22,529.242 \n",
       "  \"/>\n",
       "<polyline clip-path=\"url(#clip252)\" style=\"stroke:#cc4148; stroke-linecap:round; stroke-linejoin:round; stroke-width:4; stroke-opacity:1; fill:none\" points=\"\n",
       "  1832.22,477.328 1778.34,427.411 1764.33,414.239 1707.05,359.524 1696.44,349.238 1637.95,291.637 1628.55,282.237 1570.95,223.75 1560.67,213.143 1505.95,155.863 \n",
       "  1492.78,141.855 1442.86,87.9763 \n",
       "  \"/>\n",
       "<polyline clip-path=\"url(#clip252)\" style=\"stroke:#dc5039; stroke-linecap:round; stroke-linejoin:round; stroke-width:4; stroke-opacity:1; fill:none\" points=\"\n",
       "  1492.78,87.9763 1492.78,87.9763 1556.61,155.863 1560.67,160.106 1622.38,223.75 1628.55,230.017 1690.18,291.637 1696.44,297.809 1760.09,359.524 1764.33,363.577 \n",
       "  1832.22,427.411 \n",
       "  \"/>\n",
       "<polyline clip-path=\"url(#clip252)\" style=\"stroke:#160b39; stroke-linecap:round; stroke-linejoin:round; stroke-width:4; stroke-opacity:1; fill:none\" points=\"\n",
       "  813.911,87.9763 813.911,87.9763 846.597,155.863 881.798,223.75 881.798,223.75 914.125,291.637 949.685,359.524 981.366,427.411 1017.57,495.298 \n",
       "  1047.74,563.185 1085.46,631.072 1108.09,698.959 1085.46,721.588 1017.57,698.959 949.685,661.244 881.798,631.072 \n",
       "  813.911,594.866 746.024,563.185 746.024,563.185 678.137,527.625 610.25,495.298 542.363,460.097 474.476,427.411 \n",
       "  \n",
       "  \"/>\n",
       "<polyline clip-path=\"url(#clip252)\" style=\"stroke:#06041b; stroke-linecap:round; stroke-linejoin:round; stroke-width:4; stroke-opacity:1; fill:none\" points=\"\n",
       "  474.476,297.294 542.363,309.502 610.25,311.033 664.56,291.637 678.137,278.06 697.533,223.75 696.002,155.863 683.794,87.9763 \n",
       "  \"/>\n",
       "<polyline clip-path=\"url(#clip252)\" style=\"stroke:#e26f46; stroke-linecap:round; stroke-linejoin:round; stroke-width:4; stroke-opacity:1; fill:none\" points=\"\n",
       "  1153.35,766.846 673.313,286.813 \n",
       "  \"/>\n",
       "<polyline clip-path=\"url(#clip252)\" style=\"stroke:#3da44d; stroke-linecap:round; stroke-linejoin:round; stroke-width:4; stroke-opacity:1; fill:none\" points=\"\n",
       "  1153.35,766.846 1313.36,606.835 \n",
       "  \"/>\n",
       "<defs>\n",
       "  <clipPath id=\"clip253\">\n",
       "    <rect x=\"1880\" y=\"47\" width=\"73\" height=\"1440\"/>\n",
       "  </clipPath>\n",
       "</defs>\n",
       "<polyline clip-path=\"url(#clip253)\" style=\"stroke:#19ff19; stroke-linecap:round; stroke-linejoin:round; stroke-width:4; stroke-opacity:1; fill:none\" points=\"\n",
       "  1880.22,2062.13 1952.22,2062.13 \n",
       "  \"/>\n",
       "<polyline clip-path=\"url(#clip253)\" style=\"stroke:#87ff87; stroke-linecap:round; stroke-linejoin:round; stroke-width:4; stroke-opacity:1; fill:none\" points=\"\n",
       "  1880.22,1990.17 1952.22,1990.17 \n",
       "  \"/>\n",
       "<polyline clip-path=\"url(#clip253)\" style=\"stroke:#002d2d; stroke-linecap:round; stroke-linejoin:round; stroke-width:4; stroke-opacity:1; fill:none\" points=\"\n",
       "  1880.22,1918.21 1952.22,1918.21 \n",
       "  \"/>\n",
       "<polyline clip-path=\"url(#clip253)\" style=\"stroke:#008181; stroke-linecap:round; stroke-linejoin:round; stroke-width:4; stroke-opacity:1; fill:none\" points=\"\n",
       "  1880.22,1846.25 1952.22,1846.25 \n",
       "  \"/>\n",
       "<polyline clip-path=\"url(#clip253)\" style=\"stroke:#00dcdc; stroke-linecap:round; stroke-linejoin:round; stroke-width:4; stroke-opacity:1; fill:none\" points=\"\n",
       "  1880.22,1774.29 1952.22,1774.29 \n",
       "  \"/>\n",
       "<polyline clip-path=\"url(#clip253)\" style=\"stroke:#5dffff; stroke-linecap:round; stroke-linejoin:round; stroke-width:4; stroke-opacity:1; fill:none\" points=\"\n",
       "  1880.22,1702.33 1952.22,1702.33 \n",
       "  \"/>\n",
       "<polyline clip-path=\"url(#clip253)\" style=\"stroke:#c3ffff; stroke-linecap:round; stroke-linejoin:round; stroke-width:4; stroke-opacity:1; fill:none\" points=\"\n",
       "  1880.22,1630.37 1952.22,1630.37 \n",
       "  \"/>\n",
       "<polyline clip-path=\"url(#clip253)\" style=\"stroke:#007d33; stroke-linecap:round; stroke-linejoin:round; stroke-width:4; stroke-opacity:1; fill:none\" points=\"\n",
       "  1880.22,1558.41 1952.22,1558.41 \n",
       "  \"/>\n",
       "<polyline clip-path=\"url(#clip253)\" style=\"stroke:#000003; stroke-linecap:round; stroke-linejoin:round; stroke-width:4; stroke-opacity:1; fill:none\" points=\"\n",
       "  1880.22,1486.45 1952.22,1486.45 \n",
       "  \"/>\n",
       "<polyline clip-path=\"url(#clip253)\" style=\"stroke:#07051d; stroke-linecap:round; stroke-linejoin:round; stroke-width:4; stroke-opacity:1; fill:none\" points=\"\n",
       "  1880.22,1414.49 1952.22,1414.49 \n",
       "  \"/>\n",
       "<polyline clip-path=\"url(#clip253)\" style=\"stroke:#170b3b; stroke-linecap:round; stroke-linejoin:round; stroke-width:4; stroke-opacity:1; fill:none\" points=\"\n",
       "  1880.22,1342.53 1952.22,1342.53 \n",
       "  \"/>\n",
       "<polyline clip-path=\"url(#clip253)\" style=\"stroke:#2b0a56; stroke-linecap:round; stroke-linejoin:round; stroke-width:4; stroke-opacity:1; fill:none\" points=\"\n",
       "  1880.22,1270.57 1952.22,1270.57 \n",
       "  \"/>\n",
       "<polyline clip-path=\"url(#clip253)\" style=\"stroke:#410967; stroke-linecap:round; stroke-linejoin:round; stroke-width:4; stroke-opacity:1; fill:none\" points=\"\n",
       "  1880.22,1198.61 1952.22,1198.61 \n",
       "  \"/>\n",
       "<polyline clip-path=\"url(#clip253)\" style=\"stroke:#570f6d; stroke-linecap:round; stroke-linejoin:round; stroke-width:4; stroke-opacity:1; fill:none\" points=\"\n",
       "  1880.22,1126.65 1952.22,1126.65 \n",
       "  \"/>\n",
       "<polyline clip-path=\"url(#clip253)\" style=\"stroke:#6a176e; stroke-linecap:round; stroke-linejoin:round; stroke-width:4; stroke-opacity:1; fill:none\" points=\"\n",
       "  1880.22,1054.69 1952.22,1054.69 \n",
       "  \"/>\n",
       "<polyline clip-path=\"url(#clip253)\" style=\"stroke:#7e1e6c; stroke-linecap:round; stroke-linejoin:round; stroke-width:4; stroke-opacity:1; fill:none\" points=\"\n",
       "  1880.22,982.727 1952.22,982.727 \n",
       "  \"/>\n",
       "<polyline clip-path=\"url(#clip253)\" style=\"stroke:#932567; stroke-linecap:round; stroke-linejoin:round; stroke-width:4; stroke-opacity:1; fill:none\" points=\"\n",
       "  1880.22,910.766 1952.22,910.766 \n",
       "  \"/>\n",
       "<polyline clip-path=\"url(#clip253)\" style=\"stroke:#a72d5f; stroke-linecap:round; stroke-linejoin:round; stroke-width:4; stroke-opacity:1; fill:none\" points=\"\n",
       "  1880.22,838.806 1952.22,838.806 \n",
       "  \"/>\n",
       "<polyline clip-path=\"url(#clip253)\" style=\"stroke:#bb3754; stroke-linecap:round; stroke-linejoin:round; stroke-width:4; stroke-opacity:1; fill:none\" points=\"\n",
       "  1880.22,766.846 1952.22,766.846 \n",
       "  \"/>\n",
       "<polyline clip-path=\"url(#clip253)\" style=\"stroke:#cc4148; stroke-linecap:round; stroke-linejoin:round; stroke-width:4; stroke-opacity:1; fill:none\" points=\"\n",
       "  1880.22,694.886 1952.22,694.886 \n",
       "  \"/>\n",
       "<polyline clip-path=\"url(#clip253)\" style=\"stroke:#dc5039; stroke-linecap:round; stroke-linejoin:round; stroke-width:4; stroke-opacity:1; fill:none\" points=\"\n",
       "  1880.22,622.926 1952.22,622.926 \n",
       "  \"/>\n",
       "<path clip-path=\"url(#clip250)\" d=\"M2000.16 1324.7 Q1996.55 1324.7 1994.72 1328.26 Q1992.91 1331.8 1992.91 1338.93 Q1992.91 1346.04 1994.72 1349.6 Q1996.55 1353.15 2000.16 1353.15 Q2003.79 1353.15 2005.6 1349.6 Q2007.43 1346.04 2007.43 1338.93 Q2007.43 1331.8 2005.6 1328.26 Q2003.79 1324.7 2000.16 1324.7 M2000.16 1320.99 Q2005.97 1320.99 2009.03 1325.6 Q2012.1 1330.18 2012.1 1338.93 Q2012.1 1347.66 2009.03 1352.27 Q2005.97 1356.85 2000.16 1356.85 Q1994.35 1356.85 1991.27 1352.27 Q1988.22 1347.66 1988.22 1338.93 Q1988.22 1330.18 1991.27 1325.6 Q1994.35 1320.99 2000.16 1320.99 Z\" fill=\"#000000\" fill-rule=\"evenodd\" fill-opacity=\"1\" /><path clip-path=\"url(#clip250)\" d=\"M1993.84 1172.34 L2010.16 1172.34 L2010.16 1176.28 L1988.22 1176.28 L1988.22 1172.34 Q1990.88 1169.59 1995.46 1164.96 Q2000.07 1160.31 2001.25 1158.96 Q2003.49 1156.44 2004.37 1154.7 Q2005.28 1152.95 2005.28 1151.26 Q2005.28 1148.5 2003.33 1146.76 Q2001.41 1145.03 1998.31 1145.03 Q1996.11 1145.03 1993.66 1145.79 Q1991.22 1146.56 1988.45 1148.11 L1988.45 1143.38 Q1991.27 1142.25 1993.72 1141.67 Q1996.18 1141.09 1998.22 1141.09 Q2003.59 1141.09 2006.78 1143.78 Q2009.97 1146.46 2009.97 1150.95 Q2009.97 1153.08 2009.16 1155.01 Q2008.38 1156.9 2006.27 1159.5 Q2005.69 1160.17 2002.59 1163.38 Q1999.49 1166.58 1993.84 1172.34 Z\" fill=\"#000000\" fill-rule=\"evenodd\" fill-opacity=\"1\" /><path clip-path=\"url(#clip250)\" d=\"M2019.97 1170.4 L2024.86 1170.4 L2024.86 1176.28 L2019.97 1176.28 L2019.97 1170.4 Z\" fill=\"#000000\" fill-rule=\"evenodd\" fill-opacity=\"1\" /><path clip-path=\"url(#clip250)\" d=\"M2035.09 1141.72 L2053.45 1141.72 L2053.45 1145.65 L2039.37 1145.65 L2039.37 1154.13 Q2040.39 1153.78 2041.41 1153.62 Q2042.43 1153.43 2043.45 1153.43 Q2049.23 1153.43 2052.61 1156.6 Q2055.99 1159.77 2055.99 1165.19 Q2055.99 1170.77 2052.52 1173.87 Q2049.05 1176.95 2042.73 1176.95 Q2040.55 1176.95 2038.28 1176.58 Q2036.04 1176.21 2033.63 1175.47 L2033.63 1170.77 Q2035.72 1171.9 2037.94 1172.46 Q2040.16 1173.01 2042.64 1173.01 Q2046.64 1173.01 2048.98 1170.91 Q2051.32 1168.8 2051.32 1165.19 Q2051.32 1161.58 2048.98 1159.47 Q2046.64 1157.37 2042.64 1157.37 Q2040.76 1157.37 2038.89 1157.78 Q2037.03 1158.2 2035.09 1159.08 L2035.09 1141.72 Z\" fill=\"#000000\" fill-rule=\"evenodd\" fill-opacity=\"1\" /><path clip-path=\"url(#clip250)\" d=\"M1989.67 961.818 L2008.03 961.818 L2008.03 965.753 L1993.96 965.753 L1993.96 974.225 Q1994.97 973.878 1995.99 973.716 Q1997.01 973.531 1998.03 973.531 Q2003.82 973.531 2007.2 976.702 Q2010.58 979.873 2010.58 985.29 Q2010.58 990.869 2007.1 993.97 Q2003.63 997.049 1997.31 997.049 Q1995.14 997.049 1992.87 996.679 Q1990.62 996.308 1988.22 995.568 L1988.22 990.869 Q1990.3 992.003 1992.52 992.558 Q1994.74 993.114 1997.22 993.114 Q2001.22 993.114 2003.56 991.007 Q2005.9 988.901 2005.9 985.29 Q2005.9 981.679 2003.56 979.572 Q2001.22 977.466 1997.22 977.466 Q1995.35 977.466 1993.47 977.882 Q1991.62 978.299 1989.67 979.179 L1989.67 961.818 Z\" fill=\"#000000\" fill-rule=\"evenodd\" fill-opacity=\"1\" /><path clip-path=\"url(#clip250)\" d=\"M2019.79 990.498 L2024.67 990.498 L2024.67 996.378 L2019.79 996.378 L2019.79 990.498 Z\" fill=\"#000000\" fill-rule=\"evenodd\" fill-opacity=\"1\" /><path clip-path=\"url(#clip250)\" d=\"M2044.86 964.896 Q2041.25 964.896 2039.42 968.461 Q2037.61 972.003 2037.61 979.132 Q2037.61 986.239 2039.42 989.804 Q2041.25 993.345 2044.86 993.345 Q2048.49 993.345 2050.3 989.804 Q2052.13 986.239 2052.13 979.132 Q2052.13 972.003 2050.3 968.461 Q2048.49 964.896 2044.86 964.896 M2044.86 961.193 Q2050.67 961.193 2053.72 965.799 Q2056.8 970.383 2056.8 979.132 Q2056.8 987.859 2053.72 992.466 Q2050.67 997.049 2044.86 997.049 Q2039.05 997.049 2035.97 992.466 Q2032.91 987.859 2032.91 979.132 Q2032.91 970.383 2035.97 965.799 Q2039.05 961.193 2044.86 961.193 Z\" fill=\"#000000\" fill-rule=\"evenodd\" fill-opacity=\"1\" /><path clip-path=\"url(#clip250)\" d=\"M1988.22 781.917 L2010.44 781.917 L2010.44 783.908 L1997.89 816.477 L1993.01 816.477 L2004.81 785.852 L1988.22 785.852 L1988.22 781.917 Z\" fill=\"#000000\" fill-rule=\"evenodd\" fill-opacity=\"1\" /><path clip-path=\"url(#clip250)\" d=\"M2019.56 810.598 L2024.44 810.598 L2024.44 816.477 L2019.56 816.477 L2019.56 810.598 Z\" fill=\"#000000\" fill-rule=\"evenodd\" fill-opacity=\"1\" /><path clip-path=\"url(#clip250)\" d=\"M2034.67 781.917 L2053.03 781.917 L2053.03 785.852 L2038.96 785.852 L2038.96 794.325 Q2039.97 793.977 2040.99 793.815 Q2042.01 793.63 2043.03 793.63 Q2048.82 793.63 2052.2 796.801 Q2055.58 799.973 2055.58 805.389 Q2055.58 810.968 2052.1 814.07 Q2048.63 817.149 2042.31 817.149 Q2040.14 817.149 2037.87 816.778 Q2035.62 816.408 2033.22 815.667 L2033.22 810.968 Q2035.3 812.102 2037.52 812.658 Q2039.74 813.213 2042.22 813.213 Q2046.22 813.213 2048.56 811.107 Q2050.9 809 2050.9 805.389 Q2050.9 801.778 2048.56 799.672 Q2046.22 797.565 2042.22 797.565 Q2040.35 797.565 2038.47 797.982 Q2036.62 798.399 2034.67 799.278 L2034.67 781.917 Z\" fill=\"#000000\" fill-rule=\"evenodd\" fill-opacity=\"1\" /><path clip-path=\"url(#clip250)\" d=\"M1988.89 632.642 L1996.53 632.642 L1996.53 606.276 L1988.22 607.943 L1988.22 603.683 L1996.48 602.017 L2001.16 602.017 L2001.16 632.642 L2008.79 632.642 L2008.79 636.577 L1988.89 636.577 L1988.89 632.642 Z\" fill=\"#000000\" fill-rule=\"evenodd\" fill-opacity=\"1\" /><path clip-path=\"url(#clip250)\" d=\"M2028.24 605.095 Q2024.63 605.095 2022.8 608.66 Q2020.99 612.202 2020.99 619.332 Q2020.99 626.438 2022.8 630.003 Q2024.63 633.544 2028.24 633.544 Q2031.87 633.544 2033.68 630.003 Q2035.51 626.438 2035.51 619.332 Q2035.51 612.202 2033.68 608.66 Q2031.87 605.095 2028.24 605.095 M2028.24 601.392 Q2034.05 601.392 2037.1 605.998 Q2040.18 610.582 2040.18 619.332 Q2040.18 628.058 2037.1 632.665 Q2034.05 637.248 2028.24 637.248 Q2022.43 637.248 2019.35 632.665 Q2016.29 628.058 2016.29 619.332 Q2016.29 610.582 2019.35 605.998 Q2022.43 601.392 2028.24 601.392 Z\" fill=\"#000000\" fill-rule=\"evenodd\" fill-opacity=\"1\" /><path clip-path=\"url(#clip250)\" d=\"M2048.4 630.697 L2053.28 630.697 L2053.28 636.577 L2048.4 636.577 L2048.4 630.697 Z\" fill=\"#000000\" fill-rule=\"evenodd\" fill-opacity=\"1\" /><path clip-path=\"url(#clip250)\" d=\"M2073.47 605.095 Q2069.86 605.095 2068.03 608.66 Q2066.22 612.202 2066.22 619.332 Q2066.22 626.438 2068.03 630.003 Q2069.86 633.544 2073.47 633.544 Q2077.1 633.544 2078.91 630.003 Q2080.74 626.438 2080.74 619.332 Q2080.74 612.202 2078.91 608.66 Q2077.1 605.095 2073.47 605.095 M2073.47 601.392 Q2079.28 601.392 2082.34 605.998 Q2085.41 610.582 2085.41 619.332 Q2085.41 628.058 2082.34 632.665 Q2079.28 637.248 2073.47 637.248 Q2067.66 637.248 2064.58 632.665 Q2061.53 628.058 2061.53 619.332 Q2061.53 610.582 2064.58 605.998 Q2067.66 601.392 2073.47 601.392 Z\" fill=\"#000000\" fill-rule=\"evenodd\" fill-opacity=\"1\" /><path clip-path=\"url(#clip250)\" d=\"M1988.89 452.741 L1996.53 452.741 L1996.53 426.376 L1988.22 428.042 L1988.22 423.783 L1996.48 422.116 L2001.16 422.116 L2001.16 452.741 L2008.79 452.741 L2008.79 456.676 L1988.89 456.676 L1988.89 452.741 Z\" fill=\"#000000\" fill-rule=\"evenodd\" fill-opacity=\"1\" /><path clip-path=\"url(#clip250)\" d=\"M2022.27 452.741 L2038.59 452.741 L2038.59 456.676 L2016.64 456.676 L2016.64 452.741 Q2019.3 449.987 2023.89 445.357 Q2028.49 440.704 2029.67 439.362 Q2031.92 436.838 2032.8 435.102 Q2033.7 433.343 2033.7 431.653 Q2033.7 428.899 2031.76 427.163 Q2029.84 425.427 2026.73 425.427 Q2024.53 425.427 2022.08 426.19 Q2019.65 426.954 2016.87 428.505 L2016.87 423.783 Q2019.7 422.649 2022.15 422.07 Q2024.6 421.491 2026.64 421.491 Q2032.01 421.491 2035.21 424.177 Q2038.4 426.862 2038.4 431.352 Q2038.4 433.482 2037.59 435.403 Q2036.8 437.301 2034.7 439.894 Q2034.12 440.565 2031.02 443.783 Q2027.91 446.977 2022.27 452.741 Z\" fill=\"#000000\" fill-rule=\"evenodd\" fill-opacity=\"1\" /><path clip-path=\"url(#clip250)\" d=\"M2048.4 450.797 L2053.28 450.797 L2053.28 456.676 L2048.4 456.676 L2048.4 450.797 Z\" fill=\"#000000\" fill-rule=\"evenodd\" fill-opacity=\"1\" /><path clip-path=\"url(#clip250)\" d=\"M2063.52 422.116 L2081.87 422.116 L2081.87 426.051 L2067.8 426.051 L2067.8 434.524 Q2068.82 434.176 2069.84 434.014 Q2070.85 433.829 2071.87 433.829 Q2077.66 433.829 2081.04 437.001 Q2084.42 440.172 2084.42 445.588 Q2084.42 451.167 2080.95 454.269 Q2077.47 457.348 2071.16 457.348 Q2068.98 457.348 2066.71 456.977 Q2064.47 456.607 2062.06 455.866 L2062.06 451.167 Q2064.14 452.301 2066.36 452.857 Q2068.59 453.412 2071.06 453.412 Q2075.07 453.412 2077.4 451.306 Q2079.74 449.2 2079.74 445.588 Q2079.74 441.977 2077.4 439.871 Q2075.07 437.764 2071.06 437.764 Q2069.19 437.764 2067.31 438.181 Q2065.46 438.598 2063.52 439.477 L2063.52 422.116 Z\" fill=\"#000000\" fill-rule=\"evenodd\" fill-opacity=\"1\" /><path clip-path=\"url(#clip250)\" d=\"M1988.89 272.841 L1996.53 272.841 L1996.53 246.475 L1988.22 248.142 L1988.22 243.883 L1996.48 242.216 L2001.16 242.216 L2001.16 272.841 L2008.79 272.841 L2008.79 276.776 L1988.89 276.776 L1988.89 272.841 Z\" fill=\"#000000\" fill-rule=\"evenodd\" fill-opacity=\"1\" /><path clip-path=\"url(#clip250)\" d=\"M2018.28 242.216 L2036.64 242.216 L2036.64 246.151 L2022.57 246.151 L2022.57 254.623 Q2023.59 254.276 2024.6 254.114 Q2025.62 253.929 2026.64 253.929 Q2032.43 253.929 2035.81 257.1 Q2039.19 260.271 2039.19 265.688 Q2039.19 271.267 2035.72 274.368 Q2032.24 277.447 2025.92 277.447 Q2023.75 277.447 2021.48 277.077 Q2019.23 276.706 2016.83 275.966 L2016.83 271.267 Q2018.91 272.401 2021.13 272.956 Q2023.35 273.512 2025.83 273.512 Q2029.84 273.512 2032.17 271.406 Q2034.51 269.299 2034.51 265.688 Q2034.51 262.077 2032.17 259.97 Q2029.84 257.864 2025.83 257.864 Q2023.96 257.864 2022.08 258.281 Q2020.23 258.697 2018.28 259.577 L2018.28 242.216 Z\" fill=\"#000000\" fill-rule=\"evenodd\" fill-opacity=\"1\" /><path clip-path=\"url(#clip250)\" d=\"M2048.4 270.896 L2053.28 270.896 L2053.28 276.776 L2048.4 276.776 L2048.4 270.896 Z\" fill=\"#000000\" fill-rule=\"evenodd\" fill-opacity=\"1\" /><path clip-path=\"url(#clip250)\" d=\"M2073.47 245.295 Q2069.86 245.295 2068.03 248.859 Q2066.22 252.401 2066.22 259.531 Q2066.22 266.637 2068.03 270.202 Q2069.86 273.743 2073.47 273.743 Q2077.1 273.743 2078.91 270.202 Q2080.74 266.637 2080.74 259.531 Q2080.74 252.401 2078.91 248.859 Q2077.1 245.295 2073.47 245.295 M2073.47 241.591 Q2079.28 241.591 2082.34 246.197 Q2085.41 250.781 2085.41 259.531 Q2085.41 268.257 2082.34 272.864 Q2079.28 277.447 2073.47 277.447 Q2067.66 277.447 2064.58 272.864 Q2061.53 268.257 2061.53 259.531 Q2061.53 250.781 2064.58 246.197 Q2067.66 241.591 2073.47 241.591 Z\" fill=\"#000000\" fill-rule=\"evenodd\" fill-opacity=\"1\" /><path clip-path=\"url(#clip250)\" d=\"M1988.89 92.9402 L1996.53 92.9402 L1996.53 66.5746 L1988.22 68.2413 L1988.22 63.982 L1996.48 62.3154 L2001.16 62.3154 L2001.16 92.9402 L2008.79 92.9402 L2008.79 96.8754 L1988.89 96.8754 L1988.89 92.9402 Z\" fill=\"#000000\" fill-rule=\"evenodd\" fill-opacity=\"1\" /><path clip-path=\"url(#clip250)\" d=\"M2017.06 62.3154 L2039.28 62.3154 L2039.28 64.3061 L2026.73 96.8754 L2021.85 96.8754 L2033.66 66.2506 L2017.06 66.2506 L2017.06 62.3154 Z\" fill=\"#000000\" fill-rule=\"evenodd\" fill-opacity=\"1\" /><path clip-path=\"url(#clip250)\" d=\"M2048.4 90.9958 L2053.28 90.9958 L2053.28 96.8754 L2048.4 96.8754 L2048.4 90.9958 Z\" fill=\"#000000\" fill-rule=\"evenodd\" fill-opacity=\"1\" /><path clip-path=\"url(#clip250)\" d=\"M2063.52 62.3154 L2081.87 62.3154 L2081.87 66.2506 L2067.8 66.2506 L2067.8 74.7227 Q2068.82 74.3755 2069.84 74.2135 Q2070.85 74.0283 2071.87 74.0283 Q2077.66 74.0283 2081.04 77.1996 Q2084.42 80.3708 2084.42 85.7875 Q2084.42 91.3662 2080.95 94.468 Q2077.47 97.5467 2071.16 97.5467 Q2068.98 97.5467 2066.71 97.1763 Q2064.47 96.8059 2062.06 96.0652 L2062.06 91.3662 Q2064.14 92.5004 2066.36 93.056 Q2068.59 93.6115 2071.06 93.6115 Q2075.07 93.6115 2077.4 91.505 Q2079.74 89.3986 2079.74 85.7875 Q2079.74 82.1764 2077.4 80.0699 Q2075.07 77.9635 2071.06 77.9635 Q2069.19 77.9635 2067.31 78.3801 Q2065.46 78.7968 2063.52 79.6764 L2063.52 62.3154 Z\" fill=\"#000000\" fill-rule=\"evenodd\" fill-opacity=\"1\" /><polyline clip-path=\"url(#clip250)\" style=\"stroke:#000000; stroke-linecap:round; stroke-linejoin:round; stroke-width:4; stroke-opacity:1; fill:none\" points=\"\n",
       "  1952.22,1486.45 1952.22,1342.53 1976.22,1342.53 1952.22,1342.53 1952.22,1162.63 1976.22,1162.63 1952.22,1162.63 1952.22,982.727 1976.22,982.727 1952.22,982.727 \n",
       "  1952.22,802.826 1976.22,802.826 1952.22,802.826 1952.22,622.926 1976.22,622.926 1952.22,622.926 1952.22,443.025 1976.22,443.025 1952.22,443.025 1952.22,263.125 \n",
       "  1976.22,263.125 1952.22,263.125 1952.22,83.2242 1976.22,83.2242 1952.22,83.2242 1952.22,47.2441 \n",
       "  \"/>\n",
       "</svg>\n"
      ]
     },
     "execution_count": 19,
     "metadata": {},
     "output_type": "execute_result"
    }
   ],
   "source": [
    "plot!(plt, [0, evec1[1]], [0, evec1[2]], label = nothing)\n",
    "plot!(plt, [0, evec2[1]], [0, evec2[2]], label = nothing)\n",
    "plot(plt)"
   ]
  }
 ],
 "metadata": {
  "@webio": {
   "lastCommId": null,
   "lastKernelId": null
  },
  "hide_input": false,
  "kernelspec": {
   "display_name": "Julia 1.8.0",
   "language": "julia",
   "name": "julia-1.8"
  },
  "language_info": {
   "file_extension": ".jl",
   "mimetype": "application/julia",
   "name": "julia",
   "version": "1.8.0"
  },
  "toc": {
   "colors": {
    "hover_highlight": "#DAA520",
    "running_highlight": "#FF0000",
    "selected_highlight": "#FFD700"
   },
   "moveMenuLeft": true,
   "nav_menu": {
    "height": "171px",
    "width": "252px"
   },
   "navigate_menu": true,
   "number_sections": true,
   "sideBar": true,
   "skip_h1_title": true,
   "threshold": 4,
   "toc_cell": true,
   "toc_position": {
    "height": "348.43px",
    "left": "0px",
    "right": "711px",
    "top": "32.5703px",
    "width": "112px"
   },
   "toc_section_display": "block",
   "toc_window_display": true,
   "widenNotebook": false
  },
  "toc-autonumbering": true
 },
 "nbformat": 4,
 "nbformat_minor": 4
}
