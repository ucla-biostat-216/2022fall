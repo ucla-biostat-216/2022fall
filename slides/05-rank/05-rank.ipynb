{
 "cells": [
  {
   "cell_type": "markdown",
   "metadata": {
    "toc": "true"
   },
   "source": [
    "# Table of Contents\n",
    " <p><div class=\"lev1 toc-item\"><a href=\"#Rank-and-nullity\" data-toc-modified-id=\"Rank-and-nullity-1\"><span class=\"toc-item-num\">1&nbsp;&nbsp;</span>Rank and nullity</a></div><div class=\"lev2 toc-item\"><a href=\"#Rank\" data-toc-modified-id=\"Rank-11\"><span class=\"toc-item-num\">1.1&nbsp;&nbsp;</span>Rank</a></div><div class=\"lev2 toc-item\"><a href=\"#Effects-of-matrix-multiplication-on-rank\" data-toc-modified-id=\"Effects-of-matrix-multiplication-on-rank-12\"><span class=\"toc-item-num\">1.2&nbsp;&nbsp;</span>Effects of matrix multiplication on rank</a></div><div class=\"lev2 toc-item\"><a href=\"#Rank-nullity-theorem\" data-toc-modified-id=\"Rank-nullity-theorem-13\"><span class=\"toc-item-num\">1.3&nbsp;&nbsp;</span>Rank-nullity theorem</a></div><div class=\"lev2 toc-item\"><a href=\"#Fundamental-theorem-of-ranks-(important)\" data-toc-modified-id=\"Fundamental-theorem-of-ranks-(important)-14\"><span class=\"toc-item-num\">1.4&nbsp;&nbsp;</span>Fundamental theorem of ranks (important)</a></div><div class=\"lev2 toc-item\"><a href=\"#Rank-factorization-(important)\" data-toc-modified-id=\"Rank-factorization-(important)-15\"><span class=\"toc-item-num\">1.5&nbsp;&nbsp;</span>Rank factorization (important)</a></div>"
   ]
  },
  {
   "cell_type": "markdown",
   "metadata": {},
   "source": [
    "# Rank and nullity\n",
    "\n",
    "**Highlights**: In this lecture we will show some most important results about the rank of a matrix:  \n",
    "1. column rank = row rank.  \n",
    "2. Matrix multiplication can only decrease the rank:  \n",
    "$\\text{rank}(\\mathbf{A} \\mathbf{B}) \\le \\text{rank}(\\mathbf{A})$  \n",
    "    $\\text{rank}(\\mathbf{A} \\mathbf{B}) \\le \\text{rank}(\\mathbf{B})$.  \n",
    "    Some special cases: (1) $\\text{rank}(\\mathbf{A} \\mathbf{B}) = \\text{rank}(\\mathbf{A})$ if $\\mathbf{B}$ has full row rank. (2) $\\text{rank}(\\mathbf{A} \\mathbf{B}) = \\text{rank}(\\mathbf{B})$ if $\\mathbf{A}$ has full column rank. (3). $\\text{rank}(\\mathbf{A}' \\mathbf{A}) = \\text{rank}(\\mathbf{A})$ for any $\\mathbf{A}$.  \n",
    "3. $\\text{rank}(\\mathbf{A} + \\mathbf{B}) \\le \\text{rank}(\\mathbf{B}) + \\text{rank}(\\mathbf{B})$.  \n",
    "4. Rank-nullity theorem: For any $\\mathbf{A} \\in \\mathbb{R}^{m \\times n}$, $\\text{rank}(\\mathbf{A}) + \\text{nullity}(\\mathbf{A}) = n$.  \n",
    "5. Fundamental theorem of ranks: $\\text{rank}(\\mathbf{A}) = \\text{rank}(\\mathbf{A}') = \\text{rank}(\\mathbf{A}'\\mathbf{A}) = \\text{rank}(\\mathbf{A}\\mathbf{A}')$.\n",
    "\n",
    "<img src=\"../04-vecsp/four_fundamental_subspaces.png\" width=400 align=\"center\"/>"
   ]
  },
  {
   "cell_type": "code",
   "execution_count": 1,
   "metadata": {},
   "outputs": [
    {
     "name": "stderr",
     "output_type": "stream",
     "text": [
      "\u001b[32m\u001b[1m  Activating\u001b[22m\u001b[39m project at `~/Documents/github.com/ucla-biostat-216/2022fall/slides/05-rank`\n"
     ]
    },
    {
     "name": "stdout",
     "output_type": "stream",
     "text": [
      "\u001b[32m\u001b[1mStatus\u001b[22m\u001b[39m `~/Documents/github.com/ucla-biostat-216/2022fall/slides/05-rank/Project.toml`\n",
      " \u001b[90m [ce6b1742] \u001b[39mRDatasets v0.7.7\n",
      " \u001b[90m [3eaba693] \u001b[39mStatsModels v0.6.33\n",
      " \u001b[90m [37e2e46d] \u001b[39mLinearAlgebra\n"
     ]
    }
   ],
   "source": [
    "using Pkg\n",
    "Pkg.activate(pwd())\n",
    "Pkg.instantiate()\n",
    "Pkg.status()"
   ]
  },
  {
   "cell_type": "code",
   "execution_count": 2,
   "metadata": {},
   "outputs": [],
   "source": [
    "using LinearAlgebra, RDatasets, StatsModels"
   ]
  },
  {
   "cell_type": "code",
   "execution_count": 3,
   "metadata": {},
   "outputs": [
    {
     "data": {
      "text/html": [
       "<div><div style = \"float: left;\"><span>150×5 DataFrame</span></div><div style = \"float: right;\"><span style = \"font-style: italic;\">125 rows omitted</span></div><div style = \"clear: both;\"></div></div><div class = \"data-frame\" style = \"overflow-x: scroll;\"><table class = \"data-frame\" style = \"margin-bottom: 6px;\"><thead><tr class = \"header\"><th class = \"rowNumber\" style = \"font-weight: bold; text-align: right;\">Row</th><th style = \"text-align: left;\">SepalLength</th><th style = \"text-align: left;\">SepalWidth</th><th style = \"text-align: left;\">PetalLength</th><th style = \"text-align: left;\">PetalWidth</th><th style = \"text-align: left;\">Species</th></tr><tr class = \"subheader headerLastRow\"><th class = \"rowNumber\" style = \"font-weight: bold; text-align: right;\"></th><th title = \"Float64\" style = \"text-align: left;\">Float64</th><th title = \"Float64\" style = \"text-align: left;\">Float64</th><th title = \"Float64\" style = \"text-align: left;\">Float64</th><th title = \"Float64\" style = \"text-align: left;\">Float64</th><th title = \"CategoricalArrays.CategoricalValue{String, UInt8}\" style = \"text-align: left;\">Cat…</th></tr></thead><tbody><tr><td class = \"rowNumber\" style = \"font-weight: bold; text-align: right;\">1</td><td style = \"text-align: right;\">5.1</td><td style = \"text-align: right;\">3.5</td><td style = \"text-align: right;\">1.4</td><td style = \"text-align: right;\">0.2</td><td style = \"text-align: left;\">setosa</td></tr><tr><td class = \"rowNumber\" style = \"font-weight: bold; text-align: right;\">2</td><td style = \"text-align: right;\">4.9</td><td style = \"text-align: right;\">3.0</td><td style = \"text-align: right;\">1.4</td><td style = \"text-align: right;\">0.2</td><td style = \"text-align: left;\">setosa</td></tr><tr><td class = \"rowNumber\" style = \"font-weight: bold; text-align: right;\">3</td><td style = \"text-align: right;\">4.7</td><td style = \"text-align: right;\">3.2</td><td style = \"text-align: right;\">1.3</td><td style = \"text-align: right;\">0.2</td><td style = \"text-align: left;\">setosa</td></tr><tr><td class = \"rowNumber\" style = \"font-weight: bold; text-align: right;\">4</td><td style = \"text-align: right;\">4.6</td><td style = \"text-align: right;\">3.1</td><td style = \"text-align: right;\">1.5</td><td style = \"text-align: right;\">0.2</td><td style = \"text-align: left;\">setosa</td></tr><tr><td class = \"rowNumber\" style = \"font-weight: bold; text-align: right;\">5</td><td style = \"text-align: right;\">5.0</td><td style = \"text-align: right;\">3.6</td><td style = \"text-align: right;\">1.4</td><td style = \"text-align: right;\">0.2</td><td style = \"text-align: left;\">setosa</td></tr><tr><td class = \"rowNumber\" style = \"font-weight: bold; text-align: right;\">6</td><td style = \"text-align: right;\">5.4</td><td style = \"text-align: right;\">3.9</td><td style = \"text-align: right;\">1.7</td><td style = \"text-align: right;\">0.4</td><td style = \"text-align: left;\">setosa</td></tr><tr><td class = \"rowNumber\" style = \"font-weight: bold; text-align: right;\">7</td><td style = \"text-align: right;\">4.6</td><td style = \"text-align: right;\">3.4</td><td style = \"text-align: right;\">1.4</td><td style = \"text-align: right;\">0.3</td><td style = \"text-align: left;\">setosa</td></tr><tr><td class = \"rowNumber\" style = \"font-weight: bold; text-align: right;\">8</td><td style = \"text-align: right;\">5.0</td><td style = \"text-align: right;\">3.4</td><td style = \"text-align: right;\">1.5</td><td style = \"text-align: right;\">0.2</td><td style = \"text-align: left;\">setosa</td></tr><tr><td class = \"rowNumber\" style = \"font-weight: bold; text-align: right;\">9</td><td style = \"text-align: right;\">4.4</td><td style = \"text-align: right;\">2.9</td><td style = \"text-align: right;\">1.4</td><td style = \"text-align: right;\">0.2</td><td style = \"text-align: left;\">setosa</td></tr><tr><td class = \"rowNumber\" style = \"font-weight: bold; text-align: right;\">10</td><td style = \"text-align: right;\">4.9</td><td style = \"text-align: right;\">3.1</td><td style = \"text-align: right;\">1.5</td><td style = \"text-align: right;\">0.1</td><td style = \"text-align: left;\">setosa</td></tr><tr><td class = \"rowNumber\" style = \"font-weight: bold; text-align: right;\">11</td><td style = \"text-align: right;\">5.4</td><td style = \"text-align: right;\">3.7</td><td style = \"text-align: right;\">1.5</td><td style = \"text-align: right;\">0.2</td><td style = \"text-align: left;\">setosa</td></tr><tr><td class = \"rowNumber\" style = \"font-weight: bold; text-align: right;\">12</td><td style = \"text-align: right;\">4.8</td><td style = \"text-align: right;\">3.4</td><td style = \"text-align: right;\">1.6</td><td style = \"text-align: right;\">0.2</td><td style = \"text-align: left;\">setosa</td></tr><tr><td class = \"rowNumber\" style = \"font-weight: bold; text-align: right;\">13</td><td style = \"text-align: right;\">4.8</td><td style = \"text-align: right;\">3.0</td><td style = \"text-align: right;\">1.4</td><td style = \"text-align: right;\">0.1</td><td style = \"text-align: left;\">setosa</td></tr><tr><td style = \"text-align: right;\">&vellip;</td><td style = \"text-align: right;\">&vellip;</td><td style = \"text-align: right;\">&vellip;</td><td style = \"text-align: right;\">&vellip;</td><td style = \"text-align: right;\">&vellip;</td><td style = \"text-align: right;\">&vellip;</td></tr><tr><td class = \"rowNumber\" style = \"font-weight: bold; text-align: right;\">139</td><td style = \"text-align: right;\">6.0</td><td style = \"text-align: right;\">3.0</td><td style = \"text-align: right;\">4.8</td><td style = \"text-align: right;\">1.8</td><td style = \"text-align: left;\">virginica</td></tr><tr><td class = \"rowNumber\" style = \"font-weight: bold; text-align: right;\">140</td><td style = \"text-align: right;\">6.9</td><td style = \"text-align: right;\">3.1</td><td style = \"text-align: right;\">5.4</td><td style = \"text-align: right;\">2.1</td><td style = \"text-align: left;\">virginica</td></tr><tr><td class = \"rowNumber\" style = \"font-weight: bold; text-align: right;\">141</td><td style = \"text-align: right;\">6.7</td><td style = \"text-align: right;\">3.1</td><td style = \"text-align: right;\">5.6</td><td style = \"text-align: right;\">2.4</td><td style = \"text-align: left;\">virginica</td></tr><tr><td class = \"rowNumber\" style = \"font-weight: bold; text-align: right;\">142</td><td style = \"text-align: right;\">6.9</td><td style = \"text-align: right;\">3.1</td><td style = \"text-align: right;\">5.1</td><td style = \"text-align: right;\">2.3</td><td style = \"text-align: left;\">virginica</td></tr><tr><td class = \"rowNumber\" style = \"font-weight: bold; text-align: right;\">143</td><td style = \"text-align: right;\">5.8</td><td style = \"text-align: right;\">2.7</td><td style = \"text-align: right;\">5.1</td><td style = \"text-align: right;\">1.9</td><td style = \"text-align: left;\">virginica</td></tr><tr><td class = \"rowNumber\" style = \"font-weight: bold; text-align: right;\">144</td><td style = \"text-align: right;\">6.8</td><td style = \"text-align: right;\">3.2</td><td style = \"text-align: right;\">5.9</td><td style = \"text-align: right;\">2.3</td><td style = \"text-align: left;\">virginica</td></tr><tr><td class = \"rowNumber\" style = \"font-weight: bold; text-align: right;\">145</td><td style = \"text-align: right;\">6.7</td><td style = \"text-align: right;\">3.3</td><td style = \"text-align: right;\">5.7</td><td style = \"text-align: right;\">2.5</td><td style = \"text-align: left;\">virginica</td></tr><tr><td class = \"rowNumber\" style = \"font-weight: bold; text-align: right;\">146</td><td style = \"text-align: right;\">6.7</td><td style = \"text-align: right;\">3.0</td><td style = \"text-align: right;\">5.2</td><td style = \"text-align: right;\">2.3</td><td style = \"text-align: left;\">virginica</td></tr><tr><td class = \"rowNumber\" style = \"font-weight: bold; text-align: right;\">147</td><td style = \"text-align: right;\">6.3</td><td style = \"text-align: right;\">2.5</td><td style = \"text-align: right;\">5.0</td><td style = \"text-align: right;\">1.9</td><td style = \"text-align: left;\">virginica</td></tr><tr><td class = \"rowNumber\" style = \"font-weight: bold; text-align: right;\">148</td><td style = \"text-align: right;\">6.5</td><td style = \"text-align: right;\">3.0</td><td style = \"text-align: right;\">5.2</td><td style = \"text-align: right;\">2.0</td><td style = \"text-align: left;\">virginica</td></tr><tr><td class = \"rowNumber\" style = \"font-weight: bold; text-align: right;\">149</td><td style = \"text-align: right;\">6.2</td><td style = \"text-align: right;\">3.4</td><td style = \"text-align: right;\">5.4</td><td style = \"text-align: right;\">2.3</td><td style = \"text-align: left;\">virginica</td></tr><tr><td class = \"rowNumber\" style = \"font-weight: bold; text-align: right;\">150</td><td style = \"text-align: right;\">5.9</td><td style = \"text-align: right;\">3.0</td><td style = \"text-align: right;\">5.1</td><td style = \"text-align: right;\">1.8</td><td style = \"text-align: left;\">virginica</td></tr></tbody></table></div>"
      ],
      "text/latex": [
       "\\begin{tabular}{r|ccccc}\n",
       "\t& SepalLength & SepalWidth & PetalLength & PetalWidth & Species\\\\\n",
       "\t\\hline\n",
       "\t& Float64 & Float64 & Float64 & Float64 & Cat…\\\\\n",
       "\t\\hline\n",
       "\t1 & 5.1 & 3.5 & 1.4 & 0.2 & setosa \\\\\n",
       "\t2 & 4.9 & 3.0 & 1.4 & 0.2 & setosa \\\\\n",
       "\t3 & 4.7 & 3.2 & 1.3 & 0.2 & setosa \\\\\n",
       "\t4 & 4.6 & 3.1 & 1.5 & 0.2 & setosa \\\\\n",
       "\t5 & 5.0 & 3.6 & 1.4 & 0.2 & setosa \\\\\n",
       "\t6 & 5.4 & 3.9 & 1.7 & 0.4 & setosa \\\\\n",
       "\t7 & 4.6 & 3.4 & 1.4 & 0.3 & setosa \\\\\n",
       "\t8 & 5.0 & 3.4 & 1.5 & 0.2 & setosa \\\\\n",
       "\t9 & 4.4 & 2.9 & 1.4 & 0.2 & setosa \\\\\n",
       "\t10 & 4.9 & 3.1 & 1.5 & 0.1 & setosa \\\\\n",
       "\t11 & 5.4 & 3.7 & 1.5 & 0.2 & setosa \\\\\n",
       "\t12 & 4.8 & 3.4 & 1.6 & 0.2 & setosa \\\\\n",
       "\t13 & 4.8 & 3.0 & 1.4 & 0.1 & setosa \\\\\n",
       "\t14 & 4.3 & 3.0 & 1.1 & 0.1 & setosa \\\\\n",
       "\t15 & 5.8 & 4.0 & 1.2 & 0.2 & setosa \\\\\n",
       "\t16 & 5.7 & 4.4 & 1.5 & 0.4 & setosa \\\\\n",
       "\t17 & 5.4 & 3.9 & 1.3 & 0.4 & setosa \\\\\n",
       "\t18 & 5.1 & 3.5 & 1.4 & 0.3 & setosa \\\\\n",
       "\t19 & 5.7 & 3.8 & 1.7 & 0.3 & setosa \\\\\n",
       "\t20 & 5.1 & 3.8 & 1.5 & 0.3 & setosa \\\\\n",
       "\t21 & 5.4 & 3.4 & 1.7 & 0.2 & setosa \\\\\n",
       "\t22 & 5.1 & 3.7 & 1.5 & 0.4 & setosa \\\\\n",
       "\t23 & 4.6 & 3.6 & 1.0 & 0.2 & setosa \\\\\n",
       "\t24 & 5.1 & 3.3 & 1.7 & 0.5 & setosa \\\\\n",
       "\t25 & 4.8 & 3.4 & 1.9 & 0.2 & setosa \\\\\n",
       "\t26 & 5.0 & 3.0 & 1.6 & 0.2 & setosa \\\\\n",
       "\t27 & 5.0 & 3.4 & 1.6 & 0.4 & setosa \\\\\n",
       "\t28 & 5.2 & 3.5 & 1.5 & 0.2 & setosa \\\\\n",
       "\t29 & 5.2 & 3.4 & 1.4 & 0.2 & setosa \\\\\n",
       "\t30 & 4.7 & 3.2 & 1.6 & 0.2 & setosa \\\\\n",
       "\t$\\dots$ & $\\dots$ & $\\dots$ & $\\dots$ & $\\dots$ & $\\dots$ \\\\\n",
       "\\end{tabular}\n"
      ],
      "text/plain": [
       "\u001b[1m150×5 DataFrame\u001b[0m\n",
       "\u001b[1m Row \u001b[0m│\u001b[1m SepalLength \u001b[0m\u001b[1m SepalWidth \u001b[0m\u001b[1m PetalLength \u001b[0m\u001b[1m PetalWidth \u001b[0m\u001b[1m Species   \u001b[0m\n",
       "     │\u001b[90m Float64     \u001b[0m\u001b[90m Float64    \u001b[0m\u001b[90m Float64     \u001b[0m\u001b[90m Float64    \u001b[0m\u001b[90m Cat…      \u001b[0m\n",
       "─────┼─────────────────────────────────────────────────────────────\n",
       "   1 │         5.1         3.5          1.4         0.2  setosa\n",
       "   2 │         4.9         3.0          1.4         0.2  setosa\n",
       "   3 │         4.7         3.2          1.3         0.2  setosa\n",
       "   4 │         4.6         3.1          1.5         0.2  setosa\n",
       "   5 │         5.0         3.6          1.4         0.2  setosa\n",
       "   6 │         5.4         3.9          1.7         0.4  setosa\n",
       "   7 │         4.6         3.4          1.4         0.3  setosa\n",
       "   8 │         5.0         3.4          1.5         0.2  setosa\n",
       "   9 │         4.4         2.9          1.4         0.2  setosa\n",
       "  10 │         4.9         3.1          1.5         0.1  setosa\n",
       "  11 │         5.4         3.7          1.5         0.2  setosa\n",
       "  ⋮  │      ⋮           ⋮            ⋮           ⋮           ⋮\n",
       " 141 │         6.7         3.1          5.6         2.4  virginica\n",
       " 142 │         6.9         3.1          5.1         2.3  virginica\n",
       " 143 │         5.8         2.7          5.1         1.9  virginica\n",
       " 144 │         6.8         3.2          5.9         2.3  virginica\n",
       " 145 │         6.7         3.3          5.7         2.5  virginica\n",
       " 146 │         6.7         3.0          5.2         2.3  virginica\n",
       " 147 │         6.3         2.5          5.0         1.9  virginica\n",
       " 148 │         6.5         3.0          5.2         2.0  virginica\n",
       " 149 │         6.2         3.4          5.4         2.3  virginica\n",
       " 150 │         5.9         3.0          5.1         1.8  virginica\n",
       "\u001b[36m                                                   129 rows omitted\u001b[0m"
      ]
     },
     "execution_count": 3,
     "metadata": {},
     "output_type": "execute_result"
    }
   ],
   "source": [
    "# the famous Fisher's Iris data\n",
    "# <https://en.wikipedia.org/wiki/Iris_flower_data_set>\n",
    "iris = dataset(\"datasets\", \"iris\")"
   ]
  },
  {
   "cell_type": "code",
   "execution_count": 4,
   "metadata": {},
   "outputs": [
    {
     "data": {
      "text/plain": [
       "150×8 Matrix{Float64}:\n",
       " 1.0  5.1  3.5  1.4  0.2  1.0  0.0  0.0\n",
       " 1.0  4.9  3.0  1.4  0.2  1.0  0.0  0.0\n",
       " 1.0  4.7  3.2  1.3  0.2  1.0  0.0  0.0\n",
       " 1.0  4.6  3.1  1.5  0.2  1.0  0.0  0.0\n",
       " 1.0  5.0  3.6  1.4  0.2  1.0  0.0  0.0\n",
       " 1.0  5.4  3.9  1.7  0.4  1.0  0.0  0.0\n",
       " 1.0  4.6  3.4  1.4  0.3  1.0  0.0  0.0\n",
       " 1.0  5.0  3.4  1.5  0.2  1.0  0.0  0.0\n",
       " 1.0  4.4  2.9  1.4  0.2  1.0  0.0  0.0\n",
       " 1.0  4.9  3.1  1.5  0.1  1.0  0.0  0.0\n",
       " 1.0  5.4  3.7  1.5  0.2  1.0  0.0  0.0\n",
       " 1.0  4.8  3.4  1.6  0.2  1.0  0.0  0.0\n",
       " 1.0  4.8  3.0  1.4  0.1  1.0  0.0  0.0\n",
       " ⋮                        ⋮         \n",
       " 1.0  6.0  3.0  4.8  1.8  0.0  0.0  1.0\n",
       " 1.0  6.9  3.1  5.4  2.1  0.0  0.0  1.0\n",
       " 1.0  6.7  3.1  5.6  2.4  0.0  0.0  1.0\n",
       " 1.0  6.9  3.1  5.1  2.3  0.0  0.0  1.0\n",
       " 1.0  5.8  2.7  5.1  1.9  0.0  0.0  1.0\n",
       " 1.0  6.8  3.2  5.9  2.3  0.0  0.0  1.0\n",
       " 1.0  6.7  3.3  5.7  2.5  0.0  0.0  1.0\n",
       " 1.0  6.7  3.0  5.2  2.3  0.0  0.0  1.0\n",
       " 1.0  6.3  2.5  5.0  1.9  0.0  0.0  1.0\n",
       " 1.0  6.5  3.0  5.2  2.0  0.0  0.0  1.0\n",
       " 1.0  6.2  3.4  5.4  2.3  0.0  0.0  1.0\n",
       " 1.0  5.9  3.0  5.1  1.8  0.0  0.0  1.0"
      ]
     },
     "execution_count": 4,
     "metadata": {},
     "output_type": "execute_result"
    }
   ],
   "source": [
    "# use full dummy coding (one-hot coding) for categorical variable Species\n",
    "X = ModelMatrix(ModelFrame(\n",
    "    @formula(1 ~ 1 + SepalLength + SepalWidth + PetalLength + PetalWidth + Species), \n",
    "    iris,\n",
    "    contrasts = Dict(:Species => StatsModels.FullDummyCoding()))).m"
   ]
  },
  {
   "cell_type": "code",
   "execution_count": 5,
   "metadata": {},
   "outputs": [
    {
     "name": "stdout",
     "output_type": "stream",
     "text": [
      "size(X) = (150, 8)\n",
      "rank(X) = 7\n",
      "rank(X') = 7\n",
      "rank(X' * X) = 7\n",
      "rank(X * X') = 7\n"
     ]
    }
   ],
   "source": [
    "@show size(X)\n",
    "@show rank(X)\n",
    "@show rank(X')\n",
    "@show rank(X' * X)\n",
    "@show rank(X * X');"
   ]
  },
  {
   "cell_type": "code",
   "execution_count": 6,
   "metadata": {},
   "outputs": [
    {
     "data": {
      "text/plain": [
       "8×1 Matrix{Float64}:\n",
       " -0.5\n",
       " -8.326672684688674e-17\n",
       " -1.9081958235744878e-16\n",
       "  1.1796119636642288e-16\n",
       "  2.1510571102112408e-16\n",
       "  0.5000000000000002\n",
       "  0.4999999999999998\n",
       "  0.49999999999999956"
      ]
     },
     "execution_count": 6,
     "metadata": {},
     "output_type": "execute_result"
    }
   ],
   "source": [
    "# only one basis vector in N(X)\n",
    "nullspace(X)"
   ]
  },
  {
   "cell_type": "markdown",
   "metadata": {},
   "source": [
    "## Rank\n",
    "\n",
    "Let $\\mathbf{A}$ be an $m \\times n$ matrix\n",
    "\\begin{eqnarray*}\n",
    "    \\mathbf{A} = \\begin{pmatrix}\n",
    "    \\mid & & \\mid \\\\\n",
    "    \\mathbf{a}_1 & \\ldots & \\mathbf{a}_n \\\\\n",
    "    \\mid & & \\mid    \n",
    "    \\end{pmatrix}.\n",
    "\\end{eqnarray*}\n",
    "\n",
    "- The **column rank** of $\\mathbf{A}$ is the maximum number of linearly independent columns of $\\mathbf{A}$. \n",
    "\n",
    "    In other words, column rank of $\\mathbf{A}$ is $\\text{dim}(\\mathcal{C}(\\mathbf{A}))$.\n",
    "\n",
    "- The **row rank** of $\\mathbf{A}$ is the maximum number of linearly independent rows of $\\mathbf{A}$.  \n",
    "\n",
    "    In other words, row rank of $\\mathbf{A}$ is $\\text{dim}(\\mathcal{R}(\\mathbf{A})) = \\text{dim}(\\mathcal{C}(\\mathbf{A}'))$.\n",
    "\n",
    "- For any $m \\times n$ matrix $\\mathbf{A}$, its column rank is equal to the row rank, which we shall call the **rank** of $\\mathbf{A}$.\n",
    "\n",
    "    We will give a simple proof using rank factorization below.\n",
    "    \n",
    "- For any $\\mathbf{A} \\in \\mathbb{R}^{m \\times n}$, $\\text{rank}(\\mathbf{A}) \\le \\min \\{m, n\\}$."
   ]
  },
  {
   "cell_type": "code",
   "execution_count": 7,
   "metadata": {},
   "outputs": [
    {
     "data": {
      "text/plain": [
       "2×3 Matrix{Int64}:\n",
       " 1  -2  -2\n",
       " 3  -6  -6"
      ]
     },
     "execution_count": 7,
     "metadata": {},
     "output_type": "execute_result"
    }
   ],
   "source": [
    "A = [1 -2 -2; 3 -6 -6]"
   ]
  },
  {
   "cell_type": "code",
   "execution_count": 8,
   "metadata": {},
   "outputs": [
    {
     "data": {
      "text/plain": [
       "1"
      ]
     },
     "execution_count": 8,
     "metadata": {},
     "output_type": "execute_result"
    }
   ],
   "source": [
    "# column rank\n",
    "rank(A)"
   ]
  },
  {
   "cell_type": "code",
   "execution_count": 9,
   "metadata": {},
   "outputs": [
    {
     "data": {
      "text/plain": [
       "1"
      ]
     },
     "execution_count": 9,
     "metadata": {},
     "output_type": "execute_result"
    }
   ],
   "source": [
    "# row rank\n",
    "rank(A')"
   ]
  },
  {
   "cell_type": "code",
   "execution_count": 10,
   "metadata": {},
   "outputs": [
    {
     "name": "stdout",
     "output_type": "stream",
     "text": [
      "size(X) = (150, 8)\n",
      "rank(X) = 7\n"
     ]
    },
    {
     "data": {
      "text/plain": [
       "7"
      ]
     },
     "execution_count": 10,
     "metadata": {},
     "output_type": "execute_result"
    }
   ],
   "source": [
    "# another matrix\n",
    "@show size(X)\n",
    "@show rank(X)"
   ]
  },
  {
   "cell_type": "markdown",
   "metadata": {},
   "source": [
    "- For $\\mathbf{A} \\in \\mathbb{R}^{m \\times n}$, we say $\\mathbf{A}$ is **full rank** if $\\text{rank}(\\mathbf{A}) = \\min \\{m, n\\}$. \n",
    "\n",
    "    It is **full row rank** if $\\text{rank}(\\mathbf{A}) = m$. \n",
    "    \n",
    "    It is **full column rank** if $\\text{rank}(\\mathbf{A}) = n$.\n",
    "\n",
    "- A square matrix $\\mathbf{A} \\in \\mathbb{R}^{n \\times n}$ is **singular** if $\\text{rank}(\\mathbf{A}) < n$ and **non-singular** or **invertible** if $\\text{rank}(\\mathbf{A}) = n$.\n",
    "\n",
    "- Example: The identity matrix\n",
    "$$\n",
    "    \\mathbf{I} = \\begin{pmatrix}\n",
    "    1 & \\cdots & 0 \\\\\n",
    "    \\vdots & \\ddots & \\vdots \\\\\n",
    "    0 & \\cdots & 1\n",
    "    \\end{pmatrix}\n",
    "$$\n",
    "is full rank. "
   ]
  },
  {
   "cell_type": "markdown",
   "metadata": {},
   "source": [
    "## Effects of matrix multiplication on rank\n",
    "\n",
    "- $\\text{rank}(\\mathbf{A}\\mathbf{B}) \\le \\text{rank}(\\mathbf{A})$ and $\\text{rank}(\\mathbf{A}\\mathbf{B}) \\le \\text{rank}(\\mathbf{B})$. \n",
    "\n",
    "    In words, **matrix multiplication can only decrease the rank**.\n",
    "\n",
    "    Proof: Because $\\mathcal{C}(\\mathbf{A}\\mathbf{B}) \\subseteq \\mathcal{C}(\\mathbf{A})$ (why?), we have $\\text{rank}(\\mathbf{A}\\mathbf{B}) \\le \\text{rank}(\\mathbf{A})$ by monotonicity of dimension. Similary, because the row space of $\\mathbf{A}\\mathbf{B}$ is a subset of the row space of  $\\mathbf{B}$, we have $\\text{rank}(\\mathbf{A}\\mathbf{B}) \\le \\text{rank}(\\mathbf{B})$.\n",
    "    \n",
    "\n",
    "- $\\text{rank}(\\mathbf{A}\\mathbf{B}) = \\text{rank}(\\mathbf{A})$ if $\\mathbf{B}$ is square and of full rank. More general, **left-multiplying by a matrix with full column rank or right-multiplying by a matrix of full row rank does not change rank**.\n",
    "\n",
    "    Proof (optional): We show the more general statement. Assume $\\mathbf{B} \\in \\mathbb{R}^{m \\times n}$ has full row rank, we want to show $\\text{rank}(\\mathbf{A}) = \\text{rank}(\\mathbf{A}\\mathbf{B})$. Since $\\mathbf{B} \\in \\mathbb{R}^{m \\times n}$ has full row rank, there exists a permutation matrix $\\mathbf{P} \\in \\{0,1\\}^{n \\times n}$ such that\n",
    "$$\n",
    "    \\mathbf{B} \\mathbf{P} = \\begin{pmatrix} \\mathbf{B}_1 : \\mathbf{B}_2 \\end{pmatrix},\n",
    "$$\n",
    "where $\\mathbf{B}_1 \\in \\mathbb{R}^{m \\times m}$ is non-singular and $\\mathbf{B}_2 \\in \\mathbb{R}^{m \\times (n-m)}$. Then\n",
    "$$\n",
    "    \\text{rank}(\\mathbf{A}) \\ge \\text{rank}(\\mathbf{A}\\mathbf{B}) = \\text{rank}(\\mathbf{A} \\begin{pmatrix} \\mathbf{B}_1 : \\mathbf{B}_2 \\end{pmatrix} \\mathbf{P}') \\ge \\text{rank} \\left( \\mathbf{A} \\begin{pmatrix} \\mathbf{B}_1 : \\mathbf{B}_2 \\end{pmatrix} \\mathbf{P}' \\mathbf{P} \\begin{pmatrix} \\mathbf{B}_1^{-1} \\\\ \\mathbf{O} \\end{pmatrix} \\right) = \\text{rank} (\\mathbf{A} \\mathbf{I}_n) = \\text{rank} (\\mathbf{A}).\n",
    "$$\n",
    "Thus $\\text{rank}(\\mathbf{A}) = \\text{rank} (\\mathbf{A} \\mathbf{B})$. Proof for the other half of the statement follows the same argument.\n",
    "    \n",
    "- Example: 2019 qual. exam Q1."
   ]
  },
  {
   "cell_type": "code",
   "execution_count": 11,
   "metadata": {},
   "outputs": [
    {
     "data": {
      "text/plain": [
       "2×3 Matrix{Int64}:\n",
       " 1  -2  -2\n",
       " 3  -6  -6"
      ]
     },
     "execution_count": 11,
     "metadata": {},
     "output_type": "execute_result"
    }
   ],
   "source": [
    "A = [1 -2 -2; 3 -6 -6]"
   ]
  },
  {
   "cell_type": "code",
   "execution_count": 12,
   "metadata": {},
   "outputs": [
    {
     "data": {
      "text/plain": [
       "1"
      ]
     },
     "execution_count": 12,
     "metadata": {},
     "output_type": "execute_result"
    }
   ],
   "source": [
    "rank(A)"
   ]
  },
  {
   "cell_type": "code",
   "execution_count": 13,
   "metadata": {},
   "outputs": [
    {
     "data": {
      "text/plain": [
       "3×2 Matrix{Int64}:\n",
       " 2  2\n",
       " 1  0\n",
       " 0  1"
      ]
     },
     "execution_count": 13,
     "metadata": {},
     "output_type": "execute_result"
    }
   ],
   "source": [
    "# this B does not have full row rank\n",
    "B = [2 2; 1 0; 0 1]"
   ]
  },
  {
   "cell_type": "code",
   "execution_count": 14,
   "metadata": {},
   "outputs": [
    {
     "data": {
      "text/plain": [
       "0"
      ]
     },
     "execution_count": 14,
     "metadata": {},
     "output_type": "execute_result"
    }
   ],
   "source": [
    "rank(A * B)"
   ]
  },
  {
   "cell_type": "code",
   "execution_count": 15,
   "metadata": {},
   "outputs": [
    {
     "data": {
      "text/plain": [
       "3×3 Matrix{Int64}:\n",
       " 2  2  0\n",
       " 1  0  0\n",
       " 0  1  1"
      ]
     },
     "execution_count": 15,
     "metadata": {},
     "output_type": "execute_result"
    }
   ],
   "source": [
    "# B has full row rank\n",
    "B = [2 2 0; 1 0 0; 0 1 1]"
   ]
  },
  {
   "cell_type": "code",
   "execution_count": 16,
   "metadata": {},
   "outputs": [
    {
     "data": {
      "text/plain": [
       "1"
      ]
     },
     "execution_count": 16,
     "metadata": {},
     "output_type": "execute_result"
    }
   ],
   "source": [
    "# A * B preserves rank of A\n",
    "rank(A * B)"
   ]
  },
  {
   "cell_type": "markdown",
   "metadata": {},
   "source": [
    "## Rank-nullity theorem\n",
    "\n",
    "- The **nullity** of a matrix $\\mathbf{A}$ is the dimension of its null space \n",
    "$$\n",
    "\\text{nullity}(\\mathbf{A}) = \\text{dim}(\\mathcal{N}(\\mathbf{A})).\n",
    "$$\n",
    "\n",
    "- Let $\\mathbf{A} \\in \\mathbb{R}^{m \\times n}$, then\n",
    "$$\n",
    "    \\text{rank}(\\mathbf{A}) + \\text{nullity}(\\mathbf{A}) = n.\n",
    "$$\n",
    "\n",
    "    Proof (optional): Denote $\\nu = \\text{nullity}(\\mathbf{A}) = \\text{dim}(\\mathcal{N}(\\mathbf{A}))$. Let $\\mathbf{X} \\in \\mathbb{R}^{n \\times n}$ be\n",
    "$$\n",
    "    \\mathbf{X} = \\begin{pmatrix} \\mathbf{X}_1 : \\mathbf{X}_2 \\end{pmatrix},\n",
    "$$\n",
    "where columns of $\\mathbf{X}_1 \\in \\mathbb{R}^{n \\times \\nu}$ form a basis of $\\mathcal{N}(\\mathbf{A})$ and columns of $\\mathbf{X}_2 \\in \\mathbb{R}^{n \\times (n - \\nu)}$ extend those in $\\mathbf{X}_1$ to be a basis of $\\mathbb{R}^n$. We show columns of $\\mathbf{A} \\mathbf{X}_2$ form a basis of $\\mathcal{C}(\\mathbf{A})$. Thus $\\text{rank}(\\mathbf{A}) = \\text{dim}(\\mathcal{C}(\\mathbf{A})) = n - \\nu$.  \n",
    "    (1) To show that columns of $\\mathbf{A} \\mathbf{X}_2$ are linearly independent. Assume $\\mathbf{A} \\mathbf{X}_2 \\mathbf{v} = \\mathbf{0}$. Then $\\mathbf{X}_2 \\mathbf{v} \\in \\mathcal{N}(\\mathbf{A}) = \\mathcal{C}(\\mathbf{X}_1)$. Thus $\\mathbf{X}_2 \\mathbf{v} = \\mathbf{X}_1 \\mathbf{u}$ for some $\\mathbf{u}$, or equivalently,\n",
    "$$\n",
    "    \\begin{pmatrix} \\mathbf{X}_1 : \\mathbf{X}_2 \\end{pmatrix} \\begin{pmatrix} -\\mathbf{u} \\\\ \\mathbf{v} \\end{pmatrix} = \\mathbf{0}_n.\n",
    "$$\n",
    "Since the matrix $\\begin{pmatrix} \\mathbf{X}_1 : \\mathbf{X}_2 \\end{pmatrix}$ is non-singular, we must have $\\mathbf{u}=\\mathbf{0}$ and $\\mathbf{v}=\\mathbf{0}$. This shows that $\\mathbf{v}=\\mathbf{0}$ whenever $\\mathbf{A} \\mathbf{X}_2 \\mathbf{v} = \\mathbf{0}$. So the columns of $\\mathbf{A} \\mathbf{X}_2$ are linearly independent.  \n",
    "    (2) Next we show the columns of $\\mathbf{A} \\mathbf{X}_2$ span $\\mathcal{C}(\\mathbf{A})$ by showing $\\mathcal{C}(\\mathbf{A} \\mathbf{X}_2) \\subseteq \\mathcal{C}(\\mathbf{A})$ and $\\mathcal{C}(\\mathbf{A} \\mathbf{X}_2) \\supseteq \\mathcal{C}(\\mathbf{A})$. One direction $\\mathcal{C}(\\mathbf{A} \\mathbf{X}_2) \\subseteq \\mathcal{C}(\\mathbf{A})$ is easy. To show the other direction $\\mathcal{C}(\\mathbf{A}) \\subseteq \\mathcal{C}(\\mathbf{A} \\mathbf{X}_2)$, let $\\mathbf{w} \\in \\mathcal{C}(\\mathbf{A})$. Then $\\mathbf{w} = \\mathbf{A} \\mathbf{y}$ for some vector $\\mathbf{y}$. Because $\\mathbf{y} \\in \\mathbb{R}^n$, which is spanned by columns of $\\mathbf{X}$, we can write $\\mathbf{y} = \\mathbf{X}_1 \\mathbf{z}_1 + \\mathbf{X}_2 \\mathbf{z}_2$ for some vectors $\\mathbf{z}_1$ and $\\mathbf{z}_2$. Thus $\\mathbf{w} = \\mathbf{A} \\mathbf{X}_1 \\mathbf{z}_1 + \\mathbf{A} \\mathbf{X}_2 \\mathbf{z}_2 = \\mathbf{A} \\mathbf{X}_2 \\mathbf{z}_2 \\in \\mathcal{C}(\\mathbf{A} \\mathbf{X}_2)$. This proves $\\mathcal{C}(\\mathbf{A}) \\subseteq \\mathcal{C}(\\mathbf{A} \\mathbf{X}_2)$."
   ]
  },
  {
   "cell_type": "code",
   "execution_count": 17,
   "metadata": {},
   "outputs": [
    {
     "data": {
      "text/plain": [
       "2×3 Matrix{Int64}:\n",
       " 1  -2  -2\n",
       " 3  -6  -6"
      ]
     },
     "execution_count": 17,
     "metadata": {},
     "output_type": "execute_result"
    }
   ],
   "source": [
    "A = [1 -2 -2; 3 -6 -6]"
   ]
  },
  {
   "cell_type": "code",
   "execution_count": 18,
   "metadata": {},
   "outputs": [
    {
     "data": {
      "text/plain": [
       "1"
      ]
     },
     "execution_count": 18,
     "metadata": {},
     "output_type": "execute_result"
    }
   ],
   "source": [
    "rank(A)"
   ]
  },
  {
   "cell_type": "code",
   "execution_count": 19,
   "metadata": {},
   "outputs": [
    {
     "data": {
      "text/plain": [
       "2"
      ]
     },
     "execution_count": 19,
     "metadata": {},
     "output_type": "execute_result"
    }
   ],
   "source": [
    "nullity = size(nullspace(A), 2)"
   ]
  },
  {
   "cell_type": "markdown",
   "metadata": {},
   "source": [
    "## Fundamental theorem of ranks (important)\n",
    "\n",
    "- $\\text{rank}(\\mathbf{A}) = \\text{rank}(\\mathbf{A}') = \\text{rank}(\\mathbf{A}'\\mathbf{A}) = \\text{rank}(\\mathbf{A}\\mathbf{A}')$.\n",
    "\n",
    "    Proof: $\\text{rank}(\\mathbf{A}) = \\text{rank}(\\mathbf{A}')$ by definition of rank (row rank = column rank = rank). Early on we showed $\\mathcal{N}(\\mathbf{A}'\\mathbf{A}) = \\mathcal{N}(\\mathbf{A})$. Thus $\\text{nullity}(\\mathbf{A}'\\mathbf{A}) = \\text{nullity}(\\mathbf{A})$. Then by the rank-nullity theorem, $\\text{rank}(\\mathbf{A}'\\mathbf{A}) = \\text{rank}(\\mathbf{A})$.\n",
    "    \n",
    "- Matrices of form $\\mathbf{A}'\\mathbf{A}$ or $\\mathbf{A}\\mathbf{A}'$ are called the **Gram matrix** or **Gramian matrix**."
   ]
  },
  {
   "cell_type": "code",
   "execution_count": 20,
   "metadata": {},
   "outputs": [
    {
     "data": {
      "text/plain": [
       "2×3 Matrix{Int64}:\n",
       " 1  -2  -2\n",
       " 3  -6  -6"
      ]
     },
     "execution_count": 20,
     "metadata": {},
     "output_type": "execute_result"
    }
   ],
   "source": [
    "A = [1 -2 -2; 3 -6 -6]"
   ]
  },
  {
   "cell_type": "code",
   "execution_count": 21,
   "metadata": {},
   "outputs": [
    {
     "data": {
      "text/plain": [
       "1"
      ]
     },
     "execution_count": 21,
     "metadata": {},
     "output_type": "execute_result"
    }
   ],
   "source": [
    "rank(A)"
   ]
  },
  {
   "cell_type": "code",
   "execution_count": 22,
   "metadata": {},
   "outputs": [
    {
     "data": {
      "text/plain": [
       "3×3 Matrix{Int64}:\n",
       "  10  -20  -20\n",
       " -20   40   40\n",
       " -20   40   40"
      ]
     },
     "execution_count": 22,
     "metadata": {},
     "output_type": "execute_result"
    }
   ],
   "source": [
    "A'A"
   ]
  },
  {
   "cell_type": "code",
   "execution_count": 23,
   "metadata": {},
   "outputs": [
    {
     "data": {
      "text/plain": [
       "1"
      ]
     },
     "execution_count": 23,
     "metadata": {},
     "output_type": "execute_result"
    }
   ],
   "source": [
    "rank(A'A)"
   ]
  },
  {
   "cell_type": "code",
   "execution_count": 24,
   "metadata": {},
   "outputs": [
    {
     "data": {
      "text/plain": [
       "2×2 Matrix{Int64}:\n",
       "  9  27\n",
       " 27  81"
      ]
     },
     "execution_count": 24,
     "metadata": {},
     "output_type": "execute_result"
    }
   ],
   "source": [
    "A * A'"
   ]
  },
  {
   "cell_type": "code",
   "execution_count": 25,
   "metadata": {},
   "outputs": [
    {
     "data": {
      "text/plain": [
       "1"
      ]
     },
     "execution_count": 25,
     "metadata": {},
     "output_type": "execute_result"
    }
   ],
   "source": [
    "rank(A * A')"
   ]
  },
  {
   "cell_type": "markdown",
   "metadata": {},
   "source": [
    "## Rank factorization (important)\n",
    "\n",
    "- Let $\\mathbf{A} \\in \\mathbb{R}^{m \\times n}$ with rank $r \\ge 1$. The product $\\mathbf{A} = \\mathbf{C} \\mathbf{R}$, where $\\mathbf{C} \\in \\mathbb{R}^{m \\times r}$ and $\\mathbf{R} \\in \\mathbb{R}^{r \\times n}$ is called a **rank decomposition** or **rank factorization** of $\\mathbf{A}$.\n",
    "\n",
    "- Visualize (TODO):\n",
    "$$\n",
    "\\mathbf{A} = \\begin{pmatrix}\n",
    "| & & | \\\\\n",
    "\\mathbf{c}_1 & \\cdots & \\mathbf{c}_r \\\\\n",
    "| & & |\n",
    "\\end{pmatrix} \\begin{pmatrix} - & \\mathbf{r}_1' & - \\\\\n",
    "& \\vdots & \\\\ - & \\mathbf{r}_r' & -\n",
    "\\end{pmatrix}.\n",
    "$$\n",
    "\n",
    "- **Existence of rank factorization.** Any non-null matrix has a rank decomposition. To construct one, let columns of\n",
    "\\begin{eqnarray*}\n",
    "    \\mathbf{C} = \\begin{pmatrix}\n",
    "    \\mid & & \\mid \\\\\n",
    "    \\mathbf{c}_1 & \\cdots & \\mathbf{c}_r \\\\\n",
    "    \\mid & & \\mid\n",
    "    \\end{pmatrix}\n",
    "\\end{eqnarray*}\n",
    "be a basis of $\\mathcal{C}(\\mathbf{A})$. Then $\\mathcal{C}(\\mathbf{A}) \\subseteq \\mathcal{C}(\\mathbf{C})$. Thus there exists $\\mathbf{R}$ such that $\\mathbf{A} = \\mathbf{C} \\mathbf{R}$.\n",
    "\n",
    "- Is rank factorization unique? No. $\\mathbf{A} = \\mathbf{C} \\mathbf{R} = (\\mathbf{C} \\mathbf{M}) (\\mathbf{M}^{-1} \\mathbf{R})$ for any non-singular matrix $\\mathbf{M}^{r \\times r}$. \n",
    "\n",
    "- Suppose $\\mathbf{A}$ has column rank $r > 0$ and rank factorization $\\mathbf{A} = \\mathbf{C} \\mathbf{R}$. Then\n",
    "\\begin{eqnarray*}\n",
    "    & & \\text{row rank of } \\mathbf{A} \\\\\n",
    "    &=& \\text{column rank of } \\mathbf{A}' \\\\\n",
    "    &=& \\text{column rank of } \\mathbf{R}' \\mathbf{C}' \\\\\n",
    "    &\\le& \\text{column rank of } \\mathbf{R}' \\quad \\quad (\\text{right matrix multiplication shrinks column space}) \\\\\n",
    "    &\\le& r \\\\\n",
    "    &=& \\text{column rank of } \\mathbf{A}.\n",
    "\\end{eqnarray*}\n",
    "Now applying the above conclusion to matrix $\\mathbf{A}'$, we have\n",
    "$$\n",
    "\\text{row rank of } \\mathbf{A}' \\le \\text{column rank of } \\mathbf{A}',\n",
    "$$\n",
    "i.e.,\n",
    "$$\n",
    "\\text{column rank of } \\mathbf{A} \\le \\text{row rank of } \\mathbf{A}.\n",
    "$$\n",
    "Thus we have a proof of the famous result $\\text{rank}(\\mathbf{A}) = \\text{rank}(\\mathbf{A}')$.\n",
    "    \n",
    "- Let $\\text{rank}(\\mathbf{A}) = r$ and $\\mathbf{A} = \\mathbf{C} \\mathbf{R}$ be a rank factorization. Then  \n",
    "    1. $\\text{rank}(\\mathbf{C}) = \\text{rank}(\\mathbf{R}) = r$,\n",
    "    2. $\\mathcal{C}(\\mathbf{A}) = \\mathcal{C}(\\mathbf{C})$, $\\mathcal{C}(\\mathbf{A}') = \\mathcal{C}(\\mathbf{R}')$ and $\\mathcal{N}(\\mathbf{A}) = \\mathcal{N}(\\mathbf{R})$.\n",
    "    \n",
    "    Proof of 1: $r = \\text{rank}(\\mathbf{A}) = \\text{rank}(\\mathbf{C}\\mathbf{R}) \\le \\text{rank}(\\mathbf{C}) \\le r$. Thus $\\text{rank}(\\mathbf{C}) = r$. Similarly $\\text{rank}(\\mathbf{R}) = r$.  \n",
    "    Proof of 2 (optional): $\\mathcal{C}(\\mathbf{A}) \\subseteq \\mathcal{C}(\\mathbf{C})$ is trivial. Suppose $\\mathcal{C}(\\mathbf{C})$ is strictly larger than $\\mathcal{C}(\\mathbf{A})$. Then there exists vector $\\mathbf{v} \\in \\mathcal{C}(\\mathbf{C})$ that is not a linear combination of columns of $\\mathbf{A}$. Let $\\mathbf{u}_1, \\ldots, \\mathbf{u}_r$ be a basis of $\\mathcal{C}(\\mathbf{A})$. Then the $r+1$ vectors $\\mathbf{u}_1, \\ldots, \\mathbf{u}_r, \\mathbf{v}$ is an independent set in $\\mathcal{C}(\\mathbf{C})$, contadicting the fact $\\text{rank}(\\mathbf{C}) = r$. Therefore we must have $\\mathcal{C}(\\mathbf{A}) = \\mathcal{C}(\\mathbf{C})$. Similar argument shows $\\mathcal{C}(\\mathbf{A}') = \\mathcal{C}(\\mathbf{R}')$.  \n",
    "    To show $\\mathcal{N}(\\mathbf{A}) = \\mathcal{N}(\\mathbf{R})$, one direction $\\mathcal{N}(\\mathbf{A}) \\supseteq \\mathcal{N}(\\mathbf{R})$ is trivial (why?). To show the other direction,\n",
    "\\begin{eqnarray*}\n",
    "    & & \\mathbf{x} \\in \\mathcal{N}(\\mathbf{A}) \\\\\n",
    "    &\\Rightarrow& \\mathbf{A} \\mathbf{x} = \\mathbf{0} \\\\\n",
    "    &\\Rightarrow& \\mathbf{C} \\mathbf{R} \\mathbf{x} = \\mathbf{0} \\\\\n",
    "    &\\Rightarrow& \\mathbf{R} \\mathbf{x} \\in \\mathcal{N}(\\mathbf{C}).\n",
    "\\end{eqnarray*}\n",
    "But by the rank-nullity theorem, $\\text{nullity}(\\mathbf{C}) = r - \\text{rank}(\\mathbf{C}) = 0$. Thus $\\mathbf{R} \\mathbf{x} = \\mathbf{0}$, that is $\\mathbf{x} \\in \\mathcal{N}(\\mathbf{R})$. We have shown $\\mathcal{N}(\\mathbf{A}) \\subseteq \\mathcal{N}(\\mathbf{R})$."
   ]
  },
  {
   "cell_type": "code",
   "execution_count": 26,
   "metadata": {},
   "outputs": [
    {
     "data": {
      "text/plain": [
       "2×3 Matrix{Int64}:\n",
       " 1  -2  -2\n",
       " 3  -6  -6"
      ]
     },
     "execution_count": 26,
     "metadata": {},
     "output_type": "execute_result"
    }
   ],
   "source": [
    "A = [1 -2 -2; 3 -6 -6]"
   ]
  },
  {
   "cell_type": "code",
   "execution_count": 27,
   "metadata": {},
   "outputs": [
    {
     "data": {
      "text/plain": [
       "2-element Vector{Int64}:\n",
       " 1\n",
       " 3"
      ]
     },
     "execution_count": 27,
     "metadata": {},
     "output_type": "execute_result"
    }
   ],
   "source": [
    "C = [1; 3]"
   ]
  },
  {
   "cell_type": "code",
   "execution_count": 28,
   "metadata": {},
   "outputs": [
    {
     "data": {
      "text/plain": [
       "1×3 Matrix{Int64}:\n",
       " 1  -2  -2"
      ]
     },
     "execution_count": 28,
     "metadata": {},
     "output_type": "execute_result"
    }
   ],
   "source": [
    "R = [1 -2 -2]"
   ]
  },
  {
   "cell_type": "code",
   "execution_count": 29,
   "metadata": {},
   "outputs": [
    {
     "data": {
      "text/plain": [
       "2×3 Matrix{Int64}:\n",
       " 1  -2  -2\n",
       " 3  -6  -6"
      ]
     },
     "execution_count": 29,
     "metadata": {},
     "output_type": "execute_result"
    }
   ],
   "source": [
    "C * R"
   ]
  }
 ],
 "metadata": {
  "@webio": {
   "lastCommId": null,
   "lastKernelId": null
  },
  "hide_input": false,
  "kernelspec": {
   "display_name": "Julia 1.8.0",
   "language": "julia",
   "name": "julia-1.8"
  },
  "language_info": {
   "file_extension": ".jl",
   "mimetype": "application/julia",
   "name": "julia",
   "version": "1.8.0"
  },
  "toc": {
   "colors": {
    "hover_highlight": "#DAA520",
    "running_highlight": "#FF0000",
    "selected_highlight": "#FFD700"
   },
   "moveMenuLeft": true,
   "nav_menu": {
    "height": "141.938px",
    "width": "252px"
   },
   "navigate_menu": true,
   "number_sections": true,
   "sideBar": true,
   "skip_h1_title": true,
   "threshold": 4,
   "toc_cell": true,
   "toc_section_display": "block",
   "toc_window_display": true,
   "widenNotebook": false
  },
  "toc-autonumbering": true
 },
 "nbformat": 4,
 "nbformat_minor": 4
}
