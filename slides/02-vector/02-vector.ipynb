{
 "cells": [
  {
   "cell_type": "markdown",
   "metadata": {
    "toc": "true"
   },
   "source": [
    "# Table of Contents\n",
    " <p><div class=\"lev1 toc-item\"><a href=\"#Vectors-(BV-Chapters-1,-3,-5)\" data-toc-modified-id=\"Vectors-(BV-Chapters-1,-3,-5)-1\"><span class=\"toc-item-num\">1&nbsp;&nbsp;</span>Vectors (BV Chapters 1, 3, 5)</a></div><div class=\"lev2 toc-item\"><a href=\"#Notation\" data-toc-modified-id=\"Notation-11\"><span class=\"toc-item-num\">1.1&nbsp;&nbsp;</span>Notation</a></div><div class=\"lev2 toc-item\"><a href=\"#Some-special-vectors\" data-toc-modified-id=\"Some-special-vectors-12\"><span class=\"toc-item-num\">1.2&nbsp;&nbsp;</span>Some special vectors</a></div><div class=\"lev2 toc-item\"><a href=\"#Vector-operations\" data-toc-modified-id=\"Vector-operations-13\"><span class=\"toc-item-num\">1.3&nbsp;&nbsp;</span>Vector operations</a></div><div class=\"lev2 toc-item\"><a href=\"#Computational-complexity-of-vector-operations\" data-toc-modified-id=\"Computational-complexity-of-vector-operations-14\"><span class=\"toc-item-num\">1.4&nbsp;&nbsp;</span>Computational complexity of vector operations</a></div><div class=\"lev2 toc-item\"><a href=\"#Norm,-distance,-angle\" data-toc-modified-id=\"Norm,-distance,-angle-15\"><span class=\"toc-item-num\">1.5&nbsp;&nbsp;</span>Norm, distance, angle</a></div><div class=\"lev2 toc-item\"><a href=\"#Linear-independence\" data-toc-modified-id=\"Linear-independence-16\"><span class=\"toc-item-num\">1.6&nbsp;&nbsp;</span>Linear independence</a></div><div class=\"lev2 toc-item\"><a href=\"#Basis\" data-toc-modified-id=\"Basis-17\"><span class=\"toc-item-num\">1.7&nbsp;&nbsp;</span>Basis</a></div><div class=\"lev2 toc-item\"><a href=\"#Orthonormal-basis\" data-toc-modified-id=\"Orthonormal-basis-18\"><span class=\"toc-item-num\">1.8&nbsp;&nbsp;</span>Orthonormal basis</a></div><div class=\"lev2 toc-item\"><a href=\"#Gram-Schmidt-algorithm\" data-toc-modified-id=\"Gram-Schmidt-algorithm-19\"><span class=\"toc-item-num\">1.9&nbsp;&nbsp;</span>Gram-Schmidt algorithm</a></div>"
   ]
  },
  {
   "cell_type": "code",
   "execution_count": 1,
   "metadata": {
    "scrolled": true
   },
   "outputs": [
    {
     "name": "stderr",
     "output_type": "stream",
     "text": [
      "\u001b[32m\u001b[1m  Activating\u001b[22m\u001b[39m project at `~/Documents/github.com/ucla-biostat-216/2022fall/slides/02-vector`\n"
     ]
    }
   ],
   "source": [
    "using Pkg\n",
    "Pkg.activate(pwd())\n",
    "Pkg.instantiate()"
   ]
  },
  {
   "cell_type": "code",
   "execution_count": 2,
   "metadata": {},
   "outputs": [
    {
     "data": {
      "text/plain": [
       "TaskLocalRNG()"
      ]
     },
     "execution_count": 2,
     "metadata": {},
     "output_type": "execute_result"
    }
   ],
   "source": [
    "using LinearAlgebra, Random, Statistics\n",
    "Random.seed!(216)"
   ]
  },
  {
   "cell_type": "markdown",
   "metadata": {},
   "source": [
    "# Vectors (BV Chapters 1, 3, 5)"
   ]
  },
  {
   "cell_type": "markdown",
   "metadata": {},
   "source": [
    "## Notation\n",
    "\n",
    "- A column vector $\\mathbf{x} \\in \\mathbb{R}^n$\n",
    "$$\n",
    "\\mathbf{x} = \\begin{pmatrix}\n",
    "x_1 \\\\ x_2 \\\\ \\vdots \\\\ x_n\n",
    "\\end{pmatrix}.\n",
    "$$\n",
    "$n$ is the **dimension** or **length** or **size** of the vector. $x_i$ is the $i$-th **entry** or **element** or **component** of $\\mathbf{x}$.\n",
    "\n",
    "- A row vector $\\mathbf{x}' = (x_1 \\ldots x_n)$."
   ]
  },
  {
   "cell_type": "code",
   "execution_count": 3,
   "metadata": {},
   "outputs": [
    {
     "data": {
      "text/plain": [
       "5-element Vector{Int64}:\n",
       "  1\n",
       " -1\n",
       "  2\n",
       "  0\n",
       "  3"
      ]
     },
     "execution_count": 3,
     "metadata": {},
     "output_type": "execute_result"
    }
   ],
   "source": [
    "# a (column) vector in Julia\n",
    "x = [1, -1, 2, 0, 3]"
   ]
  },
  {
   "cell_type": "code",
   "execution_count": 4,
   "metadata": {},
   "outputs": [
    {
     "data": {
      "text/plain": [
       "1×5 adjoint(::Vector{Int64}) with eltype Int64:\n",
       " 1  -1  2  0  3"
      ]
     },
     "execution_count": 4,
     "metadata": {},
     "output_type": "execute_result"
    }
   ],
   "source": [
    "# row vector\n",
    "x'"
   ]
  },
  {
   "cell_type": "markdown",
   "metadata": {},
   "source": [
    "- Subvector: $\\mathbf{x}_{2:4} = (x_2, x_3, x_4)'$."
   ]
  },
  {
   "cell_type": "code",
   "execution_count": 5,
   "metadata": {},
   "outputs": [
    {
     "data": {
      "text/plain": [
       "3-element Vector{Int64}:\n",
       " -1\n",
       "  2\n",
       "  0"
      ]
     },
     "execution_count": 5,
     "metadata": {},
     "output_type": "execute_result"
    }
   ],
   "source": [
    "x[2:4]"
   ]
  },
  {
   "cell_type": "markdown",
   "metadata": {},
   "source": [
    "- Stacked vector:\n",
    "$$\n",
    "\\mathbf{x} = \\begin{pmatrix}\n",
    "\\mathbf{y} \\\\ \\mathbf{z}\n",
    "\\end{pmatrix} = \\begin{pmatrix}\n",
    "y_1 \\\\ \\vdots \\\\ y_m \\\\ z_1 \\\\ \\vdots \\\\ z_n\n",
    "\\end{pmatrix}.\n",
    "$$"
   ]
  },
  {
   "cell_type": "code",
   "execution_count": 6,
   "metadata": {},
   "outputs": [
    {
     "data": {
      "text/plain": [
       "5-element Vector{Int64}:\n",
       " 1\n",
       " 2\n",
       " 3\n",
       " 4\n",
       " 5"
      ]
     },
     "execution_count": 6,
     "metadata": {},
     "output_type": "execute_result"
    }
   ],
   "source": [
    "y = [1, 2, 3]\n",
    "z = [4, 5]\n",
    "x = [y; z]"
   ]
  },
  {
   "cell_type": "markdown",
   "metadata": {},
   "source": [
    "## Some special vectors\n",
    "\n",
    "- Zero vector: \n",
    "$$\n",
    "\\mathbf{0}_n = \\begin{pmatrix} 0 \\\\ \\vdots \\\\ 0 \\end{pmatrix}.\n",
    "$$\n",
    "The subscript denotes the length of the vector; it sometimes is omitted if obvious from context."
   ]
  },
  {
   "cell_type": "code",
   "execution_count": 7,
   "metadata": {},
   "outputs": [
    {
     "data": {
      "text/plain": [
       "5-element Vector{Float64}:\n",
       " 0.0\n",
       " 0.0\n",
       " 0.0\n",
       " 0.0\n",
       " 0.0"
      ]
     },
     "execution_count": 7,
     "metadata": {},
     "output_type": "execute_result"
    }
   ],
   "source": [
    "zeros(5)"
   ]
  },
  {
   "cell_type": "markdown",
   "metadata": {},
   "source": [
    "- One vector: \n",
    "$$\n",
    "\\mathbf{1}_n = \\begin{pmatrix} 1 \\\\ \\vdots \\\\ 1 \\end{pmatrix}.\n",
    "$$"
   ]
  },
  {
   "cell_type": "code",
   "execution_count": 8,
   "metadata": {},
   "outputs": [
    {
     "data": {
      "text/plain": [
       "5-element Vector{Float64}:\n",
       " 1.0\n",
       " 1.0\n",
       " 1.0\n",
       " 1.0\n",
       " 1.0"
      ]
     },
     "execution_count": 8,
     "metadata": {},
     "output_type": "execute_result"
    }
   ],
   "source": [
    "ones(5)"
   ]
  },
  {
   "cell_type": "markdown",
   "metadata": {},
   "source": [
    "- Unit vector, $\\mathbf{e}_i$. It has all zero entries except the $i$-th entry being 1. Note the length of $\\mathbf{e}_i$ is often implied by context.\n",
    "$$\n",
    "\\mathbf{e}_1 = \\begin{pmatrix}\n",
    "1 \\\\ 0 \\\\ 0 \\\\ \\vdots \\\\ 0\n",
    "\\end{pmatrix}, \\quad \\mathbf{e}_2 = \\begin{pmatrix}\n",
    "0 \\\\ 1 \\\\ 0 \\\\ \\vdots \\\\ 0\n",
    "\\end{pmatrix}, \\quad \\ldots, \\quad \\mathbf{e}_n = \\begin{pmatrix}\n",
    "0 \\\\ 0 \\\\ \\vdots \\\\ 0 \\\\ 1\n",
    "\\end{pmatrix}.\n",
    "$$"
   ]
  },
  {
   "cell_type": "code",
   "execution_count": 9,
   "metadata": {},
   "outputs": [
    {
     "data": {
      "text/plain": [
       "5-element Vector{Int64}:\n",
       " 0\n",
       " 0\n",
       " 1\n",
       " 0\n",
       " 0"
      ]
     },
     "execution_count": 9,
     "metadata": {},
     "output_type": "execute_result"
    }
   ],
   "source": [
    "# define a unit vector by comprehension\n",
    "e3 = [i == 3 ? 1 : 0 for i in 1:5]"
   ]
  },
  {
   "cell_type": "markdown",
   "metadata": {},
   "source": [
    "## Vector operations\n",
    "\n",
    "- **Vector addition** and **vector substraction**. For two vectors $\\mathbf{x}, \\mathbf{y} \\in \\mathbb{R}^n$ (of same length)\n",
    "$$\n",
    "\\mathbf{x} + \\mathbf{y} = \\begin{pmatrix}\n",
    "x_1 + y_1 \\\\ \\vdots \\\\ x_n + y_n\n",
    "\\end{pmatrix}, \\quad \\mathbf{x} - \\mathbf{y} = \\begin{pmatrix}\n",
    "x_1 - y_1 \\\\ \\vdots \\\\ x_n - y_n\n",
    "\\end{pmatrix}.\n",
    "$$"
   ]
  },
  {
   "cell_type": "code",
   "execution_count": 10,
   "metadata": {},
   "outputs": [
    {
     "data": {
      "text/plain": [
       "5-element Vector{Int64}:\n",
       "  7\n",
       "  9\n",
       " 11\n",
       " 13\n",
       " 15"
      ]
     },
     "execution_count": 10,
     "metadata": {},
     "output_type": "execute_result"
    }
   ],
   "source": [
    "x = [1, 2, 3, 4, 5]\n",
    "y = [6, 7, 8, 9, 10]\n",
    "x + y"
   ]
  },
  {
   "cell_type": "code",
   "execution_count": 11,
   "metadata": {},
   "outputs": [
    {
     "data": {
      "text/plain": [
       "5-element Vector{Int64}:\n",
       " -5\n",
       " -5\n",
       " -5\n",
       " -5\n",
       " -5"
      ]
     },
     "execution_count": 11,
     "metadata": {},
     "output_type": "execute_result"
    }
   ],
   "source": [
    "x - y"
   ]
  },
  {
   "cell_type": "markdown",
   "metadata": {},
   "source": [
    "- **Scalar-vector multiplication**. For a scalar $\\alpha \\in \\mathbb{R}$ and a vector $\\mathbf{x} \\in \\mathbb{R}^n$,\n",
    "$$\n",
    "\\alpha \\mathbf{x} = \\begin{pmatrix}\n",
    "\\alpha x_1 \\\\ \\alpha x_2 \\\\ \\vdots \\\\ \\alpha x_n\n",
    "\\end{pmatrix}.\n",
    "$$"
   ]
  },
  {
   "cell_type": "code",
   "execution_count": 12,
   "metadata": {},
   "outputs": [
    {
     "data": {
      "text/plain": [
       "5-element Vector{Float64}:\n",
       " 0.5\n",
       " 1.0\n",
       " 1.5\n",
       " 2.0\n",
       " 2.5"
      ]
     },
     "execution_count": 12,
     "metadata": {},
     "output_type": "execute_result"
    }
   ],
   "source": [
    "α = 0.5\n",
    "x = [1, 2, 3, 4, 5]\n",
    "α * x"
   ]
  },
  {
   "cell_type": "markdown",
   "metadata": {},
   "source": [
    "- **Elementwise multiplication** or **Hadamard product**. For two vectors $\\mathbf{x}, \\mathbf{y} \\in \\mathbb{R}^n$ (of same length)\n",
    "$$\n",
    "\\mathbf{x} \\circ \\mathbf{y} = \\begin{pmatrix}\n",
    "x_1 y_1 \\\\ \\vdots \\\\ x_n y_n\n",
    "\\end{pmatrix}.\n",
    "$$"
   ]
  },
  {
   "cell_type": "code",
   "execution_count": 13,
   "metadata": {},
   "outputs": [
    {
     "data": {
      "text/plain": [
       "5-element Vector{Int64}:\n",
       "  6\n",
       " 14\n",
       " 24\n",
       " 36\n",
       " 50"
      ]
     },
     "execution_count": 13,
     "metadata": {},
     "output_type": "execute_result"
    }
   ],
   "source": [
    "# in Julia, dot operation is elementwise operation\n",
    "x = [1, 2, 3, 4, 5]\n",
    "y = [6, 7, 8, 9, 10]\n",
    "x .* y"
   ]
  },
  {
   "cell_type": "markdown",
   "metadata": {},
   "source": [
    "- For scalars $\\alpha_1, \\ldots, \\alpha_k \\in \\mathbb{R}$ and vectors $\\mathbf{x}_1, \\ldots, \\mathbf{x}_k \\in \\mathbb{R}^n$, the **linear combination**\n",
    "$$\n",
    "\\alpha_1 \\mathbf{x}_1 + \\cdots + \\alpha_k \\mathbf{x}_k\n",
    "$$\n",
    "is a sum of scalar-vector products. "
   ]
  },
  {
   "cell_type": "code",
   "execution_count": 14,
   "metadata": {},
   "outputs": [
    {
     "data": {
      "text/plain": [
       "5-element Vector{Float64}:\n",
       "  4.0\n",
       "  5.5\n",
       "  7.0\n",
       "  8.5\n",
       " 10.0"
      ]
     },
     "execution_count": 14,
     "metadata": {},
     "output_type": "execute_result"
    }
   ],
   "source": [
    "x = [1, 2, 3, 4, 5]\n",
    "y = [6, 7, 8, 9, 10]\n",
    "1 * x + 0.5 * y"
   ]
  },
  {
   "cell_type": "markdown",
   "metadata": {},
   "source": [
    "- The **inner product** or **dot product** between two vectors $\\mathbf{x}, \\mathbf{y} \\in \\mathbb{R}^n$ is\n",
    "$$\n",
    "\\mathbf{x}' \\mathbf{y} = x_1 y_1 + \\cdots + x_n y_n.\n",
    "$$\n",
    "Other notations for inner products: $\\langle \\mathbf{x}, \\mathbf{y} \\rangle$, $\\sum_{i=1}^n x_i y_i$."
   ]
  },
  {
   "cell_type": "code",
   "execution_count": 15,
   "metadata": {},
   "outputs": [
    {
     "data": {
      "text/plain": [
       "130"
      ]
     },
     "execution_count": 15,
     "metadata": {},
     "output_type": "execute_result"
    }
   ],
   "source": [
    "x = [1, 2, 3, 4, 5]\n",
    "y = [6, 7, 8, 9, 10]\n",
    "x'y"
   ]
  },
  {
   "cell_type": "code",
   "execution_count": 16,
   "metadata": {},
   "outputs": [
    {
     "data": {
      "text/plain": [
       "130"
      ]
     },
     "execution_count": 16,
     "metadata": {},
     "output_type": "execute_result"
    }
   ],
   "source": [
    "# dot function is avaiable from the standard library Linear Algebra\n",
    "dot(x, y)"
   ]
  },
  {
   "cell_type": "markdown",
   "metadata": {},
   "source": [
    "Properties of inner product: \n",
    "\n",
    "1. $\\mathbf{x}' \\mathbf{x} = x_1^2 + \\cdots + x_n^2 \\ge 0$.\n",
    "\n",
    "2. $\\mathbf{x}' \\mathbf{x} = 0$ if and only if $\\mathbf{x} = 0$.\n",
    "\n",
    "3. Commutative: $\\mathbf{x}' \\mathbf{y} = \\mathbf{y}' \\mathbf{x}$.\n",
    "\n",
    "4. Associative with scalar multiplication: $(\\alpha \\mathbf{x})' \\mathbf{y} = \\alpha (\\mathbf{x}' \\mathbf{y}) = \\mathbf{x}' (\\alpha \\mathbf{y})$. \n",
    "\n",
    "5. Distributive with vector addition: $(\\mathbf{x} + \\mathbf{y})' \\mathbf{z} = \\mathbf{x}' \\mathbf{z} + \\mathbf{y}' \\mathbf{z}$."
   ]
  },
  {
   "cell_type": "markdown",
   "metadata": {},
   "source": [
    "Examples of inner product:\n",
    "\n",
    "1. Inner product with unit vector: $\\mathbf{e}_i' \\mathbf{x} = x_i$.\n",
    "\n",
    "2. Differencing: $(\\mathbf{e}_i - \\mathbf{e}_j)' \\mathbf{x} = x_i - x_j$.\n",
    "\n",
    "3. Sum: $\\mathbf{1}' \\mathbf{x} = x_1 + \\cdots + x_n$.\n",
    "\n",
    "4. Average: $(\\frac 1n \\mathbf{1})' \\mathbf{x} = (x_1 + \\cdots + x_n) / n$."
   ]
  },
  {
   "cell_type": "markdown",
   "metadata": {},
   "source": [
    "- **Vector transpose**:\n",
    "$$\n",
    "\\mathbf{x}' = \\begin{pmatrix} x_1 \\\\ \\vdots \\\\ x_n \\end{pmatrix}' = (x_1 \\, \\ldots \\, x_n).\n",
    "$$\n",
    "\n",
    "    Properties:  \n",
    "    \n",
    "    1. $(\\mathbf{x}')' = \\mathbf{x}$.  \n",
    "    \n",
    "    2. Transposition is a linear operator: $(\\alpha \\mathbf{x} + \\beta \\mathbf{y})' = \\alpha \\mathbf{x}' + \\beta \\mathbf{y}'$.  \n",
    "\n",
    "Superscript $^t$ or $^T$ is also commonly used to denote transpose: $\\mathbf{x}^t$, $\\mathbf{x}^T$."
   ]
  },
  {
   "cell_type": "markdown",
   "metadata": {},
   "source": [
    "## Computational complexity of vector operations\n",
    "\n",
    "- One **floating point operation** (flop) is one basic arithmetic operation in $\\mathbb{R}$ or $\\mathbb{C}$: $+, -, *, /, \\sqrt, ...$\n",
    "\n",
    "- The **flop count** of **operation count** is the total number of flops in an algorithm.\n",
    "\n",
    "- A (very) crude predictor of run time of the algorithm is \n",
    "$$\n",
    "\\text{run time} \\approx \\frac{\\text{flop count}}{\\text{computer speed (flops/second)}}.\n",
    "$$\n",
    "\n",
    "- **Dominant term**: the highest-order term in the flop count.\n",
    "$$\n",
    "\\frac 13 n^3 + 100 n^2 + 10n + 5 \\approx \\frac 13 n^3.\n",
    "$$\n",
    "\n",
    "- **Order**: the power in the dominant term.\n",
    "$$\n",
    "\\frac 13 n^3 + 100 n^2 + 10n + 5 = \\text{order } n^3 = O(n^3).\n",
    "$$\n",
    "\n",
    "\n",
    "- Assume vectors are all of length $n$. \n",
    "\n",
    "    1. Vector addition and substraction: $n$ flops.\n",
    "\n",
    "    2. Scalar multiplication: $n$ flops.\n",
    "\n",
    "    3. Elementwise multiplication: $n$ flops.\n",
    "\n",
    "    4. Inner product: $2n - 1$ flops. \n",
    "    \n",
    "- These vector operations are all order $n$ algorithms."
   ]
  },
  {
   "cell_type": "code",
   "execution_count": 17,
   "metadata": {},
   "outputs": [
    {
     "name": "stdout",
     "output_type": "stream",
     "text": [
      "Julia Version 1.8.0\n",
      "Commit 5544a0fab76 (2022-08-17 13:38 UTC)\n",
      "Platform Info:\n",
      "  OS: macOS (x86_64-apple-darwin21.4.0)\n",
      "  CPU: 8 × Intel(R) Core(TM) i7-6920HQ CPU @ 2.90GHz\n",
      "  WORD_SIZE: 64\n",
      "  LIBM: libopenlibm\n",
      "  LLVM: libLLVM-13.0.1 (ORCJIT, skylake)\n",
      "  Threads: 4 on 8 virtual cores\n",
      "Environment:\n",
      "  LD_LIBRARY_PATH = /opt/arrayfire/lib:/Applications/CPLEX_Studio129/cplex/bin/x86-64_osx:\n",
      "  DYLD_LIBRARY_PATH = /Users/huazhou/knitro/knitro-12.1.1-MacOS-64/lib:\n",
      "  JULIA_EDITOR = code\n",
      "  JULIA_NUM_THREADS = 4\n"
     ]
    }
   ],
   "source": [
    "# info about my computer \n",
    "versioninfo()"
   ]
  },
  {
   "cell_type": "code",
   "execution_count": 18,
   "metadata": {},
   "outputs": [
    {
     "name": "stdout",
     "output_type": "stream",
     "text": [
      "  0.004169 seconds (1 allocation: 16 bytes)\n"
     ]
    }
   ],
   "source": [
    "n = 10^7\n",
    "x = randn(n)\n",
    "sum(x) # compile\n",
    "@time sum(x);"
   ]
  },
  {
   "cell_type": "markdown",
   "metadata": {},
   "source": [
    "## Norm, distance, angle\n",
    "\n"
   ]
  },
  {
   "cell_type": "markdown",
   "metadata": {},
   "source": [
    "- The **Euclidean norm** or **L2 norm** of a vector $\\mathbf{x} \\in \\mathbb{R}^n$ is\n",
    "$$\n",
    "\\|\\mathbf{x}\\| = \\|\\mathbf{x}\\|_2 = (\\mathbf{x}'\\mathbf{x})^{1/2} = \\sqrt{x_1^2 + \\cdots + x_n^2}.\n",
    "$$\n",
    "\n",
    "- The **L1 norm** of a vector $\\mathbf{x} \\in \\mathbb{R}^n$ is\n",
    "$$\n",
    "\\|\\mathbf{x}\\|_1 = |x_1| + \\cdots + |x_n|.\n",
    "$$\n",
    "\n",
    "- Properties of L2 norm.\n",
    "\n",
    "    1. Positive definiteness: $\\|\\mathbf{x}\\| \\ge 0$ for any vector $\\mathbf{x}$. $\\|\\mathbf{x}\\| = 0$ if and only if $\\mathbf{x}=\\mathbf{0}$.\n",
    "    \n",
    "    2. Homogeneity: $\\|\\alpha \\mathbf{x}\\| = |\\alpha| \\|\\mathbf{x}\\|$ for any scalar $\\alpha$ and vector $\\mathbf{x}$.  \n",
    "    \n",
    "    3. Triangle inequality: $\\|\\mathbf{x} + \\mathbf{y}\\| \\le \\|\\mathbf{x}\\| + \\|\\mathbf{y}\\|$ for any $\\mathbf{x}, \\mathbf{y} \\in \\mathbb{R}^n$. Proof: use Cauchy-Schwartz inequality.\n",
    "    \n",
    "    4. **Cauchy-Schwartz inequality**: $|\\mathbf{x}' \\mathbf{y}| \\le \\|\\mathbf{x}\\| \\|\\mathbf{y}\\|$ for any $\\mathbf{x}, \\mathbf{y} \\in \\mathbb{R}^n$. The equality holds when (1) $\\mathbf{x} = \\mathbf{0}$ or $\\mathbf{y}=\\mathbf{0}$ or (2) $\\mathbf{x} \\ne \\mathbf{0}$, $\\mathbf{y} \\ne \\mathbf{0}$, and $\\mathbf{x} = \\alpha \\mathbf{y}$ for some $\\alpha \\ne 0$.\n",
    "    \n",
    "    Proof: The function $f(t) = \\|\\mathbf{x} - t \\mathbf{y}\\|_2^2 = \\|\\mathbf{x}\\|_2^2 - 2t (\\mathbf{x}' \\mathbf{y}) + t^2\\|\\mathbf{y}\\|_2^2$ is minimized at $t^\\star =(\\mathbf{x}'\\mathbf{y}) / \\|\\mathbf{y}\\|^2$ with minimal value $f(t^\\star) = \\|\\mathbf{x}\\|^2 - (\\mathbf{x}'\\mathbf{y})^2 / \\|\\mathbf{y}\\|^2 \\ge 0$. "
   ]
  },
  {
   "cell_type": "code",
   "execution_count": 19,
   "metadata": {
    "scrolled": true
   },
   "outputs": [
    {
     "name": "stdout",
     "output_type": "stream",
     "text": [
      "x = randn(5) = [-1.3464245467948444, 0.4734187387682174, -0.26763026759772346, 1.0887134914151122, -0.44435104736444664]\n",
      "y = randn(5) = [-0.047806758756256305, 0.7044686500166222, -0.16623618980244073, 0.20436490951615896, -0.41108911514080376]\n",
      "norm(x + y) = 2.4337973127349875\n",
      "norm(x) + norm(y) = 2.726977870355726\n",
      "norm(x + y) ≤ norm(x) + norm(y) = true\n"
     ]
    },
    {
     "data": {
      "text/plain": [
       "true"
      ]
     },
     "execution_count": 19,
     "metadata": {},
     "output_type": "execute_result"
    }
   ],
   "source": [
    "# check triangular inequality on random vectors\n",
    "@show x = randn(5)\n",
    "@show y = randn(5)\n",
    "@show norm(x + y)\n",
    "@show norm(x) + norm(y)\n",
    "@show norm(x + y) ≤ norm(x) + norm(y)"
   ]
  },
  {
   "cell_type": "code",
   "execution_count": 20,
   "metadata": {},
   "outputs": [
    {
     "name": "stdout",
     "output_type": "stream",
     "text": [
      "x = randn(5) = [-0.005494114994048247, 1.433485279827663, 1.8899535564520789, -3.4548506416795823, 0.6752065635863911]\n",
      "y = randn(5) = [-0.9210415244336418, -1.2699575528884857, -0.29229252079218443, 1.4257531173942113, -0.7028853206378676]\n",
      "abs(x' * y) = 7.768181293666874\n",
      "norm(x) * norm(y) = 9.561150017903294\n",
      "abs(x' * y) ≤ norm(x) * norm(y) = true\n"
     ]
    },
    {
     "data": {
      "text/plain": [
       "true"
      ]
     },
     "execution_count": 20,
     "metadata": {},
     "output_type": "execute_result"
    }
   ],
   "source": [
    "# check Cauchy-Schwartz inequality\n",
    "@show x = randn(5)\n",
    "@show y = randn(5)\n",
    "@show abs(x'y)\n",
    "@show norm(x) * norm(y)\n",
    "@show abs(x'y) ≤ norm(x) * norm(y)"
   ]
  },
  {
   "cell_type": "markdown",
   "metadata": {},
   "source": [
    "- The **(Euclidean) distance** between vectors $\\mathbf{x}$ and $\\mathbf{y}$ is defined as $\\|\\mathbf{x} - \\mathbf{y}\\|$. \n",
    "\n",
    "- Property of distances. \n",
    "\n",
    "    1. Nonnegativity. $\\|\\mathbf{x} - \\mathbf{y}\\| \\ge 0$ for all $\\mathbf{x}$ and $\\mathbf{y}$. And $\\|\\mathbf{x} - \\mathbf{y}\\| = 0$ if and only if $\\mathbf{x} = \\mathbf{y}$.\n",
    "    \n",
    "    2. Triangular inequality: $\\|\\mathbf{x} - \\mathbf{y}\\| \\le \\|\\mathbf{x} - \\mathbf{z}\\| + \\|\\mathbf{z} - \\mathbf{y}\\|$."
   ]
  },
  {
   "cell_type": "markdown",
   "metadata": {},
   "source": [
    "- The **average** of a vector $\\mathbf{x}$ is\n",
    "$$\n",
    "\\operatorname{avg}(\\mathbf{x}) = \\bar{\\mathbf{x}} = \\frac{x_1 + \\cdots + x_n}{n} = \\frac{\\mathbf{1}' \\mathbf{x}}{n}.\n",
    "$$\n",
    "\n",
    "- The **rooted mean square** (RMS) of a vector is\n",
    "$$\n",
    "\\operatorname{rms}(\\mathbf{x}) = \\sqrt{\\frac{x_1^2 + \\cdots + x_n^2}{n}} = \\frac{\\|\\mathbf{x}\\|}{\\sqrt n}.\n",
    "$$\n",
    "\n",
    "- The **standard deviation** of a vector $\\mathbf{x}$ is\n",
    "$$\n",
    "\\operatorname{std}(\\mathbf{x}) = \\sqrt{\\frac{(x_1 - \\bar{\\mathbf{x}})^2 + \\cdots + (x_n - \\bar{\\mathbf{x}})^2}{n}} = \\operatorname{rms}(\\mathbf{x} - \\bar{\\mathbf{x}} \\mathbf{1}) = \\frac{\\|\\mathbf{x} - (\\mathbf{1}' \\mathbf{x} / n) \\mathbf{1}\\|}{\\sqrt n}.\n",
    "$$\n",
    "\n",
    "- Theorem: $\\operatorname{avg}(\\mathbf{x})^2 + \\operatorname{std}(\\mathbf{x})^2 = \\operatorname{rms}(\\mathbf{x})^2$.\n",
    "\n",
    "    This result underlies the famous _bias-variance tradeoff_ in statistics. \n",
    "    \n",
    "    Proof: TODO in class. $\\operatorname{std}(\\mathbf{x})^2 = \\frac{\\|\\mathbf{x} - (\\mathbf{1}' \\mathbf{x} / n) \\mathbf{1}\\|^2}{n} = ... = \\operatorname{rms}(\\mathbf{x})^2 - \\operatorname{avg}(\\mathbf{x})^2$. "
   ]
  },
  {
   "cell_type": "code",
   "execution_count": 21,
   "metadata": {},
   "outputs": [
    {
     "name": "stdout",
     "output_type": "stream",
     "text": [
      "mean(x) ^ 2 + std(x, corrected = false) ^ 2 = 1.1735056174524747\n",
      "norm(x) ^ 2 / length(x) = 1.173505617452475\n",
      "mean(x) ^ 2 + std(x, corrected = false) ^ 2 ≈ norm(x) ^ 2 / length(x) = true\n"
     ]
    },
    {
     "data": {
      "text/plain": [
       "true"
      ]
     },
     "execution_count": 21,
     "metadata": {},
     "output_type": "execute_result"
    }
   ],
   "source": [
    "x = randn(5)\n",
    "@show mean(x)^2 + std(x, corrected = false)^2\n",
    "@show norm(x)^2 / length(x)\n",
    "# floating point arithmetics is not exact\n",
    "@show mean(x)^2 + std(x, corrected = false)^2 ≈ norm(x)^2 / length(x)"
   ]
  },
  {
   "cell_type": "markdown",
   "metadata": {},
   "source": [
    "- **Angle** between two nonzero vectors $\\mathbf{x}, \\mathbf{y}$ is\n",
    "$$\n",
    "\\theta = \\operatorname{arccos} \\left(\\frac{\\mathbf{x}'\\mathbf{y}}{\\|\\mathbf{x}\\|\\|\\mathbf{y}\\|}\\right).\n",
    "$$\n",
    "This is the unique value of $\\theta \\in [0, \\pi]$ that satisifies\n",
    "$$\n",
    "\\mathbf{x}'\\mathbf{y} = \\|\\mathbf{x}\\|\\|\\mathbf{y}\\| \\cos \\theta.\n",
    "$$\n",
    "\n",
    "- Cauchy-Schwartz inequality guarantees that \n",
    "$$\n",
    "-1 \\le \\cos \\theta = \\frac{\\mathbf{x}'\\mathbf{y}}{\\|\\mathbf{x}\\|\\|\\mathbf{y}\\|} \\le 1.\n",
    "$$\n",
    "\n",
    "- Terminology\n",
    "\n",
    "| Angle                    | Sign of inner product                                   | Terminology                                                                        |\n",
    "|--------------------------|---------------------------------------------------------|-----------------------------------------------------------------------------------|\n",
    "| $\\theta = 0$             | $\\mathbf{x}'\\mathbf{y}=\\|\\mathbf{x}\\|\\|\\mathbf{y}\\|$    | $\\mathbf{x}$ and $\\mathbf{y}$ are aligned or parallel                             |\n",
    "| $0 \\le \\theta < \\pi/2$   | $\\mathbf{x}'\\mathbf{y} > 0$                             |  $\\mathbf{x}$ and $\\mathbf{y}$ make an acute angle                                |\n",
    "| $\\theta = \\pi / 2$       | $\\mathbf{x}'\\mathbf{y} = 0$                             | $\\mathbf{x}$ and $\\mathbf{y}$ are **orthogonal**, $\\mathbf{x} \\perp \\mathbf{y}$ |\n",
    "| $\\pi/2 < \\theta \\le \\pi$ | $\\mathbf{x}'\\mathbf{y} < 0$                             | $\\mathbf{x}$ and $\\mathbf{y}$ make an obtuse angle                                |\n",
    "| $\\theta = \\pi$           | $\\mathbf{x}'\\mathbf{y} = -\\|\\mathbf{x}\\|\\|\\mathbf{y}\\|$ | $\\mathbf{x}$ and $\\mathbf{y}$ are anti-aligned or opposed                         |\n",
    "\n",
    "TODO: Picture."
   ]
  },
  {
   "cell_type": "markdown",
   "metadata": {},
   "source": [
    "## Linear independence\n",
    "\n",
    "- A set of vectors $\\mathbf{a}_1, \\ldots, \\mathbf{a}_k \\in \\mathbb{R}^n$ are **linearly dependent** if there exist constants $\\alpha_1, \\ldots, \\alpha_k$, which are not all zeros, such that \n",
    "$$\n",
    "\\alpha_1 \\mathbf{a}_1 + \\cdots + \\alpha_k \\mathbf{a}_k = \\mathbf{0}.\n",
    "$$\n",
    "They are **linearly independent** if they are not linearly dependent. That is if $\\alpha_1 \\mathbf{a}_1 + \\cdots + \\alpha_k \\mathbf{a}_k = \\mathbf{0}$ then $\\alpha_1 = \\cdots = \\alpha_k = 0$.\n",
    "\n",
    "- Theorem: Unit vectors $\\mathbf{e}_1, \\ldots, \\mathbf{e}_n \\in \\mathbb{R}^n$ are linearly independent. \n",
    "\n",
    "    Proof: TODO in class.\n",
    "    \n",
    "- Theorem: If $\\mathbf{x}$ is a linear combination of linearly independent vectors $\\mathbf{a}_1, \\ldots, \\mathbf{a}_k$. That is $\\mathbf{x} = \\alpha_1 \\mathbf{a}_1 + \\cdots \\alpha_k \\mathbf{a}_k$. Then the coefficients $\\alpha_1, \\ldots, \\alpha_k$ are unique. \n",
    "\n",
    "    Proof: TODO in class.\n",
    "    \n",
    "- **Independence-dimension inequality** or **order-dimension inequality**. If the vectors $\\mathbf{a}_1, \\ldots, \\mathbf{a}_k \\in \\mathbb{R}^n$ are linearly independent, then $k \\le n$.\n",
    "\n",
    "    In words, a linearly independent set of vectors in $\\mathbb{R}^n$ can have at most $n$ elements. Or any set of $n+1$ or more vectors in $\\mathbb{R}^n$ is linearly dependent.\n",
    "\n",
    "    Proof (optional): We show this by induction. Let $a_1, \\ldots, a_k \\in \\mathbb{R}^1$ be linearly independent. We must have $a_1 \\ne 0$. This means that every element $a_i$ of the collection can be expressed as a multiple of $a_i = (a_i / a_1) a_1$ of the first element $a_1$. This contradicts the linear independence thus $k$ must be 1.  \n",
    "    Induction hypothesis: suppose $n \\ge 2$ and the independence-dimension inequality holds for $k \\le n$. We partition the vectors $\\mathbf{a}_i \\in \\mathbb{R}^n$ as\n",
    "$$\n",
    "    \\mathbf{a}_i = \\begin{pmatrix} \\mathbf{b}_i \\\\ \\alpha_i \\end{pmatrix}, \\quad i = 1,\\ldots,k,\n",
    "$$\n",
    "where $\\mathbf{b}_i \\in \\mathbb{R}^{n-1}$ and $\\alpha_i \\in \\mathbb{R}$.  \n",
    "    First suppose $\\alpha_1 = \\cdots = \\alpha_k = 0$. Then the vectors $\\mathbf{b}_1, \\ldots, \\mathbf{b}_k$ are linearly independent: $\\sum_{i=1}^k \\beta_i \\mathbf{b}_i = \\mathbf{0}$ if and only if $\\sum_{i=1}^k \\beta_i \\mathbf{a}_i = \\mathbf{0}$, which is only possible for $\\beta_1 = \\cdots = \\beta_k = 0$ because the vectors $\\mathbf{a}_i$ are linearly independent. The vectors $\\mathbf{b}_i$ therefore form a linearly independent collection of $(n-1)$-vectors. By the induction hypothesis we have $k \\le n-1$ so $k \\le n$.  \n",
    "    Next we assume the scalars $\\alpha_i$ are not all zero. Assume $\\alpha_j \\ne 0$. We define a collection of $k-1$ vectors $\\mathbf{c}_i$ of length $n-1$ as follows:\n",
    "$$\n",
    "    \\mathbf{c}_i = \\mathbf{b}_i - \\frac{\\alpha_i}{\\alpha_j} \\mathbf{b}_j, \\quad i = 1, \\ldots, j-1, \\mathbf{c}_i = \\mathbf{b}_{i+1} - \\frac{\\alpha_{i+1}}{\\alpha_j} \\mathbf{b}_j, \\quad i = j, \\ldots, k-1.\n",
    "$$\n",
    "These $k-1$ vectors are linealy independent: If $\\sum_{i=1}^{k-1} \\beta_i c_i = 0$ then\n",
    "$$\n",
    "    \\sum_{i=1}^{j-1} \\beta_i \\begin{pmatrix} \\mathbf{b}_i \\\\ \\alpha_i \\end{pmatrix} + \\gamma \\begin{pmatrix} \\mathbf{b}_j \\\\ \\alpha_j \\end{pmatrix} + \\sum_{i=j+1}^k \\beta_{i-1} \\begin{pmatrix} \\mathbf{b}_i \\\\ \\alpha_i \\end{pmatrix} = \\mathbf{0}\n",
    "$$\n",
    "with $\\gamma = - \\alpha_j^{-1} \\left( \\sum_{i=1}^{j-1} \\beta_i \\alpha_i + \\sum_{i=j+1}^k \\beta_{i-1} \\alpha_i \\right)$. Since the vectors $\\mathbf{a}_i$ are linearly independent, all coefficients $\\beta_i$ and $\\gamma$ are all zero. This in turns implies that the vectors $\\mathbf{c}_1, \\ldots, \\mathbf{c}_{k-1}$ are linearly independent. By the induction hypothesis $k-1 \\le n-1$, we have established $k \\le n$."
   ]
  },
  {
   "cell_type": "markdown",
   "metadata": {},
   "source": [
    "## Basis\n",
    "\n",
    "- A set of $n$ linearly independent vectors $\\mathbf{a}_1, \\ldots, \\mathbf{a}_n \\in \\mathbb{R}^n$ is called a **basis** for $\\mathbb{R}^n$. \n",
    "\n",
    "- Fact: the zero vector $\\mathbf{0}_n$ cannot be a basis vector in $\\mathbb{R}^n$. Why?\n",
    "\n",
    "- Any vector $\\mathbf{x} \\in \\mathbb{R}^n$ can be expressed as a linear combination of basis vectors $\\mathbf{x} = \\alpha_1 \\mathbf{a}_1 + \\cdots + \\alpha_n \\mathbf{a}_n$ for some $\\alpha_1, \\ldots, \\alpha_n$, and these coefficients are unique. This is called expansion of $\\mathbf{x}$ in the basis $\\mathbf{a}_1, \\ldots, \\mathbf{a}_n$.\n",
    "\n",
    "    Proof of existence by contradition. Suppose $\\mathbf{x}$ can NOT be expressed as a linear combination of basis vectors $\\mathbf{x} = \\alpha_1 \\mathbf{a}_1 + \\cdots + \\alpha_n \\mathbf{a}_n$. Suppose an arbitrary linear combination $\\alpha_1 \\mathbf{a}_1 + \\cdots + \\alpha_n \\mathbf{a}_n + \\beta \\mathbf{x} = \\mathbf{0}$. Then $\\beta = 0$ otherwise it contradictions with our assumption. Also $\\alpha_1 = \\cdots = \\alpha_n = 0$ by linear independence of $\\mathbf{a}_1, \\ldots, \\mathbf{a}_n$. Therefore we conclude $\\alpha_1 = \\cdots = \\alpha_n = \\beta = 0$. Thus $\\mathbf{a}_1, \\ldots, \\mathbf{a}_n, \\mathbf{x}$ are linearly independent, contradicting with the independence-dimension inequality.\n",
    "    \n",
    "    Proof of uniqueness: TODO in class.\n",
    "\n",
    "- Example: Unit vectors $\\mathbf{e}_1, \\ldots, \\mathbf{e}_n$ form a basis for $\\mathbb{R}^n$. Expansion of a vector $\\mathbf{x} \\in \\mathbb{R}^n$ in this basis is\n",
    "$$\n",
    "\\mathbf{x} = x_1 \\mathbf{e}_1 + \\cdots + x_n \\mathbf{e}_n.\n",
    "$$"
   ]
  },
  {
   "cell_type": "markdown",
   "metadata": {},
   "source": [
    "## Orthonormal basis\n",
    "\n",
    "- A set of vectors $\\mathbf{a}_1, \\ldots, \\mathbf{a}_k$ are **(mutually) orthogonal** if $\\mathbf{a}_i \\perp \\mathbf{a}_j$ for any $i \\ne j$. They are **normalized** if $\\|\\mathbf{a}_i\\|=1$ for all $i$. They are **orthonormal** if they are both orthogonal and normalized.\n",
    "\n",
    "    Orthonormality is often expressed compactly by $\\mathbf{a}_i'\\mathbf{a}_j = \\delta_{ij}$, where \n",
    "$$\n",
    "\\delta_{ij} = \\begin{cases} \n",
    "1 & \\text{if } i = j \\\\ \n",
    "0 & \\text{if } i \\ne j \n",
    "\\end{cases}\n",
    "$$\n",
    "is the Kronecker delta notation.\n",
    "\n",
    "- Theorem: An orthonormal set of vectors are linearly independent.\n",
    "\n",
    "    Proof: TODO in class. Expand $\\|\\alpha_1 \\mathbf{a}_1 + \\cdots + \\alpha_k \\mathbf{a}_k\\|^2 = (\\alpha_1 \\mathbf{a}_1 + \\cdots + \\alpha_k \\mathbf{a}_k)'(\\alpha_1 \\mathbf{a}_1 + \\cdots + \\alpha_k \\mathbf{a}_k)$.\n",
    "    \n",
    "- By the independence-dimension inequality, must have $k \\le n$. When $k=n$, $\\mathbf{a}_1, \\ldots, \\mathbf{a}_n$ are called an **orthonormal basis**. \n",
    "\n",
    "- Examples of orthonormal basis:\n",
    "\n",
    "    1. Unit vectors $\\mathbf{e}_1, \\ldots, \\mathbf{e}_n$ in $\\mathbb{R}^n$.  \n",
    "    2. The 3 vectors in $\\mathbb{R}^3$:\n",
    "$$\n",
    "\\begin{pmatrix} 0 \\\\ 0 \\\\ 1 \\end{pmatrix}, \\quad \\frac{1}{\\sqrt 2} \\begin{pmatrix} 1 \\\\ 1 \\\\ 0 \\end{pmatrix}, \\quad \\quad \\frac{1}{\\sqrt 2} \\begin{pmatrix} 1 \\\\ -1 \\\\ 0 \\end{pmatrix}.\n",
    "$$\n",
    "\n",
    "TODO: Picture."
   ]
  },
  {
   "cell_type": "code",
   "execution_count": 22,
   "metadata": {},
   "outputs": [
    {
     "name": "stdout",
     "output_type": "stream",
     "text": [
      "(norm(a1), norm(a2), norm(a3)) = (1.0, 0.9999999999999999, 0.9999999999999999)\n",
      "(a1' * a2, a1' * a3, a2' * a3) = (0.0, 0.0, 0.0)\n"
     ]
    },
    {
     "data": {
      "text/plain": [
       "(0.0, 0.0, 0.0)"
      ]
     },
     "execution_count": 22,
     "metadata": {},
     "output_type": "execute_result"
    }
   ],
   "source": [
    "a1 = [0, 0, 1]\n",
    "a2 = (1 / sqrt(2)) * [1, 1, 0]\n",
    "a3 = (1 / sqrt(2)) * [1, -1, 0]\n",
    "@show norm(a1), norm(a2), norm(a3)\n",
    "@show a1'a2, a1'a3, a2'a3"
   ]
  },
  {
   "cell_type": "markdown",
   "metadata": {},
   "source": [
    "- **Orthonormal expansion**. If $\\mathbf{a}_1, \\ldots, \\mathbf{a}_n \\in \\mathbb{R}^n$ is an orthonormal basis, then for any vector $\\mathbf{x} \\in \\mathbb{R}^n$, \n",
    "$$\n",
    "\\mathbf{x} = (\\mathbf{a}_1'\\mathbf{x}) \\mathbf{a}_1 + \\ldots + (\\mathbf{a}_n'\\mathbf{x}) \\mathbf{a}_n.\n",
    "$$\n",
    "\n",
    "    Proof: Take inner product with $\\mathbf{a}_i$ on both sides. "
   ]
  },
  {
   "cell_type": "code",
   "execution_count": 23,
   "metadata": {},
   "outputs": [
    {
     "name": "stdout",
     "output_type": "stream",
     "text": [
      "x = randn(3) = [0.06883241218816398, 1.1667140055410046, 0.8357329421287591]\n",
      "(a1' * x) * a1 + (a2' * x) * a2 + (a3' * x) * a3 = [0.06883241218816394, 1.1667140055410044, 0.8357329421287591]\n",
      "x ≈ (a1' * x) * a1 + (a2' * x) * a2 + (a3' * x) * a3 = true\n"
     ]
    },
    {
     "data": {
      "text/plain": [
       "true"
      ]
     },
     "execution_count": 23,
     "metadata": {},
     "output_type": "execute_result"
    }
   ],
   "source": [
    "@show x = randn(3)\n",
    "@show (a1'x) * a1 + (a2'x) * a2 + (a3'x) * a3\n",
    "@show x ≈ (a1'x) * a1 + (a2'x) * a2 + (a3'x) * a3"
   ]
  },
  {
   "cell_type": "markdown",
   "metadata": {},
   "source": [
    "## Gram-Schmidt algorithm\n",
    "\n",
    "- Given vectros $\\mathbf{a}_1, \\ldots, \\mathbf{a}_k \\in \\mathbb{R}^n$. G-S algorithm generates an orthonormal basis $\\mathbf{q}_1, \\mathbf{q}_2, \\ldots$.\n",
    "\n",
    "- For $i=1,\\ldots,k$:  \n",
    "\n",
    "    1. Orthogonalization: $\\tilde{\\mathbf{q}}_i = \\mathbf{a}_i - (\\mathbf{q}_1' \\mathbf{a}_i) \\mathbf{q}_1 - \\cdots - (\\mathbf{q}_{i-1}' \\mathbf{a}_i) \\mathbf{q}_{i-1}$.  \n",
    "    \n",
    "    2. Test for linear independence: if $\\tilde{\\mathbf{q}}_i = \\mathbf{0}$, quit.  \n",
    "    \n",
    "    3. Normalization: $\\mathbf{q}_i = \\tilde{\\mathbf{q}}_i / \\|\\tilde{\\mathbf{q}}_i\\|$.\n",
    "    \n",
    "    \n",
    "- If G-S does not stop early (in step 2), $\\mathbf{a}_1, \\ldots, \\mathbf{a}_k$ are linearly independent. \n",
    "\n",
    "- If G-S stops early in iteration $i=j$, then $\\mathbf{a}_j$ is a linear combination of $\\mathbf{a}_1, \\ldots, \\mathbf{a}_{j-1}$; so $\\mathbf{a}_1, \\ldots, \\mathbf{a}_{j-1}$ are linearly independent."
   ]
  },
  {
   "cell_type": "code",
   "execution_count": 24,
   "metadata": {},
   "outputs": [
    {
     "name": "stdout",
     "output_type": "stream",
     "text": [
      "a1 = randn(5) = [0.2885564877647501, -0.19224518245702288, 0.9760800611438696, 0.4733438594803039, 1.3185865361572564]\n",
      "a2 = randn(5) = [1.0954320572270426, 0.8364643340255031, 0.19913228607643202, -0.9166426768675935, 1.059278178644525]\n",
      "a3 = randn(5) = [-0.2410533432190306, -0.8816067116410236, -0.8360997587997916, 0.4564048993818573, -1.5563970410387786]\n"
     ]
    }
   ],
   "source": [
    "# n = 5, k = 3\n",
    "@show a1 = randn(5)\n",
    "@show a2 = randn(5)\n",
    "@show a3 = randn(5);"
   ]
  },
  {
   "cell_type": "code",
   "execution_count": 25,
   "metadata": {},
   "outputs": [
    {
     "name": "stdout",
     "output_type": "stream",
     "text": [
      "q̃1 = copy(a1) = [0.2885564877647501, -0.19224518245702288, 0.9760800611438696, 0.4733438594803039, 1.3185865361572564]\n",
      "norm(q̃1) ≈ 0 = false\n",
      "q1 = q̃1 / norm(q̃1) = [0.16561620692378157, -0.11033859666277747, 0.560218481423893, 0.27167441350929794, 0.7567991359708033]\n"
     ]
    }
   ],
   "source": [
    "# for i = 1\n",
    "# orthogonalization\n",
    "@show q̃1 = copy(a1)\n",
    "# test for linear independence\n",
    "@show norm(q̃1) ≈ 0\n",
    "# normalization\n",
    "@show q1 = q̃1 / norm(q̃1);"
   ]
  },
  {
   "cell_type": "code",
   "execution_count": 26,
   "metadata": {},
   "outputs": [
    {
     "name": "stdout",
     "output_type": "stream",
     "text": [
      "q̃2 = a2 - (q1' * a2) * q1 = [0.9706705469299335, 0.9195842787423083, -0.22288984048370442, -1.1212996411108334, 0.48916849584809685]\n",
      "norm(q̃2) ≈ 0 = false\n",
      "q2 = q̃2 / norm(q̃2) = [0.5315958173521265, 0.5036179966810818, -0.12206747933804649, -0.6140890965510944, 0.2678972048711497]\n"
     ]
    }
   ],
   "source": [
    "# for i = 2\n",
    "# orthogonalization\n",
    "@show q̃2 = a2 - (q1'a2) * q1\n",
    "# test for linear independence\n",
    "@show norm(q̃2) ≈ 0\n",
    "# normalization\n",
    "@show q2 = q̃2 / norm(q̃2);"
   ]
  },
  {
   "cell_type": "code",
   "execution_count": 27,
   "metadata": {},
   "outputs": [
    {
     "name": "stdout",
     "output_type": "stream",
     "text": [
      "q̃3 = (a3 - (q1' * a3) * q1) - (q2' * a3) * q2 = [0.6220965646602882, -0.4553704306380574, -0.15790750149769647, 0.137561372217595, -0.13502051895298522]\n",
      "norm(q̃3) ≈ 0 = false\n",
      "q3 = q̃3 / norm(q̃3) = [0.7678128636064447, -0.5620337648719155, -0.19489484076494357, 0.16978295191470946, -0.16664694388648774]\n"
     ]
    }
   ],
   "source": [
    "# for i = 3\n",
    "# orthogonalization\n",
    "@show q̃3 = a3 - (q1'a3) * q1 - (q2'a3) * q2\n",
    "# test for linear independence\n",
    "@show norm(q̃3) ≈ 0\n",
    "# Normalization\n",
    "@show q3 = q̃3 / norm(q̃3);"
   ]
  },
  {
   "cell_type": "code",
   "execution_count": 28,
   "metadata": {},
   "outputs": [
    {
     "name": "stdout",
     "output_type": "stream",
     "text": [
      "(norm(q1), norm(q2), norm(q3)) = (1.0, 1.0, 0.9999999999999999)\n",
      "(q1' * q2, q1' * q3, q2' * q3) = (0.0, -1.3877787807814457e-16, -7.632783294297951e-17)\n"
     ]
    }
   ],
   "source": [
    "# test for orthonormality of q1, q2, q3\n",
    "@show norm(q1), norm(q2), norm(q3)\n",
    "@show q1'q2, q1'q3, q2'q3;"
   ]
  },
  {
   "cell_type": "markdown",
   "metadata": {},
   "source": [
    "Show by induction that $\\mathbf{q}_1, \\ldots, \\mathbf{q}_i$ are orthonormal:\n",
    "\n",
    "- Assume it's true for $i-1$. \n",
    "\n",
    "- Orthogonalization step ensures that $\\tilde{\\mathbf{q}}_i \\perp \\mathbf{q}_1, \\ldots, \\tilde{\\mathbf{q}}_i \\perp \\mathbf{q}_{i-1}$. To show this, take inner product of both sides with $\\mathbf{q}_j$, $j < i$\n",
    "$$\n",
    "\\mathbf{q}_j' \\tilde{\\mathbf{q}}_i = \\mathbf{q}_j' \\mathbf{a}_i - (\\mathbf{q}_1' \\mathbf{a}_i) (\\mathbf{q}_j' \\mathbf{q}_1) - \\cdots - (\\mathbf{q}_{i-1}' \\mathbf{a}_i) (\\mathbf{q}_j' \\mathbf{q}_{i-1}) = \\mathbf{q}_j' \\mathbf{a}_i - \\mathbf{q}_j' \\mathbf{a}_i = 0.\n",
    "$$\n",
    "\n",
    "- So $\\mathbf{q}_1, \\ldots, \\mathbf{q}_i$ are orthogonal. The normalization step enures $\\mathbf{q}_i$ is normal."
   ]
  },
  {
   "cell_type": "markdown",
   "metadata": {},
   "source": [
    "Suppose G-S has not terminated by iteration $i$, then \n",
    "\n",
    "- $\\mathbf{a}_i$ is a combination of $\\mathbf{q}_1, \\ldots, \\mathbf{q}_i$, and\n",
    "\n",
    "- $\\mathbf{q}_i$ is a combination of $\\mathbf{a}_1, \\ldots, \\mathbf{a}_i$."
   ]
  },
  {
   "cell_type": "markdown",
   "metadata": {},
   "source": [
    "Computational complexity of G-S algorithm:\n",
    "\n",
    "- Step 1 of iteration $i$ requires $i-1$ inner products, $\\mathbf{q}_1' \\mathbf{a}_i, \\ldots, \\mathbf{q}_{i-1}' \\mathbf{a}_i$, which costs $(i-1)(2n-1)$ flops.  \n",
    "\n",
    "- $2n(i-1)$ flops to compute $\\tilde{\\mathbf{q}}_i$.  \n",
    "\n",
    "- $3n$ flops to compute $\\|\\tilde{\\mathbf{q}}_i\\|$ and $\\mathbf{q}_i$. \n",
    "\n",
    "- Assuming no early termination, total computational cost is:\n",
    "$$\n",
    "\\sum_{i=1}^k ((4n-1) (i - 1) + 3n) = (4n - 1) \\frac{k(k-1)}{2} + 3nk \\approx 2nk^2,\n",
    "$$\n",
    "using $\\sum_{i=1}^k (i - 1) = k(k-1)/2$. "
   ]
  }
 ],
 "metadata": {
  "@webio": {
   "lastCommId": null,
   "lastKernelId": null
  },
  "hide_input": false,
  "kernelspec": {
   "display_name": "Julia 1.8.0",
   "language": "julia",
   "name": "julia-1.8"
  },
  "language_info": {
   "file_extension": ".jl",
   "mimetype": "application/julia",
   "name": "julia",
   "version": "1.8.0"
  },
  "toc": {
   "colors": {
    "hover_highlight": "#DAA520",
    "running_highlight": "#FF0000",
    "selected_highlight": "#FFD700"
   },
   "moveMenuLeft": true,
   "nav_menu": {
    "height": "66.52174377441406px",
    "width": "251.7391357421875px"
   },
   "navigate_menu": true,
   "number_sections": true,
   "sideBar": true,
   "skip_h1_title": true,
   "threshold": 4,
   "toc_cell": true,
   "toc_section_display": "block",
   "toc_window_display": true,
   "widenNotebook": false
  },
  "toc-autonumbering": true,
  "toc-showcode": false,
  "toc-showmarkdowntxt": false,
  "toc-showtags": false
 },
 "nbformat": 4,
 "nbformat_minor": 4
}
