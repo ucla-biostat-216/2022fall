{
 "cells": [
  {
   "cell_type": "markdown",
   "metadata": {},
   "source": [
    "# Biostat 216 Homework 2\n",
    "\n",
    "**Due Oct 7 @ 11:59pm**"
   ]
  },
  {
   "cell_type": "markdown",
   "metadata": {},
   "source": [
    "Submit a PDF (scanned/photographed from handwritten solutions, or converted from RMarkdown or Jupyter Notebook) to Gradescope in BruinLearn. \n",
    "\n",
    "BV exercises: 5.1, 5.2, 5.4, 5.5, 5.6, 5.8, 5.9."
   ]
  },
  {
   "cell_type": "markdown",
   "metadata": {},
   "source": [
    "Q1. Show the norm property $\\|\\mathbf{A} \\mathbf{B}\\| \\le \\|\\mathbf{A}\\| \\|\\mathbf{B}\\|$ for the Frobenius norm. Hint: Cauchy-Schwartz inequality."
   ]
  },
  {
   "cell_type": "markdown",
   "metadata": {},
   "source": [
    "Q2. Prove the following facts about triangular and orthogonal matrices.\n",
    "\n",
    "1. The product of two upper (lower) triangular matrices is upper (lower) triangular.\n",
    "\n",
    "2. The inverse of an upper (lower) triangular matrix is upper (lower) triangular.\n",
    "\n",
    "3. The product of two unit upper (lower) triangular matrices is unit upper (lower) triangular.\n",
    "\n",
    "4. The inverse of a unit upper (lower) triangular matrix is unit upper (lower) triangular.\n",
    "\n",
    "5. An orthogonal upper (lower) triangular matrix is diagonal.\n",
    "\n",
    "6. The product of two orthogonal matrices is orthogonal."
   ]
  }
 ],
 "metadata": {
  "@webio": {
   "lastCommId": null,
   "lastKernelId": null
  },
  "hide_input": false,
  "kernelspec": {
   "display_name": "Julia 1.8.0",
   "language": "julia",
   "name": "julia-1.8"
  },
  "language_info": {
   "file_extension": ".jl",
   "mimetype": "application/julia",
   "name": "julia",
   "version": "1.8.0"
  },
  "toc": {
   "colors": {
    "hover_highlight": "#DAA520",
    "running_highlight": "#FF0000",
    "selected_highlight": "#FFD700"
   },
   "moveMenuLeft": true,
   "nav_menu": {
    "height": "87px",
    "width": "252px"
   },
   "navigate_menu": true,
   "number_sections": true,
   "sideBar": true,
   "skip_h1_title": true,
   "threshold": 4,
   "toc_cell": false,
   "toc_section_display": "block",
   "toc_window_display": false,
   "widenNotebook": false
  }
 },
 "nbformat": 4,
 "nbformat_minor": 4
}
