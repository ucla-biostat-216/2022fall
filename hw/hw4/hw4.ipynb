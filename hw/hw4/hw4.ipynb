{
 "cells": [
  {
   "cell_type": "markdown",
   "metadata": {},
   "source": [
    "# Biostat 216 Homework 4\n",
    "\n",
    "**Due Oct 21 Friday @ 11:59pm**"
   ]
  },
  {
   "cell_type": "markdown",
   "metadata": {},
   "source": [
    "Submit a PDF (scanned/photographed from handwritten solutions, or converted from RMarkdown or Jupyter Notebook) to Gradescope in BruinLearn. \n",
    "\n",
    "- Q1. Suppose the column space of an $m \\times n$ matrix is all of $\\mathbb{R}^3$. What can you say about $m$? What can you say about $n$? What can you say about the rank $r$?\n",
    "\n",
    "- Q2. Let\n",
    "$$\n",
    "\\mathbf{A}_1 = \\begin{pmatrix}\n",
    "1 & 3 & -2 \\\\\n",
    "3 & 9 & -6 \\\\\n",
    "2 & 6 & -4\n",
    "\\end{pmatrix}, \\quad \\mathbf{A}_2 = \\begin{pmatrix}\n",
    "1 & 2 & 3 \\\\\n",
    "4 & 5 & 6 \\\\\n",
    "7 & 8 & 9\n",
    "\\end{pmatrix}.\n",
    "$$  \n",
    "\n",
    "    1. Find the matrices $\\mathbf{C}_1$ and $\\mathbf{C}_2$ containing independent columns of $\\mathbf{A}_1$ and $\\mathbf{A}_2$.  \n",
    "    \n",
    "    2. Find a rank factorization $\\mathbf{A} = \\mathbf{C} \\mathbf{R}$ of each of $\\mathbf{A}_1$ and $\\mathbf{A}_2$.  \n",
    "    \n",
    "    3. Produce a basis for the column spaces of $\\mathbf{A}_1$ and $\\mathbf{A}_2$. What are the dimensions of those column spaces (the number of independent vectors)? What are the ranks of $\\mathbf{A}_1$ and $\\mathbf{A}_2$? How many independent rows in $\\mathbf{A}_1$ and $\\mathbf{A}_2$?\n",
    "    \n",
    "- Q3. How is the null space of $\\mathbf{C}$ related to the nullspaces of $\\mathbf{A}$ and $\\mathbf{B}$, if\n",
    "$$\n",
    "\\mathbf{C} = \\begin{pmatrix}\n",
    "\\mathbf{A} \\\\\n",
    "\\mathbf{B}\n",
    "\\end{pmatrix}.\n",
    "$$\n",
    "\n",
    "- Q4. Do $\\mathbf{A}^2$ and $\\mathbf{A}$ always have the same null space? $\\mathbf{A}$ is a square matrix.  \n",
    "\n",
    "    Find a square matrix with $\\text{rank}(\\mathbf{A}^2) < \\text{rank}(\\mathbf{A})$. Confirm that $\\text{rank}(\\mathbf{A}'\\mathbf{A}) = \\text{rank}(\\mathbf{A})$.    \n",
    "    \n",
    "- Q5. In this exercise, we show the fact \n",
    "$$\n",
    "\\text{rank}(\\mathbf{A} + \\mathbf{B}) \\le \\text{rank}(\\mathbf{A}) + \\text{rank}(\\mathbf{B})\n",
    "$$ \n",
    "for any two matrices $\\mathbf{A}$ and $\\mathbf{B}$ of same size in steps.\n",
    "\n",
    "    1. Show that the sum of two vector spaces $\\mathcal{S}_1$ and $\\mathcal{S}_2$ of same order\n",
    "$$\n",
    "\\mathcal{S}_1 + \\mathcal{S}_2 = \\{\\mathbf{x}_1 + \\mathbf{x}_2: \\mathbf{x}_1 \\in \\mathcal{S}_1, \\mathbf{x}_2 \\in \\mathcal{S}_2\\}\n",
    "$$\n",
    "is a vector space.  \n",
    "\n",
    "    2. Show that $\\text{dim}(\\mathcal{S}_1 + \\mathcal{S}_2) \\le \\text{dim}(\\mathcal{S}_1) + \\text{dim}(\\mathcal{S}_2)$.\n",
    "    \n",
    "    3. Show that $\\mathcal{C}(\\mathbf{A} + \\mathbf{B}) \\subseteq \\mathcal{C}(\\mathbf{A}) + \\mathcal{C}(\\mathbf{B})$. \n",
    "    \n",
    "    4. Conclude that $\\text{rank}(\\mathbf{A} + \\mathbf{B}) \\le \\text{rank}(\\mathbf{A}) + \\text{rank}(\\mathbf{B})$. "
   ]
  }
 ],
 "metadata": {
  "@webio": {
   "lastCommId": null,
   "lastKernelId": null
  },
  "hide_input": false,
  "kernelspec": {
   "display_name": "Julia 1.8.0",
   "language": "julia",
   "name": "julia-1.8"
  },
  "language_info": {
   "file_extension": ".jl",
   "mimetype": "application/julia",
   "name": "julia",
   "version": "1.8.0"
  },
  "toc": {
   "colors": {
    "hover_highlight": "#DAA520",
    "running_highlight": "#FF0000",
    "selected_highlight": "#FFD700"
   },
   "moveMenuLeft": true,
   "nav_menu": {
    "height": "87px",
    "width": "252px"
   },
   "navigate_menu": true,
   "number_sections": true,
   "sideBar": true,
   "skip_h1_title": true,
   "threshold": 4,
   "toc_cell": false,
   "toc_section_display": "block",
   "toc_window_display": false,
   "widenNotebook": false
  }
 },
 "nbformat": 4,
 "nbformat_minor": 4
}
