{
 "cells": [
  {
   "cell_type": "markdown",
   "metadata": {},
   "source": [
    "# Biostat 216 Homework 5\n",
    "\n",
    "**Due Nov 4 Friday @ 11:59pm**\n",
    "\n",
    "Submit a PDF (scanned/photographed from handwritten solutions, or converted from RMarkdown or Jupyter Notebook) to Gracescope on BruinLearn."
   ]
  },
  {
   "cell_type": "markdown",
   "metadata": {},
   "source": [
    "BV 11.3, 11.4, 11.5, 11.9, 11.12, 11.28"
   ]
  },
  {
   "cell_type": "markdown",
   "metadata": {},
   "source": [
    "- Q1. Let $\\mathbf{A} \\in \\mathbb{R}^{n \\times n}$ be a symmetric matrix. Prove that $\\langle \\mathbf{A} \\mathbf{x}, \\mathbf{y} \\rangle = \\langle \\mathbf{x}, \\mathbf{A} \\mathbf{y} \\rangle$ for all $\\mathbf{x}, \\mathbf{y} \\in \\mathbb{R}^n$. Give an example that it is not necessary true if $\\mathbf{A}$ is not symmetric."
   ]
  },
  {
   "cell_type": "markdown",
   "metadata": {},
   "source": [
    "- Q2. Find the orthogonal projector into the plane spanned by the vectors $\\begin{pmatrix} 1 \\\\ 1 \\\\ 0 \\end{pmatrix}$ and $\\begin{pmatrix} -2 \\\\ 2 \\\\ 1 \\end{pmatrix}$. \n",
    "\n",
    "    Find the orthogonal projection of the point $\\mathbf{1}_3$ into the plane spanned by the vectors $\\begin{pmatrix} 1 \\\\ 1 \\\\ 0 \\end{pmatrix}$ and $\\begin{pmatrix} -2 \\\\ 2 \\\\ 1 \\end{pmatrix}$. "
   ]
  },
  {
   "cell_type": "markdown",
   "metadata": {},
   "source": [
    "- Q3. Matrices that satisfy $\\mathbf{A}' \\mathbf{A} = \\mathbf{A} \\mathbf{A}'$ are said to be _normal_. Give an example of asymmetric (not symmetric), normal matrix. If $\\mathbf{A}$ is normal, then prove that every vector in $\\mathcal{C}(\\mathbf{A})$ is orthogonal to every vector in $\\mathcal{N}(\\mathbf{A})$. "
   ]
  },
  {
   "cell_type": "markdown",
   "metadata": {},
   "source": [
    "- Q4. Let $\\mathbf{A}$ be a symmetric matrix. Show that the system $\\mathbf{A} \\mathbf{x} = \\mathbf{b}$ has a solution if and only if $\\mathbf{b}$ is orthogonal to $\\mathcal{N}(\\mathbf{A})$. "
   ]
  },
  {
   "cell_type": "markdown",
   "metadata": {},
   "source": [
    "- Q5. Determinant.\n",
    "    - (1). Find the determinant of the following two matrices without doing any computations:\n",
    "$$\n",
    "\\begin{pmatrix}\n",
    "0 & 0 & 1\\\\\n",
    "0 & 1 & 0 \\\\\n",
    "1 & 0 & 0\n",
    "\\end{pmatrix}, \\quad \\begin{pmatrix}\n",
    "0 & 0 & 1 & 0 \\\\\n",
    "0 & 1 & 0 & 0 \\\\\n",
    "1 & 0 & 0 & 0 \\\\\n",
    "0 & 0 & 0 & 1\n",
    "\\end{pmatrix}.\n",
    "$$\n",
    "    - (2). Let $\\mathbf{A} \\in \\mathbb{R}^{5 \\times 5}$ with $\\det(\\mathbf{A}) = -3$. Find $\\det(\\mathbf{A}^3)$, $\\det(\\mathbf{A}^{-1})$, and $\\det(2\\mathbf{A})$.  \n",
    "    - (3). Find the determinant of the matrix\n",
    "$\\begin{pmatrix}\n",
    "0 & 0 & 1 \\\\\n",
    "2 & 3 & 4 \\\\\n",
    "0 & 5 & 6\n",
    "\\end{pmatrix}$. Hint: find the row and column permutations that make $\\mathbf{A}$ triangular; then use product rule."
   ]
  },
  {
   "cell_type": "markdown",
   "metadata": {},
   "source": [
    "- Q6. Let\n",
    "$$\n",
    "\\mathbf{A} = \\begin{pmatrix}\n",
    "0 & 2 \\\\\n",
    "1 & 1\n",
    "\\end{pmatrix}, \\quad \\mathbf{B} = \\begin{pmatrix}\n",
    "1 & 2 \\\\\n",
    "0 & 1\n",
    "\\end{pmatrix}\n",
    "$$\n",
    "    - (1). Find eigenvalues and eigenvectors of $\\mathbf{A}$ and $\\mathbf{A}^{-1}$. Do they have same eigenvectors? What's the relationship between their eigenvalues?  \n",
    "    - (2). Find eigenvalues of $\\mathbf{B}$ and $\\mathbf{A} + \\mathbf{B}$. Are eigenvalues of $\\mathbf{A} + \\mathbf{B}$ equal to eigenvalues of $\\mathbf{A}$ plus eigenvalues of $\\mathbf{B}$?  \n",
    "    - (3). Find eigenvalues of $\\mathbf{A} \\mathbf{B}$ and $\\mathbf{B} \\mathbf{A}$. Are the eigenvalues of $\\mathbf{A} \\mathbf{B}$ equal to eigenvalues of $\\mathbf{A}$ times eigenvalues of $\\mathbf{B}$? Are the eigenvalues of $\\mathbf{A} \\mathbf{B}$ equal to eigenvalues of $\\mathbf{B} \\mathbf{A}$?"
   ]
  }
 ],
 "metadata": {
  "@webio": {
   "lastCommId": null,
   "lastKernelId": null
  },
  "hide_input": false,
  "kernelspec": {
   "display_name": "Julia 1.8.0",
   "language": "julia",
   "name": "julia-1.8"
  },
  "language_info": {
   "file_extension": ".jl",
   "mimetype": "application/julia",
   "name": "julia",
   "version": "1.8.0"
  },
  "toc": {
   "colors": {
    "hover_highlight": "#DAA520",
    "running_highlight": "#FF0000",
    "selected_highlight": "#FFD700"
   },
   "moveMenuLeft": true,
   "nav_menu": {
    "height": "87px",
    "width": "252px"
   },
   "navigate_menu": true,
   "number_sections": true,
   "sideBar": true,
   "skip_h1_title": true,
   "threshold": 4,
   "toc_cell": false,
   "toc_section_display": "block",
   "toc_window_display": false,
   "widenNotebook": false
  }
 },
 "nbformat": 4,
 "nbformat_minor": 4
}
